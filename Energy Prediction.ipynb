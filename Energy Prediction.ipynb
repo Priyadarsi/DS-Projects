{
 "cells": [
  {
   "cell_type": "markdown",
   "metadata": {},
   "source": [
    "# Problem Statement:\n",
    "Predicing Energy Use based on Temperature, Humidity, Precipitation and Wind Speed."
   ]
  },
  {
   "cell_type": "code",
   "execution_count": 139,
   "metadata": {},
   "outputs": [],
   "source": [
    "#Importing libraries"
   ]
  },
  {
   "cell_type": "code",
   "execution_count": 1,
   "metadata": {
    "scrolled": true
   },
   "outputs": [],
   "source": [
    "import numpy as np\n",
    "import pandas as pd\n",
    "import matplotlib.pyplot as plt\n",
    "import seaborn as sns\n",
    "import sklearn\n",
    "from sklearn.metrics import accuracy_score \n",
    "from sklearn.model_selection import train_test_split\n",
    "from scipy.stats import zscore #to remove outliers\n",
    "from scipy.stats import skew\n",
    "import requests\n",
    "import io\n",
    "import warnings\n",
    "warnings.filterwarnings('ignore')"
   ]
  },
  {
   "cell_type": "code",
   "execution_count": 141,
   "metadata": {
    "scrolled": true
   },
   "outputs": [],
   "source": [
    "#Importing dataset"
   ]
  },
  {
   "cell_type": "code",
   "execution_count": 25,
   "metadata": {
    "scrolled": true
   },
   "outputs": [],
   "source": [
    "df = pd.read_excel(\"Train Data.xlsx\")"
   ]
  },
  {
   "cell_type": "markdown",
   "metadata": {},
   "source": [
    "# Exploratory Data Analysis"
   ]
  },
  {
   "cell_type": "code",
   "execution_count": 26,
   "metadata": {
    "scrolled": true
   },
   "outputs": [
    {
     "data": {
      "text/html": [
       "<div>\n",
       "<style scoped>\n",
       "    .dataframe tbody tr th:only-of-type {\n",
       "        vertical-align: middle;\n",
       "    }\n",
       "\n",
       "    .dataframe tbody tr th {\n",
       "        vertical-align: top;\n",
       "    }\n",
       "\n",
       "    .dataframe thead th {\n",
       "        text-align: right;\n",
       "    }\n",
       "</style>\n",
       "<table border=\"1\" class=\"dataframe\">\n",
       "  <thead>\n",
       "    <tr style=\"text-align: right;\">\n",
       "      <th></th>\n",
       "      <th>Occupancy</th>\n",
       "      <th>Temperature Max</th>\n",
       "      <th>Temperature Min</th>\n",
       "      <th>Wind Speed km/h</th>\n",
       "      <th>Wind Speed m/s</th>\n",
       "      <th>Rain mm</th>\n",
       "      <th>Humidity %</th>\n",
       "      <th>Month Code</th>\n",
       "      <th>Month</th>\n",
       "      <th>Month.1</th>\n",
       "      <th>Lighting kwh</th>\n",
       "      <th>Ext Lighting kwh</th>\n",
       "      <th>UPS kwh</th>\n",
       "      <th>HVAC - LS kwh</th>\n",
       "      <th>HVAC HS kwh</th>\n",
       "      <th>HVAC -Tot kwh</th>\n",
       "      <th>Total kwh</th>\n",
       "    </tr>\n",
       "  </thead>\n",
       "  <tbody>\n",
       "    <tr>\n",
       "      <th>0</th>\n",
       "      <td>1492</td>\n",
       "      <td>38</td>\n",
       "      <td>23</td>\n",
       "      <td>8</td>\n",
       "      <td>2.222224</td>\n",
       "      <td>0.0</td>\n",
       "      <td>30</td>\n",
       "      <td>4</td>\n",
       "      <td>Apr</td>\n",
       "      <td>2014-04-01</td>\n",
       "      <td>38289</td>\n",
       "      <td>2435</td>\n",
       "      <td>63500</td>\n",
       "      <td>36235</td>\n",
       "      <td>22604</td>\n",
       "      <td>58839</td>\n",
       "      <td>163063</td>\n",
       "    </tr>\n",
       "    <tr>\n",
       "      <th>1</th>\n",
       "      <td>1492</td>\n",
       "      <td>36</td>\n",
       "      <td>26</td>\n",
       "      <td>7</td>\n",
       "      <td>1.944446</td>\n",
       "      <td>0.8</td>\n",
       "      <td>44</td>\n",
       "      <td>5</td>\n",
       "      <td>May</td>\n",
       "      <td>2014-05-01</td>\n",
       "      <td>38778</td>\n",
       "      <td>2889</td>\n",
       "      <td>65408</td>\n",
       "      <td>34709</td>\n",
       "      <td>27187</td>\n",
       "      <td>61896</td>\n",
       "      <td>168971</td>\n",
       "    </tr>\n",
       "    <tr>\n",
       "      <th>2</th>\n",
       "      <td>1492</td>\n",
       "      <td>35</td>\n",
       "      <td>25</td>\n",
       "      <td>10</td>\n",
       "      <td>2.777780</td>\n",
       "      <td>5.9</td>\n",
       "      <td>53</td>\n",
       "      <td>6</td>\n",
       "      <td>Jun</td>\n",
       "      <td>2014-06-01</td>\n",
       "      <td>36290</td>\n",
       "      <td>2944</td>\n",
       "      <td>64620</td>\n",
       "      <td>34349</td>\n",
       "      <td>28744</td>\n",
       "      <td>63093</td>\n",
       "      <td>166947</td>\n",
       "    </tr>\n",
       "    <tr>\n",
       "      <th>3</th>\n",
       "      <td>1492</td>\n",
       "      <td>32</td>\n",
       "      <td>22</td>\n",
       "      <td>12</td>\n",
       "      <td>3.333336</td>\n",
       "      <td>6.6</td>\n",
       "      <td>67</td>\n",
       "      <td>7</td>\n",
       "      <td>Jul</td>\n",
       "      <td>2014-07-01</td>\n",
       "      <td>36827</td>\n",
       "      <td>2923</td>\n",
       "      <td>64551</td>\n",
       "      <td>29009</td>\n",
       "      <td>21183</td>\n",
       "      <td>50192</td>\n",
       "      <td>154493</td>\n",
       "    </tr>\n",
       "    <tr>\n",
       "      <th>4</th>\n",
       "      <td>1465</td>\n",
       "      <td>28</td>\n",
       "      <td>21</td>\n",
       "      <td>21</td>\n",
       "      <td>5.833338</td>\n",
       "      <td>2.7</td>\n",
       "      <td>75</td>\n",
       "      <td>8</td>\n",
       "      <td>Aug</td>\n",
       "      <td>2014-08-01</td>\n",
       "      <td>37866</td>\n",
       "      <td>3134</td>\n",
       "      <td>50232</td>\n",
       "      <td>26177</td>\n",
       "      <td>18913</td>\n",
       "      <td>45090</td>\n",
       "      <td>136322</td>\n",
       "    </tr>\n",
       "  </tbody>\n",
       "</table>\n",
       "</div>"
      ],
      "text/plain": [
       "   Occupancy  Temperature Max  Temperature Min  Wind Speed km/h  \\\n",
       "0       1492               38               23                8   \n",
       "1       1492               36               26                7   \n",
       "2       1492               35               25               10   \n",
       "3       1492               32               22               12   \n",
       "4       1465               28               21               21   \n",
       "\n",
       "   Wind Speed m/s  Rain mm  Humidity %  Month Code Month    Month.1  \\\n",
       "0        2.222224      0.0          30           4   Apr 2014-04-01   \n",
       "1        1.944446      0.8          44           5   May 2014-05-01   \n",
       "2        2.777780      5.9          53           6   Jun 2014-06-01   \n",
       "3        3.333336      6.6          67           7   Jul 2014-07-01   \n",
       "4        5.833338      2.7          75           8   Aug 2014-08-01   \n",
       "\n",
       "   Lighting kwh  Ext Lighting kwh  UPS kwh  HVAC - LS kwh  HVAC HS kwh  \\\n",
       "0         38289              2435    63500          36235        22604   \n",
       "1         38778              2889    65408          34709        27187   \n",
       "2         36290              2944    64620          34349        28744   \n",
       "3         36827              2923    64551          29009        21183   \n",
       "4         37866              3134    50232          26177        18913   \n",
       "\n",
       "   HVAC -Tot kwh  Total kwh  \n",
       "0          58839     163063  \n",
       "1          61896     168971  \n",
       "2          63093     166947  \n",
       "3          50192     154493  \n",
       "4          45090     136322  "
      ]
     },
     "execution_count": 26,
     "metadata": {},
     "output_type": "execute_result"
    }
   ],
   "source": [
    "df.head()"
   ]
  },
  {
   "cell_type": "code",
   "execution_count": 27,
   "metadata": {
    "scrolled": true
   },
   "outputs": [
    {
     "data": {
      "text/plain": [
       "(12, 17)"
      ]
     },
     "execution_count": 27,
     "metadata": {},
     "output_type": "execute_result"
    }
   ],
   "source": [
    "df.shape # check the data dimension"
   ]
  },
  {
   "cell_type": "code",
   "execution_count": 28,
   "metadata": {},
   "outputs": [
    {
     "data": {
      "text/plain": [
       "Index(['Occupancy', 'Temperature Max', 'Temperature Min', 'Wind Speed km/h',\n",
       "       'Wind Speed m/s', 'Rain mm', 'Humidity %', 'Month Code', 'Month',\n",
       "       'Month.1', 'Lighting kwh', 'Ext Lighting kwh', 'UPS kwh',\n",
       "       'HVAC - LS kwh', 'HVAC HS kwh', 'HVAC -Tot kwh', 'Total kwh'],\n",
       "      dtype='object')"
      ]
     },
     "execution_count": 28,
     "metadata": {},
     "output_type": "execute_result"
    }
   ],
   "source": [
    "df.columns"
   ]
  },
  {
   "cell_type": "code",
   "execution_count": 29,
   "metadata": {},
   "outputs": [],
   "source": [
    "df.drop(columns=['Wind Speed km/h', 'Month', 'Month.1', 'Lighting kwh', 'Ext Lighting kwh', 'UPS kwh','HVAC - LS kwh', 'HVAC HS kwh', 'HVAC -Tot kwh'], axis = 1, inplace=True)"
   ]
  },
  {
   "cell_type": "code",
   "execution_count": 30,
   "metadata": {
    "scrolled": true
   },
   "outputs": [
    {
     "name": "stdout",
     "output_type": "stream",
     "text": [
      "<class 'pandas.core.frame.DataFrame'>\n",
      "RangeIndex: 12 entries, 0 to 11\n",
      "Data columns (total 8 columns):\n",
      " #   Column           Non-Null Count  Dtype  \n",
      "---  ------           --------------  -----  \n",
      " 0   Occupancy        12 non-null     int64  \n",
      " 1   Temperature Max  12 non-null     int64  \n",
      " 2   Temperature Min  12 non-null     int64  \n",
      " 3   Wind Speed m/s   12 non-null     float64\n",
      " 4   Rain mm          12 non-null     float64\n",
      " 5   Humidity %       12 non-null     int64  \n",
      " 6   Month Code       12 non-null     int64  \n",
      " 7   Total kwh        12 non-null     int64  \n",
      "dtypes: float64(2), int64(6)\n",
      "memory usage: 896.0 bytes\n"
     ]
    }
   ],
   "source": [
    "df.info()"
   ]
  },
  {
   "cell_type": "code",
   "execution_count": 31,
   "metadata": {
    "scrolled": true
   },
   "outputs": [
    {
     "data": {
      "text/plain": [
       "Index(['Occupancy', 'Temperature Max', 'Temperature Min', 'Wind Speed m/s',\n",
       "       'Rain mm', 'Humidity %', 'Month Code', 'Total kwh'],\n",
       "      dtype='object')"
      ]
     },
     "execution_count": 31,
     "metadata": {},
     "output_type": "execute_result"
    }
   ],
   "source": [
    "df.columns # check the column names for EDA"
   ]
  },
  {
   "cell_type": "code",
   "execution_count": 32,
   "metadata": {
    "scrolled": true
   },
   "outputs": [
    {
     "data": {
      "text/html": [
       "<div>\n",
       "<style scoped>\n",
       "    .dataframe tbody tr th:only-of-type {\n",
       "        vertical-align: middle;\n",
       "    }\n",
       "\n",
       "    .dataframe tbody tr th {\n",
       "        vertical-align: top;\n",
       "    }\n",
       "\n",
       "    .dataframe thead th {\n",
       "        text-align: right;\n",
       "    }\n",
       "</style>\n",
       "<table border=\"1\" class=\"dataframe\">\n",
       "  <thead>\n",
       "    <tr style=\"text-align: right;\">\n",
       "      <th></th>\n",
       "      <th>Occupancy</th>\n",
       "      <th>Temperature Max</th>\n",
       "      <th>Temperature Min</th>\n",
       "      <th>Wind Speed m/s</th>\n",
       "      <th>Rain mm</th>\n",
       "      <th>Humidity %</th>\n",
       "      <th>Month Code</th>\n",
       "      <th>Total kwh</th>\n",
       "    </tr>\n",
       "  </thead>\n",
       "  <tbody>\n",
       "    <tr>\n",
       "      <th>count</th>\n",
       "      <td>12.000000</td>\n",
       "      <td>12.000000</td>\n",
       "      <td>12.000000</td>\n",
       "      <td>12.000000</td>\n",
       "      <td>12.000000</td>\n",
       "      <td>12.000000</td>\n",
       "      <td>12.000000</td>\n",
       "      <td>12.000000</td>\n",
       "    </tr>\n",
       "    <tr>\n",
       "      <th>mean</th>\n",
       "      <td>1295.750000</td>\n",
       "      <td>30.583333</td>\n",
       "      <td>20.250000</td>\n",
       "      <td>3.472225</td>\n",
       "      <td>1.966667</td>\n",
       "      <td>62.416667</td>\n",
       "      <td>6.500000</td>\n",
       "      <td>141829.916667</td>\n",
       "    </tr>\n",
       "    <tr>\n",
       "      <th>std</th>\n",
       "      <td>198.303315</td>\n",
       "      <td>3.776924</td>\n",
       "      <td>3.360871</td>\n",
       "      <td>1.210806</td>\n",
       "      <td>2.472883</td>\n",
       "      <td>14.279409</td>\n",
       "      <td>3.605551</td>\n",
       "      <td>18901.263596</td>\n",
       "    </tr>\n",
       "    <tr>\n",
       "      <th>min</th>\n",
       "      <td>1066.000000</td>\n",
       "      <td>27.000000</td>\n",
       "      <td>15.000000</td>\n",
       "      <td>1.944446</td>\n",
       "      <td>0.000000</td>\n",
       "      <td>30.000000</td>\n",
       "      <td>1.000000</td>\n",
       "      <td>116911.000000</td>\n",
       "    </tr>\n",
       "    <tr>\n",
       "      <th>25%</th>\n",
       "      <td>1129.000000</td>\n",
       "      <td>28.000000</td>\n",
       "      <td>18.000000</td>\n",
       "      <td>2.708336</td>\n",
       "      <td>0.075000</td>\n",
       "      <td>56.750000</td>\n",
       "      <td>3.750000</td>\n",
       "      <td>131080.000000</td>\n",
       "    </tr>\n",
       "    <tr>\n",
       "      <th>50%</th>\n",
       "      <td>1309.000000</td>\n",
       "      <td>29.000000</td>\n",
       "      <td>20.000000</td>\n",
       "      <td>3.333336</td>\n",
       "      <td>0.900000</td>\n",
       "      <td>68.500000</td>\n",
       "      <td>6.500000</td>\n",
       "      <td>138822.000000</td>\n",
       "    </tr>\n",
       "    <tr>\n",
       "      <th>75%</th>\n",
       "      <td>1492.000000</td>\n",
       "      <td>32.750000</td>\n",
       "      <td>22.250000</td>\n",
       "      <td>3.888892</td>\n",
       "      <td>3.275000</td>\n",
       "      <td>72.500000</td>\n",
       "      <td>9.250000</td>\n",
       "      <td>156635.500000</td>\n",
       "    </tr>\n",
       "    <tr>\n",
       "      <th>max</th>\n",
       "      <td>1492.000000</td>\n",
       "      <td>38.000000</td>\n",
       "      <td>26.000000</td>\n",
       "      <td>5.833338</td>\n",
       "      <td>6.600000</td>\n",
       "      <td>77.000000</td>\n",
       "      <td>12.000000</td>\n",
       "      <td>168971.000000</td>\n",
       "    </tr>\n",
       "  </tbody>\n",
       "</table>\n",
       "</div>"
      ],
      "text/plain": [
       "         Occupancy  Temperature Max  Temperature Min  Wind Speed m/s  \\\n",
       "count    12.000000        12.000000        12.000000       12.000000   \n",
       "mean   1295.750000        30.583333        20.250000        3.472225   \n",
       "std     198.303315         3.776924         3.360871        1.210806   \n",
       "min    1066.000000        27.000000        15.000000        1.944446   \n",
       "25%    1129.000000        28.000000        18.000000        2.708336   \n",
       "50%    1309.000000        29.000000        20.000000        3.333336   \n",
       "75%    1492.000000        32.750000        22.250000        3.888892   \n",
       "max    1492.000000        38.000000        26.000000        5.833338   \n",
       "\n",
       "         Rain mm  Humidity %  Month Code      Total kwh  \n",
       "count  12.000000   12.000000   12.000000      12.000000  \n",
       "mean    1.966667   62.416667    6.500000  141829.916667  \n",
       "std     2.472883   14.279409    3.605551   18901.263596  \n",
       "min     0.000000   30.000000    1.000000  116911.000000  \n",
       "25%     0.075000   56.750000    3.750000  131080.000000  \n",
       "50%     0.900000   68.500000    6.500000  138822.000000  \n",
       "75%     3.275000   72.500000    9.250000  156635.500000  \n",
       "max     6.600000   77.000000   12.000000  168971.000000  "
      ]
     },
     "execution_count": 32,
     "metadata": {},
     "output_type": "execute_result"
    }
   ],
   "source": [
    "df.describe()"
   ]
  },
  {
   "cell_type": "code",
   "execution_count": 33,
   "metadata": {},
   "outputs": [],
   "source": [
    "int_cols = df.select_dtypes(exclude=['object']).columns"
   ]
  },
  {
   "cell_type": "code",
   "execution_count": 34,
   "metadata": {},
   "outputs": [
    {
     "name": "stdout",
     "output_type": "stream",
     "text": [
      "Occupancy\n"
     ]
    },
    {
     "data": {
      "image/png": "[encoded data removed]",
      "text/plain": [
       "<Figure size 432x288 with 1 Axes>"
      ]
     },
     "metadata": {
      "needs_background": "light"
     },
     "output_type": "display_data"
    },
    {
     "name": "stdout",
     "output_type": "stream",
     "text": [
      "Temperature Max\n"
     ]
    },
    {
     "data": {
      "image/png": "[encoded data removed]",
      "text/plain": [
       "<Figure size 432x288 with 1 Axes>"
      ]
     },
     "metadata": {
      "needs_background": "light"
     },
     "output_type": "display_data"
    },
    {
     "name": "stdout",
     "output_type": "stream",
     "text": [
      "Temperature Min\n"
     ]
    },
    {
     "data": {
      "image/png": "[encoded data removed]",
      "text/plain": [
       "<Figure size 432x288 with 1 Axes>"
      ]
     },
     "metadata": {
      "needs_background": "light"
     },
     "output_type": "display_data"
    },
    {
     "name": "stdout",
     "output_type": "stream",
     "text": [
      "Wind Speed m/s\n"
     ]
    },
    {
     "data": {
      "image/png": "[encoded data removed]",
      "text/plain": [
       "<Figure size 432x288 with 1 Axes>"
      ]
     },
     "metadata": {
      "needs_background": "light"
     },
     "output_type": "display_data"
    },
    {
     "name": "stdout",
     "output_type": "stream",
     "text": [
      "Rain mm\n"
     ]
    },
    {
     "data": {
      "image/png": "[encoded data removed]",
      "text/plain": [
       "<Figure size 432x288 with 1 Axes>"
      ]
     },
     "metadata": {
      "needs_background": "light"
     },
     "output_type": "display_data"
    },
    {
     "name": "stdout",
     "output_type": "stream",
     "text": [
      "Humidity %\n"
     ]
    },
    {
     "data": {
      "image/png": "[encoded data removed]",
      "text/plain": [
       "<Figure size 432x288 with 1 Axes>"
      ]
     },
     "metadata": {
      "needs_background": "light"
     },
     "output_type": "display_data"
    },
    {
     "name": "stdout",
     "output_type": "stream",
     "text": [
      "Month Code\n"
     ]
    },
    {
     "data": {
      "image/png": "[encoded data removed]",
      "text/plain": [
       "<Figure size 432x288 with 1 Axes>"
      ]
     },
     "metadata": {
      "needs_background": "light"
     },
     "output_type": "display_data"
    },
    {
     "name": "stdout",
     "output_type": "stream",
     "text": [
      "Total kwh\n"
     ]
    },
    {
     "data": {
      "image/png": "[encoded data removed]",
      "text/plain": [
       "<Figure size 432x288 with 1 Axes>"
      ]
     },
     "metadata": {
      "needs_background": "light"
     },
     "output_type": "display_data"
    }
   ],
   "source": [
    "for col in int_cols:\n",
    "    print(col)\n",
    "    \n",
    "    plt.figure()\n",
    "    sns.distplot(df[col], kde = True)\n",
    "    plt.show()"
   ]
  },
  {
   "cell_type": "markdown",
   "metadata": {},
   "source": [
    "## check for outliers"
   ]
  },
  {
   "cell_type": "code",
   "execution_count": 35,
   "metadata": {
    "scrolled": true
   },
   "outputs": [],
   "source": [
    "#remove outliers before skewness check and before x, y split"
   ]
  },
  {
   "cell_type": "code",
   "execution_count": 36,
   "metadata": {
    "scrolled": true
   },
   "outputs": [
    {
     "data": {
      "image/png": "[encoded data removed]",
      "text/plain": [
       "<Figure size 1440x576 with 1 Axes>"
      ]
     },
     "metadata": {
      "needs_background": "light"
     },
     "output_type": "display_data"
    }
   ],
   "source": [
    "df.boxplot(figsize=[20,8])\n",
    "plt.subplots_adjust(bottom=0.25)\n",
    "plt.show()"
   ]
  },
  {
   "cell_type": "code",
   "execution_count": 187,
   "metadata": {
    "scrolled": true
   },
   "outputs": [],
   "source": [
    "#Removing outliers by z score"
   ]
  },
  {
   "cell_type": "code",
   "execution_count": 37,
   "metadata": {
    "scrolled": true
   },
   "outputs": [],
   "source": [
    "from scipy.stats import zscore\n",
    "z = np.abs(zscore(df))\n",
    "new_df = df[(z<3).all(axis=1)]"
   ]
  },
  {
   "cell_type": "code",
   "execution_count": 38,
   "metadata": {
    "scrolled": true
   },
   "outputs": [
    {
     "data": {
      "text/plain": [
       "(12, 8)"
      ]
     },
     "execution_count": 38,
     "metadata": {},
     "output_type": "execute_result"
    }
   ],
   "source": [
    "new_df.shape"
   ]
  },
  {
   "cell_type": "code",
   "execution_count": 39,
   "metadata": {
    "scrolled": true
   },
   "outputs": [
    {
     "data": {
      "text/plain": [
       "(12, 8)"
      ]
     },
     "execution_count": 39,
     "metadata": {},
     "output_type": "execute_result"
    }
   ],
   "source": [
    "df.shape"
   ]
  },
  {
   "cell_type": "code",
   "execution_count": 40,
   "metadata": {
    "scrolled": true
   },
   "outputs": [],
   "source": [
    "dataloss = ((12-12)/12)*100"
   ]
  },
  {
   "cell_type": "code",
   "execution_count": 41,
   "metadata": {
    "scrolled": true
   },
   "outputs": [
    {
     "data": {
      "text/plain": [
       "0.0"
      ]
     },
     "execution_count": 41,
     "metadata": {},
     "output_type": "execute_result"
    }
   ],
   "source": [
    "dataloss"
   ]
  },
  {
   "cell_type": "markdown",
   "metadata": {},
   "source": [
    "No outliers were  detected in the data"
   ]
  },
  {
   "cell_type": "markdown",
   "metadata": {},
   "source": [
    "## check co-relation"
   ]
  },
  {
   "cell_type": "code",
   "execution_count": 42,
   "metadata": {
    "scrolled": true
   },
   "outputs": [
    {
     "data": {
      "image/png": "[encoded data removed]",
      "text/plain": [
       "<Figure size 1584x864 with 2 Axes>"
      ]
     },
     "metadata": {
      "needs_background": "light"
     },
     "output_type": "display_data"
    }
   ],
   "source": [
    "plt.figure(figsize=[22,12])\n",
    "cor = df.corr()\n",
    "sns.heatmap(cor, annot = True)\n",
    "plt.show()"
   ]
  },
  {
   "cell_type": "code",
   "execution_count": 198,
   "metadata": {
    "scrolled": true
   },
   "outputs": [],
   "source": [
    "#Arrange co-relation in descending order. Dropping columns should be the last option to prevent data loss."
   ]
  },
  {
   "cell_type": "code",
   "execution_count": 43,
   "metadata": {
    "scrolled": true
   },
   "outputs": [
    {
     "data": {
      "text/plain": [
       "Total kwh          1.000000\n",
       "Temperature Min    0.936954\n",
       "Temperature Max    0.847988\n",
       "Occupancy          0.716358\n",
       "Rain mm            0.359929\n",
       "Month Code         0.028035\n",
       "Wind Speed m/s    -0.416999\n",
       "Humidity %        -0.529987\n",
       "Name: Total kwh, dtype: float64"
      ]
     },
     "execution_count": 43,
     "metadata": {},
     "output_type": "execute_result"
    }
   ],
   "source": [
    "cor[\"Total kwh\"].sort_values(ascending=False)"
   ]
  },
  {
   "cell_type": "code",
   "execution_count": 44,
   "metadata": {
    "scrolled": true
   },
   "outputs": [
    {
     "data": {
      "text/plain": [
       "Index(['Occupancy', 'Temperature Max', 'Temperature Min', 'Wind Speed m/s',\n",
       "       'Rain mm', 'Humidity %', 'Month Code', 'Total kwh'],\n",
       "      dtype='object')"
      ]
     },
     "execution_count": 44,
     "metadata": {},
     "output_type": "execute_result"
    }
   ],
   "source": [
    "df.columns"
   ]
  },
  {
   "cell_type": "code",
   "execution_count": 45,
   "metadata": {
    "scrolled": true
   },
   "outputs": [],
   "source": [
    "columns = ['Occupancy', 'Temperature Max', 'Temperature Min', 'Wind Speed m/s', 'Rain mm', 'Humidity %', 'Month Code', 'Total kwh']"
   ]
  },
  {
   "cell_type": "code",
   "execution_count": 46,
   "metadata": {
    "scrolled": true
   },
   "outputs": [
    {
     "data": {
      "text/plain": [
       "<seaborn.axisgrid.PairGrid at 0x23833635880>"
      ]
     },
     "execution_count": 46,
     "metadata": {},
     "output_type": "execute_result"
    },
    {
     "data": {
      "image/png": "[encoded data removed]",
      "text/plain": [
       "<Figure size 1440x1440 with 72 Axes>"
      ]
     },
     "metadata": {
      "needs_background": "light"
     },
     "output_type": "display_data"
    }
   ],
   "source": [
    "sns.pairplot(df[columns])"
   ]
  },
  {
   "cell_type": "markdown",
   "metadata": {},
   "source": [
    "## check for skewness"
   ]
  },
  {
   "cell_type": "code",
   "execution_count": 47,
   "metadata": {
    "scrolled": true
   },
   "outputs": [],
   "source": [
    "x = df.drop('Total kwh',axis=1)\n",
    "y = df['Total kwh']"
   ]
  },
  {
   "cell_type": "code",
   "execution_count": 48,
   "metadata": {
    "scrolled": true
   },
   "outputs": [
    {
     "data": {
      "text/plain": [
       "Occupancy         -0.077687\n",
       "Temperature Max    1.020508\n",
       "Temperature Min    0.223067\n",
       "Wind Speed m/s     0.936543\n",
       "Rain mm            1.098791\n",
       "Humidity %        -1.228026\n",
       "Month Code         0.000000\n",
       "dtype: float64"
      ]
     },
     "execution_count": 48,
     "metadata": {},
     "output_type": "execute_result"
    }
   ],
   "source": [
    "x.skew() # check skewness"
   ]
  },
  {
   "cell_type": "code",
   "execution_count": 49,
   "metadata": {
    "scrolled": true
   },
   "outputs": [],
   "source": [
    "from sklearn.preprocessing import power_transform\n",
    "df_new = power_transform(x)\n",
    "\n",
    "df_new = pd.DataFrame(df_new, columns = x.columns)"
   ]
  },
  {
   "cell_type": "code",
   "execution_count": 50,
   "metadata": {
    "scrolled": true
   },
   "outputs": [
    {
     "data": {
      "text/plain": [
       "Occupancy         -0.083743\n",
       "Temperature Max    0.354098\n",
       "Temperature Min   -0.011104\n",
       "Wind Speed m/s     0.055323\n",
       "Rain mm            0.236932\n",
       "Humidity %        -0.456458\n",
       "Month Code        -0.193567\n",
       "dtype: float64"
      ]
     },
     "execution_count": 50,
     "metadata": {},
     "output_type": "execute_result"
    }
   ],
   "source": [
    "df_new.skew()"
   ]
  },
  {
   "cell_type": "code",
   "execution_count": 51,
   "metadata": {
    "scrolled": true
   },
   "outputs": [
    {
     "data": {
      "text/html": [
       "<div>\n",
       "<style scoped>\n",
       "    .dataframe tbody tr th:only-of-type {\n",
       "        vertical-align: middle;\n",
       "    }\n",
       "\n",
       "    .dataframe tbody tr th {\n",
       "        vertical-align: top;\n",
       "    }\n",
       "\n",
       "    .dataframe thead th {\n",
       "        text-align: right;\n",
       "    }\n",
       "</style>\n",
       "<table border=\"1\" class=\"dataframe\">\n",
       "  <thead>\n",
       "    <tr style=\"text-align: right;\">\n",
       "      <th></th>\n",
       "      <th>Occupancy</th>\n",
       "      <th>Temperature Max</th>\n",
       "      <th>Temperature Min</th>\n",
       "      <th>Wind Speed m/s</th>\n",
       "      <th>Rain mm</th>\n",
       "      <th>Humidity %</th>\n",
       "      <th>Month Code</th>\n",
       "    </tr>\n",
       "  </thead>\n",
       "  <tbody>\n",
       "    <tr>\n",
       "      <th>0</th>\n",
       "      <td>1.031417</td>\n",
       "      <td>1.600806</td>\n",
       "      <td>0.871754</td>\n",
       "      <td>-1.275505</td>\n",
       "      <td>-1.189296</td>\n",
       "      <td>-1.828941</td>\n",
       "      <td>-0.674269</td>\n",
       "    </tr>\n",
       "    <tr>\n",
       "      <th>1</th>\n",
       "      <td>1.031417</td>\n",
       "      <td>1.413676</td>\n",
       "      <td>1.681444</td>\n",
       "      <td>-1.755390</td>\n",
       "      <td>-0.101468</td>\n",
       "      <td>-1.416254</td>\n",
       "      <td>-0.368045</td>\n",
       "    </tr>\n",
       "    <tr>\n",
       "      <th>2</th>\n",
       "      <td>1.031417</td>\n",
       "      <td>1.292247</td>\n",
       "      <td>1.419581</td>\n",
       "      <td>-0.503882</td>\n",
       "      <td>1.398290</td>\n",
       "      <td>-0.952710</td>\n",
       "      <td>-0.075244</td>\n",
       "    </tr>\n",
       "    <tr>\n",
       "      <th>3</th>\n",
       "      <td>1.031417</td>\n",
       "      <td>0.757007</td>\n",
       "      <td>0.584598</td>\n",
       "      <td>0.091735</td>\n",
       "      <td>1.469699</td>\n",
       "      <td>0.179540</td>\n",
       "      <td>0.206535</td>\n",
       "    </tr>\n",
       "    <tr>\n",
       "      <th>4</th>\n",
       "      <td>0.893580</td>\n",
       "      <td>-0.712673</td>\n",
       "      <td>0.287696</td>\n",
       "      <td>1.682651</td>\n",
       "      <td>0.835927</td>\n",
       "      <td>1.099859</td>\n",
       "      <td>0.479021</td>\n",
       "    </tr>\n",
       "    <tr>\n",
       "      <th>5</th>\n",
       "      <td>0.893580</td>\n",
       "      <td>-0.712673</td>\n",
       "      <td>-0.338638</td>\n",
       "      <td>1.559098</td>\n",
       "      <td>-0.524577</td>\n",
       "      <td>1.365355</td>\n",
       "      <td>0.743507</td>\n",
       "    </tr>\n",
       "    <tr>\n",
       "      <th>6</th>\n",
       "      <td>-1.216649</td>\n",
       "      <td>0.176215</td>\n",
       "      <td>-0.019748</td>\n",
       "      <td>-0.862913</td>\n",
       "      <td>0.059468</td>\n",
       "      <td>0.728865</td>\n",
       "      <td>1.000999</td>\n",
       "    </tr>\n",
       "    <tr>\n",
       "      <th>7</th>\n",
       "      <td>-1.216649</td>\n",
       "      <td>-1.331298</td>\n",
       "      <td>-0.670007</td>\n",
       "      <td>0.091735</td>\n",
       "      <td>-0.988543</td>\n",
       "      <td>0.499059</td>\n",
       "      <td>1.252294</td>\n",
       "    </tr>\n",
       "    <tr>\n",
       "      <th>8</th>\n",
       "      <td>-1.216649</td>\n",
       "      <td>-1.331298</td>\n",
       "      <td>-1.375109</td>\n",
       "      <td>0.567184</td>\n",
       "      <td>-1.189296</td>\n",
       "      <td>-0.611348</td>\n",
       "      <td>1.498041</td>\n",
       "    </tr>\n",
       "    <tr>\n",
       "      <th>9</th>\n",
       "      <td>-0.759687</td>\n",
       "      <td>-0.712673</td>\n",
       "      <td>-0.670007</td>\n",
       "      <td>-0.503882</td>\n",
       "      <td>0.130937</td>\n",
       "      <td>0.972616</td>\n",
       "      <td>-1.722104</td>\n",
       "    </tr>\n",
       "    <tr>\n",
       "      <th>10</th>\n",
       "      <td>-0.743506</td>\n",
       "      <td>-0.219668</td>\n",
       "      <td>-1.751815</td>\n",
       "      <td>0.341982</td>\n",
       "      <td>-1.189296</td>\n",
       "      <td>-0.535101</td>\n",
       "      <td>-1.343279</td>\n",
       "    </tr>\n",
       "    <tr>\n",
       "      <th>11</th>\n",
       "      <td>-0.759687</td>\n",
       "      <td>-0.219668</td>\n",
       "      <td>-0.019748</td>\n",
       "      <td>0.567184</td>\n",
       "      <td>1.288156</td>\n",
       "      <td>0.499059</td>\n",
       "      <td>-0.997456</td>\n",
       "    </tr>\n",
       "  </tbody>\n",
       "</table>\n",
       "</div>"
      ],
      "text/plain": [
       "    Occupancy  Temperature Max  Temperature Min  Wind Speed m/s   Rain mm  \\\n",
       "0    1.031417         1.600806         0.871754       -1.275505 -1.189296   \n",
       "1    1.031417         1.413676         1.681444       -1.755390 -0.101468   \n",
       "2    1.031417         1.292247         1.419581       -0.503882  1.398290   \n",
       "3    1.031417         0.757007         0.584598        0.091735  1.469699   \n",
       "4    0.893580        -0.712673         0.287696        1.682651  0.835927   \n",
       "5    0.893580        -0.712673        -0.338638        1.559098 -0.524577   \n",
       "6   -1.216649         0.176215        -0.019748       -0.862913  0.059468   \n",
       "7   -1.216649        -1.331298        -0.670007        0.091735 -0.988543   \n",
       "8   -1.216649        -1.331298        -1.375109        0.567184 -1.189296   \n",
       "9   -0.759687        -0.712673        -0.670007       -0.503882  0.130937   \n",
       "10  -0.743506        -0.219668        -1.751815        0.341982 -1.189296   \n",
       "11  -0.759687        -0.219668        -0.019748        0.567184  1.288156   \n",
       "\n",
       "    Humidity %  Month Code  \n",
       "0    -1.828941   -0.674269  \n",
       "1    -1.416254   -0.368045  \n",
       "2    -0.952710   -0.075244  \n",
       "3     0.179540    0.206535  \n",
       "4     1.099859    0.479021  \n",
       "5     1.365355    0.743507  \n",
       "6     0.728865    1.000999  \n",
       "7     0.499059    1.252294  \n",
       "8    -0.611348    1.498041  \n",
       "9     0.972616   -1.722104  \n",
       "10   -0.535101   -1.343279  \n",
       "11    0.499059   -0.997456  "
      ]
     },
     "execution_count": 51,
     "metadata": {},
     "output_type": "execute_result"
    }
   ],
   "source": [
    "df_new"
   ]
  },
  {
   "cell_type": "code",
   "execution_count": 52,
   "metadata": {
    "scrolled": true
   },
   "outputs": [
    {
     "data": {
      "text/html": [
       "<div>\n",
       "<style scoped>\n",
       "    .dataframe tbody tr th:only-of-type {\n",
       "        vertical-align: middle;\n",
       "    }\n",
       "\n",
       "    .dataframe tbody tr th {\n",
       "        vertical-align: top;\n",
       "    }\n",
       "\n",
       "    .dataframe thead th {\n",
       "        text-align: right;\n",
       "    }\n",
       "</style>\n",
       "<table border=\"1\" class=\"dataframe\">\n",
       "  <thead>\n",
       "    <tr style=\"text-align: right;\">\n",
       "      <th></th>\n",
       "      <th>Occupancy</th>\n",
       "      <th>Temperature Max</th>\n",
       "      <th>Temperature Min</th>\n",
       "      <th>Wind Speed m/s</th>\n",
       "      <th>Rain mm</th>\n",
       "      <th>Humidity %</th>\n",
       "      <th>Month Code</th>\n",
       "    </tr>\n",
       "  </thead>\n",
       "  <tbody>\n",
       "    <tr>\n",
       "      <th>0</th>\n",
       "      <td>1492</td>\n",
       "      <td>38</td>\n",
       "      <td>23</td>\n",
       "      <td>2.222224</td>\n",
       "      <td>0.0</td>\n",
       "      <td>30</td>\n",
       "      <td>4</td>\n",
       "    </tr>\n",
       "    <tr>\n",
       "      <th>1</th>\n",
       "      <td>1492</td>\n",
       "      <td>36</td>\n",
       "      <td>26</td>\n",
       "      <td>1.944446</td>\n",
       "      <td>0.8</td>\n",
       "      <td>44</td>\n",
       "      <td>5</td>\n",
       "    </tr>\n",
       "    <tr>\n",
       "      <th>2</th>\n",
       "      <td>1492</td>\n",
       "      <td>35</td>\n",
       "      <td>25</td>\n",
       "      <td>2.777780</td>\n",
       "      <td>5.9</td>\n",
       "      <td>53</td>\n",
       "      <td>6</td>\n",
       "    </tr>\n",
       "    <tr>\n",
       "      <th>3</th>\n",
       "      <td>1492</td>\n",
       "      <td>32</td>\n",
       "      <td>22</td>\n",
       "      <td>3.333336</td>\n",
       "      <td>6.6</td>\n",
       "      <td>67</td>\n",
       "      <td>7</td>\n",
       "    </tr>\n",
       "    <tr>\n",
       "      <th>4</th>\n",
       "      <td>1465</td>\n",
       "      <td>28</td>\n",
       "      <td>21</td>\n",
       "      <td>5.833338</td>\n",
       "      <td>2.7</td>\n",
       "      <td>75</td>\n",
       "      <td>8</td>\n",
       "    </tr>\n",
       "    <tr>\n",
       "      <th>5</th>\n",
       "      <td>1465</td>\n",
       "      <td>28</td>\n",
       "      <td>19</td>\n",
       "      <td>5.555560</td>\n",
       "      <td>0.4</td>\n",
       "      <td>77</td>\n",
       "      <td>9</td>\n",
       "    </tr>\n",
       "    <tr>\n",
       "      <th>6</th>\n",
       "      <td>1066</td>\n",
       "      <td>30</td>\n",
       "      <td>20</td>\n",
       "      <td>2.500002</td>\n",
       "      <td>1.0</td>\n",
       "      <td>72</td>\n",
       "      <td>10</td>\n",
       "    </tr>\n",
       "    <tr>\n",
       "      <th>7</th>\n",
       "      <td>1066</td>\n",
       "      <td>27</td>\n",
       "      <td>18</td>\n",
       "      <td>3.333336</td>\n",
       "      <td>0.1</td>\n",
       "      <td>70</td>\n",
       "      <td>11</td>\n",
       "    </tr>\n",
       "    <tr>\n",
       "      <th>8</th>\n",
       "      <td>1066</td>\n",
       "      <td>27</td>\n",
       "      <td>16</td>\n",
       "      <td>3.888892</td>\n",
       "      <td>0.0</td>\n",
       "      <td>58</td>\n",
       "      <td>12</td>\n",
       "    </tr>\n",
       "    <tr>\n",
       "      <th>9</th>\n",
       "      <td>1150</td>\n",
       "      <td>28</td>\n",
       "      <td>18</td>\n",
       "      <td>2.777780</td>\n",
       "      <td>1.1</td>\n",
       "      <td>74</td>\n",
       "      <td>1</td>\n",
       "    </tr>\n",
       "    <tr>\n",
       "      <th>10</th>\n",
       "      <td>1153</td>\n",
       "      <td>29</td>\n",
       "      <td>15</td>\n",
       "      <td>3.611114</td>\n",
       "      <td>0.0</td>\n",
       "      <td>59</td>\n",
       "      <td>2</td>\n",
       "    </tr>\n",
       "    <tr>\n",
       "      <th>11</th>\n",
       "      <td>1150</td>\n",
       "      <td>29</td>\n",
       "      <td>20</td>\n",
       "      <td>3.888892</td>\n",
       "      <td>5.0</td>\n",
       "      <td>70</td>\n",
       "      <td>3</td>\n",
       "    </tr>\n",
       "  </tbody>\n",
       "</table>\n",
       "</div>"
      ],
      "text/plain": [
       "    Occupancy  Temperature Max  Temperature Min  Wind Speed m/s  Rain mm  \\\n",
       "0        1492               38               23        2.222224      0.0   \n",
       "1        1492               36               26        1.944446      0.8   \n",
       "2        1492               35               25        2.777780      5.9   \n",
       "3        1492               32               22        3.333336      6.6   \n",
       "4        1465               28               21        5.833338      2.7   \n",
       "5        1465               28               19        5.555560      0.4   \n",
       "6        1066               30               20        2.500002      1.0   \n",
       "7        1066               27               18        3.333336      0.1   \n",
       "8        1066               27               16        3.888892      0.0   \n",
       "9        1150               28               18        2.777780      1.1   \n",
       "10       1153               29               15        3.611114      0.0   \n",
       "11       1150               29               20        3.888892      5.0   \n",
       "\n",
       "    Humidity %  Month Code  \n",
       "0           30           4  \n",
       "1           44           5  \n",
       "2           53           6  \n",
       "3           67           7  \n",
       "4           75           8  \n",
       "5           77           9  \n",
       "6           72          10  \n",
       "7           70          11  \n",
       "8           58          12  \n",
       "9           74           1  \n",
       "10          59           2  \n",
       "11          70           3  "
      ]
     },
     "execution_count": 52,
     "metadata": {},
     "output_type": "execute_result"
    }
   ],
   "source": [
    "x"
   ]
  },
  {
   "cell_type": "code",
   "execution_count": 53,
   "metadata": {
    "scrolled": true
   },
   "outputs": [],
   "source": [
    "x = df_new"
   ]
  },
  {
   "cell_type": "markdown",
   "metadata": {},
   "source": [
    "## finding the best random state"
   ]
  },
  {
   "cell_type": "code",
   "execution_count": 54,
   "metadata": {},
   "outputs": [],
   "source": [
    "from sklearn.metrics import r2_score"
   ]
  },
  {
   "cell_type": "code",
   "execution_count": 55,
   "metadata": {},
   "outputs": [
    {
     "name": "stdout",
     "output_type": "stream",
     "text": [
      "Best accuracy is 0.8636916518966327  on Random State  148\n"
     ]
    }
   ],
   "source": [
    "from sklearn.linear_model import LinearRegression\n",
    "maxAccu=0\n",
    "maxRS=0\n",
    "for i in range(1,200):\n",
    "    x_train, x_test, y_train, y_test = train_test_split(x,y,test_size=.30, random_state = i)\n",
    "    LR = LinearRegression()\n",
    "    LR.fit(x_train, y_train)\n",
    "    predLR = LR.predict(x_test)\n",
    "    acc = r2_score(y_test, predLR)\n",
    "    if acc > maxAccu:\n",
    "        maxAccu = acc\n",
    "        maxRS=i\n",
    "print(\"Best accuracy is\", maxAccu,\" on Random State \",maxRS)"
   ]
  },
  {
   "cell_type": "markdown",
   "metadata": {},
   "source": [
    "## test train split"
   ]
  },
  {
   "cell_type": "code",
   "execution_count": 56,
   "metadata": {
    "scrolled": true
   },
   "outputs": [],
   "source": [
    "x_train, x_test, y_train, y_test = train_test_split(x, y, test_size=0.3, random_state=148)"
   ]
  },
  {
   "cell_type": "code",
   "execution_count": 57,
   "metadata": {},
   "outputs": [],
   "source": [
    "from sklearn.model_selection import train_test_split, KFold, cross_val_score, GridSearchCV\n",
    "from sklearn.preprocessing import StandardScaler\n",
    "from sklearn.linear_model import LinearRegression, SGDRegressor, Ridge, Lasso, ElasticNet, BayesianRidge,RANSACRegressor,HuberRegressor\n",
    "from sklearn.ensemble import RandomForestRegressor, AdaBoostRegressor, BaggingRegressor, GradientBoostingRegressor, ExtraTreesRegressor\n",
    "from sklearn.neighbors import KNeighborsRegressor\n",
    "from sklearn.tree import DecisionTreeRegressor\n",
    "from xgboost import XGBRegressor\n",
    "from sklearn.decomposition import PCA, KernelPCA\n",
    "from sklearn.metrics import mean_squared_error, r2_score, mean_squared_error, make_scorer\n",
    "from catboost import CatBoostRegressor\n",
    "from sklearn import metrics"
   ]
  },
  {
   "cell_type": "markdown",
   "metadata": {},
   "source": [
    "## regression"
   ]
  },
  {
   "cell_type": "code",
   "execution_count": 58,
   "metadata": {},
   "outputs": [],
   "source": [
    "def models(model):\n",
    "    model.fit(x_train, y_train)\n",
    "    pred = model.predict(x_test)\n",
    "    plt.scatter(y_test,predLR,color='b')\n",
    "    plt.plot(y_test,y_test, color='r')\n",
    "    plt.xlabel('Y Test')\n",
    "    plt.ylabel('Predicted Y')\n",
    "    plt.show()\n",
    "    \n",
    "    print('Model Name:', model)\n",
    "    print('MAE:', metrics.mean_absolute_error(y_test, predLR))\n",
    "    print('MSE:', metrics.mean_squared_error(y_test, predLR))\n",
    "    print('RMSE:', np.sqrt(metrics.mean_squared_error(y_test, predLR)))\n",
    "    print('Variance:', metrics.explained_variance_score(y_test, predLR))\n",
    "    print('R2 Score:', r2_score(y_test, pred))\n",
    "    print('------------------------------------------------------------')\n",
    "    return r2_score(y_test, pred)"
   ]
  },
  {
   "cell_type": "code",
   "execution_count": 63,
   "metadata": {},
   "outputs": [],
   "source": [
    "model_list = [LinearRegression(), Ridge(), Lasso()]"
   ]
  },
  {
   "cell_type": "code",
   "execution_count": 64,
   "metadata": {},
   "outputs": [
    {
     "data": {
      "image/png": "[encoded data removed]",
      "text/plain": [
       "<Figure size 432x288 with 1 Axes>"
      ]
     },
     "metadata": {
      "needs_background": "light"
     },
     "output_type": "display_data"
    },
    {
     "name": "stdout",
     "output_type": "stream",
     "text": [
      "Model Name: LinearRegression()\n",
      "MAE: 46655.345073751174\n",
      "MSE: 4302977132.961685\n",
      "RMSE: 65597.08174120008\n",
      "Variance: -13.503943238674292\n",
      "R2 Score: 0.8636916518966327\n",
      "------------------------------------------------------------\n"
     ]
    },
    {
     "data": {
      "image/png": "[encoded data removed]",
      "text/plain": [
       "<Figure size 432x288 with 1 Axes>"
      ]
     },
     "metadata": {
      "needs_background": "light"
     },
     "output_type": "display_data"
    },
    {
     "name": "stdout",
     "output_type": "stream",
     "text": [
      "Model Name: Ridge()\n",
      "MAE: 46655.345073751174\n",
      "MSE: 4302977132.961685\n",
      "RMSE: 65597.08174120008\n",
      "Variance: -13.503943238674292\n",
      "R2 Score: 0.6262766795411916\n",
      "------------------------------------------------------------\n"
     ]
    },
    {
     "data": {
      "image/png": "[encoded data removed]",
      "text/plain": [
       "<Figure size 432x288 with 1 Axes>"
      ]
     },
     "metadata": {
      "needs_background": "light"
     },
     "output_type": "display_data"
    },
    {
     "name": "stdout",
     "output_type": "stream",
     "text": [
      "Model Name: Lasso()\n",
      "MAE: 46655.345073751174\n",
      "MSE: 4302977132.961685\n",
      "RMSE: 65597.08174120008\n",
      "Variance: -13.503943238674292\n",
      "R2 Score: 0.8654265082252811\n",
      "------------------------------------------------------------\n"
     ]
    }
   ],
   "source": [
    "model_dict = {}\n",
    "for i in model_list:\n",
    "    mod_name = str(i)\n",
    "    if '(' in mod_name:\n",
    "        mod_name = str(i).split('(')[0]\n",
    "    else:\n",
    "        mod_name = str(i).split('.')[0]\n",
    "    model_dict[mod_name] = models(i)"
   ]
  },
  {
   "cell_type": "code",
   "execution_count": 65,
   "metadata": {},
   "outputs": [
    {
     "data": {
      "text/plain": [
       "{'LinearRegression': 0.8636916518966327,\n",
       " 'Ridge': 0.6262766795411916,\n",
       " 'Lasso': 0.8654265082252811}"
      ]
     },
     "execution_count": 65,
     "metadata": {},
     "output_type": "execute_result"
    }
   ],
   "source": [
    "model_dict"
   ]
  },
  {
   "cell_type": "markdown",
   "metadata": {},
   "source": [
    "## Cross-validation of the model"
   ]
  },
  {
   "cell_type": "code",
   "execution_count": 74,
   "metadata": {},
   "outputs": [
    {
     "data": {
      "text/plain": [
       "[('Ridge()', 0.9164177763321497),\n",
       " ('LinearRegression()', 0.9149394887086573),\n",
       " ('Lasso()', 0.22357923017375475)]"
      ]
     },
     "execution_count": 74,
     "metadata": {},
     "output_type": "execute_result"
    }
   ],
   "source": [
    "import warnings\n",
    "warnings.filterwarnings(action='ignore')\n",
    "seed = 4\n",
    "splits = 2\n",
    "models_score ={}\n",
    "for i in model_list:\n",
    "    mod_name = str(i)\n",
    "    kfold = KFold(n_splits=splits, random_state=seed, shuffle=True)\n",
    "    results = cross_val_score(i, x_train, y_train, cv=kfold)\n",
    "    models_score.update({mod_name : results.mean()})\n",
    "    \n",
    "sorted(models_score.items(), key= lambda v:v[1], reverse=True)"
   ]
  },
  {
   "cell_type": "code",
   "execution_count": 82,
   "metadata": {},
   "outputs": [],
   "source": [
    "#saving the model"
   ]
  },
  {
   "cell_type": "code",
   "execution_count": 72,
   "metadata": {},
   "outputs": [
    {
     "data": {
      "text/plain": [
       "LinearRegression()"
      ]
     },
     "execution_count": 72,
     "metadata": {},
     "output_type": "execute_result"
    }
   ],
   "source": [
    "final_model = LinearRegression()\n",
    "final_model.fit(x_train, y_train)"
   ]
  },
  {
   "cell_type": "code",
   "execution_count": 83,
   "metadata": {},
   "outputs": [
    {
     "data": {
      "text/plain": [
       "['Model.pkl']"
      ]
     },
     "execution_count": 83,
     "metadata": {},
     "output_type": "execute_result"
    }
   ],
   "source": [
    "import joblib\n",
    "joblib.dump(final_model, \"Model.pkl\")"
   ]
  },
  {
   "cell_type": "markdown",
   "metadata": {},
   "source": [
    "### Importing Test Data"
   ]
  },
  {
   "cell_type": "code",
   "execution_count": 84,
   "metadata": {},
   "outputs": [],
   "source": [
    "x_test = pd.read_excel(\"Test Data.xlsx\")"
   ]
  },
  {
   "cell_type": "code",
   "execution_count": 85,
   "metadata": {},
   "outputs": [
    {
     "data": {
      "text/html": [
       "<div>\n",
       "<style scoped>\n",
       "    .dataframe tbody tr th:only-of-type {\n",
       "        vertical-align: middle;\n",
       "    }\n",
       "\n",
       "    .dataframe tbody tr th {\n",
       "        vertical-align: top;\n",
       "    }\n",
       "\n",
       "    .dataframe thead th {\n",
       "        text-align: right;\n",
       "    }\n",
       "</style>\n",
       "<table border=\"1\" class=\"dataframe\">\n",
       "  <thead>\n",
       "    <tr style=\"text-align: right;\">\n",
       "      <th></th>\n",
       "      <th>Occupancy</th>\n",
       "      <th>Temperature Max</th>\n",
       "      <th>Temperature Min</th>\n",
       "      <th>Wind Speed m/s</th>\n",
       "      <th>Rain mm</th>\n",
       "      <th>Humidity %</th>\n",
       "      <th>Month</th>\n",
       "    </tr>\n",
       "  </thead>\n",
       "  <tbody>\n",
       "    <tr>\n",
       "      <th>0</th>\n",
       "      <td>1492</td>\n",
       "      <td>26</td>\n",
       "      <td>20</td>\n",
       "      <td>3.4</td>\n",
       "      <td>130</td>\n",
       "      <td>79</td>\n",
       "      <td>9</td>\n",
       "    </tr>\n",
       "    <tr>\n",
       "      <th>1</th>\n",
       "      <td>1492</td>\n",
       "      <td>26</td>\n",
       "      <td>19</td>\n",
       "      <td>2.7</td>\n",
       "      <td>159</td>\n",
       "      <td>75</td>\n",
       "      <td>10</td>\n",
       "    </tr>\n",
       "    <tr>\n",
       "      <th>2</th>\n",
       "      <td>1492</td>\n",
       "      <td>25</td>\n",
       "      <td>19</td>\n",
       "      <td>3.0</td>\n",
       "      <td>77</td>\n",
       "      <td>68</td>\n",
       "      <td>11</td>\n",
       "    </tr>\n",
       "    <tr>\n",
       "      <th>3</th>\n",
       "      <td>1492</td>\n",
       "      <td>25</td>\n",
       "      <td>19</td>\n",
       "      <td>3.2</td>\n",
       "      <td>27</td>\n",
       "      <td>62</td>\n",
       "      <td>12</td>\n",
       "    </tr>\n",
       "  </tbody>\n",
       "</table>\n",
       "</div>"
      ],
      "text/plain": [
       "   Occupancy  Temperature Max  Temperature Min  Wind Speed m/s  Rain mm  \\\n",
       "0       1492               26               20             3.4      130   \n",
       "1       1492               26               19             2.7      159   \n",
       "2       1492               25               19             3.0       77   \n",
       "3       1492               25               19             3.2       27   \n",
       "\n",
       "   Humidity %  Month  \n",
       "0          79      9  \n",
       "1          75     10  \n",
       "2          68     11  \n",
       "3          62     12  "
      ]
     },
     "execution_count": 85,
     "metadata": {},
     "output_type": "execute_result"
    }
   ],
   "source": [
    "x_test.head()"
   ]
  },
  {
   "cell_type": "code",
   "execution_count": 86,
   "metadata": {
    "scrolled": true
   },
   "outputs": [],
   "source": [
    "#Removing outliers by z score"
   ]
  },
  {
   "cell_type": "code",
   "execution_count": 87,
   "metadata": {
    "scrolled": true
   },
   "outputs": [],
   "source": [
    "from scipy.stats import zscore\n",
    "z = np.abs(zscore(x_test))\n",
    "new_df = x_test[(z<3).all(axis=1)]"
   ]
  },
  {
   "cell_type": "code",
   "execution_count": 88,
   "metadata": {
    "scrolled": true
   },
   "outputs": [
    {
     "data": {
      "text/plain": [
       "(0, 7)"
      ]
     },
     "execution_count": 88,
     "metadata": {},
     "output_type": "execute_result"
    }
   ],
   "source": [
    "new_df.shape"
   ]
  },
  {
   "cell_type": "code",
   "execution_count": 90,
   "metadata": {
    "scrolled": true
   },
   "outputs": [
    {
     "data": {
      "text/plain": [
       "(4, 7)"
      ]
     },
     "execution_count": 90,
     "metadata": {},
     "output_type": "execute_result"
    }
   ],
   "source": [
    "x_test.shape"
   ]
  },
  {
   "cell_type": "code",
   "execution_count": 91,
   "metadata": {
    "scrolled": true
   },
   "outputs": [],
   "source": [
    "dataloss = ((4-0)/4)*100"
   ]
  },
  {
   "cell_type": "code",
   "execution_count": 92,
   "metadata": {
    "scrolled": true
   },
   "outputs": [
    {
     "data": {
      "text/plain": [
       "100.0"
      ]
     },
     "execution_count": 92,
     "metadata": {},
     "output_type": "execute_result"
    }
   ],
   "source": [
    "dataloss"
   ]
  },
  {
   "cell_type": "code",
   "execution_count": 93,
   "metadata": {
    "scrolled": true
   },
   "outputs": [],
   "source": [
    "#Data loss is high, hence not dropping outliers"
   ]
  },
  {
   "cell_type": "markdown",
   "metadata": {},
   "source": [
    "## check for skewness"
   ]
  },
  {
   "cell_type": "code",
   "execution_count": 94,
   "metadata": {
    "scrolled": true
   },
   "outputs": [
    {
     "data": {
      "text/plain": [
       "Occupancy          0.000000\n",
       "Temperature Max    0.000000\n",
       "Temperature Min    2.000000\n",
       "Wind Speed m/s    -0.422521\n",
       "Rain mm           -0.385508\n",
       "Humidity %        -0.281313\n",
       "Month              0.000000\n",
       "dtype: float64"
      ]
     },
     "execution_count": 94,
     "metadata": {},
     "output_type": "execute_result"
    }
   ],
   "source": [
    "x_test.skew() # check skewness"
   ]
  },
  {
   "cell_type": "code",
   "execution_count": 95,
   "metadata": {
    "scrolled": true
   },
   "outputs": [],
   "source": [
    "from sklearn.preprocessing import power_transform\n",
    "df_new = power_transform(x_test)\n",
    "\n",
    "df_new = pd.DataFrame(df_new, columns = x_test.columns)"
   ]
  },
  {
   "cell_type": "code",
   "execution_count": 96,
   "metadata": {
    "scrolled": true
   },
   "outputs": [
    {
     "data": {
      "text/plain": [
       "Occupancy          0.000000\n",
       "Temperature Max    0.000000\n",
       "Temperature Min    0.000000\n",
       "Wind Speed m/s    -0.160140\n",
       "Rain mm           -0.514659\n",
       "Humidity %        -0.161946\n",
       "Month             -0.052168\n",
       "dtype: float64"
      ]
     },
     "execution_count": 96,
     "metadata": {},
     "output_type": "execute_result"
    }
   ],
   "source": [
    "df_new.skew()"
   ]
  },
  {
   "cell_type": "code",
   "execution_count": 97,
   "metadata": {
    "scrolled": true
   },
   "outputs": [
    {
     "data": {
      "text/html": [
       "<div>\n",
       "<style scoped>\n",
       "    .dataframe tbody tr th:only-of-type {\n",
       "        vertical-align: middle;\n",
       "    }\n",
       "\n",
       "    .dataframe tbody tr th {\n",
       "        vertical-align: top;\n",
       "    }\n",
       "\n",
       "    .dataframe thead th {\n",
       "        text-align: right;\n",
       "    }\n",
       "</style>\n",
       "<table border=\"1\" class=\"dataframe\">\n",
       "  <thead>\n",
       "    <tr style=\"text-align: right;\">\n",
       "      <th></th>\n",
       "      <th>Occupancy</th>\n",
       "      <th>Temperature Max</th>\n",
       "      <th>Temperature Min</th>\n",
       "      <th>Wind Speed m/s</th>\n",
       "      <th>Rain mm</th>\n",
       "      <th>Humidity %</th>\n",
       "      <th>Month</th>\n",
       "    </tr>\n",
       "  </thead>\n",
       "  <tbody>\n",
       "    <tr>\n",
       "      <th>0</th>\n",
       "      <td>0.0</td>\n",
       "      <td>1.0</td>\n",
       "      <td>0.0</td>\n",
       "      <td>1.319647</td>\n",
       "      <td>0.643831</td>\n",
       "      <td>1.259275</td>\n",
       "      <td>-1.354225</td>\n",
       "    </tr>\n",
       "    <tr>\n",
       "      <th>1</th>\n",
       "      <td>0.0</td>\n",
       "      <td>1.0</td>\n",
       "      <td>0.0</td>\n",
       "      <td>-1.392948</td>\n",
       "      <td>1.169169</td>\n",
       "      <td>0.588874</td>\n",
       "      <td>-0.434199</td>\n",
       "    </tr>\n",
       "    <tr>\n",
       "      <th>2</th>\n",
       "      <td>0.0</td>\n",
       "      <td>-1.0</td>\n",
       "      <td>0.0</td>\n",
       "      <td>-0.360552</td>\n",
       "      <td>-0.370292</td>\n",
       "      <td>-0.500030</td>\n",
       "      <td>0.459290</td>\n",
       "    </tr>\n",
       "    <tr>\n",
       "      <th>3</th>\n",
       "      <td>0.0</td>\n",
       "      <td>-1.0</td>\n",
       "      <td>0.0</td>\n",
       "      <td>0.433853</td>\n",
       "      <td>-1.442709</td>\n",
       "      <td>-1.348119</td>\n",
       "      <td>1.329134</td>\n",
       "    </tr>\n",
       "  </tbody>\n",
       "</table>\n",
       "</div>"
      ],
      "text/plain": [
       "   Occupancy  Temperature Max  Temperature Min  Wind Speed m/s   Rain mm  \\\n",
       "0        0.0              1.0              0.0        1.319647  0.643831   \n",
       "1        0.0              1.0              0.0       -1.392948  1.169169   \n",
       "2        0.0             -1.0              0.0       -0.360552 -0.370292   \n",
       "3        0.0             -1.0              0.0        0.433853 -1.442709   \n",
       "\n",
       "   Humidity %     Month  \n",
       "0    1.259275 -1.354225  \n",
       "1    0.588874 -0.434199  \n",
       "2   -0.500030  0.459290  \n",
       "3   -1.348119  1.329134  "
      ]
     },
     "execution_count": 97,
     "metadata": {},
     "output_type": "execute_result"
    }
   ],
   "source": [
    "df_new"
   ]
  },
  {
   "cell_type": "code",
   "execution_count": 98,
   "metadata": {
    "scrolled": true
   },
   "outputs": [
    {
     "data": {
      "text/html": [
       "<div>\n",
       "<style scoped>\n",
       "    .dataframe tbody tr th:only-of-type {\n",
       "        vertical-align: middle;\n",
       "    }\n",
       "\n",
       "    .dataframe tbody tr th {\n",
       "        vertical-align: top;\n",
       "    }\n",
       "\n",
       "    .dataframe thead th {\n",
       "        text-align: right;\n",
       "    }\n",
       "</style>\n",
       "<table border=\"1\" class=\"dataframe\">\n",
       "  <thead>\n",
       "    <tr style=\"text-align: right;\">\n",
       "      <th></th>\n",
       "      <th>Occupancy</th>\n",
       "      <th>Temperature Max</th>\n",
       "      <th>Temperature Min</th>\n",
       "      <th>Wind Speed m/s</th>\n",
       "      <th>Rain mm</th>\n",
       "      <th>Humidity %</th>\n",
       "      <th>Month</th>\n",
       "    </tr>\n",
       "  </thead>\n",
       "  <tbody>\n",
       "    <tr>\n",
       "      <th>0</th>\n",
       "      <td>1492</td>\n",
       "      <td>26</td>\n",
       "      <td>20</td>\n",
       "      <td>3.4</td>\n",
       "      <td>130</td>\n",
       "      <td>79</td>\n",
       "      <td>9</td>\n",
       "    </tr>\n",
       "    <tr>\n",
       "      <th>1</th>\n",
       "      <td>1492</td>\n",
       "      <td>26</td>\n",
       "      <td>19</td>\n",
       "      <td>2.7</td>\n",
       "      <td>159</td>\n",
       "      <td>75</td>\n",
       "      <td>10</td>\n",
       "    </tr>\n",
       "    <tr>\n",
       "      <th>2</th>\n",
       "      <td>1492</td>\n",
       "      <td>25</td>\n",
       "      <td>19</td>\n",
       "      <td>3.0</td>\n",
       "      <td>77</td>\n",
       "      <td>68</td>\n",
       "      <td>11</td>\n",
       "    </tr>\n",
       "    <tr>\n",
       "      <th>3</th>\n",
       "      <td>1492</td>\n",
       "      <td>25</td>\n",
       "      <td>19</td>\n",
       "      <td>3.2</td>\n",
       "      <td>27</td>\n",
       "      <td>62</td>\n",
       "      <td>12</td>\n",
       "    </tr>\n",
       "  </tbody>\n",
       "</table>\n",
       "</div>"
      ],
      "text/plain": [
       "   Occupancy  Temperature Max  Temperature Min  Wind Speed m/s  Rain mm  \\\n",
       "0       1492               26               20             3.4      130   \n",
       "1       1492               26               19             2.7      159   \n",
       "2       1492               25               19             3.0       77   \n",
       "3       1492               25               19             3.2       27   \n",
       "\n",
       "   Humidity %  Month  \n",
       "0          79      9  \n",
       "1          75     10  \n",
       "2          68     11  \n",
       "3          62     12  "
      ]
     },
     "execution_count": 98,
     "metadata": {},
     "output_type": "execute_result"
    }
   ],
   "source": [
    "x_test"
   ]
  },
  {
   "cell_type": "code",
   "execution_count": 99,
   "metadata": {
    "scrolled": true
   },
   "outputs": [],
   "source": [
    "x_test = df_new"
   ]
  },
  {
   "cell_type": "code",
   "execution_count": 101,
   "metadata": {},
   "outputs": [],
   "source": [
    "predictions = final_model.predict(x_test)"
   ]
  },
  {
   "cell_type": "code",
   "execution_count": 102,
   "metadata": {},
   "outputs": [
    {
     "data": {
      "text/plain": [
       "array([153629.47156017, 143271.36378839, 131602.96386436, 141452.24675508])"
      ]
     },
     "execution_count": 102,
     "metadata": {},
     "output_type": "execute_result"
    }
   ],
   "source": [
    "predictions"
   ]
  },
  {
   "cell_type": "code",
   "execution_count": 104,
   "metadata": {},
   "outputs": [
    {
     "data": {
      "text/html": [
       "<div>\n",
       "<style scoped>\n",
       "    .dataframe tbody tr th:only-of-type {\n",
       "        vertical-align: middle;\n",
       "    }\n",
       "\n",
       "    .dataframe tbody tr th {\n",
       "        vertical-align: top;\n",
       "    }\n",
       "\n",
       "    .dataframe thead th {\n",
       "        text-align: right;\n",
       "    }\n",
       "</style>\n",
       "<table border=\"1\" class=\"dataframe\">\n",
       "  <thead>\n",
       "    <tr style=\"text-align: right;\">\n",
       "      <th></th>\n",
       "      <th>Occupancy</th>\n",
       "      <th>Temperature Max</th>\n",
       "      <th>Temperature Min</th>\n",
       "      <th>Wind Speed m/s</th>\n",
       "      <th>Rain mm</th>\n",
       "      <th>Humidity %</th>\n",
       "      <th>Month</th>\n",
       "      <th>Total kwh</th>\n",
       "    </tr>\n",
       "  </thead>\n",
       "  <tbody>\n",
       "    <tr>\n",
       "      <th>0</th>\n",
       "      <td>1492</td>\n",
       "      <td>26</td>\n",
       "      <td>20</td>\n",
       "      <td>3.4</td>\n",
       "      <td>130</td>\n",
       "      <td>79</td>\n",
       "      <td>9</td>\n",
       "      <td>153629.471560</td>\n",
       "    </tr>\n",
       "    <tr>\n",
       "      <th>1</th>\n",
       "      <td>1492</td>\n",
       "      <td>26</td>\n",
       "      <td>19</td>\n",
       "      <td>2.7</td>\n",
       "      <td>159</td>\n",
       "      <td>75</td>\n",
       "      <td>10</td>\n",
       "      <td>143271.363788</td>\n",
       "    </tr>\n",
       "    <tr>\n",
       "      <th>2</th>\n",
       "      <td>1492</td>\n",
       "      <td>25</td>\n",
       "      <td>19</td>\n",
       "      <td>3.0</td>\n",
       "      <td>77</td>\n",
       "      <td>68</td>\n",
       "      <td>11</td>\n",
       "      <td>131602.963864</td>\n",
       "    </tr>\n",
       "    <tr>\n",
       "      <th>3</th>\n",
       "      <td>1492</td>\n",
       "      <td>25</td>\n",
       "      <td>19</td>\n",
       "      <td>3.2</td>\n",
       "      <td>27</td>\n",
       "      <td>62</td>\n",
       "      <td>12</td>\n",
       "      <td>141452.246755</td>\n",
       "    </tr>\n",
       "  </tbody>\n",
       "</table>\n",
       "</div>"
      ],
      "text/plain": [
       "   Occupancy  Temperature Max  Temperature Min  Wind Speed m/s  Rain mm  \\\n",
       "0       1492               26               20             3.4      130   \n",
       "1       1492               26               19             2.7      159   \n",
       "2       1492               25               19             3.0       77   \n",
       "3       1492               25               19             3.2       27   \n",
       "\n",
       "   Humidity %  Month      Total kwh  \n",
       "0          79      9  153629.471560  \n",
       "1          75     10  143271.363788  \n",
       "2          68     11  131602.963864  \n",
       "3          62     12  141452.246755  "
      ]
     },
     "execution_count": 104,
     "metadata": {},
     "output_type": "execute_result"
    }
   ],
   "source": [
    "output = pd.read_excel(\"Test Data.xlsx\")\n",
    "output['Total kwh']=  predictions\n",
    "output.head()"
   ]
  },
  {
   "cell_type": "code",
   "execution_count": 105,
   "metadata": {},
   "outputs": [],
   "source": [
    "output.to_excel('Prediction.xlsx',index=False)"
   ]
  }
 ],
 "metadata": {
  "kernelspec": {
   "display_name": "Python 3",
   "language": "python",
   "name": "python3"
  },
  "language_info": {
   "codemirror_mode": {
    "name": "ipython",
    "version": 3
   },
   "file_extension": ".py",
   "mimetype": "text/x-python",
   "name": "python",
   "nbconvert_exporter": "python",
   "pygments_lexer": "ipython3",
   "version": "3.8.5"
  }
 },
 "nbformat": 4,
 "nbformat_minor": 4
}
