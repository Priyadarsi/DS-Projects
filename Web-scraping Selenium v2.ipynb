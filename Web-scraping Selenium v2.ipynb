{
 "cells": [
  {
   "cell_type": "code",
   "execution_count": 1,
   "metadata": {
    "scrolled": true
   },
   "outputs": [
    {
     "name": "stdout",
     "output_type": "stream",
     "text": [
      "Requirement already satisfied: selenium in c:\\users\\user\\anaconda3\\lib\\site-packages (3.141.0)\n",
      "Requirement already satisfied: urllib3 in c:\\users\\user\\anaconda3\\lib\\site-packages (from selenium) (1.25.11)\n",
      "Note: you may need to restart the kernel to use updated packages.\n"
     ]
    }
   ],
   "source": [
    "pip install selenium"
   ]
  },
  {
   "cell_type": "code",
   "execution_count": 1,
   "metadata": {},
   "outputs": [],
   "source": [
    "import selenium\n",
    "import pandas as pd\n",
    "import numpy as np\n",
    "from selenium import webdriver\n",
    "import time\n",
    "from selenium.common.exceptions import NoSuchElementException\n",
    "from selenium.webdriver.support.ui import WebDriverWait\n",
    "from selenium.webdriver.support import expected_conditions as EC\n",
    "from selenium.webdriver.common.by import By\n",
    "from selenium.webdriver.common.keys import Keys"
   ]
  },
  {
   "cell_type": "markdown",
   "metadata": {},
   "source": [
    "### Q1. Write a python program to scrape data for “Data Analyst” Job position in “Bangalore” location. You have to scrape the job-title, job-location, company_name, experience_required. You have to scrape first 10 jobs data.\n",
    "This task will be done in following steps:\n",
    "1. first get the webpage https://www.naukri.com/\n",
    "2. Enter “Data Analyst” in “Skill,Designations,Companies” field and enter “Bangalore” in “enter the location” field.\n",
    "3. Then click the search button.\n",
    "4. Then scrape the data for the first 10 jobs results you get.\n",
    "5. Finally create a dataframe of the scraped data.\n",
    "Note- All of the above steps have to be done in code. No step is to be done manually."
   ]
  },
  {
   "cell_type": "code",
   "execution_count": 2,
   "metadata": {},
   "outputs": [],
   "source": [
    "driver = webdriver.Chrome(r\"C:\\Users\\User\\Downloads\\chromedriver_win32\\chromedriver.exe\")"
   ]
  },
  {
   "cell_type": "code",
   "execution_count": 3,
   "metadata": {},
   "outputs": [],
   "source": [
    "url = \"https://www.naukri.com/\"\n",
    "driver.get(url)"
   ]
  },
  {
   "cell_type": "code",
   "execution_count": 4,
   "metadata": {},
   "outputs": [
    {
     "data": {
      "text/plain": [
       "<selenium.webdriver.remote.webelement.WebElement (session=\"8c1590670ac6525cde4da73a0daf61b5\", element=\"3eec5212-99cf-419f-a327-b95503f85b51\")>"
      ]
     },
     "execution_count": 4,
     "metadata": {},
     "output_type": "execute_result"
    }
   ],
   "source": [
    "search_job = driver.find_element_by_id('qsb-keyword-sugg')\n",
    "search_job"
   ]
  },
  {
   "cell_type": "code",
   "execution_count": 5,
   "metadata": {},
   "outputs": [],
   "source": [
    "search_job.send_keys(\"Data Analyst\")"
   ]
  },
  {
   "cell_type": "code",
   "execution_count": 6,
   "metadata": {},
   "outputs": [],
   "source": [
    "search_loc = driver.find_element_by_id(\"qsb-location-sugg\")\n",
    "search_loc.send_keys(\"Bangalore\")"
   ]
  },
  {
   "cell_type": "code",
   "execution_count": 7,
   "metadata": {},
   "outputs": [],
   "source": [
    "search_btn = driver.find_element_by_xpath(\"//button[@class='btn']\")\n",
    "search_btn.click()"
   ]
  },
  {
   "cell_type": "code",
   "execution_count": 8,
   "metadata": {},
   "outputs": [],
   "source": [
    "titles_tags = driver.find_elements_by_xpath(\"//a[@class='title fw500 ellipsis']\")\n",
    "job_titles = []\n",
    "for i in titles_tags:\n",
    "    job_titles.append(i.text)"
   ]
  },
  {
   "cell_type": "code",
   "execution_count": 9,
   "metadata": {},
   "outputs": [],
   "source": [
    "experience_tags = driver.find_elements_by_xpath(\"//li[@class='fleft grey-text br2 placeHolderLi experience']\")\n",
    "experience_titles = []\n",
    "for i in experience_tags:\n",
    "    experience_titles.append(i.text.replace(\" Yrs\",\"\"))"
   ]
  },
  {
   "cell_type": "code",
   "execution_count": 10,
   "metadata": {},
   "outputs": [],
   "source": [
    "company_tags= driver.find_elements_by_xpath(\"//a[@class='subTitle ellipsis fleft']\")\n",
    "company_titles = []\n",
    "for i in company_tags:\n",
    "    company_titles.append(i.text)"
   ]
  },
  {
   "cell_type": "code",
   "execution_count": 11,
   "metadata": {},
   "outputs": [],
   "source": [
    "location_tags = driver.find_elements_by_xpath(\"//li[@class='fleft grey-text br2 placeHolderLi location']\")\n",
    "location_names=[]\n",
    "for i in location_tags:\n",
    "    location_names.append(i.text)"
   ]
  },
  {
   "cell_type": "code",
   "execution_count": 12,
   "metadata": {},
   "outputs": [
    {
     "name": "stdout",
     "output_type": "stream",
     "text": [
      "20 20 20 20\n"
     ]
    }
   ],
   "source": [
    "print(len(job_titles),len(company_titles),len(experience_titles),len(location_names))"
   ]
  },
  {
   "cell_type": "code",
   "execution_count": 13,
   "metadata": {},
   "outputs": [],
   "source": [
    "#import pandas as pd\n"
   ]
  },
  {
   "cell_type": "code",
   "execution_count": 14,
   "metadata": {},
   "outputs": [],
   "source": [
    "df = pd.DataFrame(np.column_stack([job_titles[0:10], experience_titles[0:10], company_titles[0:10], location_names[0:10]]), \n",
    "                               columns=[\"Title\", \"Experience (Yrs)\", \"Company\",\"Location\"])"
   ]
  },
  {
   "cell_type": "code",
   "execution_count": 15,
   "metadata": {},
   "outputs": [
    {
     "data": {
      "text/html": [
       "<div>\n",
       "<style scoped>\n",
       "    .dataframe tbody tr th:only-of-type {\n",
       "        vertical-align: middle;\n",
       "    }\n",
       "\n",
       "    .dataframe tbody tr th {\n",
       "        vertical-align: top;\n",
       "    }\n",
       "\n",
       "    .dataframe thead th {\n",
       "        text-align: right;\n",
       "    }\n",
       "</style>\n",
       "<table border=\"1\" class=\"dataframe\">\n",
       "  <thead>\n",
       "    <tr style=\"text-align: right;\">\n",
       "      <th></th>\n",
       "      <th>Title</th>\n",
       "      <th>Experience (Yrs)</th>\n",
       "      <th>Company</th>\n",
       "      <th>Location</th>\n",
       "    </tr>\n",
       "  </thead>\n",
       "  <tbody>\n",
       "    <tr>\n",
       "      <th>0</th>\n",
       "      <td>Associate Systems and Data Analyst</td>\n",
       "      <td>0-4</td>\n",
       "      <td>Boeing</td>\n",
       "      <td>Bangalore/Bengaluru</td>\n",
       "    </tr>\n",
       "    <tr>\n",
       "      <th>1</th>\n",
       "      <td>Consultant-Data Analyst -Bangalore</td>\n",
       "      <td>2-7</td>\n",
       "      <td>Innovsource Services Private Limited</td>\n",
       "      <td>Bangalore/Bengaluru</td>\n",
       "    </tr>\n",
       "    <tr>\n",
       "      <th>2</th>\n",
       "      <td>Data Scientist / Data Analyst -Business Analyst</td>\n",
       "      <td>0-3</td>\n",
       "      <td>Inflexion Analytix Private Limited</td>\n",
       "      <td>Mumbai, Hyderabad/Secunderabad, Pune, Gurgaon/...</td>\n",
       "    </tr>\n",
       "    <tr>\n",
       "      <th>3</th>\n",
       "      <td>Data Analyst</td>\n",
       "      <td>1-3</td>\n",
       "      <td>Flipkart Internet Private Limited</td>\n",
       "      <td>Bangalore/Bengaluru</td>\n",
       "    </tr>\n",
       "    <tr>\n",
       "      <th>4</th>\n",
       "      <td>Hiring For Data Analyst @ Flipkart on Contract</td>\n",
       "      <td>2-6</td>\n",
       "      <td>Flipkart Internet Private Limited</td>\n",
       "      <td>Bangalore/Bengaluru</td>\n",
       "    </tr>\n",
       "    <tr>\n",
       "      <th>5</th>\n",
       "      <td>Data Analyst</td>\n",
       "      <td>3-7</td>\n",
       "      <td>IBM India Pvt. Limited</td>\n",
       "      <td>Bangalore/Bengaluru</td>\n",
       "    </tr>\n",
       "    <tr>\n",
       "      <th>6</th>\n",
       "      <td>Deputy Manager - Data Analyst</td>\n",
       "      <td>3-6</td>\n",
       "      <td>Schneider Electric India Pvt. Ltd.</td>\n",
       "      <td>Bangalore/Bengaluru</td>\n",
       "    </tr>\n",
       "    <tr>\n",
       "      <th>7</th>\n",
       "      <td>Senior Data Analyst</td>\n",
       "      <td>2-5</td>\n",
       "      <td>Flipkart Internet Private Limited</td>\n",
       "      <td>Bangalore/Bengaluru</td>\n",
       "    </tr>\n",
       "    <tr>\n",
       "      <th>8</th>\n",
       "      <td>Data Analyst / Business Analyst -</td>\n",
       "      <td>1-5</td>\n",
       "      <td>LatentView Analytics Private Limited</td>\n",
       "      <td>Chennai, Bangalore/Bengaluru</td>\n",
       "    </tr>\n",
       "    <tr>\n",
       "      <th>9</th>\n",
       "      <td>Business Data Analyst</td>\n",
       "      <td>5-10</td>\n",
       "      <td>ALSTOM India Limited</td>\n",
       "      <td>Bangalore/Bengaluru</td>\n",
       "    </tr>\n",
       "  </tbody>\n",
       "</table>\n",
       "</div>"
      ],
      "text/plain": [
       "                                             Title Experience (Yrs)  \\\n",
       "0               Associate Systems and Data Analyst              0-4   \n",
       "1               Consultant-Data Analyst -Bangalore              2-7   \n",
       "2  Data Scientist / Data Analyst -Business Analyst              0-3   \n",
       "3                                     Data Analyst              1-3   \n",
       "4   Hiring For Data Analyst @ Flipkart on Contract              2-6   \n",
       "5                                     Data Analyst              3-7   \n",
       "6                    Deputy Manager - Data Analyst              3-6   \n",
       "7                              Senior Data Analyst              2-5   \n",
       "8                Data Analyst / Business Analyst -              1-5   \n",
       "9                            Business Data Analyst             5-10   \n",
       "\n",
       "                                Company  \\\n",
       "0                                Boeing   \n",
       "1  Innovsource Services Private Limited   \n",
       "2    Inflexion Analytix Private Limited   \n",
       "3     Flipkart Internet Private Limited   \n",
       "4     Flipkart Internet Private Limited   \n",
       "5                IBM India Pvt. Limited   \n",
       "6    Schneider Electric India Pvt. Ltd.   \n",
       "7     Flipkart Internet Private Limited   \n",
       "8  LatentView Analytics Private Limited   \n",
       "9                  ALSTOM India Limited   \n",
       "\n",
       "                                            Location  \n",
       "0                                Bangalore/Bengaluru  \n",
       "1                                Bangalore/Bengaluru  \n",
       "2  Mumbai, Hyderabad/Secunderabad, Pune, Gurgaon/...  \n",
       "3                                Bangalore/Bengaluru  \n",
       "4                                Bangalore/Bengaluru  \n",
       "5                                Bangalore/Bengaluru  \n",
       "6                                Bangalore/Bengaluru  \n",
       "7                                Bangalore/Bengaluru  \n",
       "8                       Chennai, Bangalore/Bengaluru  \n",
       "9                                Bangalore/Bengaluru  "
      ]
     },
     "execution_count": 15,
     "metadata": {},
     "output_type": "execute_result"
    }
   ],
   "source": [
    "df"
   ]
  },
  {
   "cell_type": "markdown",
   "metadata": {},
   "source": [
    "### Q2. Write a python program to scrape data for “Data Scientist” Job position in “Bangalore” location. You have to scrape the job-title, job-location, company_name, full job-description. You have to scrape first 10 jobs data.\n",
    "This task will be done in following steps:\n",
    "1. first get the webpage https://www.naukri.com/\n",
    "2. Enter “Data Scientist” in “Skill,Designations,Companies” field and enter “Bangalore” in “enter the location” field.\n",
    "3. Then click the search button.\n",
    "4. Then scrape the data for the first 10 jobs results you get.\n",
    "5. Finally create a dataframe of the scraped data.\n",
    "\n",
    "Note- \n",
    "1. All of the above steps have to be done in code. No step is to be done manually.\n",
    "2.Please note that you have to scrape full job description. For that you may have to open each job separately as shown below"
   ]
  },
  {
   "cell_type": "code",
   "execution_count": 34,
   "metadata": {},
   "outputs": [],
   "source": [
    "driver = webdriver.Chrome(r\"C:\\Users\\User\\Downloads\\chromedriver_win32\\chromedriver.exe\")"
   ]
  },
  {
   "cell_type": "code",
   "execution_count": 35,
   "metadata": {},
   "outputs": [],
   "source": [
    "url = \"https://www.naukri.com/\"\n",
    "driver.get(url)"
   ]
  },
  {
   "cell_type": "code",
   "execution_count": 36,
   "metadata": {},
   "outputs": [
    {
     "data": {
      "text/plain": [
       "<selenium.webdriver.remote.webelement.WebElement (session=\"6a74b67228c37fe3429fc8235cd1f08b\", element=\"a17c4358-d5c4-4946-a30e-4e5e3abc1247\")>"
      ]
     },
     "execution_count": 36,
     "metadata": {},
     "output_type": "execute_result"
    }
   ],
   "source": [
    "search_job = driver.find_element_by_id('qsb-keyword-sugg')\n",
    "search_job"
   ]
  },
  {
   "cell_type": "code",
   "execution_count": 37,
   "metadata": {},
   "outputs": [],
   "source": [
    "search_job.send_keys(\"Data Scientist\")"
   ]
  },
  {
   "cell_type": "code",
   "execution_count": 38,
   "metadata": {},
   "outputs": [],
   "source": [
    "search_loc = driver.find_element_by_id(\"qsb-location-sugg\")\n",
    "search_loc.send_keys(\"Bangalore\")"
   ]
  },
  {
   "cell_type": "code",
   "execution_count": 39,
   "metadata": {},
   "outputs": [],
   "source": [
    "search_btn = driver.find_element_by_xpath(\"//button[@class='btn']\")\n",
    "search_btn.click()"
   ]
  },
  {
   "cell_type": "code",
   "execution_count": 40,
   "metadata": {},
   "outputs": [],
   "source": [
    "titles_tags = driver.find_elements_by_xpath(\"//a[@class='title fw500 ellipsis']\")\n",
    "job_titles = []\n",
    "for i in titles_tags:\n",
    "    job_titles.append(i.text)"
   ]
  },
  {
   "cell_type": "code",
   "execution_count": 42,
   "metadata": {},
   "outputs": [
    {
     "data": {
      "text/plain": [
       "['Senior Data Scientist',\n",
       " 'Senior Data Scientist',\n",
       " 'Data Scientist',\n",
       " 'Data Scientist',\n",
       " 'Looking For Data Scientist For Infogain',\n",
       " 'Data Scientist - Python/MATLAB/Machine Learning Algorithms',\n",
       " 'Data Scientist - Machine Learning',\n",
       " 'Senior / Lead Data Scientist',\n",
       " 'Data Scientist',\n",
       " 'Hiring For DATA Scientist - ON Contract Basis (3-6 Months)',\n",
       " 'Lead Data Scientist',\n",
       " 'Senior Data Scientist - Demand Generation',\n",
       " 'Senior Data Scientist - Demand Generation',\n",
       " 'Senior Data Scientist',\n",
       " 'Analytics Lead - Data Scientist',\n",
       " 'Sr. Data Scientist',\n",
       " 'Senior Data Scientist',\n",
       " 'Senior Data Scientist',\n",
       " 'Senior Associate/Team Lead - Data Scientist Consulting',\n",
       " 'Senior Data Scientist']"
      ]
     },
     "execution_count": 42,
     "metadata": {},
     "output_type": "execute_result"
    }
   ],
   "source": [
    "job_titles"
   ]
  },
  {
   "cell_type": "code",
   "execution_count": 43,
   "metadata": {},
   "outputs": [],
   "source": [
    "experience_tags = driver.find_elements_by_xpath(\"//li[@class='fleft grey-text br2 placeHolderLi experience']\")\n",
    "experience_titles = []\n",
    "for i in experience_tags:\n",
    "    experience_titles.append(i.text.replace(\" Yrs\",\"\"))"
   ]
  },
  {
   "cell_type": "code",
   "execution_count": 44,
   "metadata": {},
   "outputs": [],
   "source": [
    "company_tags= driver.find_elements_by_xpath(\"//a[@class='subTitle ellipsis fleft']\")\n",
    "company_titles = []\n",
    "for i in company_tags:\n",
    "    company_titles.append(i.text)"
   ]
  },
  {
   "cell_type": "code",
   "execution_count": 45,
   "metadata": {},
   "outputs": [],
   "source": [
    "location_tags = driver.find_elements_by_xpath(\"//li[@class='fleft grey-text br2 placeHolderLi location']\")\n",
    "location_names=[]\n",
    "for i in location_tags:\n",
    "    location_names.append(i.text)"
   ]
  },
  {
   "cell_type": "code",
   "execution_count": 46,
   "metadata": {},
   "outputs": [],
   "source": [
    "urls  = []\n",
    "for i in range(0,1):\n",
    "    for j in driver.find_elements_by_xpath('//a[@class=\"title fw500 ellipsis\"]'):\n",
    "        urls.append(j.get_attribute('href'))\n",
    "    driver.find_element_by_xpath('//a[@class=\"fright fs14 btn-secondary br2\"]').click()\n",
    "#end.get_attribute('href').click()\n",
    "    time.sleep(3)"
   ]
  },
  {
   "cell_type": "code",
   "execution_count": 47,
   "metadata": {},
   "outputs": [],
   "source": [
    "job_desc = []\n",
    "\n",
    "for i in urls:\n",
    "    driver.get(i)\n",
    "    desc = driver.find_element_by_xpath(\"//*[contains(text(),' ')]\")\n",
    "    job_desc.append(desc.text.replace('\\n', ''))"
   ]
  },
  {
   "cell_type": "code",
   "execution_count": 48,
   "metadata": {},
   "outputs": [
    {
     "name": "stdout",
     "output_type": "stream",
     "text": [
      "20 20 20 20 20\n"
     ]
    }
   ],
   "source": [
    "print(len(job_titles),len(company_titles),len(experience_titles),len(location_names),len(job_desc))"
   ]
  },
  {
   "cell_type": "code",
   "execution_count": 49,
   "metadata": {},
   "outputs": [
    {
     "data": {
      "text/plain": [
       "'JOBSRECRUITERSCOMPANIESTOOLSSERVICESMORELOGINFOR EMPLOYERSHome > MumbaiSenior Data ScientistFractal Analytics3.8(92 Reviews)4 - 8 yearsNot DisclosedMumbai, Gurgaon/Gurugram, Bangalore/BengaluruRegister to applyLOGIN TO APPLYPosted: 5 days agoOpenings: 1Job Applicants: 340Send Me Jobs Like ThisJob descriptionJob Responsibilities:Work with product managers and clients to better understand the business problemThink through a business problem and come up with a set of hypothesesCreate a list of potentially relevant supporting data elementsWork with data engineers and/or data analysts to procure data and test it for problemsCollaborate with other Data ScientistsPropose modeling approachesMine the data to check completeness, value distributions, etc.Data imputation and feature engineeringTest data for signalRun feature selectionTune the modelSet up tests for the model healthCollaborate with product managers to find the best way to present the resultsWork with developers on productionizing modelsMust HaveA minimum of 6 years of post-academic experience developing advanced analytics and applying data science in a business environmentExperience in data mining techniques and methodologies (data prep/modeling, classification, regression, clustering, causal modeling, AI, machine learning, ensemble approaches)Experience developing in Python within a production environmentAdvanced experience in data visualization tools with a strong grasp of effective data modeling and visualization practicesThe ability to rapidly develop proof of concepts and test new ideas, as well as the ability to scale these ideas into production ready models that can be deployed within our organizationExamples of how your passion for data driven decision making and intellectual curiosity translated in to value for your organizationNice to HaveAn advanced Degree (Masters or PhD) in engineering, mathematics, physics, economics, computer science, statistics, or business analytics orExperience leveraging cloud platforms such as Amazon Web Services (AWS) and Google Cloud Platform (GCP)Strong research skills and the ability to put emerging ideas into practiceRoleTechnical ArchitectIndustry TypeManagement ConsultingFunctional AreaIT Software - Application Programming, MaintenanceEmployment TypeFull Time, PermanentRole CategoryProgramming & DesignEducationUG :Any Graduate in Any SpecializationPG :Post Graduation Not RequiredKey SkillsComputer scienceGCPData modelingArtificial IntelligenceBusiness analyticsMachine learningData miningAWSPythonTestingAbout CompanyFractal is one of the most prominent players in the Artificial Intelligence space. Fractals mission is to power every human decision in the enterprise and uses the power of AI to help the worlds most admired Fortune 500 companies.Fractals products include Qure.ai to assist radiologists make better diagnostic decisions, Cuddle.ai to assists CEOs and senior executives make better tactical and strategic decisions, Theremin.ai to improve investment decisions and Eugenie.ai to find anomalies in high velocity data.Fractal has consistently been rated as Indias best companies to work for, by The Great Place to WorkInstitute. Fractal has been featured as a leader in the Customer Analytics Service Providers Wave2019 by Forrester Research, and recognized as an Honorable Vendorin 2019 magic quadrant for data & analytics by Gartner.Company InfoWebsitehttps://boards.greenhouse.io/fractalai/jobs/5280897002?gh_jid=5280897002Beware of imposters!Naukri.com does not promise a job or an interview in exchange of money. Fraudsters may ask you to pay in the pretext of registration fee, Refundable Fee…Read MoreSimilar JobsSenior Data ScientistFractal Analytics3.8(92 reviews)Gurgaon/Gurugram, Bangalore/Bengaluru, Mumbai (All Areas)R,NoSQL,SAS,Artificial Intelligence,Data Structures,Go,Supply Chain Management,Data Analytics,Machin...Posted 5 days agoLead Data Scientist - Immediate JoiningWaisl LimitedNew DelhiArtificial Intelligence,Jupyter,Machine Learning,PythonPosted 3 days agoSenior Data ScientistSmartdrive Systems India Pvt Ltd.4.0(71 reviews)Bangalore/BengaluruPredictive Modeling,Data Wrangling,Artificial Intelligence,Data Cleansing,Data Collection,Statistica...Posted 4 days agoSenior Data ScientistVIAPROM AnalyticsMumbaiPredictive Modeling,Data Science,R,Logistic Regression,Natural Language Processing,Senior Data Scien...Posted 23 days agoSenior Data ScientistTimes GlobalMumbaiData Science,R,Algorithms,Content Marketing,Customer Segmentation,Tableau,Statistics,Analytics,Pytho...Posted 26 days agoJobs you might be interested inBig Data Analysis Tool and Techniques Digital Data EngineeringAccenture Solutions Pvt L...4.0(17967 reviews)Bangalore/BengaluruPosted 5 days agoSr . Data ScientistQventusREMOTEPosted 5 days agoSr Data ScientistHims & Hers - Hims, Inc.RemotePosted 5 days agoView AllReviewspowered bySenior Data Scientist in Bangalore Rural05 May 2021AnonymousLikesGreat company to learn. one get to learn many different things. but that is all dependent on the projects you get mapped to Project to Project. poor work life balanceRead All 92 ReviewsFollow Fractal Analytics to receive the latest job postings and alertsFollow2.1k followersSalary Insightspowered byCompare salaries of Senior Data Scientist with similar companies.Avg. Salary - ₹23 LakhsMin - ₹15.8LMax - ₹30LCOMPARE SALARYBenefits & Perkspowered by46 Users reported these benefitsFree FoodWork From HomeCafeteriaHealth InsuranceJob TrainingTeam OutingsView AllServices you might be interested inResume DisplayIncrease your profile visibility to recruiters upto 3 timesGet a Featured Profile, Stand out and get noticed in recruiter eyes.* May include paid servicesKnow MoreIEIL has taken all reasonable steps to ensure that information on this site is authentic. Applicants are advised to research bonafides of advertisers independently. IEIL shall not have any responsibility in this regard. We also recommend that you visit Security Guidelines and Terms and Conditions for more comprehensive information on this aspect.InformationAbout UsTerms & ConditionsPrivacy PolicyCareers with UsSitemapContact UsFAQsSummons / NoticesGrievancesFraud AlertTrust and SafetyNaukri on Mobile    JobseekersUpload ResumeSearch JobsCreate Job AlertReport a ProblemNaukri BlogsBrowse JobsBrowse All JobsPremium MBA JobsPremium Engineering JobsGovt. JobsInternational JobsJobs in GulfJobs by CompanyJobs by CategoryJobs by DesignationJobs by LocationJobs by SkillJobseeker ServicesPriority ApplicantResume DisplayResume WritingJobs4URecruiter ConnectionNaukri LearningSoftware and TechnologyArtificial Intelligence and Data ScienceManagementFinanceCreativity and DesignEmerging TechnologiesEngineering-non CSHealthcareEnergy and EnvironmentSocial sciencesPersonal growthEmployersJob PostingResume Database AccessRecruiter LoginNaukri RMSBuy Resume Packages OnlineTransition ServicesReport a ProblemRecruiters from USA, callToll Free # 1866-557-3340Ambition BoxInterview QuestionsAbout CompaniesShare Interview AdviceWrite Company ReviewCompany ReviewsCompany SalariesFollow Us    Partner SitesAll rights reserved @ 2021 Info Edge (India) Ltd.'"
      ]
     },
     "execution_count": 49,
     "metadata": {},
     "output_type": "execute_result"
    }
   ],
   "source": [
    "job_desc[0]"
   ]
  },
  {
   "cell_type": "code",
   "execution_count": 50,
   "metadata": {},
   "outputs": [],
   "source": [
    "df = pd.DataFrame(np.column_stack([job_titles[0:10], experience_titles[0:10], company_titles[0:10], location_names[0:10], job_desc[0:10]]), \n",
    "                               columns=[\"Title\", \"Experience (Yrs)\", \"Company\",\"Location\",\"Job Description\"])"
   ]
  },
  {
   "cell_type": "code",
   "execution_count": 51,
   "metadata": {},
   "outputs": [
    {
     "data": {
      "text/html": [
       "<div>\n",
       "<style scoped>\n",
       "    .dataframe tbody tr th:only-of-type {\n",
       "        vertical-align: middle;\n",
       "    }\n",
       "\n",
       "    .dataframe tbody tr th {\n",
       "        vertical-align: top;\n",
       "    }\n",
       "\n",
       "    .dataframe thead th {\n",
       "        text-align: right;\n",
       "    }\n",
       "</style>\n",
       "<table border=\"1\" class=\"dataframe\">\n",
       "  <thead>\n",
       "    <tr style=\"text-align: right;\">\n",
       "      <th></th>\n",
       "      <th>Title</th>\n",
       "      <th>Experience (Yrs)</th>\n",
       "      <th>Company</th>\n",
       "      <th>Location</th>\n",
       "      <th>Job Description</th>\n",
       "    </tr>\n",
       "  </thead>\n",
       "  <tbody>\n",
       "    <tr>\n",
       "      <th>0</th>\n",
       "      <td>Senior Data Scientist</td>\n",
       "      <td>4-8</td>\n",
       "      <td>Fractal Analytics</td>\n",
       "      <td>Mumbai, Gurgaon/Gurugram, Bangalore/Bengaluru</td>\n",
       "      <td>JOBSRECRUITERSCOMPANIESTOOLSSERVICESMORELOGINF...</td>\n",
       "    </tr>\n",
       "    <tr>\n",
       "      <th>1</th>\n",
       "      <td>Senior Data Scientist</td>\n",
       "      <td>5-10</td>\n",
       "      <td>Fractal Analytics</td>\n",
       "      <td>Gurgaon/Gurugram, Bangalore/Bengaluru, Mumbai ...</td>\n",
       "      <td>JOBSRECRUITERSCOMPANIESTOOLSSERVICESMORELOGINF...</td>\n",
       "    </tr>\n",
       "    <tr>\n",
       "      <th>2</th>\n",
       "      <td>Data Scientist</td>\n",
       "      <td>8-13</td>\n",
       "      <td>Persistent Systems Limited.</td>\n",
       "      <td>Hyderabad/Secunderabad, Pune, Bangalore/Bengaluru</td>\n",
       "      <td>HOMEABOUT USJOBSCONTACT USVIST USJob Descripti...</td>\n",
       "    </tr>\n",
       "    <tr>\n",
       "      <th>3</th>\n",
       "      <td>Data Scientist</td>\n",
       "      <td>4-9</td>\n",
       "      <td>Wipro Limited</td>\n",
       "      <td>Kolkata, Hyderabad/Secunderabad, Chennai, Bang...</td>\n",
       "      <td>JOBSRECRUITERSCOMPANIESTOOLSSERVICESMORELOGINF...</td>\n",
       "    </tr>\n",
       "    <tr>\n",
       "      <th>4</th>\n",
       "      <td>Looking For Data Scientist For Infogain</td>\n",
       "      <td>10-20</td>\n",
       "      <td>Infogain India (P) Ltd.</td>\n",
       "      <td>Noida(Sector-60 Noida), Bangalore/Bengaluru(El...</td>\n",
       "      <td>JOBSRECRUITERSCOMPANIESTOOLSSERVICESMORELOGINF...</td>\n",
       "    </tr>\n",
       "    <tr>\n",
       "      <th>5</th>\n",
       "      <td>Data Scientist - Python/MATLAB/Machine Learnin...</td>\n",
       "      <td>3-8</td>\n",
       "      <td>Wrackle Technologies Pvt Ltd</td>\n",
       "      <td>Bangalore/Bengaluru</td>\n",
       "      <td>JOBSRECRUITERSCOMPANIESTOOLSSERVICESMORELOGINF...</td>\n",
       "    </tr>\n",
       "    <tr>\n",
       "      <th>6</th>\n",
       "      <td>Data Scientist - Machine Learning</td>\n",
       "      <td>2-5</td>\n",
       "      <td>AugmatrixGo</td>\n",
       "      <td>Bangalore/Bengaluru</td>\n",
       "      <td>JOBSRECRUITERSCOMPANIESTOOLSSERVICESMORELOGINF...</td>\n",
       "    </tr>\n",
       "    <tr>\n",
       "      <th>7</th>\n",
       "      <td>Senior / Lead Data Scientist</td>\n",
       "      <td>3-8</td>\n",
       "      <td>TVS CREDIT SERVICES LIMITED</td>\n",
       "      <td>Pune, Chennai, Bangalore/Bengaluru</td>\n",
       "      <td>JOBSRECRUITERSCOMPANIESTOOLSSERVICESMORELOGINF...</td>\n",
       "    </tr>\n",
       "    <tr>\n",
       "      <th>8</th>\n",
       "      <td>Data Scientist</td>\n",
       "      <td>6-10</td>\n",
       "      <td>Oracle India Pvt. Ltd.</td>\n",
       "      <td>Bangalore/Bengaluru</td>\n",
       "      <td>HomeWhy Join UsView Job OpportunitiesVisit UsD...</td>\n",
       "    </tr>\n",
       "    <tr>\n",
       "      <th>9</th>\n",
       "      <td>Hiring For DATA Scientist - ON Contract Basis ...</td>\n",
       "      <td>3-8</td>\n",
       "      <td>GlobalEdx Learning and Technology Solution Pvt...</td>\n",
       "      <td>Hyderabad/Secunderabad, Bangalore/Bengaluru, M...</td>\n",
       "      <td>JOBSRECRUITERSCOMPANIESTOOLSSERVICESMORELOGINF...</td>\n",
       "    </tr>\n",
       "  </tbody>\n",
       "</table>\n",
       "</div>"
      ],
      "text/plain": [
       "                                               Title Experience (Yrs)  \\\n",
       "0                              Senior Data Scientist              4-8   \n",
       "1                              Senior Data Scientist             5-10   \n",
       "2                                     Data Scientist             8-13   \n",
       "3                                     Data Scientist              4-9   \n",
       "4            Looking For Data Scientist For Infogain            10-20   \n",
       "5  Data Scientist - Python/MATLAB/Machine Learnin...              3-8   \n",
       "6                  Data Scientist - Machine Learning              2-5   \n",
       "7                       Senior / Lead Data Scientist              3-8   \n",
       "8                                     Data Scientist             6-10   \n",
       "9  Hiring For DATA Scientist - ON Contract Basis ...              3-8   \n",
       "\n",
       "                                             Company  \\\n",
       "0                                  Fractal Analytics   \n",
       "1                                  Fractal Analytics   \n",
       "2                        Persistent Systems Limited.   \n",
       "3                                      Wipro Limited   \n",
       "4                            Infogain India (P) Ltd.   \n",
       "5                       Wrackle Technologies Pvt Ltd   \n",
       "6                                        AugmatrixGo   \n",
       "7                        TVS CREDIT SERVICES LIMITED   \n",
       "8                             Oracle India Pvt. Ltd.   \n",
       "9  GlobalEdx Learning and Technology Solution Pvt...   \n",
       "\n",
       "                                            Location  \\\n",
       "0      Mumbai, Gurgaon/Gurugram, Bangalore/Bengaluru   \n",
       "1  Gurgaon/Gurugram, Bangalore/Bengaluru, Mumbai ...   \n",
       "2  Hyderabad/Secunderabad, Pune, Bangalore/Bengaluru   \n",
       "3  Kolkata, Hyderabad/Secunderabad, Chennai, Bang...   \n",
       "4  Noida(Sector-60 Noida), Bangalore/Bengaluru(El...   \n",
       "5                                Bangalore/Bengaluru   \n",
       "6                                Bangalore/Bengaluru   \n",
       "7                 Pune, Chennai, Bangalore/Bengaluru   \n",
       "8                                Bangalore/Bengaluru   \n",
       "9  Hyderabad/Secunderabad, Bangalore/Bengaluru, M...   \n",
       "\n",
       "                                     Job Description  \n",
       "0  JOBSRECRUITERSCOMPANIESTOOLSSERVICESMORELOGINF...  \n",
       "1  JOBSRECRUITERSCOMPANIESTOOLSSERVICESMORELOGINF...  \n",
       "2  HOMEABOUT USJOBSCONTACT USVIST USJob Descripti...  \n",
       "3  JOBSRECRUITERSCOMPANIESTOOLSSERVICESMORELOGINF...  \n",
       "4  JOBSRECRUITERSCOMPANIESTOOLSSERVICESMORELOGINF...  \n",
       "5  JOBSRECRUITERSCOMPANIESTOOLSSERVICESMORELOGINF...  \n",
       "6  JOBSRECRUITERSCOMPANIESTOOLSSERVICESMORELOGINF...  \n",
       "7  JOBSRECRUITERSCOMPANIESTOOLSSERVICESMORELOGINF...  \n",
       "8  HomeWhy Join UsView Job OpportunitiesVisit UsD...  \n",
       "9  JOBSRECRUITERSCOMPANIESTOOLSSERVICESMORELOGINF...  "
      ]
     },
     "execution_count": 51,
     "metadata": {},
     "output_type": "execute_result"
    }
   ],
   "source": [
    "df"
   ]
  },
  {
   "cell_type": "markdown",
   "metadata": {},
   "source": [
    "### Q3: In this question you have to scrape data using the filters available on the webpage as shown below:\n",
    "        \n",
    "You have to use the location and salary filter.\n",
    "You have to scrape data for “Data Scientist” designation for first 10 job results.\n",
    "You have to scrape the job-title, job-location, company_name, experience_required.\n",
    "The location filter to be used is “Delhi/NCR”\n",
    "The salary filter to be used is “3-6” lakhs\n",
    "The task will be done as shown in the below steps:\n",
    "1. first get the webpage https://www.naukri.com/\n",
    "2. Enter “Data Scientist” in “Skill,Designations,Companies” field .\n",
    "3. Then click the search button.\n",
    "4. Then apply the location filter and salary filter by checking the respective boxes\n",
    "4. Then scrape the data for the first 10 jobs results you get.\n",
    "5. Finally create a dataframe of the scraped data.\n",
    "\n",
    "Note- All of the above steps have to be done in code. No step is to be done manually."
   ]
  },
  {
   "cell_type": "code",
   "execution_count": 52,
   "metadata": {},
   "outputs": [],
   "source": [
    "driver = webdriver.Chrome(r\"C:\\Users\\User\\Downloads\\chromedriver_win32\\chromedriver.exe\")"
   ]
  },
  {
   "cell_type": "code",
   "execution_count": 53,
   "metadata": {},
   "outputs": [],
   "source": [
    "url = \"https://www.naukri.com/\"\n",
    "driver.get(url)"
   ]
  },
  {
   "cell_type": "code",
   "execution_count": 54,
   "metadata": {},
   "outputs": [
    {
     "data": {
      "text/plain": [
       "<selenium.webdriver.remote.webelement.WebElement (session=\"33330851ae449bb4643027d692ad42e5\", element=\"91eaf5af-d2d6-4961-88fb-aa644d7c0225\")>"
      ]
     },
     "execution_count": 54,
     "metadata": {},
     "output_type": "execute_result"
    }
   ],
   "source": [
    "search_job = driver.find_element_by_id('qsb-keyword-sugg')\n",
    "search_job"
   ]
  },
  {
   "cell_type": "code",
   "execution_count": 55,
   "metadata": {},
   "outputs": [],
   "source": [
    "search_job.send_keys(\"Data Scientist\")"
   ]
  },
  {
   "cell_type": "code",
   "execution_count": 56,
   "metadata": {},
   "outputs": [],
   "source": [
    "search_btn = driver.find_element_by_xpath(\"//button[@class='btn']\")\n",
    "search_btn.click()"
   ]
  },
  {
   "cell_type": "code",
   "execution_count": 57,
   "metadata": {},
   "outputs": [],
   "source": [
    "filter_button = driver.find_elements_by_xpath(\"//div[@class = 'mt-8 chckBoxCont']\")\n",
    "for i in filter_button:\n",
    "    if 'Delhi / NCR' in i.text :\n",
    "        i.click()\n",
    "        break"
   ]
  },
  {
   "cell_type": "code",
   "execution_count": 58,
   "metadata": {},
   "outputs": [],
   "source": [
    "filter_button = driver.find_elements_by_xpath(\"//div[@class = 'mt-8 chckBoxCont']\")\n",
    "for i in filter_button:\n",
    "    if '3-6 Lakhs' in i.text :\n",
    "        i.click()\n",
    "        break"
   ]
  },
  {
   "cell_type": "code",
   "execution_count": 59,
   "metadata": {},
   "outputs": [],
   "source": [
    "titles_tags = driver.find_elements_by_xpath(\"//a[@class='title fw500 ellipsis']\")\n",
    "job_titles = []\n",
    "for i in titles_tags:\n",
    "    job_titles.append(i.text)"
   ]
  },
  {
   "cell_type": "code",
   "execution_count": 60,
   "metadata": {},
   "outputs": [],
   "source": [
    "experience_tags = driver.find_elements_by_xpath(\"//li[@class='fleft grey-text br2 placeHolderLi experience']\")\n",
    "experience_titles = []\n",
    "for i in experience_tags:\n",
    "    experience_titles.append(i.text.replace(\" Yrs\",\"\"))"
   ]
  },
  {
   "cell_type": "code",
   "execution_count": 61,
   "metadata": {},
   "outputs": [],
   "source": [
    "company_tags= driver.find_elements_by_xpath(\"//a[@class='subTitle ellipsis fleft']\")\n",
    "company_titles = []\n",
    "for i in company_tags:\n",
    "    company_titles.append(i.text)"
   ]
  },
  {
   "cell_type": "code",
   "execution_count": 62,
   "metadata": {},
   "outputs": [],
   "source": [
    "location_tags = driver.find_elements_by_xpath(\"//li[@class='fleft grey-text br2 placeHolderLi location']\")\n",
    "location_names=[]\n",
    "for i in location_tags:\n",
    "    location_names.append(i.text)"
   ]
  },
  {
   "cell_type": "code",
   "execution_count": 63,
   "metadata": {},
   "outputs": [
    {
     "name": "stdout",
     "output_type": "stream",
     "text": [
      "20 20 20 20\n"
     ]
    }
   ],
   "source": [
    "print(len(job_titles),len(company_titles),len(experience_titles),len(location_names))"
   ]
  },
  {
   "cell_type": "code",
   "execution_count": 64,
   "metadata": {},
   "outputs": [],
   "source": [
    "#import pandas as pd\n"
   ]
  },
  {
   "cell_type": "code",
   "execution_count": 65,
   "metadata": {},
   "outputs": [],
   "source": [
    "df = pd.DataFrame(np.column_stack([job_titles[0:10], experience_titles[0:10], company_titles[0:10], location_names[0:10]]), \n",
    "                               columns=[\"Title\", \"Experience (Yrs)\", \"Company\",\"Location\"])"
   ]
  },
  {
   "cell_type": "code",
   "execution_count": 66,
   "metadata": {},
   "outputs": [
    {
     "data": {
      "text/html": [
       "<div>\n",
       "<style scoped>\n",
       "    .dataframe tbody tr th:only-of-type {\n",
       "        vertical-align: middle;\n",
       "    }\n",
       "\n",
       "    .dataframe tbody tr th {\n",
       "        vertical-align: top;\n",
       "    }\n",
       "\n",
       "    .dataframe thead th {\n",
       "        text-align: right;\n",
       "    }\n",
       "</style>\n",
       "<table border=\"1\" class=\"dataframe\">\n",
       "  <thead>\n",
       "    <tr style=\"text-align: right;\">\n",
       "      <th></th>\n",
       "      <th>Title</th>\n",
       "      <th>Experience (Yrs)</th>\n",
       "      <th>Company</th>\n",
       "      <th>Location</th>\n",
       "    </tr>\n",
       "  </thead>\n",
       "  <tbody>\n",
       "    <tr>\n",
       "      <th>0</th>\n",
       "      <td>Senior Data Scientist</td>\n",
       "      <td>4-8</td>\n",
       "      <td>Fractal Analytics</td>\n",
       "      <td>Mumbai, Gurgaon/Gurugram, Bangalore/Bengaluru</td>\n",
       "    </tr>\n",
       "    <tr>\n",
       "      <th>1</th>\n",
       "      <td>Senior Data Scientist</td>\n",
       "      <td>5-10</td>\n",
       "      <td>Fractal Analytics</td>\n",
       "      <td>Gurgaon/Gurugram, Bangalore/Bengaluru, Mumbai ...</td>\n",
       "    </tr>\n",
       "    <tr>\n",
       "      <th>2</th>\n",
       "      <td>NLP - Data Scientist</td>\n",
       "      <td>0-4</td>\n",
       "      <td>Quadrangle Search</td>\n",
       "      <td>Delhi / NCR</td>\n",
       "    </tr>\n",
       "    <tr>\n",
       "      <th>3</th>\n",
       "      <td>Data Scientist / Data Analyst -Business Analyst</td>\n",
       "      <td>0-3</td>\n",
       "      <td>Inflexion Analytix Private Limited</td>\n",
       "      <td>Mumbai, Hyderabad/Secunderabad, Pune, Gurgaon/...</td>\n",
       "    </tr>\n",
       "    <tr>\n",
       "      <th>4</th>\n",
       "      <td>Senior Data Scientist</td>\n",
       "      <td>3-6</td>\n",
       "      <td>Decision Point</td>\n",
       "      <td>Gurgaon/Gurugram, Chennai</td>\n",
       "    </tr>\n",
       "    <tr>\n",
       "      <th>5</th>\n",
       "      <td>Looking For Data Scientist For Infogain</td>\n",
       "      <td>10-20</td>\n",
       "      <td>Infogain India (P) Ltd.</td>\n",
       "      <td>Noida(Sector-60 Noida), Bangalore/Bengaluru(El...</td>\n",
       "    </tr>\n",
       "    <tr>\n",
       "      <th>6</th>\n",
       "      <td>Business Analyst- Data Scientist</td>\n",
       "      <td>2-5</td>\n",
       "      <td>Wipro</td>\n",
       "      <td>Noida, Gurgaon/Gurugram</td>\n",
       "    </tr>\n",
       "    <tr>\n",
       "      <th>7</th>\n",
       "      <td>Sr. Data Scientist</td>\n",
       "      <td>6-8</td>\n",
       "      <td>VALIANCE ANALYTICS PRIVATE LIMITED</td>\n",
       "      <td>Bangalore/Bengaluru, Delhi / NCR</td>\n",
       "    </tr>\n",
       "    <tr>\n",
       "      <th>8</th>\n",
       "      <td>Data Scientist</td>\n",
       "      <td>4-7</td>\n",
       "      <td>Evalueserve.com Pvt. Ltd</td>\n",
       "      <td>Gurgaon/Gurugram</td>\n",
       "    </tr>\n",
       "    <tr>\n",
       "      <th>9</th>\n",
       "      <td>Data Scientist - High growth VC backed Influen...</td>\n",
       "      <td>3-5</td>\n",
       "      <td>Ravgins International Pvt. Ltd.</td>\n",
       "      <td>Bangalore/Bengaluru, Delhi / NCR, Mumbai (All ...</td>\n",
       "    </tr>\n",
       "  </tbody>\n",
       "</table>\n",
       "</div>"
      ],
      "text/plain": [
       "                                               Title Experience (Yrs)  \\\n",
       "0                              Senior Data Scientist              4-8   \n",
       "1                              Senior Data Scientist             5-10   \n",
       "2                               NLP - Data Scientist              0-4   \n",
       "3    Data Scientist / Data Analyst -Business Analyst              0-3   \n",
       "4                              Senior Data Scientist              3-6   \n",
       "5            Looking For Data Scientist For Infogain            10-20   \n",
       "6                   Business Analyst- Data Scientist              2-5   \n",
       "7                                 Sr. Data Scientist              6-8   \n",
       "8                                     Data Scientist              4-7   \n",
       "9  Data Scientist - High growth VC backed Influen...              3-5   \n",
       "\n",
       "                              Company  \\\n",
       "0                   Fractal Analytics   \n",
       "1                   Fractal Analytics   \n",
       "2                   Quadrangle Search   \n",
       "3  Inflexion Analytix Private Limited   \n",
       "4                      Decision Point   \n",
       "5             Infogain India (P) Ltd.   \n",
       "6                               Wipro   \n",
       "7  VALIANCE ANALYTICS PRIVATE LIMITED   \n",
       "8            Evalueserve.com Pvt. Ltd   \n",
       "9     Ravgins International Pvt. Ltd.   \n",
       "\n",
       "                                            Location  \n",
       "0      Mumbai, Gurgaon/Gurugram, Bangalore/Bengaluru  \n",
       "1  Gurgaon/Gurugram, Bangalore/Bengaluru, Mumbai ...  \n",
       "2                                        Delhi / NCR  \n",
       "3  Mumbai, Hyderabad/Secunderabad, Pune, Gurgaon/...  \n",
       "4                          Gurgaon/Gurugram, Chennai  \n",
       "5  Noida(Sector-60 Noida), Bangalore/Bengaluru(El...  \n",
       "6                            Noida, Gurgaon/Gurugram  \n",
       "7                   Bangalore/Bengaluru, Delhi / NCR  \n",
       "8                                   Gurgaon/Gurugram  \n",
       "9  Bangalore/Bengaluru, Delhi / NCR, Mumbai (All ...  "
      ]
     },
     "execution_count": 66,
     "metadata": {},
     "output_type": "execute_result"
    }
   ],
   "source": [
    "df"
   ]
  },
  {
   "cell_type": "markdown",
   "metadata": {},
   "source": [
    "### Q4: Write a python program to scrape data for first 10 job results for Data scientist Designation in Noida location. You have to scrape company_name, No. of days ago when job was posted, Rating of the company.\n",
    "This task will be done in following steps:\n",
    "1. first get the webpage https://www.glassdoor.co.in/index.htm\n",
    "2. Enter “Data Scientist” in “Job Title,Keyword,Company” field and enter “Noida” in “location” field.\n",
    "3. Then click the search button. You will land up in the below page:\n",
    "4. Then scrape the data for the first 10 jobs results you get in the above shown page.\n",
    "5. Finally create a dataframe of the scraped data.\n",
    "Note- All of the above steps have to be done in code. No step is to be done manually."
   ]
  },
  {
   "cell_type": "code",
   "execution_count": 67,
   "metadata": {},
   "outputs": [],
   "source": [
    "driver = webdriver.Chrome(r\"C:\\Users\\User\\Downloads\\chromedriver_win32\\chromedriver.exe\")"
   ]
  },
  {
   "cell_type": "code",
   "execution_count": 68,
   "metadata": {},
   "outputs": [],
   "source": [
    "url = \"https://www.glassdoor.co.in/index.htm?countryRedirect=true\"\n",
    "driver.get(url)"
   ]
  },
  {
   "cell_type": "code",
   "execution_count": null,
   "metadata": {},
   "outputs": [],
   "source": [
    "signin_button = driver.find_element_by_xpath(\"//button[@class = 'd-none d-lg-block p-0 LockedHomeHeaderStyles__signInButton']\")\n",
    "signin_button.click()"
   ]
  },
  {
   "cell_type": "code",
   "execution_count": null,
   "metadata": {},
   "outputs": [],
   "source": [
    "#manually login using email id and password for glassdoor website"
   ]
  },
  {
   "cell_type": "code",
   "execution_count": 69,
   "metadata": {},
   "outputs": [
    {
     "data": {
      "text/plain": [
       "<selenium.webdriver.remote.webelement.WebElement (session=\"4ab547114ed96ea12244a7546c7981ef\", element=\"9b0a3b51-8a9c-45f8-8760-9a2c47bd5f50\")>"
      ]
     },
     "execution_count": 69,
     "metadata": {},
     "output_type": "execute_result"
    }
   ],
   "source": [
    "search_job = driver.find_element_by_id('sc.keyword')\n",
    "search_job"
   ]
  },
  {
   "cell_type": "code",
   "execution_count": 70,
   "metadata": {},
   "outputs": [],
   "source": [
    "search_job.send_keys(\"Data Scientist\")"
   ]
  },
  {
   "cell_type": "code",
   "execution_count": 71,
   "metadata": {},
   "outputs": [
    {
     "data": {
      "text/plain": [
       "<selenium.webdriver.remote.webelement.WebElement (session=\"4ab547114ed96ea12244a7546c7981ef\", element=\"740a96cf-3b7f-4121-9400-90fac2538ed5\")>"
      ]
     },
     "execution_count": 71,
     "metadata": {},
     "output_type": "execute_result"
    }
   ],
   "source": [
    "search_loc = driver.find_element_by_id('sc.location')\n",
    "search_loc"
   ]
  },
  {
   "cell_type": "code",
   "execution_count": 72,
   "metadata": {},
   "outputs": [],
   "source": [
    "#search_loc.clear()"
   ]
  },
  {
   "cell_type": "code",
   "execution_count": 73,
   "metadata": {},
   "outputs": [],
   "source": [
    "for i in range(0,10):\n",
    "    search_loc.send_keys(Keys.BACKSPACE)"
   ]
  },
  {
   "cell_type": "code",
   "execution_count": 74,
   "metadata": {},
   "outputs": [],
   "source": [
    "search_loc.send_keys(\"Noida\")"
   ]
  },
  {
   "cell_type": "code",
   "execution_count": 75,
   "metadata": {},
   "outputs": [],
   "source": [
    "search_button = driver.find_element_by_xpath(\"//button[@class ='gd-ui-button ml-std col-auto SearchStyles__newSearchButton css-iixdfr']\")\n",
    "search_button.click()"
   ]
  },
  {
   "cell_type": "code",
   "execution_count": 76,
   "metadata": {},
   "outputs": [],
   "source": [
    "company_tags= driver.find_elements_by_xpath(\"//a[@class=' css-l2wjgv e1n63ojh0 jobLink']\")\n",
    "company_titles = []\n",
    "for i in company_tags:\n",
    "    company_titles.append(i.text)"
   ]
  },
  {
   "cell_type": "code",
   "execution_count": 77,
   "metadata": {},
   "outputs": [],
   "source": [
    "rating_tags= driver.find_elements_by_xpath(\"//span[@class='css-19pjha7 e1cjmv6j1']\")\n",
    "rating_titles = []\n",
    "for i in rating_tags:\n",
    "    rating_titles.append(i.text)"
   ]
  },
  {
   "cell_type": "code",
   "execution_count": 78,
   "metadata": {},
   "outputs": [],
   "source": [
    "days_tags = driver.find_elements_by_xpath(\"//div[@class='d-flex align-items-end pl-std css-mi55ob']\")\n",
    "days_titles = []\n",
    "for i in days_tags:\n",
    "    days_titles.append(i.text)"
   ]
  },
  {
   "cell_type": "code",
   "execution_count": 79,
   "metadata": {},
   "outputs": [
    {
     "name": "stdout",
     "output_type": "stream",
     "text": [
      "32 25 32\n"
     ]
    }
   ],
   "source": [
    "print(len(company_titles),len(rating_titles),len(days_titles))"
   ]
  },
  {
   "cell_type": "code",
   "execution_count": 80,
   "metadata": {},
   "outputs": [],
   "source": [
    "#import pandas as pd\n"
   ]
  },
  {
   "cell_type": "code",
   "execution_count": 81,
   "metadata": {},
   "outputs": [],
   "source": [
    "df = pd.DataFrame(np.column_stack([company_titles[0:10], rating_titles[0:10], days_titles[0:10]]), \n",
    "                               columns=[\"Company Name\", \"Rating\",\"Days since job was posted\"])"
   ]
  },
  {
   "cell_type": "code",
   "execution_count": 82,
   "metadata": {},
   "outputs": [
    {
     "data": {
      "text/html": [
       "<div>\n",
       "<style scoped>\n",
       "    .dataframe tbody tr th:only-of-type {\n",
       "        vertical-align: middle;\n",
       "    }\n",
       "\n",
       "    .dataframe tbody tr th {\n",
       "        vertical-align: top;\n",
       "    }\n",
       "\n",
       "    .dataframe thead th {\n",
       "        text-align: right;\n",
       "    }\n",
       "</style>\n",
       "<table border=\"1\" class=\"dataframe\">\n",
       "  <thead>\n",
       "    <tr style=\"text-align: right;\">\n",
       "      <th></th>\n",
       "      <th>Company Name</th>\n",
       "      <th>Rating</th>\n",
       "      <th>Days since job was posted</th>\n",
       "    </tr>\n",
       "  </thead>\n",
       "  <tbody>\n",
       "    <tr>\n",
       "      <th>0</th>\n",
       "      <td>Bechtel</td>\n",
       "      <td>4.0</td>\n",
       "      <td>26d</td>\n",
       "    </tr>\n",
       "    <tr>\n",
       "      <th>1</th>\n",
       "      <td>UnitedHealth Group</td>\n",
       "      <td>3.6</td>\n",
       "      <td>1d</td>\n",
       "    </tr>\n",
       "    <tr>\n",
       "      <th>2</th>\n",
       "      <td>Ericsson</td>\n",
       "      <td>4.1</td>\n",
       "      <td>24d</td>\n",
       "    </tr>\n",
       "    <tr>\n",
       "      <th>3</th>\n",
       "      <td></td>\n",
       "      <td>4.3</td>\n",
       "      <td>4d</td>\n",
       "    </tr>\n",
       "    <tr>\n",
       "      <th>4</th>\n",
       "      <td>Biz2Credit Inc</td>\n",
       "      <td>3.8</td>\n",
       "      <td>4d</td>\n",
       "    </tr>\n",
       "    <tr>\n",
       "      <th>5</th>\n",
       "      <td>Mansha Solutions</td>\n",
       "      <td>3.5</td>\n",
       "      <td>19d</td>\n",
       "    </tr>\n",
       "    <tr>\n",
       "      <th>6</th>\n",
       "      <td>Sparkbpl</td>\n",
       "      <td>3.7</td>\n",
       "      <td>23d</td>\n",
       "    </tr>\n",
       "    <tr>\n",
       "      <th>7</th>\n",
       "      <td>Lantern Digital Services</td>\n",
       "      <td>4.1</td>\n",
       "      <td>17d</td>\n",
       "    </tr>\n",
       "    <tr>\n",
       "      <th>8</th>\n",
       "      <td>Priority Vendor</td>\n",
       "      <td>3.9</td>\n",
       "      <td>23d</td>\n",
       "    </tr>\n",
       "    <tr>\n",
       "      <th>9</th>\n",
       "      <td>Boston Consulting Group</td>\n",
       "      <td>3.1</td>\n",
       "      <td>10d</td>\n",
       "    </tr>\n",
       "  </tbody>\n",
       "</table>\n",
       "</div>"
      ],
      "text/plain": [
       "               Company Name Rating Days since job was posted\n",
       "0                   Bechtel    4.0                       26d\n",
       "1        UnitedHealth Group    3.6                        1d\n",
       "2                  Ericsson    4.1                       24d\n",
       "3                              4.3                        4d\n",
       "4            Biz2Credit Inc    3.8                        4d\n",
       "5          Mansha Solutions    3.5                       19d\n",
       "6                  Sparkbpl    3.7                       23d\n",
       "7  Lantern Digital Services    4.1                       17d\n",
       "8           Priority Vendor    3.9                       23d\n",
       "9   Boston Consulting Group    3.1                       10d"
      ]
     },
     "execution_count": 82,
     "metadata": {},
     "output_type": "execute_result"
    }
   ],
   "source": [
    "df"
   ]
  },
  {
   "cell_type": "markdown",
   "metadata": {},
   "source": [
    "### Q5: Write a python program to scrape the salary data for Data Scientist designation in Noida location.\n",
    "You have to scrape Company name, Number of salaries, Average salary, Min salary, Max Salary.\n",
    "The above task will be, done as shown in the below steps:\n",
    "1. first get the webpage https://www.glassdoor.co.in/Salaries/index.htm\n",
    "2. Enter “Data Scientist” in Job title field and “Noida” in location field.\n",
    "3. Click the search button.\n",
    "4. After that you will land on the below page\n",
    "You have to scrape whole data from this webpage\n",
    "5. Scrape data for first 10 companies. Scrape the min salary, max salary, company name, Average salary and rating of the company.\n",
    "6.Store the data in a dataframe.\n",
    "Note that all of the above steps have to be done by coding only and not manually."
   ]
  },
  {
   "cell_type": "code",
   "execution_count": 83,
   "metadata": {},
   "outputs": [],
   "source": [
    "driver = webdriver.Chrome(r\"C:\\Users\\User\\Downloads\\chromedriver_win32\\chromedriver.exe\")"
   ]
  },
  {
   "cell_type": "code",
   "execution_count": 84,
   "metadata": {},
   "outputs": [],
   "source": [
    "url = \"https://www.glassdoor.co.in/Salaries/index.htm\"\n",
    "driver.get(url)"
   ]
  },
  {
   "cell_type": "code",
   "execution_count": 85,
   "metadata": {},
   "outputs": [
    {
     "data": {
      "text/plain": [
       "<selenium.webdriver.remote.webelement.WebElement (session=\"1f24def444ecf071d29fa5eb4ea4c48a\", element=\"d5fbdc57-b58f-475e-8d54-d5bb9d84ba93\")>"
      ]
     },
     "execution_count": 85,
     "metadata": {},
     "output_type": "execute_result"
    }
   ],
   "source": [
    "search_job = driver.find_element_by_id('KeywordSearch')\n",
    "search_job"
   ]
  },
  {
   "cell_type": "code",
   "execution_count": 86,
   "metadata": {},
   "outputs": [],
   "source": [
    "search_job.send_keys(\"Data Scientist\")"
   ]
  },
  {
   "cell_type": "code",
   "execution_count": 87,
   "metadata": {},
   "outputs": [
    {
     "data": {
      "text/plain": [
       "<selenium.webdriver.remote.webelement.WebElement (session=\"1f24def444ecf071d29fa5eb4ea4c48a\", element=\"e1e8881c-b336-49b4-81fd-1732c94ef5cd\")>"
      ]
     },
     "execution_count": 87,
     "metadata": {},
     "output_type": "execute_result"
    }
   ],
   "source": [
    "search_loc = driver.find_element_by_id('LocationSearch')\n",
    "search_loc"
   ]
  },
  {
   "cell_type": "code",
   "execution_count": 88,
   "metadata": {},
   "outputs": [],
   "source": [
    "#search_loc.clear()"
   ]
  },
  {
   "cell_type": "code",
   "execution_count": 89,
   "metadata": {},
   "outputs": [],
   "source": [
    "for i in range(0,10):\n",
    "    search_loc.send_keys(Keys.BACKSPACE)"
   ]
  },
  {
   "cell_type": "code",
   "execution_count": 90,
   "metadata": {},
   "outputs": [],
   "source": [
    "search_loc.send_keys(\"Noida\")"
   ]
  },
  {
   "cell_type": "code",
   "execution_count": 91,
   "metadata": {},
   "outputs": [],
   "source": [
    "search_button = driver.find_element_by_xpath(\"//button[@class ='gd-btn-mkt']\")\n",
    "search_button.click()"
   ]
  },
  {
   "cell_type": "code",
   "execution_count": 92,
   "metadata": {},
   "outputs": [],
   "source": [
    "para = driver.find_elements_by_xpath(\"//div[@class='d-flex']\")\n",
    "para_list = []\n",
    "for i in para:\n",
    "    para_list.append(i.text.replace('Data Scientist\\n', \"\"))"
   ]
  },
  {
   "cell_type": "code",
   "execution_count": 93,
   "metadata": {},
   "outputs": [
    {
     "data": {
      "text/plain": [
       "['Tata Consultancy Services\\n17 salaries\\nSee 132 salaries from all locations',\n",
       " 'IBM\\n15 salaries\\nSee 119 salaries from all locations',\n",
       " 'Accenture\\n14 salaries\\nSee 62 salaries from all locations',\n",
       " 'Ericsson-Worldwide\\n14 salaries\\nSee 31 salaries from all locations',\n",
       " 'Delhivery\\n14 salaries\\nSee 18 salaries from all locations',\n",
       " 'UnitedHealth Group\\n11 salaries\\nSee 18 salaries from all locations',\n",
       " 'Valiance Solutions\\n9 salaries\\nSee 11 salaries from all locations',\n",
       " 'ZS Associates\\n8 salaries\\nSee 21 salaries from all locations',\n",
       " 'EXL Service\\n8 salaries\\nSee 10 salaries from all locations',\n",
       " 'Optum Global Solutions\\nOptum Global Solutions\\n8 salaries\\nSee 12 salaries from all locations',\n",
       " 'Innovaccer\\n8 salaries\\nSee 12 salaries from all locations',\n",
       " 'Cognizant Technology Solutions\\n6 salaries\\nSee 60 salaries from all locations',\n",
       " 'Optum\\n6 salaries\\nSee 19 salaries from all locations',\n",
       " 'Data Scientist - Monthly\\nVidooly Media Tech\\n6 salaries\\nSee 13 salaries from all locations',\n",
       " 'Tech Mahindra\\n5 salaries\\nSee 24 salaries from all locations',\n",
       " 'OYO\\n5 salaries\\nSee 11 salaries from all locations',\n",
       " 'Nagarro\\n5 salaries\\nSee 5 salaries from all locations',\n",
       " 'dunnhumby\\n5 salaries\\nSee 8 salaries from all locations',\n",
       " 'Algo8.ai\\n5 salaries\\nSee 8 salaries from all locations',\n",
       " 'Amazon\\n4 salaries\\nSee 37 salaries from all locations']"
      ]
     },
     "execution_count": 93,
     "metadata": {},
     "output_type": "execute_result"
    }
   ],
   "source": [
    "para_list"
   ]
  },
  {
   "cell_type": "code",
   "execution_count": 94,
   "metadata": {},
   "outputs": [],
   "source": [
    "df = pd.DataFrame(np.column_stack([para_list[0:10]]), columns=[\"Job_Role\"])"
   ]
  },
  {
   "cell_type": "code",
   "execution_count": 95,
   "metadata": {},
   "outputs": [
    {
     "data": {
      "text/plain": [
       "'IBM\\n15 salaries\\nSee 119 salaries from all locations'"
      ]
     },
     "execution_count": 95,
     "metadata": {},
     "output_type": "execute_result"
    }
   ],
   "source": [
    "df[\"Job_Role\"][1]"
   ]
  },
  {
   "cell_type": "code",
   "execution_count": 96,
   "metadata": {},
   "outputs": [],
   "source": [
    "df[['Company Name', 'Salaries', 'Salaries_All Loc', 'Additional']] = df.Job_Role.str.split(\"\\n\",expand=True)"
   ]
  },
  {
   "cell_type": "code",
   "execution_count": 97,
   "metadata": {},
   "outputs": [],
   "source": [
    "df.drop(columns=\"Job_Role\", axis = 1, inplace = True)"
   ]
  },
  {
   "cell_type": "code",
   "execution_count": 98,
   "metadata": {},
   "outputs": [
    {
     "data": {
      "text/plain": [
       "10"
      ]
     },
     "execution_count": 98,
     "metadata": {},
     "output_type": "execute_result"
    }
   ],
   "source": [
    "len(df)"
   ]
  },
  {
   "cell_type": "code",
   "execution_count": 99,
   "metadata": {},
   "outputs": [
    {
     "name": "stdout",
     "output_type": "stream",
     "text": [
      "Optum Global Solutions\n",
      "8 salaries\n"
     ]
    }
   ],
   "source": [
    "for i in range(0,len(df)):\n",
    "    if (df[\"Company Name\"][i]==df[\"Salaries\"][i]):\n",
    "        print(df[\"Salaries\"][i])\n",
    "        print(df[\"Salaries_All Loc\"][i])\n",
    "        df[\"Salaries\"][i] = df[\"Salaries_All Loc\"][i]\n",
    "        df[\"Salaries_All Loc\"][i] = df[\"Additional\"][i]"
   ]
  },
  {
   "cell_type": "code",
   "execution_count": 100,
   "metadata": {},
   "outputs": [],
   "source": [
    "df.drop(columns=\"Additional\", axis = 1, inplace=True)"
   ]
  },
  {
   "cell_type": "code",
   "execution_count": 101,
   "metadata": {},
   "outputs": [
    {
     "data": {
      "text/html": [
       "<div>\n",
       "<style scoped>\n",
       "    .dataframe tbody tr th:only-of-type {\n",
       "        vertical-align: middle;\n",
       "    }\n",
       "\n",
       "    .dataframe tbody tr th {\n",
       "        vertical-align: top;\n",
       "    }\n",
       "\n",
       "    .dataframe thead th {\n",
       "        text-align: right;\n",
       "    }\n",
       "</style>\n",
       "<table border=\"1\" class=\"dataframe\">\n",
       "  <thead>\n",
       "    <tr style=\"text-align: right;\">\n",
       "      <th></th>\n",
       "      <th>Company Name</th>\n",
       "      <th>Salaries</th>\n",
       "      <th>Salaries_All Loc</th>\n",
       "    </tr>\n",
       "  </thead>\n",
       "  <tbody>\n",
       "    <tr>\n",
       "      <th>0</th>\n",
       "      <td>Tata Consultancy Services</td>\n",
       "      <td>17 salaries</td>\n",
       "      <td>See 132 salaries from all locations</td>\n",
       "    </tr>\n",
       "    <tr>\n",
       "      <th>1</th>\n",
       "      <td>IBM</td>\n",
       "      <td>15 salaries</td>\n",
       "      <td>See 119 salaries from all locations</td>\n",
       "    </tr>\n",
       "    <tr>\n",
       "      <th>2</th>\n",
       "      <td>Accenture</td>\n",
       "      <td>14 salaries</td>\n",
       "      <td>See 62 salaries from all locations</td>\n",
       "    </tr>\n",
       "    <tr>\n",
       "      <th>3</th>\n",
       "      <td>Ericsson-Worldwide</td>\n",
       "      <td>14 salaries</td>\n",
       "      <td>See 31 salaries from all locations</td>\n",
       "    </tr>\n",
       "    <tr>\n",
       "      <th>4</th>\n",
       "      <td>Delhivery</td>\n",
       "      <td>14 salaries</td>\n",
       "      <td>See 18 salaries from all locations</td>\n",
       "    </tr>\n",
       "    <tr>\n",
       "      <th>5</th>\n",
       "      <td>UnitedHealth Group</td>\n",
       "      <td>11 salaries</td>\n",
       "      <td>See 18 salaries from all locations</td>\n",
       "    </tr>\n",
       "    <tr>\n",
       "      <th>6</th>\n",
       "      <td>Valiance Solutions</td>\n",
       "      <td>9 salaries</td>\n",
       "      <td>See 11 salaries from all locations</td>\n",
       "    </tr>\n",
       "    <tr>\n",
       "      <th>7</th>\n",
       "      <td>ZS Associates</td>\n",
       "      <td>8 salaries</td>\n",
       "      <td>See 21 salaries from all locations</td>\n",
       "    </tr>\n",
       "    <tr>\n",
       "      <th>8</th>\n",
       "      <td>EXL Service</td>\n",
       "      <td>8 salaries</td>\n",
       "      <td>See 10 salaries from all locations</td>\n",
       "    </tr>\n",
       "    <tr>\n",
       "      <th>9</th>\n",
       "      <td>Optum Global Solutions</td>\n",
       "      <td>8 salaries</td>\n",
       "      <td>See 12 salaries from all locations</td>\n",
       "    </tr>\n",
       "  </tbody>\n",
       "</table>\n",
       "</div>"
      ],
      "text/plain": [
       "                Company Name     Salaries                     Salaries_All Loc\n",
       "0  Tata Consultancy Services  17 salaries  See 132 salaries from all locations\n",
       "1                        IBM  15 salaries  See 119 salaries from all locations\n",
       "2                  Accenture  14 salaries   See 62 salaries from all locations\n",
       "3         Ericsson-Worldwide  14 salaries   See 31 salaries from all locations\n",
       "4                  Delhivery  14 salaries   See 18 salaries from all locations\n",
       "5         UnitedHealth Group  11 salaries   See 18 salaries from all locations\n",
       "6         Valiance Solutions   9 salaries   See 11 salaries from all locations\n",
       "7              ZS Associates   8 salaries   See 21 salaries from all locations\n",
       "8                EXL Service   8 salaries   See 10 salaries from all locations\n",
       "9     Optum Global Solutions   8 salaries   See 12 salaries from all locations"
      ]
     },
     "execution_count": 101,
     "metadata": {},
     "output_type": "execute_result"
    }
   ],
   "source": [
    "df"
   ]
  },
  {
   "cell_type": "code",
   "execution_count": 102,
   "metadata": {},
   "outputs": [],
   "source": [
    "avgsal_e= driver.find_elements_by_xpath(\"//div[@class='col-2 d-none d-md-flex flex-row justify-content-end']\")\n",
    "avgsal = []\n",
    "for i in avgsal_e:\n",
    "    avgsal.append(i.text)"
   ]
  },
  {
   "cell_type": "code",
   "execution_count": 103,
   "metadata": {},
   "outputs": [
    {
     "data": {
      "text/plain": [
       "['₹ 6,14,306\\n/yr',\n",
       " '₹ 9,00,000\\n/yr',\n",
       " '₹ 11,46,533\\n/yr',\n",
       " '₹ 7,38,057\\n/yr',\n",
       " '₹ 12,39,781\\n/yr',\n",
       " '₹ 13,36,142\\n/yr',\n",
       " '₹ 8,15,192\\n/yr',\n",
       " '₹ 11,35,221\\n/yr',\n",
       " '₹ 11,44,243\\n/yr',\n",
       " '₹ 14,13,288\\n/yr']"
      ]
     },
     "execution_count": 103,
     "metadata": {},
     "output_type": "execute_result"
    }
   ],
   "source": [
    "avgsal[:10]"
   ]
  },
  {
   "cell_type": "code",
   "execution_count": 104,
   "metadata": {},
   "outputs": [
    {
     "data": {
      "text/plain": [
       "['₹343K\\n₹1,250K',\n",
       " '₹586K\\n₹2,730K',\n",
       " '₹577K\\n₹2,213K',\n",
       " '₹355K\\n₹1,613K',\n",
       " '₹450K\\n₹11,622K',\n",
       " '₹1,069K\\n₹1,520K',\n",
       " '₹502K\\n₹1,465K',\n",
       " '₹202K\\n₹1,809K',\n",
       " '₹575K\\n₹1,520K',\n",
       " '₹1,014K\\n₹2,149K',\n",
       " '₹620K\\n₹1,695K',\n",
       " '₹792K\\n₹1,263K',\n",
       " '₹807K\\n₹1,986K',\n",
       " '₹12K\\n₹63K',\n",
       " '₹405K\\n₹1,703K',\n",
       " '₹971K\\n₹1,883K',\n",
       " '₹400K\\n₹1,124K',\n",
       " '₹817K\\n₹2,006K',\n",
       " '₹86K\\n₹1,358K',\n",
       " '₹772K\\n₹2,091K']"
      ]
     },
     "execution_count": 104,
     "metadata": {},
     "output_type": "execute_result"
    }
   ],
   "source": [
    "sal_range_e = driver.find_elements_by_xpath(\"//div[@class='col-3 offset-1 d-none d-md-block']\")\n",
    "sal_range = []\n",
    "for i in range(0, len(sal_range_e)):\n",
    "    sal_range.append(sal_range_e[i].text)\n",
    "sal_range"
   ]
  },
  {
   "cell_type": "code",
   "execution_count": 105,
   "metadata": {},
   "outputs": [],
   "source": [
    "df1 = pd.DataFrame(np.column_stack([sal_range[0:10]]), columns=[\"Sal_Range\"])"
   ]
  },
  {
   "cell_type": "code",
   "execution_count": 106,
   "metadata": {},
   "outputs": [],
   "source": [
    "df1[['Minimum Salary', 'Maximum Salary']] = df1.Sal_Range.str.split(\"\\n\",expand=True)"
   ]
  },
  {
   "cell_type": "code",
   "execution_count": 107,
   "metadata": {},
   "outputs": [],
   "source": [
    "df1.drop(columns=\"Sal_Range\", axis = 1, inplace=True)"
   ]
  },
  {
   "cell_type": "code",
   "execution_count": 108,
   "metadata": {},
   "outputs": [
    {
     "data": {
      "text/html": [
       "<div>\n",
       "<style scoped>\n",
       "    .dataframe tbody tr th:only-of-type {\n",
       "        vertical-align: middle;\n",
       "    }\n",
       "\n",
       "    .dataframe tbody tr th {\n",
       "        vertical-align: top;\n",
       "    }\n",
       "\n",
       "    .dataframe thead th {\n",
       "        text-align: right;\n",
       "    }\n",
       "</style>\n",
       "<table border=\"1\" class=\"dataframe\">\n",
       "  <thead>\n",
       "    <tr style=\"text-align: right;\">\n",
       "      <th></th>\n",
       "      <th>Minimum Salary</th>\n",
       "      <th>Maximum Salary</th>\n",
       "    </tr>\n",
       "  </thead>\n",
       "  <tbody>\n",
       "    <tr>\n",
       "      <th>0</th>\n",
       "      <td>₹343K</td>\n",
       "      <td>₹1,250K</td>\n",
       "    </tr>\n",
       "    <tr>\n",
       "      <th>1</th>\n",
       "      <td>₹586K</td>\n",
       "      <td>₹2,730K</td>\n",
       "    </tr>\n",
       "    <tr>\n",
       "      <th>2</th>\n",
       "      <td>₹577K</td>\n",
       "      <td>₹2,213K</td>\n",
       "    </tr>\n",
       "    <tr>\n",
       "      <th>3</th>\n",
       "      <td>₹355K</td>\n",
       "      <td>₹1,613K</td>\n",
       "    </tr>\n",
       "    <tr>\n",
       "      <th>4</th>\n",
       "      <td>₹450K</td>\n",
       "      <td>₹11,622K</td>\n",
       "    </tr>\n",
       "    <tr>\n",
       "      <th>5</th>\n",
       "      <td>₹1,069K</td>\n",
       "      <td>₹1,520K</td>\n",
       "    </tr>\n",
       "    <tr>\n",
       "      <th>6</th>\n",
       "      <td>₹502K</td>\n",
       "      <td>₹1,465K</td>\n",
       "    </tr>\n",
       "    <tr>\n",
       "      <th>7</th>\n",
       "      <td>₹202K</td>\n",
       "      <td>₹1,809K</td>\n",
       "    </tr>\n",
       "    <tr>\n",
       "      <th>8</th>\n",
       "      <td>₹575K</td>\n",
       "      <td>₹1,520K</td>\n",
       "    </tr>\n",
       "    <tr>\n",
       "      <th>9</th>\n",
       "      <td>₹1,014K</td>\n",
       "      <td>₹2,149K</td>\n",
       "    </tr>\n",
       "  </tbody>\n",
       "</table>\n",
       "</div>"
      ],
      "text/plain": [
       "  Minimum Salary Maximum Salary\n",
       "0          ₹343K        ₹1,250K\n",
       "1          ₹586K        ₹2,730K\n",
       "2          ₹577K        ₹2,213K\n",
       "3          ₹355K        ₹1,613K\n",
       "4          ₹450K       ₹11,622K\n",
       "5        ₹1,069K        ₹1,520K\n",
       "6          ₹502K        ₹1,465K\n",
       "7          ₹202K        ₹1,809K\n",
       "8          ₹575K        ₹1,520K\n",
       "9        ₹1,014K        ₹2,149K"
      ]
     },
     "execution_count": 108,
     "metadata": {},
     "output_type": "execute_result"
    }
   ],
   "source": [
    "df1"
   ]
  },
  {
   "cell_type": "code",
   "execution_count": 109,
   "metadata": {},
   "outputs": [],
   "source": [
    "df[\"Min Salary\"] = df1[\"Minimum Salary\"]"
   ]
  },
  {
   "cell_type": "code",
   "execution_count": 110,
   "metadata": {},
   "outputs": [],
   "source": [
    "df[\"Max Salary\"] = df1[\"Maximum Salary\"]"
   ]
  },
  {
   "cell_type": "code",
   "execution_count": 111,
   "metadata": {},
   "outputs": [
    {
     "data": {
      "text/html": [
       "<div>\n",
       "<style scoped>\n",
       "    .dataframe tbody tr th:only-of-type {\n",
       "        vertical-align: middle;\n",
       "    }\n",
       "\n",
       "    .dataframe tbody tr th {\n",
       "        vertical-align: top;\n",
       "    }\n",
       "\n",
       "    .dataframe thead th {\n",
       "        text-align: right;\n",
       "    }\n",
       "</style>\n",
       "<table border=\"1\" class=\"dataframe\">\n",
       "  <thead>\n",
       "    <tr style=\"text-align: right;\">\n",
       "      <th></th>\n",
       "      <th>Company Name</th>\n",
       "      <th>Salaries</th>\n",
       "      <th>Salaries_All Loc</th>\n",
       "      <th>Min Salary</th>\n",
       "      <th>Max Salary</th>\n",
       "    </tr>\n",
       "  </thead>\n",
       "  <tbody>\n",
       "    <tr>\n",
       "      <th>0</th>\n",
       "      <td>Tata Consultancy Services</td>\n",
       "      <td>17 salaries</td>\n",
       "      <td>See 132 salaries from all locations</td>\n",
       "      <td>₹343K</td>\n",
       "      <td>₹1,250K</td>\n",
       "    </tr>\n",
       "    <tr>\n",
       "      <th>1</th>\n",
       "      <td>IBM</td>\n",
       "      <td>15 salaries</td>\n",
       "      <td>See 119 salaries from all locations</td>\n",
       "      <td>₹586K</td>\n",
       "      <td>₹2,730K</td>\n",
       "    </tr>\n",
       "    <tr>\n",
       "      <th>2</th>\n",
       "      <td>Accenture</td>\n",
       "      <td>14 salaries</td>\n",
       "      <td>See 62 salaries from all locations</td>\n",
       "      <td>₹577K</td>\n",
       "      <td>₹2,213K</td>\n",
       "    </tr>\n",
       "    <tr>\n",
       "      <th>3</th>\n",
       "      <td>Ericsson-Worldwide</td>\n",
       "      <td>14 salaries</td>\n",
       "      <td>See 31 salaries from all locations</td>\n",
       "      <td>₹355K</td>\n",
       "      <td>₹1,613K</td>\n",
       "    </tr>\n",
       "    <tr>\n",
       "      <th>4</th>\n",
       "      <td>Delhivery</td>\n",
       "      <td>14 salaries</td>\n",
       "      <td>See 18 salaries from all locations</td>\n",
       "      <td>₹450K</td>\n",
       "      <td>₹11,622K</td>\n",
       "    </tr>\n",
       "    <tr>\n",
       "      <th>5</th>\n",
       "      <td>UnitedHealth Group</td>\n",
       "      <td>11 salaries</td>\n",
       "      <td>See 18 salaries from all locations</td>\n",
       "      <td>₹1,069K</td>\n",
       "      <td>₹1,520K</td>\n",
       "    </tr>\n",
       "    <tr>\n",
       "      <th>6</th>\n",
       "      <td>Valiance Solutions</td>\n",
       "      <td>9 salaries</td>\n",
       "      <td>See 11 salaries from all locations</td>\n",
       "      <td>₹502K</td>\n",
       "      <td>₹1,465K</td>\n",
       "    </tr>\n",
       "    <tr>\n",
       "      <th>7</th>\n",
       "      <td>ZS Associates</td>\n",
       "      <td>8 salaries</td>\n",
       "      <td>See 21 salaries from all locations</td>\n",
       "      <td>₹202K</td>\n",
       "      <td>₹1,809K</td>\n",
       "    </tr>\n",
       "    <tr>\n",
       "      <th>8</th>\n",
       "      <td>EXL Service</td>\n",
       "      <td>8 salaries</td>\n",
       "      <td>See 10 salaries from all locations</td>\n",
       "      <td>₹575K</td>\n",
       "      <td>₹1,520K</td>\n",
       "    </tr>\n",
       "    <tr>\n",
       "      <th>9</th>\n",
       "      <td>Optum Global Solutions</td>\n",
       "      <td>8 salaries</td>\n",
       "      <td>See 12 salaries from all locations</td>\n",
       "      <td>₹1,014K</td>\n",
       "      <td>₹2,149K</td>\n",
       "    </tr>\n",
       "  </tbody>\n",
       "</table>\n",
       "</div>"
      ],
      "text/plain": [
       "                Company Name     Salaries  \\\n",
       "0  Tata Consultancy Services  17 salaries   \n",
       "1                        IBM  15 salaries   \n",
       "2                  Accenture  14 salaries   \n",
       "3         Ericsson-Worldwide  14 salaries   \n",
       "4                  Delhivery  14 salaries   \n",
       "5         UnitedHealth Group  11 salaries   \n",
       "6         Valiance Solutions   9 salaries   \n",
       "7              ZS Associates   8 salaries   \n",
       "8                EXL Service   8 salaries   \n",
       "9     Optum Global Solutions   8 salaries   \n",
       "\n",
       "                      Salaries_All Loc Min Salary Max Salary  \n",
       "0  See 132 salaries from all locations      ₹343K    ₹1,250K  \n",
       "1  See 119 salaries from all locations      ₹586K    ₹2,730K  \n",
       "2   See 62 salaries from all locations      ₹577K    ₹2,213K  \n",
       "3   See 31 salaries from all locations      ₹355K    ₹1,613K  \n",
       "4   See 18 salaries from all locations      ₹450K   ₹11,622K  \n",
       "5   See 18 salaries from all locations    ₹1,069K    ₹1,520K  \n",
       "6   See 11 salaries from all locations      ₹502K    ₹1,465K  \n",
       "7   See 21 salaries from all locations      ₹202K    ₹1,809K  \n",
       "8   See 10 salaries from all locations      ₹575K    ₹1,520K  \n",
       "9   See 12 salaries from all locations    ₹1,014K    ₹2,149K  "
      ]
     },
     "execution_count": 111,
     "metadata": {},
     "output_type": "execute_result"
    }
   ],
   "source": [
    "df"
   ]
  },
  {
   "cell_type": "markdown",
   "metadata": {},
   "source": [
    "### Q6 : Scrape data of first 100 sunglasses listings on flipkart.com. You have to scrape four attributes:\n",
    "1. Brand\n",
    "2. Product Description\n",
    "3. Price\n",
    "4. Discount %\n",
    "\n",
    "The attributes which you have to scrape is ticked marked in the below image.\n",
    "To scrape the data you have to go through following steps:\n",
    "1. Go to flipkart webpage by url https://www.flipkart.com/\n",
    "2. Enter “sunglasses” in the search field where “search for products, brands and more” is written and click the search icon\n",
    "3. after that you will reach to a webpage having a lot of sunglasses. From this page you can scrap the required data as usual.\n",
    "4. after scraping data from the first page, go to the “Next” Button at the bottom of the page , then click on it\n",
    "5. Now scrape data from this page as usual\n",
    "6. repeat this until you get data for 100 sunglasses.\n",
    "Note that all of the above steps have to be done by coding only and not manually."
   ]
  },
  {
   "cell_type": "code",
   "execution_count": 112,
   "metadata": {},
   "outputs": [],
   "source": [
    "driver = webdriver.Chrome(r\"C:\\Users\\User\\Downloads\\chromedriver_win32\\chromedriver.exe\")\n",
    "url = \"https://www.flipkart.com/\"\n",
    "driver.get(url)"
   ]
  },
  {
   "cell_type": "code",
   "execution_count": 113,
   "metadata": {},
   "outputs": [],
   "source": [
    "#close the pop up for signing into flipkart\n",
    "close_popup = driver.find_element_by_xpath(\"//button[@class = '_2KpZ6l _2doB4z']\")\n",
    "close_popup.click()"
   ]
  },
  {
   "cell_type": "code",
   "execution_count": 114,
   "metadata": {},
   "outputs": [],
   "source": [
    "search = driver.find_element_by_xpath(\"//div[@class = '_3OO5Xc']/input\")"
   ]
  },
  {
   "cell_type": "code",
   "execution_count": 115,
   "metadata": {},
   "outputs": [],
   "source": [
    "search.send_keys(\"sunglasses\")"
   ]
  },
  {
   "cell_type": "code",
   "execution_count": 116,
   "metadata": {},
   "outputs": [],
   "source": [
    "driver.find_element_by_xpath(\"//button[@class = 'L0Z3Pu']\").click()"
   ]
  },
  {
   "cell_type": "code",
   "execution_count": 117,
   "metadata": {},
   "outputs": [],
   "source": [
    "urls  = []\n",
    "for j in driver.find_elements_by_xpath('//nav[@class=\"yFHi8N\"]/a'):\n",
    "    urls.append(j.get_attribute('href'))"
   ]
  },
  {
   "cell_type": "code",
   "execution_count": 118,
   "metadata": {},
   "outputs": [
    {
     "data": {
      "text/plain": [
       "10"
      ]
     },
     "execution_count": 118,
     "metadata": {},
     "output_type": "execute_result"
    }
   ],
   "source": [
    "urls.pop() #the last url point to page 2 again, hence removing it\n",
    "len(urls)"
   ]
  },
  {
   "cell_type": "code",
   "execution_count": 119,
   "metadata": {},
   "outputs": [],
   "source": [
    "desc = []\n",
    "\n",
    "for i in urls:\n",
    "    driver.get(i)\n",
    "    desc_e = driver.find_elements_by_xpath(\"//div[@class='_2B099V']\")\n",
    "    for j in desc_e:\n",
    "        desc.append(j.text)"
   ]
  },
  {
   "cell_type": "code",
   "execution_count": 120,
   "metadata": {},
   "outputs": [
    {
     "data": {
      "text/plain": [
       "'AISLIN\\nUV Protection, Gradient Butterfly, Wayfarer Sunglasses ...\\n₹539₹1,52564% off'"
      ]
     },
     "execution_count": 120,
     "metadata": {},
     "output_type": "execute_result"
    }
   ],
   "source": [
    "desc[0]"
   ]
  },
  {
   "cell_type": "code",
   "execution_count": 121,
   "metadata": {},
   "outputs": [],
   "source": [
    "df = pd.DataFrame(np.column_stack([desc[0:100]]), columns=[\"Company Name\"])"
   ]
  },
  {
   "cell_type": "code",
   "execution_count": 122,
   "metadata": {},
   "outputs": [],
   "source": [
    "df[['Company Name', 'Description', 'Price', 'Discount%', '2', '3']] = df[\"Company Name\"].str.split(\"\\n\",expand=True)"
   ]
  },
  {
   "cell_type": "code",
   "execution_count": 123,
   "metadata": {},
   "outputs": [],
   "source": [
    "df.drop(columns = [\"2\", \"3\"], axis=1, inplace= True)"
   ]
  },
  {
   "cell_type": "code",
   "execution_count": 124,
   "metadata": {},
   "outputs": [
    {
     "data": {
      "text/html": [
       "<div>\n",
       "<style scoped>\n",
       "    .dataframe tbody tr th:only-of-type {\n",
       "        vertical-align: middle;\n",
       "    }\n",
       "\n",
       "    .dataframe tbody tr th {\n",
       "        vertical-align: top;\n",
       "    }\n",
       "\n",
       "    .dataframe thead th {\n",
       "        text-align: right;\n",
       "    }\n",
       "</style>\n",
       "<table border=\"1\" class=\"dataframe\">\n",
       "  <thead>\n",
       "    <tr style=\"text-align: right;\">\n",
       "      <th></th>\n",
       "      <th>Company Name</th>\n",
       "      <th>Description</th>\n",
       "      <th>Price</th>\n",
       "      <th>Discount%</th>\n",
       "    </tr>\n",
       "  </thead>\n",
       "  <tbody>\n",
       "    <tr>\n",
       "      <th>0</th>\n",
       "      <td>AISLIN</td>\n",
       "      <td>UV Protection, Gradient Butterfly, Wayfarer Su...</td>\n",
       "      <td>₹539₹1,52564% off</td>\n",
       "      <td>None</td>\n",
       "    </tr>\n",
       "    <tr>\n",
       "      <th>1</th>\n",
       "      <td>hipe</td>\n",
       "      <td>Mirrored, UV Protection, Gradient Round Sungla...</td>\n",
       "      <td>₹210₹1,46685% off</td>\n",
       "      <td>None</td>\n",
       "    </tr>\n",
       "    <tr>\n",
       "      <th>2</th>\n",
       "      <td>Fastrack</td>\n",
       "      <td>UV Protection Rectangular Sunglasses (Free Size)</td>\n",
       "      <td>₹570₹79928% off</td>\n",
       "      <td>Or Pay ₹541 +</td>\n",
       "    </tr>\n",
       "    <tr>\n",
       "      <th>3</th>\n",
       "      <td>ROZZETTA CRAFT</td>\n",
       "      <td>UV Protection Retro Square Sunglasses (Free Size)</td>\n",
       "      <td>₹499₹2,22577% off</td>\n",
       "      <td>None</td>\n",
       "    </tr>\n",
       "    <tr>\n",
       "      <th>4</th>\n",
       "      <td>ROZZETTA CRAFT</td>\n",
       "      <td>UV Protection Retro Square Sunglasses (Free Size)</td>\n",
       "      <td>₹499₹2,25277% off</td>\n",
       "      <td>None</td>\n",
       "    </tr>\n",
       "  </tbody>\n",
       "</table>\n",
       "</div>"
      ],
      "text/plain": [
       "     Company Name                                        Description  \\\n",
       "0          AISLIN  UV Protection, Gradient Butterfly, Wayfarer Su...   \n",
       "1            hipe  Mirrored, UV Protection, Gradient Round Sungla...   \n",
       "2        Fastrack   UV Protection Rectangular Sunglasses (Free Size)   \n",
       "3  ROZZETTA CRAFT  UV Protection Retro Square Sunglasses (Free Size)   \n",
       "4  ROZZETTA CRAFT  UV Protection Retro Square Sunglasses (Free Size)   \n",
       "\n",
       "               Price       Discount%  \n",
       "0  ₹539₹1,52564% off            None  \n",
       "1  ₹210₹1,46685% off            None  \n",
       "2    ₹570₹79928% off  Or Pay ₹541 +   \n",
       "3  ₹499₹2,22577% off            None  \n",
       "4  ₹499₹2,25277% off            None  "
      ]
     },
     "execution_count": 124,
     "metadata": {},
     "output_type": "execute_result"
    }
   ],
   "source": [
    "df.head()"
   ]
  },
  {
   "cell_type": "code",
   "execution_count": 125,
   "metadata": {},
   "outputs": [],
   "source": [
    "for i in range(0, len(df)):\n",
    "    df[\"Discount%\"][i] = df[\"Price\"][i][-7:-4]\n",
    "    df[\"Price\"][i] = df[\"Price\"][i][0:4]"
   ]
  },
  {
   "cell_type": "code",
   "execution_count": 126,
   "metadata": {},
   "outputs": [
    {
     "data": {
      "text/html": [
       "<div>\n",
       "<style scoped>\n",
       "    .dataframe tbody tr th:only-of-type {\n",
       "        vertical-align: middle;\n",
       "    }\n",
       "\n",
       "    .dataframe tbody tr th {\n",
       "        vertical-align: top;\n",
       "    }\n",
       "\n",
       "    .dataframe thead th {\n",
       "        text-align: right;\n",
       "    }\n",
       "</style>\n",
       "<table border=\"1\" class=\"dataframe\">\n",
       "  <thead>\n",
       "    <tr style=\"text-align: right;\">\n",
       "      <th></th>\n",
       "      <th>Company Name</th>\n",
       "      <th>Description</th>\n",
       "      <th>Price</th>\n",
       "      <th>Discount%</th>\n",
       "    </tr>\n",
       "  </thead>\n",
       "  <tbody>\n",
       "    <tr>\n",
       "      <th>0</th>\n",
       "      <td>AISLIN</td>\n",
       "      <td>UV Protection, Gradient Butterfly, Wayfarer Su...</td>\n",
       "      <td>₹539</td>\n",
       "      <td>64%</td>\n",
       "    </tr>\n",
       "    <tr>\n",
       "      <th>1</th>\n",
       "      <td>hipe</td>\n",
       "      <td>Mirrored, UV Protection, Gradient Round Sungla...</td>\n",
       "      <td>₹210</td>\n",
       "      <td>85%</td>\n",
       "    </tr>\n",
       "    <tr>\n",
       "      <th>2</th>\n",
       "      <td>Fastrack</td>\n",
       "      <td>UV Protection Rectangular Sunglasses (Free Size)</td>\n",
       "      <td>₹570</td>\n",
       "      <td>28%</td>\n",
       "    </tr>\n",
       "    <tr>\n",
       "      <th>3</th>\n",
       "      <td>ROZZETTA CRAFT</td>\n",
       "      <td>UV Protection Retro Square Sunglasses (Free Size)</td>\n",
       "      <td>₹499</td>\n",
       "      <td>77%</td>\n",
       "    </tr>\n",
       "    <tr>\n",
       "      <th>4</th>\n",
       "      <td>ROZZETTA CRAFT</td>\n",
       "      <td>UV Protection Retro Square Sunglasses (Free Size)</td>\n",
       "      <td>₹499</td>\n",
       "      <td>77%</td>\n",
       "    </tr>\n",
       "    <tr>\n",
       "      <th>...</th>\n",
       "      <td>...</td>\n",
       "      <td>...</td>\n",
       "      <td>...</td>\n",
       "      <td>...</td>\n",
       "    </tr>\n",
       "    <tr>\n",
       "      <th>95</th>\n",
       "      <td>hipe</td>\n",
       "      <td>Mirrored, UV Protection, Gradient Round Sungla...</td>\n",
       "      <td>₹210</td>\n",
       "      <td>85%</td>\n",
       "    </tr>\n",
       "    <tr>\n",
       "      <th>96</th>\n",
       "      <td>ROYAL SON</td>\n",
       "      <td>UV Protection Retro Square Sunglasses (58)</td>\n",
       "      <td>₹499</td>\n",
       "      <td>66%</td>\n",
       "    </tr>\n",
       "    <tr>\n",
       "      <th>97</th>\n",
       "      <td>Singco India</td>\n",
       "      <td>Mirrored, UV Protection, Riding Glasses, Other...</td>\n",
       "      <td>₹349</td>\n",
       "      <td>82%</td>\n",
       "    </tr>\n",
       "    <tr>\n",
       "      <th>98</th>\n",
       "      <td>Fastrack</td>\n",
       "      <td>UV Protection Aviator Sunglasses (58)</td>\n",
       "      <td>₹1,1</td>\n",
       "      <td>11%</td>\n",
       "    </tr>\n",
       "    <tr>\n",
       "      <th>99</th>\n",
       "      <td>Silver Kartz</td>\n",
       "      <td>UV Protection Aviator Sunglasses (88)</td>\n",
       "      <td>₹255</td>\n",
       "      <td>78%</td>\n",
       "    </tr>\n",
       "  </tbody>\n",
       "</table>\n",
       "<p>100 rows × 4 columns</p>\n",
       "</div>"
      ],
      "text/plain": [
       "      Company Name                                        Description Price  \\\n",
       "0           AISLIN  UV Protection, Gradient Butterfly, Wayfarer Su...  ₹539   \n",
       "1             hipe  Mirrored, UV Protection, Gradient Round Sungla...  ₹210   \n",
       "2         Fastrack   UV Protection Rectangular Sunglasses (Free Size)  ₹570   \n",
       "3   ROZZETTA CRAFT  UV Protection Retro Square Sunglasses (Free Size)  ₹499   \n",
       "4   ROZZETTA CRAFT  UV Protection Retro Square Sunglasses (Free Size)  ₹499   \n",
       "..             ...                                                ...   ...   \n",
       "95            hipe  Mirrored, UV Protection, Gradient Round Sungla...  ₹210   \n",
       "96       ROYAL SON         UV Protection Retro Square Sunglasses (58)  ₹499   \n",
       "97    Singco India  Mirrored, UV Protection, Riding Glasses, Other...  ₹349   \n",
       "98        Fastrack              UV Protection Aviator Sunglasses (58)  ₹1,1   \n",
       "99    Silver Kartz              UV Protection Aviator Sunglasses (88)  ₹255   \n",
       "\n",
       "   Discount%  \n",
       "0        64%  \n",
       "1        85%  \n",
       "2        28%  \n",
       "3        77%  \n",
       "4        77%  \n",
       "..       ...  \n",
       "95       85%  \n",
       "96       66%  \n",
       "97       82%  \n",
       "98       11%  \n",
       "99       78%  \n",
       "\n",
       "[100 rows x 4 columns]"
      ]
     },
     "execution_count": 126,
     "metadata": {},
     "output_type": "execute_result"
    }
   ],
   "source": [
    "df"
   ]
  },
  {
   "cell_type": "markdown",
   "metadata": {},
   "source": [
    "### Q7: Scrape 100 reviews data from flipkart.com for iphone11 phone. You have to go the link: \n",
    "https://www.flipkart.com/apple-iphone-11-black-64-gb-includes-earpods-power-adapter/p/itm0f37c2240b217?pid=MOBFKCTSVZAXUHGR&lid=LSTMOBFKCTSVZAXUHGREPBFGI&marketplace.\n",
    "When you will open the above link you will reach to the below shown webpage.\n",
    "As shown in the above page you have to scrape the tick marked attributes.\n",
    "These are\n",
    "1. Rating\n",
    "2. Review_summary\n",
    "3. Full review\n",
    "You have to scrape this data for first 100 reviews."
   ]
  },
  {
   "cell_type": "code",
   "execution_count": 127,
   "metadata": {},
   "outputs": [],
   "source": [
    "driver = webdriver.Chrome(r\"C:\\Users\\User\\Downloads\\chromedriver_win32\\chromedriver.exe\")\n",
    "url = \"https://www.flipkart.com/apple-iphone-11-black-64-gb-includes-earpods-power-adapter/p/itm0f37c2240b217?pid=MOBFKCTSVZAXUHGR&lid=LSTMOBFKCTSVZAXUHGREPBFGI&marketplace\"\n",
    "driver.get(url)"
   ]
  },
  {
   "cell_type": "code",
   "execution_count": 128,
   "metadata": {},
   "outputs": [],
   "source": [
    "driver.find_element_by_xpath(\"//div[@class = '_3UAT2v _16PBlm']\").click()"
   ]
  },
  {
   "cell_type": "code",
   "execution_count": 129,
   "metadata": {},
   "outputs": [],
   "source": [
    "urls  = []\n",
    "for j in driver.find_elements_by_xpath('//nav[@class=\"yFHi8N\"]/a'):\n",
    "    urls.append(j.get_attribute('href'))"
   ]
  },
  {
   "cell_type": "code",
   "execution_count": 130,
   "metadata": {},
   "outputs": [
    {
     "data": {
      "text/plain": [
       "11"
      ]
     },
     "execution_count": 130,
     "metadata": {},
     "output_type": "execute_result"
    }
   ],
   "source": [
    "len(urls)"
   ]
  },
  {
   "cell_type": "code",
   "execution_count": 131,
   "metadata": {},
   "outputs": [
    {
     "data": {
      "text/plain": [
       "10"
      ]
     },
     "execution_count": 131,
     "metadata": {},
     "output_type": "execute_result"
    }
   ],
   "source": [
    "urls.pop() #the last url point to page 2 again, hence removing it\n",
    "len(urls)"
   ]
  },
  {
   "cell_type": "code",
   "execution_count": 132,
   "metadata": {},
   "outputs": [],
   "source": [
    "rating = []\n",
    "review_summary = []\n",
    "full_review = []\n",
    "\n",
    "for i in urls:\n",
    "    driver.get(i)\n",
    "    rating_e = driver.find_elements_by_xpath(\"//div[@class='_1AtVbE col-12-12']\")\n",
    "    for j in rating_e:\n",
    "        k = j.text\n",
    "        if k[0] in ['1','2','3','4','5']:\n",
    "            rating.append(k[0])\n",
    "    del rating[0]\n",
    "    review_summary_e = driver.find_elements_by_xpath(\"//p[@class='_2-N8zT']\")\n",
    "    for j in review_summary_e:\n",
    "        review_summary.append(j.text)\n",
    "    full_review_e = driver.find_elements_by_xpath(\"//div[@class='t-ZTKy']\")\n",
    "    for j in full_review_e:\n",
    "        full_review.append(j.text)"
   ]
  },
  {
   "cell_type": "code",
   "execution_count": 133,
   "metadata": {},
   "outputs": [
    {
     "data": {
      "text/plain": [
       "100"
      ]
     },
     "execution_count": 133,
     "metadata": {},
     "output_type": "execute_result"
    }
   ],
   "source": [
    "len(rating)"
   ]
  },
  {
   "cell_type": "code",
   "execution_count": 134,
   "metadata": {},
   "outputs": [],
   "source": [
    "df = pd.DataFrame(np.column_stack([rating, review_summary, full_review]), \n",
    "                               columns=[\"Rating\", \"Review Summary\",\"Full Review\"])"
   ]
  },
  {
   "cell_type": "code",
   "execution_count": 135,
   "metadata": {},
   "outputs": [
    {
     "data": {
      "text/html": [
       "<div>\n",
       "<style scoped>\n",
       "    .dataframe tbody tr th:only-of-type {\n",
       "        vertical-align: middle;\n",
       "    }\n",
       "\n",
       "    .dataframe tbody tr th {\n",
       "        vertical-align: top;\n",
       "    }\n",
       "\n",
       "    .dataframe thead th {\n",
       "        text-align: right;\n",
       "    }\n",
       "</style>\n",
       "<table border=\"1\" class=\"dataframe\">\n",
       "  <thead>\n",
       "    <tr style=\"text-align: right;\">\n",
       "      <th></th>\n",
       "      <th>Rating</th>\n",
       "      <th>Review Summary</th>\n",
       "      <th>Full Review</th>\n",
       "    </tr>\n",
       "  </thead>\n",
       "  <tbody>\n",
       "    <tr>\n",
       "      <th>0</th>\n",
       "      <td>5</td>\n",
       "      <td>Brilliant</td>\n",
       "      <td>The Best Phone for the Money\\n\\nThe iPhone 11 ...</td>\n",
       "    </tr>\n",
       "    <tr>\n",
       "      <th>1</th>\n",
       "      <td>4</td>\n",
       "      <td>Perfect product!</td>\n",
       "      <td>Amazing phone with great cameras and better ba...</td>\n",
       "    </tr>\n",
       "    <tr>\n",
       "      <th>2</th>\n",
       "      <td>5</td>\n",
       "      <td>Great product</td>\n",
       "      <td>Amazing Powerful and Durable Gadget.\\n\\nI’m am...</td>\n",
       "    </tr>\n",
       "    <tr>\n",
       "      <th>3</th>\n",
       "      <td>5</td>\n",
       "      <td>Worth every penny</td>\n",
       "      <td>Previously I was using one plus 3t it was a gr...</td>\n",
       "    </tr>\n",
       "    <tr>\n",
       "      <th>4</th>\n",
       "      <td>5</td>\n",
       "      <td>Good choice</td>\n",
       "      <td>So far it’s been an AMAZING experience coming ...</td>\n",
       "    </tr>\n",
       "  </tbody>\n",
       "</table>\n",
       "</div>"
      ],
      "text/plain": [
       "  Rating     Review Summary                                        Full Review\n",
       "0      5          Brilliant  The Best Phone for the Money\\n\\nThe iPhone 11 ...\n",
       "1      4   Perfect product!  Amazing phone with great cameras and better ba...\n",
       "2      5      Great product  Amazing Powerful and Durable Gadget.\\n\\nI’m am...\n",
       "3      5  Worth every penny  Previously I was using one plus 3t it was a gr...\n",
       "4      5        Good choice  So far it’s been an AMAZING experience coming ..."
      ]
     },
     "execution_count": 135,
     "metadata": {},
     "output_type": "execute_result"
    }
   ],
   "source": [
    "df.head()"
   ]
  },
  {
   "cell_type": "markdown",
   "metadata": {},
   "source": [
    "### Q8: Scrape data for first 100 sneakers you find when you visit flipkart.com and search for “sneakers” in the search field.\n",
    "You have to scrape 4 attributes of each sneaker :\n",
    "1. Brand\n",
    "2. Product Description\n",
    "3. Price\n",
    "4. discount %\n",
    "As shown in the below image, you have to scrape the tick marked attributes.\n",
    "Also note that all the steps required during scraping should be done through code only and not manually."
   ]
  },
  {
   "cell_type": "code",
   "execution_count": 143,
   "metadata": {},
   "outputs": [],
   "source": [
    "driver = webdriver.Chrome(r\"C:\\Users\\User\\Downloads\\chromedriver_win32\\chromedriver.exe\")\n",
    "url = \"https://www.flipkart.com/\"\n",
    "driver.get(url)"
   ]
  },
  {
   "cell_type": "code",
   "execution_count": 144,
   "metadata": {},
   "outputs": [],
   "source": [
    "#close the pop up for signing into flipkart\n",
    "close_popup = driver.find_element_by_xpath(\"//button[@class = '_2KpZ6l _2doB4z']\")\n",
    "close_popup.click()"
   ]
  },
  {
   "cell_type": "code",
   "execution_count": 145,
   "metadata": {},
   "outputs": [],
   "source": [
    "search = driver.find_element_by_xpath(\"//div[@class = '_3OO5Xc']/input\")"
   ]
  },
  {
   "cell_type": "code",
   "execution_count": 146,
   "metadata": {},
   "outputs": [],
   "source": [
    "search.send_keys(\"sneakers\")"
   ]
  },
  {
   "cell_type": "code",
   "execution_count": 147,
   "metadata": {},
   "outputs": [],
   "source": [
    "driver.find_element_by_xpath(\"//button[@class = 'L0Z3Pu']\").click()"
   ]
  },
  {
   "cell_type": "code",
   "execution_count": 148,
   "metadata": {},
   "outputs": [],
   "source": [
    "urls  = []\n",
    "for j in driver.find_elements_by_xpath('//nav[@class=\"yFHi8N\"]/a'):\n",
    "    urls.append(j.get_attribute('href'))"
   ]
  },
  {
   "cell_type": "code",
   "execution_count": 149,
   "metadata": {},
   "outputs": [
    {
     "data": {
      "text/plain": [
       "10"
      ]
     },
     "execution_count": 149,
     "metadata": {},
     "output_type": "execute_result"
    }
   ],
   "source": [
    "urls.pop() #the last url point to page 2 again, hence removing it\n",
    "len(urls)"
   ]
  },
  {
   "cell_type": "code",
   "execution_count": 150,
   "metadata": {},
   "outputs": [],
   "source": [
    "desc = []\n",
    "\n",
    "for i in urls:\n",
    "    driver.get(i)\n",
    "    desc_e = driver.find_elements_by_xpath(\"//div[@class='_2B099V']\")\n",
    "    for j in desc_e:\n",
    "        desc.append(j.text)"
   ]
  },
  {
   "cell_type": "code",
   "execution_count": 151,
   "metadata": {},
   "outputs": [
    {
     "data": {
      "text/plain": [
       "'Robbie jones\\nCasual Sneakers Black Shoes For Men Sneakers For Men\\n₹451₹99954% off\\nOr Pay ₹428 + \\n 23'"
      ]
     },
     "execution_count": 151,
     "metadata": {},
     "output_type": "execute_result"
    }
   ],
   "source": [
    "desc[0]"
   ]
  },
  {
   "cell_type": "code",
   "execution_count": 152,
   "metadata": {},
   "outputs": [],
   "source": [
    "df = pd.DataFrame(np.column_stack([desc[0:100]]), columns=[\"Company Name\"])"
   ]
  },
  {
   "cell_type": "code",
   "execution_count": 153,
   "metadata": {},
   "outputs": [],
   "source": [
    "df[['Company Name', 'Description', 'Price', 'Discount%', '2', '3']] = df[\"Company Name\"].str.split(\"\\n\",expand=True)"
   ]
  },
  {
   "cell_type": "code",
   "execution_count": 154,
   "metadata": {},
   "outputs": [],
   "source": [
    "df.drop(columns = [\"2\", \"3\"], axis=1, inplace= True)"
   ]
  },
  {
   "cell_type": "code",
   "execution_count": 155,
   "metadata": {},
   "outputs": [
    {
     "data": {
      "text/html": [
       "<div>\n",
       "<style scoped>\n",
       "    .dataframe tbody tr th:only-of-type {\n",
       "        vertical-align: middle;\n",
       "    }\n",
       "\n",
       "    .dataframe tbody tr th {\n",
       "        vertical-align: top;\n",
       "    }\n",
       "\n",
       "    .dataframe thead th {\n",
       "        text-align: right;\n",
       "    }\n",
       "</style>\n",
       "<table border=\"1\" class=\"dataframe\">\n",
       "  <thead>\n",
       "    <tr style=\"text-align: right;\">\n",
       "      <th></th>\n",
       "      <th>Company Name</th>\n",
       "      <th>Description</th>\n",
       "      <th>Price</th>\n",
       "      <th>Discount%</th>\n",
       "    </tr>\n",
       "  </thead>\n",
       "  <tbody>\n",
       "    <tr>\n",
       "      <th>0</th>\n",
       "      <td>Robbie jones</td>\n",
       "      <td>Casual Sneakers Black Shoes For Men Sneakers F...</td>\n",
       "      <td>₹451₹99954% off</td>\n",
       "      <td>Or Pay ₹428 +</td>\n",
       "    </tr>\n",
       "    <tr>\n",
       "      <th>1</th>\n",
       "      <td>BRUTON</td>\n",
       "      <td>Combo Pack Of 4 Canvas Sneakers For Men</td>\n",
       "      <td>₹449₹3,49987% off</td>\n",
       "      <td>None</td>\n",
       "    </tr>\n",
       "    <tr>\n",
       "      <th>2</th>\n",
       "      <td>Magnolia</td>\n",
       "      <td>Sneakers For Men</td>\n",
       "      <td>₹356₹99964% off</td>\n",
       "      <td>Buy ₹10 more, save extra 10%</td>\n",
       "    </tr>\n",
       "    <tr>\n",
       "      <th>3</th>\n",
       "      <td>Robbie jones</td>\n",
       "      <td>Casual Sneakers Shoes For Men Sneakers For Men</td>\n",
       "      <td>₹399₹99960% off</td>\n",
       "      <td>None</td>\n",
       "    </tr>\n",
       "    <tr>\n",
       "      <th>4</th>\n",
       "      <td>ORICUM</td>\n",
       "      <td>Combo pack of 2 casual sneaker shoes for men S...</td>\n",
       "      <td>₹377₹99862% off</td>\n",
       "      <td>Or Pay ₹358 +</td>\n",
       "    </tr>\n",
       "  </tbody>\n",
       "</table>\n",
       "</div>"
      ],
      "text/plain": [
       "   Company Name                                        Description  \\\n",
       "0  Robbie jones  Casual Sneakers Black Shoes For Men Sneakers F...   \n",
       "1        BRUTON            Combo Pack Of 4 Canvas Sneakers For Men   \n",
       "2      Magnolia                                   Sneakers For Men   \n",
       "3  Robbie jones     Casual Sneakers Shoes For Men Sneakers For Men   \n",
       "4        ORICUM  Combo pack of 2 casual sneaker shoes for men S...   \n",
       "\n",
       "               Price                     Discount%  \n",
       "0    ₹451₹99954% off                Or Pay ₹428 +   \n",
       "1  ₹449₹3,49987% off                          None  \n",
       "2    ₹356₹99964% off  Buy ₹10 more, save extra 10%  \n",
       "3    ₹399₹99960% off                          None  \n",
       "4    ₹377₹99862% off                Or Pay ₹358 +   "
      ]
     },
     "execution_count": 155,
     "metadata": {},
     "output_type": "execute_result"
    }
   ],
   "source": [
    "df.head()"
   ]
  },
  {
   "cell_type": "code",
   "execution_count": 156,
   "metadata": {},
   "outputs": [],
   "source": [
    "for i in range(0, len(df)):\n",
    "    df[\"Discount%\"][i] = df[\"Price\"][i][-7:-4]\n",
    "    df[\"Price\"][i] = df[\"Price\"][i][0:4]"
   ]
  },
  {
   "cell_type": "code",
   "execution_count": 157,
   "metadata": {},
   "outputs": [
    {
     "data": {
      "text/html": [
       "<div>\n",
       "<style scoped>\n",
       "    .dataframe tbody tr th:only-of-type {\n",
       "        vertical-align: middle;\n",
       "    }\n",
       "\n",
       "    .dataframe tbody tr th {\n",
       "        vertical-align: top;\n",
       "    }\n",
       "\n",
       "    .dataframe thead th {\n",
       "        text-align: right;\n",
       "    }\n",
       "</style>\n",
       "<table border=\"1\" class=\"dataframe\">\n",
       "  <thead>\n",
       "    <tr style=\"text-align: right;\">\n",
       "      <th></th>\n",
       "      <th>Company Name</th>\n",
       "      <th>Description</th>\n",
       "      <th>Price</th>\n",
       "      <th>Discount%</th>\n",
       "    </tr>\n",
       "  </thead>\n",
       "  <tbody>\n",
       "    <tr>\n",
       "      <th>0</th>\n",
       "      <td>Robbie jones</td>\n",
       "      <td>Casual Sneakers Black Shoes For Men Sneakers F...</td>\n",
       "      <td>₹451</td>\n",
       "      <td>54%</td>\n",
       "    </tr>\n",
       "    <tr>\n",
       "      <th>1</th>\n",
       "      <td>BRUTON</td>\n",
       "      <td>Combo Pack Of 4 Canvas Sneakers For Men</td>\n",
       "      <td>₹449</td>\n",
       "      <td>87%</td>\n",
       "    </tr>\n",
       "    <tr>\n",
       "      <th>2</th>\n",
       "      <td>Magnolia</td>\n",
       "      <td>Sneakers For Men</td>\n",
       "      <td>₹356</td>\n",
       "      <td>64%</td>\n",
       "    </tr>\n",
       "    <tr>\n",
       "      <th>3</th>\n",
       "      <td>Robbie jones</td>\n",
       "      <td>Casual Sneakers Shoes For Men Sneakers For Men</td>\n",
       "      <td>₹399</td>\n",
       "      <td>60%</td>\n",
       "    </tr>\n",
       "    <tr>\n",
       "      <th>4</th>\n",
       "      <td>ORICUM</td>\n",
       "      <td>Combo pack of 2 casual sneaker shoes for men S...</td>\n",
       "      <td>₹377</td>\n",
       "      <td>62%</td>\n",
       "    </tr>\n",
       "    <tr>\n",
       "      <th>...</th>\n",
       "      <td>...</td>\n",
       "      <td>...</td>\n",
       "      <td>...</td>\n",
       "      <td>...</td>\n",
       "    </tr>\n",
       "    <tr>\n",
       "      <th>95</th>\n",
       "      <td>M K FOOTWEAR</td>\n",
       "      <td>M K Footwear 702_Blue Sneakers For Men</td>\n",
       "      <td>₹369</td>\n",
       "      <td>63%</td>\n",
       "    </tr>\n",
       "    <tr>\n",
       "      <th>96</th>\n",
       "      <td>World Wear Footwear</td>\n",
       "      <td>Latest Collection-1227 Stylish Casual Sports S...</td>\n",
       "      <td>₹273</td>\n",
       "      <td>45%</td>\n",
       "    </tr>\n",
       "    <tr>\n",
       "      <th>97</th>\n",
       "      <td>HOCKWOOD</td>\n",
       "      <td>Street Smart Sneakers For Men</td>\n",
       "      <td>₹699</td>\n",
       "      <td>30%</td>\n",
       "    </tr>\n",
       "    <tr>\n",
       "      <th>98</th>\n",
       "      <td>PUMA</td>\n",
       "      <td>Rigel IDP Sneakers For Men</td>\n",
       "      <td>₹1,3</td>\n",
       "      <td>53%</td>\n",
       "    </tr>\n",
       "    <tr>\n",
       "      <th>99</th>\n",
       "      <td>Raftar</td>\n",
       "      <td>Sneakers For Men</td>\n",
       "      <td>₹365</td>\n",
       "      <td>63%</td>\n",
       "    </tr>\n",
       "  </tbody>\n",
       "</table>\n",
       "<p>100 rows × 4 columns</p>\n",
       "</div>"
      ],
      "text/plain": [
       "           Company Name                                        Description  \\\n",
       "0          Robbie jones  Casual Sneakers Black Shoes For Men Sneakers F...   \n",
       "1                BRUTON            Combo Pack Of 4 Canvas Sneakers For Men   \n",
       "2              Magnolia                                   Sneakers For Men   \n",
       "3          Robbie jones     Casual Sneakers Shoes For Men Sneakers For Men   \n",
       "4                ORICUM  Combo pack of 2 casual sneaker shoes for men S...   \n",
       "..                  ...                                                ...   \n",
       "95         M K FOOTWEAR             M K Footwear 702_Blue Sneakers For Men   \n",
       "96  World Wear Footwear  Latest Collection-1227 Stylish Casual Sports S...   \n",
       "97             HOCKWOOD                      Street Smart Sneakers For Men   \n",
       "98                 PUMA                         Rigel IDP Sneakers For Men   \n",
       "99               Raftar                                   Sneakers For Men   \n",
       "\n",
       "   Price Discount%  \n",
       "0   ₹451       54%  \n",
       "1   ₹449       87%  \n",
       "2   ₹356       64%  \n",
       "3   ₹399       60%  \n",
       "4   ₹377       62%  \n",
       "..   ...       ...  \n",
       "95  ₹369       63%  \n",
       "96  ₹273       45%  \n",
       "97  ₹699       30%  \n",
       "98  ₹1,3       53%  \n",
       "99  ₹365       63%  \n",
       "\n",
       "[100 rows x 4 columns]"
      ]
     },
     "execution_count": 157,
     "metadata": {},
     "output_type": "execute_result"
    }
   ],
   "source": [
    "df"
   ]
  },
  {
   "cell_type": "markdown",
   "metadata": {},
   "source": [
    "### Q9: Go to the link - https://www.myntra.com/shoes\n",
    "Set Price filter to “Rs. 6649 to Rs. 13099” , Color filter to “Black”, as shown in the below image\n",
    "And then scrape First 100 shoes data you get. The data should include “Brand” of the shoes , Short Shoe description, price of the shoe as shown in the below image.\n",
    "Please note Please note that applying the filter and scraping the data , everything should be done through code only and there should not be any manual step.\n"
   ]
  },
  {
   "cell_type": "code",
   "execution_count": 163,
   "metadata": {},
   "outputs": [],
   "source": [
    "driver = webdriver.Chrome(r\"C:\\Users\\User\\Downloads\\chromedriver_win32\\chromedriver.exe\")\n",
    "url = \"https://www.myntra.com/shoes\"\n",
    "driver.get(url)"
   ]
  },
  {
   "cell_type": "code",
   "execution_count": 164,
   "metadata": {},
   "outputs": [],
   "source": [
    "filter_button = driver.find_elements_by_xpath(\"//label[@class = 'common-customCheckbox']\")\n",
    "for i in filter_button:\n",
    "    if 'Black' in i.text :\n",
    "        i.click() \n",
    "        break "
   ]
  },
  {
   "cell_type": "code",
   "execution_count": 166,
   "metadata": {},
   "outputs": [],
   "source": [
    "filter_button = driver.find_elements_by_xpath(\"//label[@class = 'common-customCheckbox vertical-filters-label']\")\n",
    "for i in filter_button:\n",
    "    if 'Rs. 6657 to Rs. 13105' in i.text :\n",
    "        i.click() \n",
    "        break"
   ]
  },
  {
   "cell_type": "code",
   "execution_count": 170,
   "metadata": {},
   "outputs": [],
   "source": [
    "desc = []\n",
    "for i in range(0,2):\n",
    "    desc_e = driver.find_elements_by_xpath(\"//div[@class='product-productMetaInfo']\")\n",
    "    time.sleep(3)\n",
    "    for j in desc_e:\n",
    "        desc.append(j.text)\n",
    "    driver.find_element_by_xpath('//li[@class=\"pagination-next\"]').click()"
   ]
  },
  {
   "cell_type": "code",
   "execution_count": 171,
   "metadata": {},
   "outputs": [
    {
     "data": {
      "text/plain": [
       "100"
      ]
     },
     "execution_count": 171,
     "metadata": {},
     "output_type": "execute_result"
    }
   ],
   "source": [
    "len(desc)"
   ]
  },
  {
   "cell_type": "code",
   "execution_count": 172,
   "metadata": {},
   "outputs": [
    {
     "data": {
      "text/plain": [
       "'PUMA Motorsport\\nUnisex Mercedes Running Shoes\\nRs. 7999\\nOnly Few Left!'"
      ]
     },
     "execution_count": 172,
     "metadata": {},
     "output_type": "execute_result"
    }
   ],
   "source": [
    "desc[0]"
   ]
  },
  {
   "cell_type": "code",
   "execution_count": 173,
   "metadata": {},
   "outputs": [],
   "source": [
    "desc_e = driver.find_elements_by_xpath(\"//div[@class='product-productMetaInfo']\")\n",
    "for j in desc_e:\n",
    "    desc.append(j.text)"
   ]
  },
  {
   "cell_type": "code",
   "execution_count": 174,
   "metadata": {},
   "outputs": [
    {
     "data": {
      "text/plain": [
       "'PUMA Motorsport\\nUnisex Mercedes Running Shoes\\nRs. 7999\\nOnly Few Left!'"
      ]
     },
     "execution_count": 174,
     "metadata": {},
     "output_type": "execute_result"
    }
   ],
   "source": [
    "desc[0]"
   ]
  },
  {
   "cell_type": "code",
   "execution_count": 175,
   "metadata": {},
   "outputs": [],
   "source": [
    "df = pd.DataFrame(desc, columns =['Company Name'])"
   ]
  },
  {
   "cell_type": "code",
   "execution_count": 176,
   "metadata": {},
   "outputs": [
    {
     "data": {
      "text/html": [
       "<div>\n",
       "<style scoped>\n",
       "    .dataframe tbody tr th:only-of-type {\n",
       "        vertical-align: middle;\n",
       "    }\n",
       "\n",
       "    .dataframe tbody tr th {\n",
       "        vertical-align: top;\n",
       "    }\n",
       "\n",
       "    .dataframe thead th {\n",
       "        text-align: right;\n",
       "    }\n",
       "</style>\n",
       "<table border=\"1\" class=\"dataframe\">\n",
       "  <thead>\n",
       "    <tr style=\"text-align: right;\">\n",
       "      <th></th>\n",
       "      <th>Company Name</th>\n",
       "    </tr>\n",
       "  </thead>\n",
       "  <tbody>\n",
       "    <tr>\n",
       "      <th>0</th>\n",
       "      <td>PUMA Motorsport\\nUnisex Mercedes Running Shoes...</td>\n",
       "    </tr>\n",
       "    <tr>\n",
       "      <th>1</th>\n",
       "      <td>ALDO\\nMen Sneakers\\nRs. 9999\\nOnly Few Left!</td>\n",
       "    </tr>\n",
       "    <tr>\n",
       "      <th>2</th>\n",
       "      <td>Nike\\nMen JOYRIDE Running Shoes\\nRs. 10496Rs. ...</td>\n",
       "    </tr>\n",
       "    <tr>\n",
       "      <th>3</th>\n",
       "      <td>FORCLAZ By Decathlon\\nTREKKING 100 Boots\\nRs. ...</td>\n",
       "    </tr>\n",
       "    <tr>\n",
       "      <th>4</th>\n",
       "      <td>Nike\\nAIR ZOOM PEGASUS Running Shoes\\nRs. 1092...</td>\n",
       "    </tr>\n",
       "  </tbody>\n",
       "</table>\n",
       "</div>"
      ],
      "text/plain": [
       "                                        Company Name\n",
       "0  PUMA Motorsport\\nUnisex Mercedes Running Shoes...\n",
       "1       ALDO\\nMen Sneakers\\nRs. 9999\\nOnly Few Left!\n",
       "2  Nike\\nMen JOYRIDE Running Shoes\\nRs. 10496Rs. ...\n",
       "3  FORCLAZ By Decathlon\\nTREKKING 100 Boots\\nRs. ...\n",
       "4  Nike\\nAIR ZOOM PEGASUS Running Shoes\\nRs. 1092..."
      ]
     },
     "execution_count": 176,
     "metadata": {},
     "output_type": "execute_result"
    }
   ],
   "source": [
    "df.head()"
   ]
  },
  {
   "cell_type": "code",
   "execution_count": 177,
   "metadata": {},
   "outputs": [],
   "source": [
    "df[['Company Name', 'Description', 'Price', 'Extra']] = df[\"Company Name\"].str.split(\"\\n\",expand=True)"
   ]
  },
  {
   "cell_type": "code",
   "execution_count": 178,
   "metadata": {},
   "outputs": [
    {
     "data": {
      "text/html": [
       "<div>\n",
       "<style scoped>\n",
       "    .dataframe tbody tr th:only-of-type {\n",
       "        vertical-align: middle;\n",
       "    }\n",
       "\n",
       "    .dataframe tbody tr th {\n",
       "        vertical-align: top;\n",
       "    }\n",
       "\n",
       "    .dataframe thead th {\n",
       "        text-align: right;\n",
       "    }\n",
       "</style>\n",
       "<table border=\"1\" class=\"dataframe\">\n",
       "  <thead>\n",
       "    <tr style=\"text-align: right;\">\n",
       "      <th></th>\n",
       "      <th>Company Name</th>\n",
       "      <th>Description</th>\n",
       "      <th>Price</th>\n",
       "      <th>Extra</th>\n",
       "    </tr>\n",
       "  </thead>\n",
       "  <tbody>\n",
       "    <tr>\n",
       "      <th>0</th>\n",
       "      <td>PUMA Motorsport</td>\n",
       "      <td>Unisex Mercedes Running Shoes</td>\n",
       "      <td>Rs. 7999</td>\n",
       "      <td>Only Few Left!</td>\n",
       "    </tr>\n",
       "    <tr>\n",
       "      <th>1</th>\n",
       "      <td>ALDO</td>\n",
       "      <td>Men Sneakers</td>\n",
       "      <td>Rs. 9999</td>\n",
       "      <td>Only Few Left!</td>\n",
       "    </tr>\n",
       "    <tr>\n",
       "      <th>2</th>\n",
       "      <td>Nike</td>\n",
       "      <td>Men JOYRIDE Running Shoes</td>\n",
       "      <td>Rs. 10496Rs. 14995(30% OFF)</td>\n",
       "      <td>None</td>\n",
       "    </tr>\n",
       "    <tr>\n",
       "      <th>3</th>\n",
       "      <td>FORCLAZ By Decathlon</td>\n",
       "      <td>TREKKING 100 Boots</td>\n",
       "      <td>Rs. 6999</td>\n",
       "      <td>None</td>\n",
       "    </tr>\n",
       "    <tr>\n",
       "      <th>4</th>\n",
       "      <td>Nike</td>\n",
       "      <td>AIR ZOOM PEGASUS Running Shoes</td>\n",
       "      <td>Rs. 10920Rs. 11495(5% OFF)</td>\n",
       "      <td>None</td>\n",
       "    </tr>\n",
       "  </tbody>\n",
       "</table>\n",
       "</div>"
      ],
      "text/plain": [
       "           Company Name                     Description  \\\n",
       "0       PUMA Motorsport   Unisex Mercedes Running Shoes   \n",
       "1                  ALDO                    Men Sneakers   \n",
       "2                  Nike       Men JOYRIDE Running Shoes   \n",
       "3  FORCLAZ By Decathlon              TREKKING 100 Boots   \n",
       "4                  Nike  AIR ZOOM PEGASUS Running Shoes   \n",
       "\n",
       "                         Price           Extra  \n",
       "0                     Rs. 7999  Only Few Left!  \n",
       "1                     Rs. 9999  Only Few Left!  \n",
       "2  Rs. 10496Rs. 14995(30% OFF)            None  \n",
       "3                     Rs. 6999            None  \n",
       "4   Rs. 10920Rs. 11495(5% OFF)            None  "
      ]
     },
     "execution_count": 178,
     "metadata": {},
     "output_type": "execute_result"
    }
   ],
   "source": [
    "df.head()"
   ]
  },
  {
   "cell_type": "code",
   "execution_count": 179,
   "metadata": {},
   "outputs": [],
   "source": [
    "df.drop(columns = [\"Extra\"], axis=1, inplace= True)"
   ]
  },
  {
   "cell_type": "code",
   "execution_count": 180,
   "metadata": {},
   "outputs": [],
   "source": [
    "df[['Extra', 'Price','Price before discount']] = df[\"Price\"].str.split(\"Rs. \",expand=True)"
   ]
  },
  {
   "cell_type": "code",
   "execution_count": 181,
   "metadata": {},
   "outputs": [
    {
     "data": {
      "text/html": [
       "<div>\n",
       "<style scoped>\n",
       "    .dataframe tbody tr th:only-of-type {\n",
       "        vertical-align: middle;\n",
       "    }\n",
       "\n",
       "    .dataframe tbody tr th {\n",
       "        vertical-align: top;\n",
       "    }\n",
       "\n",
       "    .dataframe thead th {\n",
       "        text-align: right;\n",
       "    }\n",
       "</style>\n",
       "<table border=\"1\" class=\"dataframe\">\n",
       "  <thead>\n",
       "    <tr style=\"text-align: right;\">\n",
       "      <th></th>\n",
       "      <th>Company Name</th>\n",
       "      <th>Description</th>\n",
       "      <th>Price</th>\n",
       "      <th>Extra</th>\n",
       "      <th>Price before discount</th>\n",
       "    </tr>\n",
       "  </thead>\n",
       "  <tbody>\n",
       "    <tr>\n",
       "      <th>0</th>\n",
       "      <td>PUMA Motorsport</td>\n",
       "      <td>Unisex Mercedes Running Shoes</td>\n",
       "      <td>7999</td>\n",
       "      <td></td>\n",
       "      <td>None</td>\n",
       "    </tr>\n",
       "    <tr>\n",
       "      <th>1</th>\n",
       "      <td>ALDO</td>\n",
       "      <td>Men Sneakers</td>\n",
       "      <td>9999</td>\n",
       "      <td></td>\n",
       "      <td>None</td>\n",
       "    </tr>\n",
       "    <tr>\n",
       "      <th>2</th>\n",
       "      <td>Nike</td>\n",
       "      <td>Men JOYRIDE Running Shoes</td>\n",
       "      <td>10496</td>\n",
       "      <td></td>\n",
       "      <td>14995(30% OFF)</td>\n",
       "    </tr>\n",
       "    <tr>\n",
       "      <th>3</th>\n",
       "      <td>FORCLAZ By Decathlon</td>\n",
       "      <td>TREKKING 100 Boots</td>\n",
       "      <td>6999</td>\n",
       "      <td></td>\n",
       "      <td>None</td>\n",
       "    </tr>\n",
       "    <tr>\n",
       "      <th>4</th>\n",
       "      <td>Nike</td>\n",
       "      <td>AIR ZOOM PEGASUS Running Shoes</td>\n",
       "      <td>10920</td>\n",
       "      <td></td>\n",
       "      <td>11495(5% OFF)</td>\n",
       "    </tr>\n",
       "  </tbody>\n",
       "</table>\n",
       "</div>"
      ],
      "text/plain": [
       "           Company Name                     Description  Price Extra  \\\n",
       "0       PUMA Motorsport   Unisex Mercedes Running Shoes   7999         \n",
       "1                  ALDO                    Men Sneakers   9999         \n",
       "2                  Nike       Men JOYRIDE Running Shoes  10496         \n",
       "3  FORCLAZ By Decathlon              TREKKING 100 Boots   6999         \n",
       "4                  Nike  AIR ZOOM PEGASUS Running Shoes  10920         \n",
       "\n",
       "  Price before discount  \n",
       "0                  None  \n",
       "1                  None  \n",
       "2        14995(30% OFF)  \n",
       "3                  None  \n",
       "4         11495(5% OFF)  "
      ]
     },
     "execution_count": 181,
     "metadata": {},
     "output_type": "execute_result"
    }
   ],
   "source": [
    "df.head()"
   ]
  },
  {
   "cell_type": "code",
   "execution_count": 182,
   "metadata": {},
   "outputs": [],
   "source": [
    "df.drop(columns = ['Extra', 'Price before discount'], axis = 1, inplace = True)\n",
    "    "
   ]
  },
  {
   "cell_type": "code",
   "execution_count": 183,
   "metadata": {},
   "outputs": [
    {
     "data": {
      "text/html": [
       "<div>\n",
       "<style scoped>\n",
       "    .dataframe tbody tr th:only-of-type {\n",
       "        vertical-align: middle;\n",
       "    }\n",
       "\n",
       "    .dataframe tbody tr th {\n",
       "        vertical-align: top;\n",
       "    }\n",
       "\n",
       "    .dataframe thead th {\n",
       "        text-align: right;\n",
       "    }\n",
       "</style>\n",
       "<table border=\"1\" class=\"dataframe\">\n",
       "  <thead>\n",
       "    <tr style=\"text-align: right;\">\n",
       "      <th></th>\n",
       "      <th>Company Name</th>\n",
       "      <th>Description</th>\n",
       "      <th>Price</th>\n",
       "    </tr>\n",
       "  </thead>\n",
       "  <tbody>\n",
       "    <tr>\n",
       "      <th>0</th>\n",
       "      <td>PUMA Motorsport</td>\n",
       "      <td>Unisex Mercedes Running Shoes</td>\n",
       "      <td>7999</td>\n",
       "    </tr>\n",
       "    <tr>\n",
       "      <th>1</th>\n",
       "      <td>ALDO</td>\n",
       "      <td>Men Sneakers</td>\n",
       "      <td>9999</td>\n",
       "    </tr>\n",
       "    <tr>\n",
       "      <th>2</th>\n",
       "      <td>Nike</td>\n",
       "      <td>Men JOYRIDE Running Shoes</td>\n",
       "      <td>10496</td>\n",
       "    </tr>\n",
       "    <tr>\n",
       "      <th>3</th>\n",
       "      <td>FORCLAZ By Decathlon</td>\n",
       "      <td>TREKKING 100 Boots</td>\n",
       "      <td>6999</td>\n",
       "    </tr>\n",
       "    <tr>\n",
       "      <th>4</th>\n",
       "      <td>Nike</td>\n",
       "      <td>AIR ZOOM PEGASUS Running Shoes</td>\n",
       "      <td>10920</td>\n",
       "    </tr>\n",
       "  </tbody>\n",
       "</table>\n",
       "</div>"
      ],
      "text/plain": [
       "           Company Name                     Description  Price\n",
       "0       PUMA Motorsport   Unisex Mercedes Running Shoes   7999\n",
       "1                  ALDO                    Men Sneakers   9999\n",
       "2                  Nike       Men JOYRIDE Running Shoes  10496\n",
       "3  FORCLAZ By Decathlon              TREKKING 100 Boots   6999\n",
       "4                  Nike  AIR ZOOM PEGASUS Running Shoes  10920"
      ]
     },
     "execution_count": 183,
     "metadata": {},
     "output_type": "execute_result"
    }
   ],
   "source": [
    "df.head()"
   ]
  },
  {
   "cell_type": "markdown",
   "metadata": {},
   "source": [
    "### Q10: Go to webpage https://www.amazon.in/\n",
    "Enter “Laptop” in the search field and then click the search icon.\n",
    "Then set CPU Type filter to “Intel Core i7” and “Intel Core i9” as shown in the below image:\n",
    "\n",
    "After setting the filters scrape first 10 laptops data. You have to scrape 3 attributes for each laptop:\n",
    "1. title\n",
    "2. Ratings\n",
    "3. Price\n",
    "As shown in the below image as the tick marked attributes."
   ]
  },
  {
   "cell_type": "code",
   "execution_count": 184,
   "metadata": {},
   "outputs": [],
   "source": [
    "driver = webdriver.Chrome(r\"C:\\Users\\User\\Downloads\\chromedriver_win32\\chromedriver.exe\")"
   ]
  },
  {
   "cell_type": "code",
   "execution_count": 185,
   "metadata": {},
   "outputs": [],
   "source": [
    "url = \"https://www.amazon.in/\"\n",
    "driver.get(url)"
   ]
  },
  {
   "cell_type": "code",
   "execution_count": 186,
   "metadata": {},
   "outputs": [],
   "source": [
    "search = driver.find_element_by_id(\"twotabsearchtextbox\")"
   ]
  },
  {
   "cell_type": "code",
   "execution_count": 187,
   "metadata": {},
   "outputs": [],
   "source": [
    "search.send_keys(\"Laptop\")"
   ]
  },
  {
   "cell_type": "code",
   "execution_count": 188,
   "metadata": {},
   "outputs": [],
   "source": [
    "driver.find_element_by_id(\"nav-search-submit-button\").click()"
   ]
  },
  {
   "cell_type": "code",
   "execution_count": 189,
   "metadata": {},
   "outputs": [],
   "source": [
    "#i7 filter\n",
    "filter_button = driver.find_elements_by_xpath(\"//a[@class = 'a-link-normal s-navigation-item']/span\")\n",
    "for i in filter_button:\n",
    "    if i.text == 'Intel Core i7':\n",
    "        i.click()\n",
    "        break"
   ]
  },
  {
   "cell_type": "code",
   "execution_count": 190,
   "metadata": {},
   "outputs": [],
   "source": [
    "#i9 filter \n",
    "#Note: only 1 filter is acceptable at a time, either i7 or i9\n",
    "filter_button = driver.find_elements_by_xpath(\"//a[@class = 'a-link-normal s-navigation-item']/span\")\n",
    "for i in filter_button:\n",
    "    if i.text == 'Intel Core i9':\n",
    "        i.click()\n",
    "        break"
   ]
  },
  {
   "cell_type": "code",
   "execution_count": 191,
   "metadata": {},
   "outputs": [],
   "source": [
    "title = []\n",
    "rating = []\n",
    "price = []\n",
    "\n",
    "title_e = driver.find_elements_by_xpath(\"//span[@class='a-size-medium a-color-base a-text-normal']\")\n",
    "for j in title_e:\n",
    "    title.append(j.text)\n",
    "\n",
    "rating_e = driver.find_elements_by_xpath('//div[@class=\"a-section a-spacing-none a-spacing-top-micro\"]/div/span')\n",
    "for j in rating_e:\n",
    "    if (j.get_attribute('aria-label') != None) and ('stars' in j.get_attribute('aria-label')):\n",
    "        rating.append(j.get_attribute('aria-label'))\n",
    "    \n",
    "price_e = driver.find_elements_by_xpath(\"//span[@class='a-price-whole']\")\n",
    "for j in price_e:\n",
    "        price.append(j.text) "
   ]
  },
  {
   "cell_type": "code",
   "execution_count": 192,
   "metadata": {},
   "outputs": [],
   "source": [
    "df = pd.DataFrame(np.column_stack([title[0:10], rating[0:10], price[0:10]]), \n",
    "                               columns=[\"Title\", \"Rating\",\"Price\"])"
   ]
  },
  {
   "cell_type": "code",
   "execution_count": 193,
   "metadata": {},
   "outputs": [
    {
     "data": {
      "text/html": [
       "<div>\n",
       "<style scoped>\n",
       "    .dataframe tbody tr th:only-of-type {\n",
       "        vertical-align: middle;\n",
       "    }\n",
       "\n",
       "    .dataframe tbody tr th {\n",
       "        vertical-align: top;\n",
       "    }\n",
       "\n",
       "    .dataframe thead th {\n",
       "        text-align: right;\n",
       "    }\n",
       "</style>\n",
       "<table border=\"1\" class=\"dataframe\">\n",
       "  <thead>\n",
       "    <tr style=\"text-align: right;\">\n",
       "      <th></th>\n",
       "      <th>Title</th>\n",
       "      <th>Rating</th>\n",
       "      <th>Price</th>\n",
       "    </tr>\n",
       "  </thead>\n",
       "  <tbody>\n",
       "    <tr>\n",
       "      <th>0</th>\n",
       "      <td>ASUS ZenBook Duo Intel Core i7-10510U 10th Gen...</td>\n",
       "      <td>4.6 out of 5 stars</td>\n",
       "      <td>1,32,890</td>\n",
       "    </tr>\n",
       "    <tr>\n",
       "      <th>1</th>\n",
       "      <td>ASUS VivoBook S S14 Intel Core i7-1165G7 11th ...</td>\n",
       "      <td>4.4 out of 5 stars</td>\n",
       "      <td>77,990</td>\n",
       "    </tr>\n",
       "    <tr>\n",
       "      <th>2</th>\n",
       "      <td>HP Pavilion (2021) Thin &amp; Light 11th Gen Core ...</td>\n",
       "      <td>4.4 out of 5 stars</td>\n",
       "      <td>84,490</td>\n",
       "    </tr>\n",
       "    <tr>\n",
       "      <th>3</th>\n",
       "      <td>HP Pavilion Gaming 10th Gen Intel Core i7 Proc...</td>\n",
       "      <td>3.6 out of 5 stars</td>\n",
       "      <td>53,999</td>\n",
       "    </tr>\n",
       "    <tr>\n",
       "      <th>4</th>\n",
       "      <td>Mi Notebook Horizon Edition 14 Intel Core i5-1...</td>\n",
       "      <td>4.4 out of 5 stars</td>\n",
       "      <td>89,990</td>\n",
       "    </tr>\n",
       "  </tbody>\n",
       "</table>\n",
       "</div>"
      ],
      "text/plain": [
       "                                               Title              Rating  \\\n",
       "0  ASUS ZenBook Duo Intel Core i7-10510U 10th Gen...  4.6 out of 5 stars   \n",
       "1  ASUS VivoBook S S14 Intel Core i7-1165G7 11th ...  4.4 out of 5 stars   \n",
       "2  HP Pavilion (2021) Thin & Light 11th Gen Core ...  4.4 out of 5 stars   \n",
       "3  HP Pavilion Gaming 10th Gen Intel Core i7 Proc...  3.6 out of 5 stars   \n",
       "4  Mi Notebook Horizon Edition 14 Intel Core i5-1...  4.4 out of 5 stars   \n",
       "\n",
       "      Price  \n",
       "0  1,32,890  \n",
       "1    77,990  \n",
       "2    84,490  \n",
       "3    53,999  \n",
       "4    89,990  "
      ]
     },
     "execution_count": 193,
     "metadata": {},
     "output_type": "execute_result"
    }
   ],
   "source": [
    "df.head()"
   ]
  }
 ],
 "metadata": {
  "kernelspec": {
   "display_name": "Python 3",
   "language": "python",
   "name": "python3"
  },
  "language_info": {
   "codemirror_mode": {
    "name": "ipython",
    "version": 3
   },
   "file_extension": ".py",
   "mimetype": "text/x-python",
   "name": "python",
   "nbconvert_exporter": "python",
   "pygments_lexer": "ipython3",
   "version": "3.8.5"
  }
 },
 "nbformat": 4,
 "nbformat_minor": 4
}
