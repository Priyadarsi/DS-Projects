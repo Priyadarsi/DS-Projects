{
 "cells": [
  {
   "cell_type": "code",
   "execution_count": 1,
   "metadata": {
    "scrolled": true
   },
   "outputs": [
    {
     "name": "stdout",
     "output_type": "stream",
     "text": [
      "Requirement already satisfied: selenium in c:\\users\\user\\anaconda3\\lib\\site-packages (3.141.0)\n",
      "Requirement already satisfied: urllib3 in c:\\users\\user\\anaconda3\\lib\\site-packages (from selenium) (1.25.11)\n",
      "Note: you may need to restart the kernel to use updated packages.\n"
     ]
    }
   ],
   "source": [
    "pip install selenium"
   ]
  },
  {
   "cell_type": "code",
   "execution_count": 372,
   "metadata": {},
   "outputs": [],
   "source": [
    "import selenium\n",
    "import pandas as pd\n",
    "import numpy as np\n",
    "from selenium import webdriver\n",
    "import time\n",
    "from selenium.webdriver.support.ui import WebDriverWait\n",
    "from selenium.webdriver.support import expected_conditions as EC\n",
    "from selenium.webdriver.common.by import By\n",
    "from selenium.webdriver.common.keys import Keys\n",
    "from selenium.common.exceptions import StaleElementReferenceException, NoSuchElementException\n",
    "from selenium.common.exceptions import ElementClickInterceptedException, ElementNotInteractableException"
   ]
  },
  {
   "cell_type": "markdown",
   "metadata": {},
   "source": [
    "### Q1. Write a python program which searches all the product under a particular product vertical from www.amazon.in. The product verticals to be searched will be taken as input from user. For e.g. If user input is ‘guitar’. Then search for guitars."
   ]
  },
  {
   "cell_type": "code",
   "execution_count": 31,
   "metadata": {},
   "outputs": [
    {
     "name": "stdout",
     "output_type": "stream",
     "text": [
      "Enter the product category: guitar\n"
     ]
    }
   ],
   "source": [
    "webD = webdriver.Chrome(r\"C:\\Users\\User\\Downloads\\chromedriver_win32\\chromedriver.exe\")\n",
    "url = \"https://www.amazon.in/\"\n",
    "webD.get(url)\n",
    "search_box = webD.find_element_by_id('twotabsearchtextbox')\n",
    "search_box\n",
    "val = input(\"Enter the product category: \")\n",
    "search_box.send_keys(val)\n",
    "search_btn = webD.find_element_by_id('nav-search-submit-button')\n",
    "search_btn.click()"
   ]
  },
  {
   "cell_type": "markdown",
   "metadata": {},
   "source": [
    "### Q2. In the above question, now scrape the following details of each product listed in first 3 pages of your search results and save it in a dataframe and csv. In case if any product vertical has less than 3 pages in search results then scrape all the products available under that product vertical. Details to be scraped are: \"Brand Name\", \"Name of the Product\", \"Rating\", \"No. of Ratings\", \"Price\", \"Return/Exchange\", \"Expected Delivery\", \"Availability\", \"Other Details\" and “Product URL”. In case, if any of the details are missing for any of the product then replace it by “-“."
   ]
  },
  {
   "cell_type": "code",
   "execution_count": 32,
   "metadata": {},
   "outputs": [
    {
     "data": {
      "text/plain": [
       "187"
      ]
     },
     "execution_count": 32,
     "metadata": {},
     "output_type": "execute_result"
    }
   ],
   "source": [
    "#Running loop to store the product links in a list\n",
    "listOflinks =[]\n",
    "count = 1\n",
    "while count <4:\n",
    "    time.sleep(3)\n",
    "    productInfoList=webD.find_elements_by_xpath(\"//a[@class='a-link-normal a-text-normal']\")\n",
    "    for el in productInfoList:\n",
    "        listOflinks.append(el.get_attribute('href'))\n",
    "    link = webD.find_element_by_xpath(\"//li[@class = 'a-last']//a\")\n",
    "    link.click()\n",
    "    count += 1\n",
    "\n",
    "len(listOflinks)"
   ]
  },
  {
   "cell_type": "code",
   "execution_count": 100,
   "metadata": {},
   "outputs": [],
   "source": [
    "BrandName  = []\n",
    "Nameofproduct = []\n",
    "Ratings=[]\n",
    "NoofRatings = []\n",
    "Price=[]\n",
    "ReturnExchange = []\n",
    "ExpectedDelivery  =  []\n",
    "Availability = []\n",
    "OtherDetails = []\n",
    "Details = []"
   ]
  },
  {
   "cell_type": "code",
   "execution_count": 101,
   "metadata": {},
   "outputs": [],
   "source": [
    "for el in range(0,len(listOflinks)):\n",
    "    webD.get(listOflinks[el])\n",
    "    time.sleep(1)\n",
    "    title = webD.find_element_by_xpath('//*[@id=\"productTitle\"]').text\n",
    "    Nameofproduct.append(title)\n",
    "    BrandName.append(title.split(sep=' ')[0])\n",
    "    try:\n",
    "        Price.append(webD.find_element_by_id('priceblock_ourprice').text)\n",
    "    except NoSuchElementException:\n",
    "        try:\n",
    "            Price.append(webD.find_element_by_id('priceblock_dealprice').text)\n",
    "        except:\n",
    "            Price.append('-')\n",
    "    try:\n",
    "        ExpectedDelivery.append(webD.find_element_by_id('ddmDeliveryMessage').text.split(\":\")[1].replace(\" Details\",\"\"))\n",
    "    except:\n",
    "        ExpectedDelivery.append('-')\n",
    "    try:\n",
    "        Availability.append(webD.find_element_by_id('availability').text)\n",
    "    except:\n",
    "        Availability.append('-')\n",
    "    details = webD.find_elements_by_xpath('//*[@class=\"a-size-small a-link-normal a-text-normal\"]')\n",
    "    for i in details:\n",
    "        if 'Days' in i.text:\n",
    "            ReturnExchange.append(i.text)\n",
    "        if 'Delivered' in i.text:\n",
    "            OtherDetails.append(i.text)\n",
    "    if (len(OtherDetails)-1 < el):\n",
    "        OtherDetails.append('-')\n",
    "    stars = webD.find_elements_by_xpath('//*[@class=\"a-size-base\"]')\n",
    "    for i in stars:\n",
    "        if 'out of 5 stars' in i.text:\n",
    "            NoofRatings.append(i.text.split(\"\\n\")[0])\n",
    "            Ratings.append(i.text.split(\"\\n\")[1])\n",
    "    if (len(NoofRatings)-1 < el):\n",
    "        NoofRatings.append('-')\n",
    "    if (len(Ratings)-1 < el):    \n",
    "        Ratings.append('-')\n",
    "    #code to check execution of program happens correctly\n",
    "    BN = len(BrandName)\n",
    "    NP = len(Nameofproduct)\n",
    "    R = len(Ratings)\n",
    "    NR = len(NoofRatings)\n",
    "    P = len(Price)\n",
    "    RE = len(ReturnExchange)\n",
    "    ED = len(ExpectedDelivery)\n",
    "    A = len(Availability)\n",
    "    OD = len(OtherDetails)\n",
    "    if (BN == NP) and (NP == R) and (R == NR) and (NR == P) and (P == RE) and (RE == ED) and (ED == A) and (A == OD):\n",
    "        continue\n",
    "    else:\n",
    "        break"
   ]
  },
  {
   "cell_type": "code",
   "execution_count": 102,
   "metadata": {},
   "outputs": [
    {
     "data": {
      "text/plain": [
       "187"
      ]
     },
     "execution_count": 102,
     "metadata": {},
     "output_type": "execute_result"
    }
   ],
   "source": [
    "BN"
   ]
  },
  {
   "cell_type": "code",
   "execution_count": 103,
   "metadata": {},
   "outputs": [
    {
     "data": {
      "text/plain": [
       "187"
      ]
     },
     "execution_count": 103,
     "metadata": {},
     "output_type": "execute_result"
    }
   ],
   "source": [
    "NP"
   ]
  },
  {
   "cell_type": "code",
   "execution_count": 104,
   "metadata": {},
   "outputs": [
    {
     "data": {
      "text/plain": [
       "187"
      ]
     },
     "execution_count": 104,
     "metadata": {},
     "output_type": "execute_result"
    }
   ],
   "source": [
    "R"
   ]
  },
  {
   "cell_type": "code",
   "execution_count": 105,
   "metadata": {},
   "outputs": [
    {
     "data": {
      "text/plain": [
       "187"
      ]
     },
     "execution_count": 105,
     "metadata": {},
     "output_type": "execute_result"
    }
   ],
   "source": [
    "NR"
   ]
  },
  {
   "cell_type": "code",
   "execution_count": 106,
   "metadata": {},
   "outputs": [
    {
     "data": {
      "text/plain": [
       "187"
      ]
     },
     "execution_count": 106,
     "metadata": {},
     "output_type": "execute_result"
    }
   ],
   "source": [
    "P"
   ]
  },
  {
   "cell_type": "code",
   "execution_count": 107,
   "metadata": {},
   "outputs": [
    {
     "data": {
      "text/plain": [
       "187"
      ]
     },
     "execution_count": 107,
     "metadata": {},
     "output_type": "execute_result"
    }
   ],
   "source": [
    "RE"
   ]
  },
  {
   "cell_type": "code",
   "execution_count": 108,
   "metadata": {},
   "outputs": [
    {
     "data": {
      "text/plain": [
       "187"
      ]
     },
     "execution_count": 108,
     "metadata": {},
     "output_type": "execute_result"
    }
   ],
   "source": [
    "ED"
   ]
  },
  {
   "cell_type": "code",
   "execution_count": 109,
   "metadata": {},
   "outputs": [
    {
     "data": {
      "text/plain": [
       "187"
      ]
     },
     "execution_count": 109,
     "metadata": {},
     "output_type": "execute_result"
    }
   ],
   "source": [
    "A"
   ]
  },
  {
   "cell_type": "code",
   "execution_count": 110,
   "metadata": {},
   "outputs": [
    {
     "data": {
      "text/plain": [
       "187"
      ]
     },
     "execution_count": 110,
     "metadata": {},
     "output_type": "execute_result"
    }
   ],
   "source": [
    "OD"
   ]
  },
  {
   "cell_type": "code",
   "execution_count": 111,
   "metadata": {},
   "outputs": [],
   "source": [
    "df=pd.DataFrame({'BrandName': BrandName, 'Nameofproduct':Nameofproduct, 'Ratings':Ratings, 'NoofRatings': NoofRatings, 'Price': Price, 'ReturnExchange': ReturnExchange, 'ExpectedDelivery': ExpectedDelivery, \n",
    "'Availability': Availability, 'OtherDetails':  OtherDetails})"
   ]
  },
  {
   "cell_type": "code",
   "execution_count": 112,
   "metadata": {},
   "outputs": [
    {
     "data": {
      "text/html": [
       "<div>\n",
       "<style scoped>\n",
       "    .dataframe tbody tr th:only-of-type {\n",
       "        vertical-align: middle;\n",
       "    }\n",
       "\n",
       "    .dataframe tbody tr th {\n",
       "        vertical-align: top;\n",
       "    }\n",
       "\n",
       "    .dataframe thead th {\n",
       "        text-align: right;\n",
       "    }\n",
       "</style>\n",
       "<table border=\"1\" class=\"dataframe\">\n",
       "  <thead>\n",
       "    <tr style=\"text-align: right;\">\n",
       "      <th></th>\n",
       "      <th>BrandName</th>\n",
       "      <th>Nameofproduct</th>\n",
       "      <th>Ratings</th>\n",
       "      <th>NoofRatings</th>\n",
       "      <th>Price</th>\n",
       "      <th>ReturnExchange</th>\n",
       "      <th>ExpectedDelivery</th>\n",
       "      <th>Availability</th>\n",
       "      <th>OtherDetails</th>\n",
       "    </tr>\n",
       "  </thead>\n",
       "  <tbody>\n",
       "    <tr>\n",
       "      <th>0</th>\n",
       "      <td>Kadence</td>\n",
       "      <td>Kadence Frontier Jumbo Semi Acoustic Guitar Wi...</td>\n",
       "      <td>4.0 out of 5 stars</td>\n",
       "      <td>453 ratings</td>\n",
       "      <td>₹ 6,999.00</td>\n",
       "      <td>7 Days Replacement</td>\n",
       "      <td>Saturday, June 12</td>\n",
       "      <td>In stock.</td>\n",
       "      <td>Amazon Delivered</td>\n",
       "    </tr>\n",
       "    <tr>\n",
       "      <th>1</th>\n",
       "      <td>Juârez</td>\n",
       "      <td>Juârez Acoustic Guitar, 38 Inch Cutaway, 038C ...</td>\n",
       "      <td>3.9 out of 5 stars</td>\n",
       "      <td>9,803 ratings</td>\n",
       "      <td>₹ 2,499.00</td>\n",
       "      <td>7 Days Replacement</td>\n",
       "      <td>Saturday, June 12</td>\n",
       "      <td>In stock.</td>\n",
       "      <td>Amazon Delivered</td>\n",
       "    </tr>\n",
       "    <tr>\n",
       "      <th>2</th>\n",
       "      <td>Kadence</td>\n",
       "      <td>Kadence Frontier Series,Blue Acoustic Guitar W...</td>\n",
       "      <td>4.0 out of 5 stars</td>\n",
       "      <td>238 ratings</td>\n",
       "      <td>₹ 5,999.00</td>\n",
       "      <td>7 Days Replacement</td>\n",
       "      <td>Saturday, June 12</td>\n",
       "      <td>In stock.</td>\n",
       "      <td>Amazon Delivered</td>\n",
       "    </tr>\n",
       "    <tr>\n",
       "      <th>3</th>\n",
       "      <td>Kadence</td>\n",
       "      <td>Kadence Slowhand Premium Jumbo Size Semi Acous...</td>\n",
       "      <td>4.3 out of 5 stars</td>\n",
       "      <td>130 ratings</td>\n",
       "      <td>₹ 10,999.00</td>\n",
       "      <td>7 Days Replacement</td>\n",
       "      <td>Saturday, June 12</td>\n",
       "      <td>In stock.</td>\n",
       "      <td>Amazon Delivered</td>\n",
       "    </tr>\n",
       "    <tr>\n",
       "      <th>4</th>\n",
       "      <td>Juârez</td>\n",
       "      <td>Juârez Acoustic Guitar, 38 Inch Cutaway, 038C ...</td>\n",
       "      <td>3.9 out of 5 stars</td>\n",
       "      <td>9,803 ratings</td>\n",
       "      <td>₹ 2,499.00</td>\n",
       "      <td>7 Days Replacement</td>\n",
       "      <td>Saturday, June 12</td>\n",
       "      <td>In stock.</td>\n",
       "      <td>Amazon Delivered</td>\n",
       "    </tr>\n",
       "    <tr>\n",
       "      <th>...</th>\n",
       "      <td>...</td>\n",
       "      <td>...</td>\n",
       "      <td>...</td>\n",
       "      <td>...</td>\n",
       "      <td>...</td>\n",
       "      <td>...</td>\n",
       "      <td>...</td>\n",
       "      <td>...</td>\n",
       "      <td>...</td>\n",
       "    </tr>\n",
       "    <tr>\n",
       "      <th>182</th>\n",
       "      <td>JUAREZ</td>\n",
       "      <td>JUAREZ Arpeggio 39 Inch Acoustic Guitar Kit, S...</td>\n",
       "      <td>5.0 out of 5 stars</td>\n",
       "      <td>1 rating</td>\n",
       "      <td>₹ 4,659.00</td>\n",
       "      <td>7 Days Replacement</td>\n",
       "      <td>Sunday, June 13</td>\n",
       "      <td>In stock.</td>\n",
       "      <td>Amazon Delivered</td>\n",
       "    </tr>\n",
       "    <tr>\n",
       "      <th>183</th>\n",
       "      <td>JUAREZ</td>\n",
       "      <td>JUAREZ Arpeggio Guitar JRA39SR-BL-K, blue</td>\n",
       "      <td>-</td>\n",
       "      <td>-</td>\n",
       "      <td>₹ 6,729.00</td>\n",
       "      <td>7 Days Replacement</td>\n",
       "      <td>Sunday, June 13</td>\n",
       "      <td>In stock.</td>\n",
       "      <td>Amazon Delivered</td>\n",
       "    </tr>\n",
       "    <tr>\n",
       "      <th>184</th>\n",
       "      <td>JUAREZ</td>\n",
       "      <td>JUAREZ Arpeggio 41 Inch Acoustic Guitar Kit, S...</td>\n",
       "      <td>5.0 out of 5 stars</td>\n",
       "      <td>1 rating</td>\n",
       "      <td>₹ 4,569.00</td>\n",
       "      <td>7 Days Replacement</td>\n",
       "      <td>Saturday, June 12</td>\n",
       "      <td>In stock.</td>\n",
       "      <td>Amazon Delivered</td>\n",
       "    </tr>\n",
       "    <tr>\n",
       "      <th>185</th>\n",
       "      <td>JUAREZ</td>\n",
       "      <td>JUAREZ Arpeggio 39 Inch Semi-Acoustic Guitar K...</td>\n",
       "      <td>5.0 out of 5 stars</td>\n",
       "      <td>3 ratings</td>\n",
       "      <td>₹ 6,509.00</td>\n",
       "      <td>7 Days Replacement</td>\n",
       "      <td>Wednesday, June 9\\nFastest delivery</td>\n",
       "      <td>In stock.</td>\n",
       "      <td>Amazon Delivered</td>\n",
       "    </tr>\n",
       "    <tr>\n",
       "      <th>186</th>\n",
       "      <td>Kadence</td>\n",
       "      <td>Kadence Acoustica Series Semi Acoustic Ash Woo...</td>\n",
       "      <td>3.9 out of 5 stars</td>\n",
       "      <td>332 ratings</td>\n",
       "      <td>₹ 7,999.00</td>\n",
       "      <td>7 Days Replacement</td>\n",
       "      <td>Friday, June 11</td>\n",
       "      <td>In stock.</td>\n",
       "      <td>Amazon Delivered</td>\n",
       "    </tr>\n",
       "  </tbody>\n",
       "</table>\n",
       "<p>187 rows × 9 columns</p>\n",
       "</div>"
      ],
      "text/plain": [
       "    BrandName                                      Nameofproduct  \\\n",
       "0     Kadence  Kadence Frontier Jumbo Semi Acoustic Guitar Wi...   \n",
       "1      Juârez  Juârez Acoustic Guitar, 38 Inch Cutaway, 038C ...   \n",
       "2     Kadence  Kadence Frontier Series,Blue Acoustic Guitar W...   \n",
       "3     Kadence  Kadence Slowhand Premium Jumbo Size Semi Acous...   \n",
       "4      Juârez  Juârez Acoustic Guitar, 38 Inch Cutaway, 038C ...   \n",
       "..        ...                                                ...   \n",
       "182    JUAREZ  JUAREZ Arpeggio 39 Inch Acoustic Guitar Kit, S...   \n",
       "183    JUAREZ          JUAREZ Arpeggio Guitar JRA39SR-BL-K, blue   \n",
       "184    JUAREZ  JUAREZ Arpeggio 41 Inch Acoustic Guitar Kit, S...   \n",
       "185    JUAREZ  JUAREZ Arpeggio 39 Inch Semi-Acoustic Guitar K...   \n",
       "186   Kadence  Kadence Acoustica Series Semi Acoustic Ash Woo...   \n",
       "\n",
       "                Ratings    NoofRatings        Price      ReturnExchange  \\\n",
       "0    4.0 out of 5 stars    453 ratings   ₹ 6,999.00  7 Days Replacement   \n",
       "1    3.9 out of 5 stars  9,803 ratings   ₹ 2,499.00  7 Days Replacement   \n",
       "2    4.0 out of 5 stars    238 ratings   ₹ 5,999.00  7 Days Replacement   \n",
       "3    4.3 out of 5 stars    130 ratings  ₹ 10,999.00  7 Days Replacement   \n",
       "4    3.9 out of 5 stars  9,803 ratings   ₹ 2,499.00  7 Days Replacement   \n",
       "..                  ...            ...          ...                 ...   \n",
       "182  5.0 out of 5 stars       1 rating   ₹ 4,659.00  7 Days Replacement   \n",
       "183                   -              -   ₹ 6,729.00  7 Days Replacement   \n",
       "184  5.0 out of 5 stars       1 rating   ₹ 4,569.00  7 Days Replacement   \n",
       "185  5.0 out of 5 stars      3 ratings   ₹ 6,509.00  7 Days Replacement   \n",
       "186  3.9 out of 5 stars    332 ratings   ₹ 7,999.00  7 Days Replacement   \n",
       "\n",
       "                         ExpectedDelivery Availability      OtherDetails  \n",
       "0                       Saturday, June 12    In stock.  Amazon Delivered  \n",
       "1                       Saturday, June 12    In stock.  Amazon Delivered  \n",
       "2                       Saturday, June 12    In stock.  Amazon Delivered  \n",
       "3                       Saturday, June 12    In stock.  Amazon Delivered  \n",
       "4                       Saturday, June 12    In stock.  Amazon Delivered  \n",
       "..                                    ...          ...               ...  \n",
       "182                       Sunday, June 13    In stock.  Amazon Delivered  \n",
       "183                       Sunday, June 13    In stock.  Amazon Delivered  \n",
       "184                     Saturday, June 12    In stock.  Amazon Delivered  \n",
       "185   Wednesday, June 9\\nFastest delivery    In stock.  Amazon Delivered  \n",
       "186                       Friday, June 11    In stock.  Amazon Delivered  \n",
       "\n",
       "[187 rows x 9 columns]"
      ]
     },
     "execution_count": 112,
     "metadata": {},
     "output_type": "execute_result"
    }
   ],
   "source": [
    "df"
   ]
  },
  {
   "cell_type": "code",
   "execution_count": 113,
   "metadata": {},
   "outputs": [],
   "source": [
    "# saving the dataframe\n",
    "df.to_csv('guitar.csv')"
   ]
  },
  {
   "cell_type": "markdown",
   "metadata": {},
   "source": [
    "### Q3. Write a python program to access the search bar and search button on images.google.com and scrape 100 images each for keywords ‘fruits’, ‘cars’ and ‘Machine Learning’."
   ]
  },
  {
   "cell_type": "code",
   "execution_count": 373,
   "metadata": {},
   "outputs": [],
   "source": [
    "import os\n",
    "import selenium\n",
    "from selenium import webdriver\n",
    "import time\n",
    "import io\n",
    "import requests"
   ]
  },
  {
   "cell_type": "code",
   "execution_count": 374,
   "metadata": {},
   "outputs": [],
   "source": [
    "def downloadimage(search_element):\n",
    "    driver = webdriver.Chrome(r\"C:\\Users\\User\\Downloads\\chromedriver_win32\\chromedriver.exe\")\n",
    "    url = \"https://images.google.com/\"\n",
    "    driver.get(url)\n",
    "    search = driver.find_element_by_xpath(\"//input[@class = 'gLFyf gsfi']\")\n",
    "    search.send_keys(search_element)\n",
    "    search_btn = driver.find_element_by_xpath(\"//button[@class = 'Tg7LZd']\")\n",
    "    search_btn.click()\n",
    "    #Scroll to the end of the page\n",
    "    driver.execute_script(\"window.scrollTo(0, document.body.scrollHeight);\")\n",
    "    time.sleep(5)#sleep_between_interactions\n",
    "    #Locate the images to be scraped from the current page \n",
    "    imgResults = driver.find_elements_by_xpath(\"//img[contains(@class,'Q4LuWd')]\")\n",
    "\n",
    "    #Click on each Image to extract its corresponding link\n",
    "    img_urls = []\n",
    "    \n",
    "    for i in  range(0,len(imgResults)):\n",
    "        img=imgResults[i]\n",
    "        try:\n",
    "            img.click()\n",
    "            time.sleep(2)\n",
    "            actual_images = driver.find_elements_by_css_selector('img.n3VNCb')\n",
    "            for actual_image in actual_images:\n",
    "                if actual_image.get_attribute('src') and 'https' in actual_image.get_attribute('src'):\n",
    "                    img_urls.append(actual_image.get_attribute('src'))\n",
    "        except ElementClickInterceptedException or ElementNotInteractableException as err:\n",
    "            print(err)\n",
    "    \n",
    "    #printing the location of images\n",
    "    print(\"Images for \", search_element)\n",
    "    print(img_urls)\n",
    "    \n",
    "#    Saving the images to current directory\n",
    "    count = 0\n",
    "    for i in range(len(img_urls)):\n",
    "        try:\n",
    "            reponse = requests.get(img_urls[i])\n",
    "            if reponse.status_code == 200:\n",
    "                with open(f\"{search_element}{count+1}.jpg\",\"wb\") as file:\n",
    "                    file.write(reponse.content)\n",
    "                    count += 1\n",
    "        except ElementClickInterceptedException or ElementNotInteractableException as err:\n",
    "            print(err)\n",
    "    return"
   ]
  },
  {
   "cell_type": "code",
   "execution_count": 375,
   "metadata": {
    "scrolled": true
   },
   "outputs": [
    {
     "name": "stdout",
     "output_type": "stream",
     "text": [
      "Message: element click intercepted: Element <img data-ils=\"4\" jsaction=\"rcuQ6b:trigger.M8vzZb;\" class=\"rg_i Q4LuWd\" jsname=\"Q4LuWd\" width=\"241\" height=\"209\" data-index=\"0\" alt=\"8 Best Power Fruits for Better Health\" src=\"https://encrypted-tbn0.gstatic.com/images?q=tbn:ANd9GcR2A9Pch7uvfGdKgfIznLJs2dqlyZTVij4jVw&amp;usqp=CAU\"> is not clickable at point (148, 902). Other element would receive the click: <div jsname=\"r5xl4\" class=\"islrc\" style=\"width: 1083px;\">...</div>\n",
      "  (Session info: chrome=91.0.4472.77)\n",
      "\n",
      "Images for  fruits\n",
      "['https://images-na.ssl-images-amazon.com/images/I/91WdMqaFL6L.jpg', 'https://hips.hearstapps.com/hmg-prod.s3.amazonaws.com/images/assortment-of-colorful-ripe-tropical-fruits-top-royalty-free-image-995518546-1564092355.jpg', 'https://i.pinimg.com/originals/8a/6b/44/8a6b4439916eb8c3d52cbc2de66150d7.png', 'https://www.healthyeating.org/images/default-source/home-0.0/nutrition-topics-2.0/general-nutrition-wellness/2-2-2-3foodgroups_fruits_detailfeature_thumb.jpg?sfvrsn=7abe71fe_4', 'https://i.pinimg.com/originals/c2/2e/32/c22e324ceb7a7f5b1fc69152dd68d85b.jpg', 'https://res.cloudinary.com/grohealth/image/upload/$wpsize_!_cld_full!,w_2100,h_1427,c_scale/v1588088840/iStock-467652436.jpg', 'https://www.diagnosisdiet.com/assets/images/c/fruit-og-d176ef00.jpg', 'https://images-na.ssl-images-amazon.com/images/I/81Ms4iH%2B1lL._AC_SL1500_.jpg', 'https://www.unlockfood.ca/EatRightOntario/media/Website-images-resized/How-to-store-fruit-to-keep-it-fresh-resized.jpg', 'https://i2.wp.com/www.eatthis.com/wp-content/uploads/2021/04/fruits.jpg?fit=1200%2C879&ssl=1', 'https://analyticsindiamag.com/wp-content/uploads/2020/06/Capture.png', 'https://i.ytimg.com/vi/PY2OxP_jMZ0/maxresdefault.jpg', 'https://c.ndtvimg.com/2019-07/peorfu68_fruits_625x300_12_July_19.jpg', 'https://www.verywellhealth.com/thmb/0mTCeKqywiovRWMiugc4mN99CGQ=/2880x1918/filters:fill(87E3EF,1)/fruits-to-avoid-if-you-have-diabetes-1087587-primary-recirc-3a95a09a48cb46b49d5632326f9405d3.jpg', 'https://i0.wp.com/post.healthline.com/wp-content/uploads/2018/06/fruit-1296x728-header.jpg?w=1155&h=1528', 'https://www.learn-italian-online.net/images/img/vocabolario/Italian_Fruit_Names.jpg', 'https://static.toiimg.com/photo/76992342.cms', 'https://resize.indiatvnews.com/en/resize/newbucket/715_-/2020/11/fruits-1606296336.jpg', 'https://i.ytimg.com/vi/S0S1M9bKlYk/maxresdefault.jpg', 'https://encrypted-tbn0.gstatic.com/images?q=tbn:ANd9GcROYH-uaHxJxZllD4i4p-a6Jx_gDHTAudnBxQ&usqp=CAU', 'https://images.everydayhealth.com/images/ordinary-fruits-with-amazing-health-benefits-05-1440x810.jpg', 'https://encrypted-tbn0.gstatic.com/images?q=tbn:ANd9GcQrze6YgEOUkpBVygJ4r2nujU1dmBU0HPkdIw&usqp=CAU', 'https://encrypted-tbn0.gstatic.com/images?q=tbn:ANd9GcROYH-uaHxJxZllD4i4p-a6Jx_gDHTAudnBxQ&usqp=CAU', 'https://www.collinsdictionary.com/images/full/fruit_163436567.jpg', 'https://encrypted-tbn0.gstatic.com/images?q=tbn:ANd9GcS62r1-dyhhAiaOPeU9qZzlAGrbmoTygqATCQ&usqp=CAU', 'https://encrypted-tbn0.gstatic.com/images?q=tbn:ANd9GcQrze6YgEOUkpBVygJ4r2nujU1dmBU0HPkdIw&usqp=CAU', 'https://basket.com/wp-content/uploads/2018/07/What-Your-Favorite-Fruit-Says-About-You.jpg', 'https://encrypted-tbn0.gstatic.com/images?q=tbn:ANd9GcS6afDXm_DI47dUxDe_N__GpbJhol_BEnQs8g&usqp=CAU', 'https://encrypted-tbn0.gstatic.com/images?q=tbn:ANd9GcS62r1-dyhhAiaOPeU9qZzlAGrbmoTygqATCQ&usqp=CAU', 'https://images.healthshots.com/healthshots/en/uploads/2021/02/19110437/Cut-fruits-1.jpg', 'https://encrypted-tbn0.gstatic.com/images?q=tbn:ANd9GcSW6-wcjHidZnmyRC49cGYPUHr8CVeOD5gTuA&usqp=CAU', 'https://encrypted-tbn0.gstatic.com/images?q=tbn:ANd9GcS6afDXm_DI47dUxDe_N__GpbJhol_BEnQs8g&usqp=CAU', 'https://images-na.ssl-images-amazon.com/images/I/51eB6A+NrwL._SX325_BO1,204,203,200_.jpg', 'https://encrypted-tbn0.gstatic.com/images?q=tbn:ANd9GcQ0TRoKTY_TmII7EOceT09KN0X_xguZwG7DHQ&usqp=CAU', 'https://encrypted-tbn0.gstatic.com/images?q=tbn:ANd9GcSW6-wcjHidZnmyRC49cGYPUHr8CVeOD5gTuA&usqp=CAU', 'https://img.etimg.com/thumb/width-1200,height-900,imgsize-1339698,resizemode-1,msid-75370162/news/economy/agriculture/exotic-fruits-become-scarce-and-costlier-as-bottlenecks-in-transportation-emerge.jpg', 'https://encrypted-tbn0.gstatic.com/images?q=tbn:ANd9GcTgTRW4ZNSVuY8fB6SzZtmrsOIomb2Z8ShK9w&usqp=CAU', 'https://encrypted-tbn0.gstatic.com/images?q=tbn:ANd9GcQ0TRoKTY_TmII7EOceT09KN0X_xguZwG7DHQ&usqp=CAU', 'https://cdn.cnn.com/cnnnext/dam/assets/170405155528-01-fruits-poison-litchee-ackee-nerve-disease-live-video.jpg', 'https://encrypted-tbn0.gstatic.com/images?q=tbn:ANd9GcRigBeAVbrQ2jT4nkVv_Jfo4UQSnxFehkDL2g&usqp=CAU', 'https://encrypted-tbn0.gstatic.com/images?q=tbn:ANd9GcTgTRW4ZNSVuY8fB6SzZtmrsOIomb2Z8ShK9w&usqp=CAU', 'https://upload.wikimedia.org/wikipedia/commons/thumb/f/fa/Pomegranate_fruit_-_whole_and_piece_with_arils.jpg/220px-Pomegranate_fruit_-_whole_and_piece_with_arils.jpg', 'https://encrypted-tbn0.gstatic.com/images?q=tbn:ANd9GcQjsfUDUvWZc01lnUG7Z95c7LJ9evo--0rhKA&usqp=CAU', 'https://encrypted-tbn0.gstatic.com/images?q=tbn:ANd9GcRigBeAVbrQ2jT4nkVv_Jfo4UQSnxFehkDL2g&usqp=CAU', 'https://i.pinimg.com/474x/43/6b/a3/436ba34edc98ed65c9ed20e33456842b.jpg', 'https://encrypted-tbn0.gstatic.com/images?q=tbn:ANd9GcQJRKkpeuoWZGV5Qw7bQSJVeiJTz2vuL8s7WQ&usqp=CAU', 'https://encrypted-tbn0.gstatic.com/images?q=tbn:ANd9GcQjsfUDUvWZc01lnUG7Z95c7LJ9evo--0rhKA&usqp=CAU', 'https://post.healthline.com/wp-content/uploads/2021/05/apples-732x549-thumbnail.jpg', 'https://encrypted-tbn0.gstatic.com/images?q=tbn:ANd9GcRAFt0xHiff3fl4uAzBm9kkAa36Rnq2-i1lHQ&usqp=CAU', 'https://encrypted-tbn0.gstatic.com/images?q=tbn:ANd9GcQJRKkpeuoWZGV5Qw7bQSJVeiJTz2vuL8s7WQ&usqp=CAU', 'https://2rdnmg1qbg403gumla1v9i2h-wpengine.netdna-ssl.com/wp-content/uploads/sites/3/2015/07/fruitSalad-98841227-770x533-1-650x428.jpg', 'https://encrypted-tbn0.gstatic.com/images?q=tbn:ANd9GcR6SjYxZXy_JKZ6NhUw1ZlY2uLry91NcHxN6A&usqp=CAU', 'https://encrypted-tbn0.gstatic.com/images?q=tbn:ANd9GcRAFt0xHiff3fl4uAzBm9kkAa36Rnq2-i1lHQ&usqp=CAU', 'https://upload.wikimedia.org/wikipedia/commons/2/2f/Culinary_fruits_front_view.jpg', 'https://encrypted-tbn0.gstatic.com/images?q=tbn:ANd9GcRQhV-djjjKbnDRM1-Z36es-Xlgk2gytTqANQ&usqp=CAU', 'https://encrypted-tbn0.gstatic.com/images?q=tbn:ANd9GcR6SjYxZXy_JKZ6NhUw1ZlY2uLry91NcHxN6A&usqp=CAU', 'https://api.time.com/wp-content/uploads/2018/04/strawberries.jpg', 'https://encrypted-tbn0.gstatic.com/images?q=tbn:ANd9GcTw7tduEVdgN0Ato2FVDtEMNM4gMyTOdtPSUw&usqp=CAU', 'https://encrypted-tbn0.gstatic.com/images?q=tbn:ANd9GcRQhV-djjjKbnDRM1-Z36es-Xlgk2gytTqANQ&usqp=CAU', 'https://7esl.com/wp-content/uploads/2017/12/fruit.jpg', 'https://encrypted-tbn0.gstatic.com/images?q=tbn:ANd9GcScNsyItlDyI1EElKhTmRzYCioXSNaDvYNztw&usqp=CAU', 'https://encrypted-tbn0.gstatic.com/images?q=tbn:ANd9GcTw7tduEVdgN0Ato2FVDtEMNM4gMyTOdtPSUw&usqp=CAU', 'https://www.woodwardenglish.com/wp-content/uploads/2020/06/fruit-english-vocabulary.jpg', 'https://encrypted-tbn0.gstatic.com/images?q=tbn:ANd9GcSRmgU4zBr4B9fB234u2QU4n4BYjzHNaFwCOQ&usqp=CAU', 'https://encrypted-tbn0.gstatic.com/images?q=tbn:ANd9GcScNsyItlDyI1EElKhTmRzYCioXSNaDvYNztw&usqp=CAU', 'https://www.savinodelbene.com/wp-content/uploads/2020/11/trasporto_logistica_freshfruits_vegetables.jpg', 'https://encrypted-tbn0.gstatic.com/images?q=tbn:ANd9GcRapfG6VRBKRApzCEdIoKmjRp96gv1Ay-bbUA&usqp=CAU', 'https://encrypted-tbn0.gstatic.com/images?q=tbn:ANd9GcSRmgU4zBr4B9fB234u2QU4n4BYjzHNaFwCOQ&usqp=CAU', 'https://blog-images.pharmeasy.in/2020/10/16181407/shutterstock_1017075634-1-810x271.jpg', 'https://encrypted-tbn0.gstatic.com/images?q=tbn:ANd9GcTjGYtM-9wy7icoqSFQ7Nc2tiVHZ7M7DOsKuw&usqp=CAU', 'https://encrypted-tbn0.gstatic.com/images?q=tbn:ANd9GcRapfG6VRBKRApzCEdIoKmjRp96gv1Ay-bbUA&usqp=CAU', 'https://images.everydayhealth.com/images/ordinary-fruits-with-amazing-health-benefits-08-1440x810.jpg', 'https://encrypted-tbn0.gstatic.com/images?q=tbn:ANd9GcQcFRmI28s6kqvy0X6nEymNwMhEX-EdC9fjWA&usqp=CAU', 'https://encrypted-tbn0.gstatic.com/images?q=tbn:ANd9GcTjGYtM-9wy7icoqSFQ7Nc2tiVHZ7M7DOsKuw&usqp=CAU', 'https://www.iaea.org/sites/default/files/styles/original_image_size/public/vietnam-fruit-1140x640.jpg?itok=ZhmuZgCh', 'https://encrypted-tbn0.gstatic.com/images?q=tbn:ANd9GcT1HThnRcA-B9wVxBM3jYyEDdv1vOJtbCzrcw&usqp=CAU', 'https://encrypted-tbn0.gstatic.com/images?q=tbn:ANd9GcQcFRmI28s6kqvy0X6nEymNwMhEX-EdC9fjWA&usqp=CAU', 'https://images.indianexpress.com/2018/09/fruits-dreamstime.jpg', 'https://encrypted-tbn0.gstatic.com/images?q=tbn:ANd9GcSoGMXw8qL4lY4Lxbfk-dq6r-DELYghjEjItg&usqp=CAU', 'https://encrypted-tbn0.gstatic.com/images?q=tbn:ANd9GcT1HThnRcA-B9wVxBM3jYyEDdv1vOJtbCzrcw&usqp=CAU', 'https://i0.wp.com/images-prod.healthline.com/hlcmsresource/images/topic_centers/2020-7/fruit-still-life-1296x728-header.jpg?w=1155&h=1528', 'https://encrypted-tbn0.gstatic.com/images?q=tbn:ANd9GcRgxf6_nAXz7qiU4oQG5D7xVLrZb2b_Sd1-jg&usqp=CAU', 'https://encrypted-tbn0.gstatic.com/images?q=tbn:ANd9GcSoGMXw8qL4lY4Lxbfk-dq6r-DELYghjEjItg&usqp=CAU', 'https://www.healthifyme.com/blog/wp-content/uploads/2021/03/Seasonal-Fruits-in-India-and-its-Benefits.jpg', 'https://encrypted-tbn0.gstatic.com/images?q=tbn:ANd9GcTuqVSMTMLgaNVhWE4E6SWfAWCr1wuaPWhgkA&usqp=CAU', 'https://encrypted-tbn0.gstatic.com/images?q=tbn:ANd9GcRgxf6_nAXz7qiU4oQG5D7xVLrZb2b_Sd1-jg&usqp=CAU', 'https://encrypted-tbn0.gstatic.com/images?q=tbn:ANd9GcTXhp7jixSKRwe_WhjtcnisTdjoeP6sFkzTQA&usqp=CAU', 'https://encrypted-tbn0.gstatic.com/images?q=tbn:ANd9GcTuqVSMTMLgaNVhWE4E6SWfAWCr1wuaPWhgkA&usqp=CAU', 'https://www.ceceliahealth.com/wp-content/uploads/2021/02/iStock-924858812.jpg', 'https://encrypted-tbn0.gstatic.com/images?q=tbn:ANd9GcT9BRF42oNd8kfrjxN4Sg0691moXXtclvx_mA&usqp=CAU', 'https://encrypted-tbn0.gstatic.com/images?q=tbn:ANd9GcTXhp7jixSKRwe_WhjtcnisTdjoeP6sFkzTQA&usqp=CAU', 'https://www.berries.com/blog/wp-content/uploads/2019/05/types-of-fruit-avocado.jpg', 'https://encrypted-tbn0.gstatic.com/images?q=tbn:ANd9GcSYFPmypiw7PW8VNKtTiazr80huza3qbKpa6w&usqp=CAU', 'https://encrypted-tbn0.gstatic.com/images?q=tbn:ANd9GcT9BRF42oNd8kfrjxN4Sg0691moXXtclvx_mA&usqp=CAU', 'https://www.womansworld.com/wp-content/uploads/2019/06/kiwi-anti-aging.jpg?w=836', 'https://encrypted-tbn0.gstatic.com/images?q=tbn:ANd9GcQihItlAxlwlTHu7YJZKfP_mQ2fbchV6hA2og&usqp=CAU', 'https://encrypted-tbn0.gstatic.com/images?q=tbn:ANd9GcSYFPmypiw7PW8VNKtTiazr80huza3qbKpa6w&usqp=CAU', 'https://post.medicalnewstoday.com/wp-content/uploads/sites/3/2020/02/324431_2200-1200x628.jpg', 'https://encrypted-tbn0.gstatic.com/images?q=tbn:ANd9GcQBog_DenMpYuOakKUxnslSJc6cc41l_fsb6w&usqp=CAU', 'https://encrypted-tbn0.gstatic.com/images?q=tbn:ANd9GcQihItlAxlwlTHu7YJZKfP_mQ2fbchV6hA2og&usqp=CAU', 'https://media.lifehack.org/wp-content/files/2014/06/Fruits-and-vegetables-770x433.jpg', 'https://encrypted-tbn0.gstatic.com/images?q=tbn:ANd9GcQVEttZoEZw0MRpJ-uDyr6QiqzbIJyRR7ofNA&usqp=CAU', 'https://encrypted-tbn0.gstatic.com/images?q=tbn:ANd9GcQBog_DenMpYuOakKUxnslSJc6cc41l_fsb6w&usqp=CAU', 'https://i.insider.com/5ecec742988ee3402d46c1cc?width=700', 'https://encrypted-tbn0.gstatic.com/images?q=tbn:ANd9GcRMAaCWZ_X6KdFpkZ6P7E90GBR8ishK8wF5iA&usqp=CAU', 'https://encrypted-tbn0.gstatic.com/images?q=tbn:ANd9GcQVEttZoEZw0MRpJ-uDyr6QiqzbIJyRR7ofNA&usqp=CAU', 'https://i0.wp.com/images-prod.healthline.com/hlcmsresource/images/AN_images/blue-fruits-1296x728-feature.jpg?w=1155&h=1528', 'https://encrypted-tbn0.gstatic.com/images?q=tbn:ANd9GcQiQCohZJ791tQI_cy_nUeYGgNIMvuQ02q-6A&usqp=CAU', 'https://encrypted-tbn0.gstatic.com/images?q=tbn:ANd9GcRMAaCWZ_X6KdFpkZ6P7E90GBR8ishK8wF5iA&usqp=CAU', 'https://images.everydayhealth.com/images/ordinary-fruits-with-amazing-health-benefits-09-1440x810.jpg', 'https://encrypted-tbn0.gstatic.com/images?q=tbn:ANd9GcScPtz2ZoMJHYnZgrOoX4fWicItWpJT0savJQ&usqp=CAU', 'https://encrypted-tbn0.gstatic.com/images?q=tbn:ANd9GcQiQCohZJ791tQI_cy_nUeYGgNIMvuQ02q-6A&usqp=CAU', 'https://media.cntraveler.com/photos/546976f2cbbd2620680d9f2f/master/pass/rare-fruits-tout.jpg', 'https://encrypted-tbn0.gstatic.com/images?q=tbn:ANd9GcS4tE1kjL2O9m0AIbn4cg9qxBvx63TU4FNjNA&usqp=CAU', 'https://encrypted-tbn0.gstatic.com/images?q=tbn:ANd9GcScPtz2ZoMJHYnZgrOoX4fWicItWpJT0savJQ&usqp=CAU', 'https://static.toiimg.com/thumb/77721447.cms?width=680&height=512&imgsize=1208452', 'https://encrypted-tbn0.gstatic.com/images?q=tbn:ANd9GcT68b0O5wgNnMvg2hrPVjD4cRADRiFNcmXHvQ&usqp=CAU', 'https://encrypted-tbn0.gstatic.com/images?q=tbn:ANd9GcS4tE1kjL2O9m0AIbn4cg9qxBvx63TU4FNjNA&usqp=CAU', 'https://www.verywellfit.com/thmb/a4580FjTjbub9q4kI5m9X-Po-p0=/2002x1334/filters:no_upscale():max_bytes(150000):strip_icc()/Bananas-5c6a36a346e0fb0001f0e4a3.jpg', 'https://encrypted-tbn0.gstatic.com/images?q=tbn:ANd9GcQvcc_8J6lgVVlzMB-SZ0LZMryd_k2w43g5Iw&usqp=CAU', 'https://encrypted-tbn0.gstatic.com/images?q=tbn:ANd9GcT68b0O5wgNnMvg2hrPVjD4cRADRiFNcmXHvQ&usqp=CAU', 'https://www.verywellfit.com/thmb/j1qR83ZiIyfyvMTp08gidOAMXKw=/3000x2002/filters:fill(FFDB5D,1)/low-in-sugar-fruits_crop-e7e2361ab34641b4b529df389ce88e34.jpg', 'https://encrypted-tbn0.gstatic.com/images?q=tbn:ANd9GcRznMdYCvh-dFp-7GTRLFD13TMZy8_6mRtdMA&usqp=CAU', 'https://encrypted-tbn0.gstatic.com/images?q=tbn:ANd9GcQvcc_8J6lgVVlzMB-SZ0LZMryd_k2w43g5Iw&usqp=CAU', 'https://cdn.cliqueinc.com/posts/281986/fruits-that-are-high-in-sugar-281986-1566362117724-main.700x0c.jpg', 'https://encrypted-tbn0.gstatic.com/images?q=tbn:ANd9GcRlGZABr8vUEACtDgP6dj8oONHSh52PVQzVXg&usqp=CAU', 'https://encrypted-tbn0.gstatic.com/images?q=tbn:ANd9GcRznMdYCvh-dFp-7GTRLFD13TMZy8_6mRtdMA&usqp=CAU', 'https://miro.medium.com/max/601/1*CjEqlt11pvJQCRLTO_FTRw.png', 'https://encrypted-tbn0.gstatic.com/images?q=tbn:ANd9GcR2A9Pch7uvfGdKgfIznLJs2dqlyZTVij4jVw&usqp=CAU', 'https://encrypted-tbn0.gstatic.com/images?q=tbn:ANd9GcR2A9Pch7uvfGdKgfIznLJs2dqlyZTVij4jVw&usqp=CAU', 'https://www.lalpathlabs.com/blog/wp-content/uploads/2019/01/Fruits-and-Vegetables.jpg', 'https://encrypted-tbn0.gstatic.com/images?q=tbn:ANd9GcTGVRnL-Q10sWSJ6IwyYmhJYCTQP0QNQ0FFSg&usqp=CAU', 'https://encrypted-tbn0.gstatic.com/images?q=tbn:ANd9GcS-pM2cVm5aP1LOpQmwK2y41Ohv81XUmeds5g&usqp=CAU', 'https://images-eu.ssl-images-amazon.com/images/I/811eedRTj5L._AC_UL600_SR396,600_.jpg', 'https://encrypted-tbn0.gstatic.com/images?q=tbn:ANd9GcQA6yOWfPWP2ncAFz-eKvuGPQB4KfbpqzT5vA&usqp=CAU', 'https://encrypted-tbn0.gstatic.com/images?q=tbn:ANd9GcTGVRnL-Q10sWSJ6IwyYmhJYCTQP0QNQ0FFSg&usqp=CAU', 'https://encrypted-tbn0.gstatic.com/images?q=tbn:ANd9GcQA6yOWfPWP2ncAFz-eKvuGPQB4KfbpqzT5vA&usqp=CAU', 'https://encrypted-tbn0.gstatic.com/images?q=tbn:ANd9GcTFIp-Zqs3pZHBOsOGeSVeT5Ab31K1GeV-YEw&usqp=CAU', 'https://encrypted-tbn0.gstatic.com/images?q=tbn:ANd9GcQA6yOWfPWP2ncAFz-eKvuGPQB4KfbpqzT5vA&usqp=CAU', 'https://hips.hearstapps.com/hmg-prod.s3.amazonaws.com/images/assorted-fruit-in-bowl-royalty-free-image-903846026-1545573737.jpg?resize=480:*', 'https://encrypted-tbn0.gstatic.com/images?q=tbn:ANd9GcRdUDfOELEltqFcW_9mpgkgI04gN9BfYjya_Q&usqp=CAU', 'https://encrypted-tbn0.gstatic.com/images?q=tbn:ANd9GcTFIp-Zqs3pZHBOsOGeSVeT5Ab31K1GeV-YEw&usqp=CAU', 'https://www.heart.org/-/media/aha/h4gm/article-images/fruit-and-vegetables.jpg', 'https://encrypted-tbn0.gstatic.com/images?q=tbn:ANd9GcT10XOeJCqcdWg5f17TNXtbABp4-TFjzF41MA&usqp=CAU', 'https://encrypted-tbn0.gstatic.com/images?q=tbn:ANd9GcRdUDfOELEltqFcW_9mpgkgI04gN9BfYjya_Q&usqp=CAU', 'https://www.foodsafetynews.com/files/2020/03/fruits-and-vegetables.jpg', 'https://encrypted-tbn0.gstatic.com/images?q=tbn:ANd9GcRlwOaffmTmb0wv35dy3TYP47zo8PceXw0QXg&usqp=CAU', 'https://encrypted-tbn0.gstatic.com/images?q=tbn:ANd9GcT10XOeJCqcdWg5f17TNXtbABp4-TFjzF41MA&usqp=CAU', 'https://www.agmrc.org/media/cms/Dragon_Fruit_5C0D0B81A39AC.jpg', 'https://encrypted-tbn0.gstatic.com/images?q=tbn:ANd9GcQ4bZ8DbxzGHQO_xpJIHFwUWVKNraRdVme-QQ&usqp=CAU', 'https://encrypted-tbn0.gstatic.com/images?q=tbn:ANd9GcRlwOaffmTmb0wv35dy3TYP47zo8PceXw0QXg&usqp=CAU', 'https://images.indianexpress.com/2020/07/fruits_getty759.jpg', 'https://encrypted-tbn0.gstatic.com/images?q=tbn:ANd9GcSNZLnkDolVbBOFnO0cXiN3BD8a8NzE8odcmw&usqp=CAU', 'https://encrypted-tbn0.gstatic.com/images?q=tbn:ANd9GcQ4bZ8DbxzGHQO_xpJIHFwUWVKNraRdVme-QQ&usqp=CAU', 'https://www.berries.com/blog/wp-content/uploads/2017/03/Mixed-Fruits-100.jpg', 'https://encrypted-tbn0.gstatic.com/images?q=tbn:ANd9GcQi1jMN52gdkPzYUPdKtesa7uHIOvBPKSiFNA&usqp=CAU', 'https://encrypted-tbn0.gstatic.com/images?q=tbn:ANd9GcSNZLnkDolVbBOFnO0cXiN3BD8a8NzE8odcmw&usqp=CAU', 'https://encrypted-tbn0.gstatic.com/images?q=tbn:ANd9GcQi1jMN52gdkPzYUPdKtesa7uHIOvBPKSiFNA&usqp=CAU', 'https://encrypted-tbn0.gstatic.com/images?q=tbn:ANd9GcS-_Qp0xHt0hA8k_qVLW0cu9tbB3rtH1oC3qQ&usqp=CAU', 'https://encrypted-tbn0.gstatic.com/images?q=tbn:ANd9GcQi1jMN52gdkPzYUPdKtesa7uHIOvBPKSiFNA&usqp=CAU', 'https://static.toiimg.com/photo/78607953.cms', 'https://encrypted-tbn0.gstatic.com/images?q=tbn:ANd9GcSQUTyJ-Aht82ko0Lx4AKEFfFBeIIIcQ5rlUQ&usqp=CAU', 'https://encrypted-tbn0.gstatic.com/images?q=tbn:ANd9GcS-_Qp0xHt0hA8k_qVLW0cu9tbB3rtH1oC3qQ&usqp=CAU', 'https://vietnam.travel/sites/default/files/styles/top_banner/public/2018-07/best%20fruits%20in%20vietnam.jpg?itok=xW-XwIUM', 'https://encrypted-tbn0.gstatic.com/images?q=tbn:ANd9GcSMvZV81aVdJAGJOeAQlc9KbgUEGvfQzxO8TQ&usqp=CAU', 'https://encrypted-tbn0.gstatic.com/images?q=tbn:ANd9GcSQUTyJ-Aht82ko0Lx4AKEFfFBeIIIcQ5rlUQ&usqp=CAU', 'https://store-images.s-microsoft.com/image/apps.48526.13510798886601649.29155bfc-29e7-4cbc-8f3c-07cfce0201a2.9a85b5d2-68a0-426f-a9fe-36478f201bbe?mode=scale&q=90&h=400&w=800&background=%23464646', 'https://encrypted-tbn0.gstatic.com/images?q=tbn:ANd9GcRYtQ7VJ12OJGHpaF21VHfF3Vu-lF_9cQ32ug&usqp=CAU', 'https://encrypted-tbn0.gstatic.com/images?q=tbn:ANd9GcSMvZV81aVdJAGJOeAQlc9KbgUEGvfQzxO8TQ&usqp=CAU', 'https://imagesvc.meredithcorp.io/v3/mm/image?url=https%3A%2F%2Fimg1.cookinglight.timeinc.net%2Fsites%2Fdefault%2Ffiles%2F1502826406%2F1708w-getty-fruit-closeup-CarstenSchanter-EyeEm.jpg', 'https://encrypted-tbn0.gstatic.com/images?q=tbn:ANd9GcTp9tTxmOQpu56NJsxWI7RM-cwaRq4S7F78OQ&usqp=CAU', 'https://encrypted-tbn0.gstatic.com/images?q=tbn:ANd9GcRYtQ7VJ12OJGHpaF21VHfF3Vu-lF_9cQ32ug&usqp=CAU', 'https://image.sciencenordic.com/1452923.jpg?imageId=1452923&panow=0&panoh=0&panox=0&panoy=0&heightw=0&heighth=0&heightx=0&heighty=0&width=1200&height=630', 'https://encrypted-tbn0.gstatic.com/images?q=tbn:ANd9GcT7xDQEmfNzgVb6mWoMqj6U26katunVMNjwMg&usqp=CAU', 'https://encrypted-tbn0.gstatic.com/images?q=tbn:ANd9GcTp9tTxmOQpu56NJsxWI7RM-cwaRq4S7F78OQ&usqp=CAU', 'https://www.safefruitsandveggies.com/wp-content/uploads/2019/07/Eat-more-fruits-and-vegetables-1000x423.jpg', 'https://encrypted-tbn0.gstatic.com/images?q=tbn:ANd9GcSvZhlJXY23Pq9mPtc0l4f-_FufvVMIwy3rWA&usqp=CAU', 'https://encrypted-tbn0.gstatic.com/images?q=tbn:ANd9GcT7xDQEmfNzgVb6mWoMqj6U26katunVMNjwMg&usqp=CAU', 'https://blog-images.pharmeasy.in/2019/05/16193111/fruit.jpg', 'https://encrypted-tbn0.gstatic.com/images?q=tbn:ANd9GcTBJUrYiKaStYk6Z8F4RGBa5UEOTxt9ycchIQ&usqp=CAU', 'https://encrypted-tbn0.gstatic.com/images?q=tbn:ANd9GcSvZhlJXY23Pq9mPtc0l4f-_FufvVMIwy3rWA&usqp=CAU', 'https://delmonte-sitefinity-public.s3.amazonaws.com/images/default-source/default-album/fruits436108f9b3a440b5b421dca85dcc9b52_e5788bd0-7c2f-4fa3-94c6-19db5c4515cf.jpg?sfvrsn=c81eaee6_4', 'https://encrypted-tbn0.gstatic.com/images?q=tbn:ANd9GcTIPgPpe1aDXNhI1EBpcyE6X5nuGRiWw0dz0g&usqp=CAU', 'https://encrypted-tbn0.gstatic.com/images?q=tbn:ANd9GcTBJUrYiKaStYk6Z8F4RGBa5UEOTxt9ycchIQ&usqp=CAU', 'https://www.eatthis.com/wp-content/uploads//media/images/ext/769504118/apples-best-fruit-weight-loss.jpg', 'https://encrypted-tbn0.gstatic.com/images?q=tbn:ANd9GcSc90AMVXwVYTH5dToPvu2EjHVPyjEFYNEWWQ&usqp=CAU', 'https://encrypted-tbn0.gstatic.com/images?q=tbn:ANd9GcTIPgPpe1aDXNhI1EBpcyE6X5nuGRiWw0dz0g&usqp=CAU', 'https://post.healthline.com/wp-content/uploads/2020/10/organic_oranges_in_a_bowl-1200x628-facebook-1200x628.jpg', 'https://encrypted-tbn0.gstatic.com/images?q=tbn:ANd9GcTwmbjWK_eeyoT5xJr4JIresRijlqdZaoyyFg&usqp=CAU', 'https://encrypted-tbn0.gstatic.com/images?q=tbn:ANd9GcSc90AMVXwVYTH5dToPvu2EjHVPyjEFYNEWWQ&usqp=CAU', 'https://purewows3.imgix.net/images/articles/2021_02/high-protein-fruits-guava.jpg?auto=format,compress&cs=strip', 'https://encrypted-tbn0.gstatic.com/images?q=tbn:ANd9GcTghZdLlpvybwnp2_1yGXA7FCFKGcZfOu7nzw&usqp=CAU', 'https://encrypted-tbn0.gstatic.com/images?q=tbn:ANd9GcTwmbjWK_eeyoT5xJr4JIresRijlqdZaoyyFg&usqp=CAU', 'https://images.routledge.com/common/jackets/originals/978177188/9781771889193.tif', 'https://encrypted-tbn0.gstatic.com/images?q=tbn:ANd9GcRGHJT8q-l4tpC1yJh-mnZTLpp1feWPFNBJ2g&usqp=CAU', 'https://encrypted-tbn0.gstatic.com/images?q=tbn:ANd9GcTghZdLlpvybwnp2_1yGXA7FCFKGcZfOu7nzw&usqp=CAU', 'https://article.innovadatabase.com/articleimgs/article_images/637437091840703423fruit%20&%20veg.jpeg', 'https://encrypted-tbn0.gstatic.com/images?q=tbn:ANd9GcRQDr9ULjOquuPdJ2V--OpedrVVI29pJJP80g&usqp=CAU', 'https://encrypted-tbn0.gstatic.com/images?q=tbn:ANd9GcRGHJT8q-l4tpC1yJh-mnZTLpp1feWPFNBJ2g&usqp=CAU', 'https://img.webmd.com/dtmcms/live/webmd/consumer_assets/site_images/article_thumbnails/slideshows/fun_facts_fruits_and_vegetables_slideshow/650x350_fun_facts_fruits_and_vegetables_slideshow.jpg', 'https://encrypted-tbn0.gstatic.com/images?q=tbn:ANd9GcS7Z_7ACo9Az39Gtsult9nkaCM8GhlNW7_WYg&usqp=CAU', 'https://encrypted-tbn0.gstatic.com/images?q=tbn:ANd9GcRQDr9ULjOquuPdJ2V--OpedrVVI29pJJP80g&usqp=CAU', 'https://secure-ecsd.elsevier.com/covers/80/Tango2/large/9780128161845.jpg', 'https://encrypted-tbn0.gstatic.com/images?q=tbn:ANd9GcQHG5gQbUUVlPY3z3sikvWZ_KOcs_T0lliS7g&usqp=CAU', 'https://encrypted-tbn0.gstatic.com/images?q=tbn:ANd9GcS7Z_7ACo9Az39Gtsult9nkaCM8GhlNW7_WYg&usqp=CAU', 'https://imagesvc.meredithcorp.io/v3/mm/image?url=https%3A%2F%2Fstatic.onecms.io%2Fwp-content%2Fuploads%2Fsites%2F20%2F2021%2F03%2F01%2Ffruits-veggies1-2000.jpg&q=85', 'https://encrypted-tbn0.gstatic.com/images?q=tbn:ANd9GcRs6jAi_uzsZiWzYG4DETGAU0petUpZDmDC3A&usqp=CAU', 'https://encrypted-tbn0.gstatic.com/images?q=tbn:ANd9GcQHG5gQbUUVlPY3z3sikvWZ_KOcs_T0lliS7g&usqp=CAU', 'https://image.freepik.com/free-vector/fruits-frame-realistic-background_1284-29853.jpg', 'https://encrypted-tbn0.gstatic.com/images?q=tbn:ANd9GcQpA9cWc-h-jsFEGjctN6xQIIyjqnmPL4Mtcg&usqp=CAU', 'https://encrypted-tbn0.gstatic.com/images?q=tbn:ANd9GcRs6jAi_uzsZiWzYG4DETGAU0petUpZDmDC3A&usqp=CAU', 'https://images.everydayhealth.com/images/ordinary-fruits-with-amazing-health-benefits-03-1440x810.jpg?w=720', 'https://encrypted-tbn0.gstatic.com/images?q=tbn:ANd9GcRz2_X34ibmgT-ieSfqh_gthA0gBpYJaI-FOg&usqp=CAU', 'https://encrypted-tbn0.gstatic.com/images?q=tbn:ANd9GcQpA9cWc-h-jsFEGjctN6xQIIyjqnmPL4Mtcg&usqp=CAU', 'https://media.npr.org/assets/img/2019/07/17/gettyimages-688974837_wide-944211ea058f05f11b0ee601d1a20dcc5d35bab1.jpg?s=1400', 'https://encrypted-tbn0.gstatic.com/images?q=tbn:ANd9GcTmUw2lufsov9i2tyY2MTG4C5H7pNKgxpBfcg&usqp=CAU', 'https://encrypted-tbn0.gstatic.com/images?q=tbn:ANd9GcRz2_X34ibmgT-ieSfqh_gthA0gBpYJaI-FOg&usqp=CAU', 'https://www.treehugger.com/thmb/yLdK6RTlFDfgjAYzydMkstSGcus=/1280x800/filters:fill(auto,1)/herofruitedit-7e603ba24b4d46a5a60cd7974a90fba6.jpg', 'https://encrypted-tbn0.gstatic.com/images?q=tbn:ANd9GcQbyzwQx20akgrIDEW4ICiulWRH6IIjGRnMPA&usqp=CAU', 'https://encrypted-tbn0.gstatic.com/images?q=tbn:ANd9GcTmUw2lufsov9i2tyY2MTG4C5H7pNKgxpBfcg&usqp=CAU', 'https://thebetterindia-static.gumlet.io/wp-content/uploads/2016/10/exotic-fruits.jpg', 'https://encrypted-tbn0.gstatic.com/images?q=tbn:ANd9GcQiWY5__nAamE4BerQHY5_da_eHY-_vxhTwWA&usqp=CAU', 'https://encrypted-tbn0.gstatic.com/images?q=tbn:ANd9GcQbyzwQx20akgrIDEW4ICiulWRH6IIjGRnMPA&usqp=CAU', 'https://www.theluxurysignature.com/wp-content/uploads/2015/03/Rambutan-Fruit-1140x760.jpg', 'https://encrypted-tbn0.gstatic.com/images?q=tbn:ANd9GcQGmB2wcPD2grJf2p6QMDRkejA6Tf3RsSN1iQ&usqp=CAU', 'https://encrypted-tbn0.gstatic.com/images?q=tbn:ANd9GcQiWY5__nAamE4BerQHY5_da_eHY-_vxhTwWA&usqp=CAU', 'https://img.webmd.com/dtmcms/live/webmd/consumer_assets/site_images/article_thumbnails/slideshows/which_fruits_have_the_most_sugar_slideshow/650x350_which_fruits_have_the_most_sugar_slideshow.jpg', 'https://encrypted-tbn0.gstatic.com/images?q=tbn:ANd9GcTtb9bRoPtqxOMrug_0ayv6ww5oVvGWPzM69A&usqp=CAU', 'https://encrypted-tbn0.gstatic.com/images?q=tbn:ANd9GcQGmB2wcPD2grJf2p6QMDRkejA6Tf3RsSN1iQ&usqp=CAU', 'https://image.shutterstock.com/image-vector/fruits-vector-collection-english-names-260nw-242929888.jpg', 'https://encrypted-tbn0.gstatic.com/images?q=tbn:ANd9GcSM6FaMqO8nF21C_YUpfch4XTbcQLO-cidOcg&usqp=CAU', 'https://encrypted-tbn0.gstatic.com/images?q=tbn:ANd9GcTtb9bRoPtqxOMrug_0ayv6ww5oVvGWPzM69A&usqp=CAU', 'https://images.news18.com/ibnlive/uploads/2020/12/1608735821_pjimage-1.jpg', 'https://encrypted-tbn0.gstatic.com/images?q=tbn:ANd9GcT4fqXfgTypAMphAwIjfmK5Gvzfzj-5KQVKRA&usqp=CAU', 'https://encrypted-tbn0.gstatic.com/images?q=tbn:ANd9GcSM6FaMqO8nF21C_YUpfch4XTbcQLO-cidOcg&usqp=CAU', 'https://cdn.britannica.com/86/75886-050-B481C97E/Apricots.jpg', 'https://encrypted-tbn0.gstatic.com/images?q=tbn:ANd9GcRCrUohxabHlK5b2tuCvdUWy3zRbK9Mn_LO8g&usqp=CAU', 'https://encrypted-tbn0.gstatic.com/images?q=tbn:ANd9GcT4fqXfgTypAMphAwIjfmK5Gvzfzj-5KQVKRA&usqp=CAU', 'https://static01.nyt.com/images/2018/03/07/dining/00IMPORTS/00IMPORTS-videoSixteenByNineJumbo1600.jpg', 'https://encrypted-tbn0.gstatic.com/images?q=tbn:ANd9GcRC9s7r1XFAEZhAg3d9FHQ1Q13gIVzdid5cgQ&usqp=CAU', 'https://encrypted-tbn0.gstatic.com/images?q=tbn:ANd9GcRI2C2mp0oCS76i1PDcmFshBsSSRuW9Y7tvMg&usqp=CAU', 'https://media.istockphoto.com/vectors/infographic-about-seasonal-fruits-it-explains-what-fruits-you-c-vector-id635671794', 'https://encrypted-tbn0.gstatic.com/images?q=tbn:ANd9GcTILC4FiRYPWcPIRf4cgQFhS-8x1MihlFk8Hg&usqp=CAU', 'https://encrypted-tbn0.gstatic.com/images?q=tbn:ANd9GcRCrUohxabHlK5b2tuCvdUWy3zRbK9Mn_LO8g&usqp=CAU', 'https://www.thoughtco.com/thmb/5zFLvY1o-YerSE82C62IDm2gt70=/2000x2000/smart/filters:no_upscale()/fruits-in-spanish-3079956_FINAL1-5c538f4bc9e77c000102b941.png', 'https://encrypted-tbn0.gstatic.com/images?q=tbn:ANd9GcTXSWSPj3FbSgp4zz6jFdxztZAo19F0PJMPhQ&usqp=CAU', 'https://encrypted-tbn0.gstatic.com/images?q=tbn:ANd9GcRC9s7r1XFAEZhAg3d9FHQ1Q13gIVzdid5cgQ&usqp=CAU', 'https://encrypted-tbn0.gstatic.com/images?q=tbn:ANd9GcTXSWSPj3FbSgp4zz6jFdxztZAo19F0PJMPhQ&usqp=CAU', 'https://encrypted-tbn0.gstatic.com/images?q=tbn:ANd9GcQXirnVT6JKKc-hp_ALcZDUNrUclAaZxfgEHQ&usqp=CAU', 'https://encrypted-tbn0.gstatic.com/images?q=tbn:ANd9GcTXSWSPj3FbSgp4zz6jFdxztZAo19F0PJMPhQ&usqp=CAU', 'https://static.india.com/wp-content/uploads/2015/01/sb10067999h-001-300x168.jpg', 'https://encrypted-tbn0.gstatic.com/images?q=tbn:ANd9GcRI2C2mp0oCS76i1PDcmFshBsSSRuW9Y7tvMg&usqp=CAU', 'https://encrypted-tbn0.gstatic.com/images?q=tbn:ANd9GcQXirnVT6JKKc-hp_ALcZDUNrUclAaZxfgEHQ&usqp=CAU', 'https://static.onecms.io/wp-content/uploads/sites/23/2020/06/01/best-summer-fruits-2000.jpg', 'https://encrypted-tbn0.gstatic.com/images?q=tbn:ANd9GcSTGAL1dcvqVlRO9v4wQP1bnhUfULS33LnNrQ&usqp=CAU']\n"
     ]
    },
    {
     "name": "stdout",
     "output_type": "stream",
     "text": [
      "Images for  cars\n",
      "['https://specials-images.forbesimg.com/imageserve/5d3703e2f1176b00089761a6/960x0.jpg?cropX1=836&cropX2=5396&cropY1=799&cropY2=3364', 'https://hips.hearstapps.com/hmg-prod.s3.amazonaws.com/images/2022-chevrolet-corvette-z06-1607016574.jpg?crop=0.737xw:0.738xh;0.181xw,0.218xh&resize=640:*', 'https://media.wired.com/photos/5d09594a62bcb0c9752779d9/1:1/w_1500,h_1500,c_limit/Transpo_G70_TA-518126.jpg', 'https://cdn.luxe.digital/media/2020/12/15110747/fastest-cars-world-2021-luxe-digital%402x.jpg', 'https://www.extremetech.com/wp-content/uploads/2019/12/SONATA-hero-option1-764A5360-edit.jpg', 'https://media.wired.com/photos/5fd7ff52e0d489b7b9fd2e33/1:1/w_2400,c_limit/Business-MustangE-ERA04140.jpg', 'https://www.elitetraveler.com/wp-content/uploads/2019/07/Screenshot-2020-05-12-at-15.10.34.png', 'https://images.theconversation.com/files/274334/original/file-20190514-60570-gfti2h.jpg?ixlib=rb-1.1.0&q=45&auto=format&w=1200&h=900.0&fit=crop', 'https://i.ytimg.com/vi/dip_8dmrcaU/maxresdefault.jpg', 'https://cdn.motor1.com/images/mgl/mrz1e/s3/coolest-cars-feature.jpg', 'https://pv-magazine-usa.com/wp-content/uploads/sites/2/2019/10/FordEV-1200x800.jpeg', 'https://www.motortrend.com/uploads/sites/5/2019/12/MotorTrend-Most-Important-Cars-of-the-Decade.jpg', 'https://images.spot.im/v1/production/pv3nlrrv5dcxm4xccnpx', 'https://media-cldnry.s-nbcnews.com/image/upload/t_fit-760w,f_auto,q_auto:best/newscms/2018_12/2371046/180320-flying-car-aeromobil50-se-143p-2371046.jpg', 'https://hips.hearstapps.com/amv-prod-gp.s3.amazonaws.com/gearpatrol/wp-content/uploads/2019/10/Buy-a-Kia-Telluride-Instead-gear-patrol-slide-1.jpg?crop=0.620xw:0.919xh;0.293xw,0.0813xh&resize=640:*', 'https://img.etimg.com/thumb/width-1200,height-900,imgsize-118786,resizemode-1,msid-80420650/wealth/spend/best-cars-for-different-budgets-to-buy-in-2021.jpg', 'https://www.gannett-cdn.com/media/2019/04/25/USATODAY/usatsports/247WallSt.com-247WS-543507-ms.jpg?crop=1365,768,x0,y0&width=660&height=372&format=pjpg&auto=webp', 'https://hips.hearstapps.com/hmg-prod.s3.amazonaws.com/images/the-bugatti-chiron-is-shown-to-the-goodwood-festival-of-news-photo-1600106522.jpg?crop=0.641xw:1.00xh;0.127xw,0&resize=640:*', 'https://assets.bwbx.io/images/users/iqjWHBFdfxIU/iho0QqgeF4K8/v1/1000x-1.jpg', 'https://encrypted-tbn0.gstatic.com/images?q=tbn:ANd9GcQkjXP8X0w46em9bcD8NuKKwmVDV5eVLSETdA&usqp=CAU', 'https://encrypted-tbn0.gstatic.com/images?q=tbn:ANd9GcSpZ_PDUP9riLSxSoep77PZ9biFYtabFd31DQ&usqp=CAU', 'https://encrypted-tbn0.gstatic.com/images?q=tbn:ANd9GcQkjXP8X0w46em9bcD8NuKKwmVDV5eVLSETdA&usqp=CAU', 'https://i.ytimg.com/vi/_adJBzQgfsg/maxresdefault.jpg', 'https://encrypted-tbn0.gstatic.com/images?q=tbn:ANd9GcSlA0eAU6GcVj8tWtIr23DyIHOB78heapZhVA&usqp=CAU', 'https://encrypted-tbn0.gstatic.com/images?q=tbn:ANd9GcSpZ_PDUP9riLSxSoep77PZ9biFYtabFd31DQ&usqp=CAU', 'https://cars.usnews.com/pics/size/640x420/images/article/202102/128823/Best_Cars_for_the_Money.jpg', 'https://encrypted-tbn0.gstatic.com/images?q=tbn:ANd9GcRVkCO4ivr8ekmy7mwlk0HdBVPZJMhfnclepA&usqp=CAU', 'https://encrypted-tbn0.gstatic.com/images?q=tbn:ANd9GcSlA0eAU6GcVj8tWtIr23DyIHOB78heapZhVA&usqp=CAU', 'https://www.focus2move.com/wp-content/uploads/2020/08/Tesla-Roadster-2020-1024-03.jpg', 'https://encrypted-tbn0.gstatic.com/images?q=tbn:ANd9GcTkwGXQDS6Q-IVLhKWrdyaHw8WYNgWTE2juJQ&usqp=CAU', 'https://encrypted-tbn0.gstatic.com/images?q=tbn:ANd9GcRVkCO4ivr8ekmy7mwlk0HdBVPZJMhfnclepA&usqp=CAU', 'https://cars.usnews.com/images/article/202102/127885/1_2021_chevy_corvette.jpg', 'https://encrypted-tbn0.gstatic.com/images?q=tbn:ANd9GcTyejoDmoNx02SsCNHE9Ff5FjTwzOOlG1z78w&usqp=CAU', 'https://encrypted-tbn0.gstatic.com/images?q=tbn:ANd9GcTkwGXQDS6Q-IVLhKWrdyaHw8WYNgWTE2juJQ&usqp=CAU', 'https://i.ytimg.com/vi/7PXLPzcIydw/maxresdefault.jpg', 'https://encrypted-tbn0.gstatic.com/images?q=tbn:ANd9GcTPw0j0LeyCNn_OoYy9hqMuFrVKToA9pS62aw&usqp=CAU', 'https://encrypted-tbn0.gstatic.com/images?q=tbn:ANd9GcTyejoDmoNx02SsCNHE9Ff5FjTwzOOlG1z78w&usqp=CAU', 'https://akm-img-a-in.tosshub.com/sites/btmt/images/stories/lamborghini_660_140220101539.jpg', 'https://encrypted-tbn0.gstatic.com/images?q=tbn:ANd9GcS3HcVG27eK--uy6usCydFQ3udgQUt8firi2A&usqp=CAU', 'https://encrypted-tbn0.gstatic.com/images?q=tbn:ANd9GcTPw0j0LeyCNn_OoYy9hqMuFrVKToA9pS62aw&usqp=CAU', 'https://upload.wikimedia.org/wikipedia/en/3/34/Cars_2006.jpg', 'https://encrypted-tbn0.gstatic.com/images?q=tbn:ANd9GcRKIGFSswiWW45ht2mhXWdGO5wGxn6eZ5k1kA&usqp=CAU', 'https://encrypted-tbn0.gstatic.com/images?q=tbn:ANd9GcS3HcVG27eK--uy6usCydFQ3udgQUt8firi2A&usqp=CAU', 'https://cars.usnews.com/images/article/202103/126924/2021_BMW_X1_2_1.jpg', 'https://encrypted-tbn0.gstatic.com/images?q=tbn:ANd9GcSPTXYOJCG-NmDxyu_Rzo6oO5OMgCdRWgTkkA&usqp=CAU', 'https://encrypted-tbn0.gstatic.com/images?q=tbn:ANd9GcRKIGFSswiWW45ht2mhXWdGO5wGxn6eZ5k1kA&usqp=CAU', 'https://hips.hearstapps.com/hmg-prod.s3.amazonaws.com/images/new-ghost-white-fr-3-4-1-1598911711.jpg', 'https://encrypted-tbn0.gstatic.com/images?q=tbn:ANd9GcRTsFWHWh097Y_1tXqC5k3lAGJiw2J2C_lxAg&usqp=CAU', 'https://encrypted-tbn0.gstatic.com/images?q=tbn:ANd9GcSPTXYOJCG-NmDxyu_Rzo6oO5OMgCdRWgTkkA&usqp=CAU', 'https://hips.hearstapps.com/hmg-prod.s3.amazonaws.com/images/all-new-f-150-003-jpg-1618255219.jpg?crop=0.625xw:0.939xh;0.195xw,0&resize=640:*', 'https://encrypted-tbn0.gstatic.com/images?q=tbn:ANd9GcQ-3MwDlCOEG1GrAbFYmre27Ch1kvR5nBt1Qw&usqp=CAU', 'https://encrypted-tbn0.gstatic.com/images?q=tbn:ANd9GcRTsFWHWh097Y_1tXqC5k3lAGJiw2J2C_lxAg&usqp=CAU', 'https://web-assets.bcg.com/26/8e/d215507d494da753d8fbed2e7da8/will-consumers-finally-be-able-to-buy-new-cars-online-rectangle.jpg', 'https://encrypted-tbn0.gstatic.com/images?q=tbn:ANd9GcSXYx6Yw26_Ne5C8TVWWGHx-fWFXKcAQbuKhw&usqp=CAU', 'https://encrypted-tbn0.gstatic.com/images?q=tbn:ANd9GcQ-3MwDlCOEG1GrAbFYmre27Ch1kvR5nBt1Qw&usqp=CAU', 'https://cdn.simba-dickie-group.de/media/web-majorette/products/212053051/00/detail_zoom/street-cars-18-asst-212053051_00.jpeg?v=1584533197', 'https://encrypted-tbn0.gstatic.com/images?q=tbn:ANd9GcSetP6bHhhYHImiUgjD59J_2h3rz6C3ABagpA&usqp=CAU', 'https://encrypted-tbn0.gstatic.com/images?q=tbn:ANd9GcSXYx6Yw26_Ne5C8TVWWGHx-fWFXKcAQbuKhw&usqp=CAU', 'https://imgd.aeplcdn.com/600x337/n/cw/ec/32597/tata-altroz-right-front-three-quarter20.jpeg?q=85', 'https://encrypted-tbn0.gstatic.com/images?q=tbn:ANd9GcTQjFcOsHo5tCzy367Ot3CZDD_FUtiJHtWYBQ&usqp=CAU', 'https://encrypted-tbn0.gstatic.com/images?q=tbn:ANd9GcSetP6bHhhYHImiUgjD59J_2h3rz6C3ABagpA&usqp=CAU', 'https://static01.nyt.com/images/2020/03/05/multimedia/05sp-EUROPEAN-INYT1/05sp-EUROPEAN-INYT1-mediumSquareAt3X-v3.jpg', 'https://encrypted-tbn0.gstatic.com/images?q=tbn:ANd9GcRu-ZUNngwwx6Ezlq_qcXfVSoltHHccusuuMA&usqp=CAU', 'https://encrypted-tbn0.gstatic.com/images?q=tbn:ANd9GcTQjFcOsHo5tCzy367Ot3CZDD_FUtiJHtWYBQ&usqp=CAU', 'https://thumbor.forbes.com/thumbor/fit-in/960x720/filters:format(jpg)/https://www.forbes.com/wheels/wp-content/uploads/2020/12/Nissan-zproto-400z-960x540-1.png', 'https://encrypted-tbn0.gstatic.com/images?q=tbn:ANd9GcTxbjXwkwVr-14A0KU5__5zZb-b5nUEyJv2Rg&usqp=CAU', 'https://encrypted-tbn0.gstatic.com/images?q=tbn:ANd9GcRu-ZUNngwwx6Ezlq_qcXfVSoltHHccusuuMA&usqp=CAU', 'https://cdni.autocarindia.com/Utils/ImageResizer.ashx?n=https%3A%2F%2Fcdni.autocarindia.com%2FExtraImages%2F20210115062121_New_EVs_coming_in_2021.jpg&h=795&w=1200&c=0', 'https://encrypted-tbn0.gstatic.com/images?q=tbn:ANd9GcTqaUnBv1dqQEFA_lVjksvS1L5EG8eeI374iA&usqp=CAU', 'https://encrypted-tbn0.gstatic.com/images?q=tbn:ANd9GcTxbjXwkwVr-14A0KU5__5zZb-b5nUEyJv2Rg&usqp=CAU', 'https://image.cnbcfm.com/api/v1/image/106845268-1614203269431-AppleCar_YT_Thumbnail_Option.png?v=1614203346', 'https://encrypted-tbn0.gstatic.com/images?q=tbn:ANd9GcTQjBHWfRvri4hUjmGWPUPCorhGfoTbdRVHSg&usqp=CAU', 'https://encrypted-tbn0.gstatic.com/images?q=tbn:ANd9GcTqaUnBv1dqQEFA_lVjksvS1L5EG8eeI374iA&usqp=CAU', 'https://www.autocar.co.uk/sites/autocar.co.uk/files/styles/gallery_slide/public/images/car-reviews/first-drives/legacy/rrswbphev006.jpg?itok=9I7wPblq', 'https://encrypted-tbn0.gstatic.com/images?q=tbn:ANd9GcTsKzLErpnHncFM5VV1iB89o3VRvElixI9n_Q&usqp=CAU', 'https://encrypted-tbn0.gstatic.com/images?q=tbn:ANd9GcTQjBHWfRvri4hUjmGWPUPCorhGfoTbdRVHSg&usqp=CAU', 'https://i.natgeofe.com/n/60a70929-b8f8-4afc-a916-cad58f18e9ad/MM8010_130529_08768.jpg?w=636&h=425', 'https://encrypted-tbn0.gstatic.com/images?q=tbn:ANd9GcSuj2hiPtNHEXZcmp_gsFURBLWEBWpmzj237Q&usqp=CAU', 'https://encrypted-tbn0.gstatic.com/images?q=tbn:ANd9GcTsKzLErpnHncFM5VV1iB89o3VRvElixI9n_Q&usqp=CAU', 'https://www.aitrends.com/wp-content/uploads/2019/09/9-13SportsCar-2.jpg', 'https://encrypted-tbn0.gstatic.com/images?q=tbn:ANd9GcSClg8Jv0CIQXDk7hlr1b9X_T5zrK-YzQBA_w&usqp=CAU', 'https://encrypted-tbn0.gstatic.com/images?q=tbn:ANd9GcSuj2hiPtNHEXZcmp_gsFURBLWEBWpmzj237Q&usqp=CAU', 'https://www.mercedes-benz.com/en/vehicles/passenger-cars/mercedes-benz-concept-cars/vision-avtr/_jcr_content/image/MQ6-12-image-20200107130512/00-mercedes-benz-vehicles-concept-cars-vision-avtr-2560x1440.jpeg', 'https://encrypted-tbn0.gstatic.com/images?q=tbn:ANd9GcQN5IYvjyU-SvzPDU3HjlIbhC7EUOYEAodHNg&usqp=CAU', 'https://encrypted-tbn0.gstatic.com/images?q=tbn:ANd9GcSClg8Jv0CIQXDk7hlr1b9X_T5zrK-YzQBA_w&usqp=CAU', 'https://cdni.autocarindia.com/Utils/ImageResizer.ashx?n=https%3A%2F%2Fcdni.autocarindia.com%2FExtraImages%2F20210121031209_Every_new_sedan_coming_in_2021.jpg&h=795&w=1200&c=0', 'https://encrypted-tbn0.gstatic.com/images?q=tbn:ANd9GcTL8es92nEfJZrPYTja1BR9UumhnPnF3ObsWQ&usqp=CAU', 'https://encrypted-tbn0.gstatic.com/images?q=tbn:ANd9GcQN5IYvjyU-SvzPDU3HjlIbhC7EUOYEAodHNg&usqp=CAU', 'https://i.ytimg.com/vi/SbXIj2T-_uk/maxresdefault.jpg', 'https://encrypted-tbn0.gstatic.com/images?q=tbn:ANd9GcTJMric83qz2OdczJmQTw_jNnbCRM8DTlGigg&usqp=CAU', 'https://encrypted-tbn0.gstatic.com/images?q=tbn:ANd9GcTL8es92nEfJZrPYTja1BR9UumhnPnF3ObsWQ&usqp=CAU', 'https://www.ford.com/is/image/content/dam/vdm_ford/live/en_us/ford/nameplate/mustang/2021/collections/dm/21_FRD_MST_wdmp_200510_01612.tif?croppathe=1_3x2&wid=900', 'https://encrypted-tbn0.gstatic.com/images?q=tbn:ANd9GcRm5bry8IRa6hsiwr-WmKOo_bbdPZF-MxE0_g&usqp=CAU', 'https://encrypted-tbn0.gstatic.com/images?q=tbn:ANd9GcTJMric83qz2OdczJmQTw_jNnbCRM8DTlGigg&usqp=CAU', 'https://cars.tatamotors.com/images/design-mobile.jpg', 'https://encrypted-tbn0.gstatic.com/images?q=tbn:ANd9GcQXGlTy0FUnhNi4cc9phU677dGdWb6y_lzx1Q&usqp=CAU', 'https://encrypted-tbn0.gstatic.com/images?q=tbn:ANd9GcRm5bry8IRa6hsiwr-WmKOo_bbdPZF-MxE0_g&usqp=CAU', 'https://imgd.aeplcdn.com/370x208/n/cw/ec/54399/exterior-right-front-three-quarter-10.jpeg', 'https://encrypted-tbn0.gstatic.com/images?q=tbn:ANd9GcR0yqEeuK0aFN0Nqef8p9IPzvnJqBIkSjWZ1w&usqp=CAU', 'https://encrypted-tbn0.gstatic.com/images?q=tbn:ANd9GcQXGlTy0FUnhNi4cc9phU677dGdWb6y_lzx1Q&usqp=CAU', 'https://cdn.jdpower.com/JDPA_2020%20Cadillac%20CT5%20Luxury%20Sedan.jpg', 'https://encrypted-tbn0.gstatic.com/images?q=tbn:ANd9GcSMR16F7LgH7zGoJN3EbtLYlLzDcgAnjG_V-Q&usqp=CAU', 'https://encrypted-tbn0.gstatic.com/images?q=tbn:ANd9GcR0yqEeuK0aFN0Nqef8p9IPzvnJqBIkSjWZ1w&usqp=CAU', 'https://upload.wikimedia.org/wikipedia/commons/thumb/7/78/Rolls_Royce_Phantom_IV_1952.JPG/1200px-Rolls_Royce_Phantom_IV_1952.JPG', 'https://encrypted-tbn0.gstatic.com/images?q=tbn:ANd9GcQ2wyQeU49zZjJonR1H4JmKJYkvOehfVTN2qQ&usqp=CAU', 'https://encrypted-tbn0.gstatic.com/images?q=tbn:ANd9GcSMR16F7LgH7zGoJN3EbtLYlLzDcgAnjG_V-Q&usqp=CAU', 'https://www.businessinsider.in/photo/81459899/These-are-the-top-five-cars-with-the-highest-waiting-period-in-India.jpg', 'https://encrypted-tbn0.gstatic.com/images?q=tbn:ANd9GcT_O13qbjKt5a9bDZxydTj-m7R5F8UONq_efw&usqp=CAU', 'https://encrypted-tbn0.gstatic.com/images?q=tbn:ANd9GcQ2wyQeU49zZjJonR1H4JmKJYkvOehfVTN2qQ&usqp=CAU', 'https://etimg.etb2bimg.com/photo/73164879.cms', 'https://encrypted-tbn0.gstatic.com/images?q=tbn:ANd9GcQZGJVO13w5HUQ1dL1D_Vmy40tqj6zdJoQQXw&usqp=CAU', 'https://encrypted-tbn0.gstatic.com/images?q=tbn:ANd9GcT_O13qbjKt5a9bDZxydTj-m7R5F8UONq_efw&usqp=CAU', 'https://hips.hearstapps.com/hmg-prod.s3.amazonaws.com/images/mostbeauty-1584578506.jpg', 'https://encrypted-tbn0.gstatic.com/images?q=tbn:ANd9GcSiyRiZ_loY8PCKaKBH-j4Q5lLm3Rg7M30CMg&usqp=CAU', 'https://encrypted-tbn0.gstatic.com/images?q=tbn:ANd9GcQZGJVO13w5HUQ1dL1D_Vmy40tqj6zdJoQQXw&usqp=CAU', 'https://images.financialexpress.com/2020/04/most-expensive-cars-in-the-world-main.jpg', 'https://encrypted-tbn0.gstatic.com/images?q=tbn:ANd9GcRz88qc-1PJ4kSufR2q2eGQv1DPFPIRrBU-Mg&usqp=CAU', 'https://encrypted-tbn0.gstatic.com/images?q=tbn:ANd9GcSiyRiZ_loY8PCKaKBH-j4Q5lLm3Rg7M30CMg&usqp=CAU', 'https://static.theceomagazine.net/wp-content/uploads/2019/06/28114417/brabham-bt62.jpg', 'https://encrypted-tbn0.gstatic.com/images?q=tbn:ANd9GcRyKVWS5qC-aGHvy5yPSZ4Auh7F_mbfJqzYYQ&usqp=CAU', 'https://encrypted-tbn0.gstatic.com/images?q=tbn:ANd9GcRz88qc-1PJ4kSufR2q2eGQv1DPFPIRrBU-Mg&usqp=CAU', 'https://cdni.autocarindia.com/Utils/ImageResizer.ashx?n=https%3A%2F%2Fcdni.autocarindia.com%2FExtraImages%2F20201231052518_First-cars-world-most-famous-carmakers-WM.jpg&h=795&w=1200&c=0', 'https://encrypted-tbn0.gstatic.com/images?q=tbn:ANd9GcRoMjzxd2-Z-8V4veedZu4Bq-gvxRyhij-r3w&usqp=CAU', 'https://encrypted-tbn0.gstatic.com/images?q=tbn:ANd9GcRyKVWS5qC-aGHvy5yPSZ4Auh7F_mbfJqzYYQ&usqp=CAU', 'https://www.indiacarnews.com/wp-content/uploads/2020/10/Upcoming-7-seater-SUVs-MPVs-India.jpg', 'https://encrypted-tbn0.gstatic.com/images?q=tbn:ANd9GcRSQKbW3XBX70h8MkehkTyA8WgeAfsTeqhvow&usqp=CAU', 'https://encrypted-tbn0.gstatic.com/images?q=tbn:ANd9GcRoMjzxd2-Z-8V4veedZu4Bq-gvxRyhij-r3w&usqp=CAU', 'https://img.etimg.com/thumb/width-1200,height-900,imgsize-160990,resizemode-1,msid-77436302/industry/auto/auto-news/sale-of-used-cars-in-top-gear-in-india-amid-coronavirus-pandemic.jpg', 'https://encrypted-tbn0.gstatic.com/images?q=tbn:ANd9GcQHv9g5rzyFcqrVod5trntRDbCIX5wuUxLVxA&usqp=CAU', 'https://encrypted-tbn0.gstatic.com/images?q=tbn:ANd9GcRSQKbW3XBX70h8MkehkTyA8WgeAfsTeqhvow&usqp=CAU', 'https://images.hindustantimes.com/auto/img/2020/12/21/600x338/PTI14-06-2020_000068B_1592199699319_1608555602881.jpg', 'https://encrypted-tbn0.gstatic.com/images?q=tbn:ANd9GcSLzqNIqjsNVPoNQmPAew8OnS8_Kc2mEeuq2g&usqp=CAU', 'https://encrypted-tbn0.gstatic.com/images?q=tbn:ANd9GcQHv9g5rzyFcqrVod5trntRDbCIX5wuUxLVxA&usqp=CAU', 'https://thumbor.forbes.com/thumbor/fit-in/960x720/https://www.forbes.com/wheels/wp-content/uploads/2020/04/1920x0-21.jpg', 'https://encrypted-tbn0.gstatic.com/images?q=tbn:ANd9GcR0RH3CjFt4bVDpgqpoNsZKRoXu2GgfHulhvw&usqp=CAU', 'https://encrypted-tbn0.gstatic.com/images?q=tbn:ANd9GcSLzqNIqjsNVPoNQmPAew8OnS8_Kc2mEeuq2g&usqp=CAU', 'https://hips.hearstapps.com/hmg-prod.s3.amazonaws.com/images/dead-cars-2-illustration-web-by-ryan-olbrysh-1595946902.jpg', 'https://encrypted-tbn0.gstatic.com/images?q=tbn:ANd9GcQfCc1D6Z9ZVMNVQh72dzKrL4lH3SjBxuQTJA&usqp=CAU', 'https://encrypted-tbn0.gstatic.com/images?q=tbn:ANd9GcR0RH3CjFt4bVDpgqpoNsZKRoXu2GgfHulhvw&usqp=CAU', 'https://stimg.cardekho.com/images/carexteriorimages/630x420/Renault/KWID/7426/1617274332690/front-left-side-47.jpg?tr=w-300', 'https://encrypted-tbn0.gstatic.com/images?q=tbn:ANd9GcTi838oERVFM579aevZ5EZ7a6kEMnK-cHUcQw&usqp=CAU', 'https://encrypted-tbn0.gstatic.com/images?q=tbn:ANd9GcQfCc1D6Z9ZVMNVQh72dzKrL4lH3SjBxuQTJA&usqp=CAU', 'https://img.gaadicdn.com/images/carexteriorimages/630x420/Audi/RS-Q8/7943/1598516299283/front-left-side-47.jpg', 'https://encrypted-tbn0.gstatic.com/images?q=tbn:ANd9GcRAB7kg-BzgmUKqi4Vm7_y93lcrv0YaHc-9QA&usqp=CAU', 'https://encrypted-tbn0.gstatic.com/images?q=tbn:ANd9GcTi838oERVFM579aevZ5EZ7a6kEMnK-cHUcQw&usqp=CAU', 'https://cars.usnews.com/pics/size/390x290/images/Auto/izmo/i159614411/2021_chevrolet_corvette_stingray_angularfront.jpg', 'https://encrypted-tbn0.gstatic.com/images?q=tbn:ANd9GcR8zcKEKwNGX_-TjbxAQPubcbnR54X49hCUBA&usqp=CAU', 'https://encrypted-tbn0.gstatic.com/images?q=tbn:ANd9GcRAB7kg-BzgmUKqi4Vm7_y93lcrv0YaHc-9QA&usqp=CAU', 'https://cdn.arstechnica.net/wp-content/uploads/2020/08/AAA_testing-800x557.jpg', 'https://encrypted-tbn0.gstatic.com/images?q=tbn:ANd9GcTEQuybHIBWDz68w9q9HYT-2juK6ZD0qR3keQ&usqp=CAU', 'https://encrypted-tbn0.gstatic.com/images?q=tbn:ANd9GcR8zcKEKwNGX_-TjbxAQPubcbnR54X49hCUBA&usqp=CAU', 'https://www.autocar.co.uk/sites/autocar.co.uk/files/images/car-reviews/first-drives/legacy/porsche_911_carrera_s_manual_tracking.jpg', 'https://encrypted-tbn0.gstatic.com/images?q=tbn:ANd9GcSqyiBuexlR8OUYry8KH_2QVMYaJ0GLAMlY_Q&usqp=CAU', 'https://encrypted-tbn0.gstatic.com/images?q=tbn:ANd9GcTEQuybHIBWDz68w9q9HYT-2juK6ZD0qR3keQ&usqp=CAU', 'https://encrypted-tbn0.gstatic.com/images?q=tbn:ANd9GcSqyiBuexlR8OUYry8KH_2QVMYaJ0GLAMlY_Q&usqp=CAU', 'https://encrypted-tbn0.gstatic.com/images?q=tbn:ANd9GcTQqz2rehzlwXVlfaL_5hJfX3wDL3VnWoPJRg&usqp=CAU', 'https://encrypted-tbn0.gstatic.com/images?q=tbn:ANd9GcSqyiBuexlR8OUYry8KH_2QVMYaJ0GLAMlY_Q&usqp=CAU', 'https://imgd-ct.aeplcdn.com/340x192/n/cw/ec/94265/amg-gla35-right-front-three-quarter.jpeg', 'https://encrypted-tbn0.gstatic.com/images?q=tbn:ANd9GcRAiDN7gQzQ454oFAECduD9XvO2mVsdBGvrzw&usqp=CAU', 'https://encrypted-tbn0.gstatic.com/images?q=tbn:ANd9GcTQqz2rehzlwXVlfaL_5hJfX3wDL3VnWoPJRg&usqp=CAU', 'https://hips.hearstapps.com/hmg-prod.s3.amazonaws.com/images/mclaren-765lt-track-21-1605268504.jpg?crop=0.565xw:1.00xh;0.0684xw,0&resize=640:*', 'https://encrypted-tbn0.gstatic.com/images?q=tbn:ANd9GcQRa6KXJ6gPv-Ux97Ho6zex4b0aGUhGEkOQhg&usqp=CAU', 'https://encrypted-tbn0.gstatic.com/images?q=tbn:ANd9GcRAiDN7gQzQ454oFAECduD9XvO2mVsdBGvrzw&usqp=CAU', 'https://cdni.autocarindia.com/Utils/ImageResizer.ashx?n=https%3A%2F%2Fcdni.autocarindia.com%2FExtraImages%2F20210607031436_Skoda_Kushaq_production_1.jpg&h=480&w=737&c=1', 'https://encrypted-tbn0.gstatic.com/images?q=tbn:ANd9GcSsbdUipD5QWGPFrYq4DFHiLq5xMxpKXTGneg&usqp=CAU', 'https://encrypted-tbn0.gstatic.com/images?q=tbn:ANd9GcQRa6KXJ6gPv-Ux97Ho6zex4b0aGUhGEkOQhg&usqp=CAU', 'https://carsguide-res.cloudinary.com/image/upload/f_auto,fl_lossy,q_auto,t_cg_hero_large/v1/editorial/listicle/hero_image/2020-Bugatti%20Centodieci-1001x565-%282%29.jpg', 'https://encrypted-tbn0.gstatic.com/images?q=tbn:ANd9GcSLcc1Gf0crJNxlRq3XWcde64adE7tPB3E6mA&usqp=CAU', 'https://encrypted-tbn0.gstatic.com/images?q=tbn:ANd9GcSsbdUipD5QWGPFrYq4DFHiLq5xMxpKXTGneg&usqp=CAU', 'https://hips.hearstapps.com/hmg-prod.s3.amazonaws.com/images/carbon-fiber-shelby-mustang-1600685276.jpg?crop=0.9988636363636364xw:1xh;center,top&resize=480:*', 'https://encrypted-tbn0.gstatic.com/images?q=tbn:ANd9GcTqcfGoHclpTxfqBm5GCwJ_vXKTc9-WuRxeUg&usqp=CAU', 'https://encrypted-tbn0.gstatic.com/images?q=tbn:ANd9GcSLcc1Gf0crJNxlRq3XWcde64adE7tPB3E6mA&usqp=CAU', 'https://cdn.luxe.digital/media/2020/12/16175821/most-expensive-cars-2021-Maserati-MC20-luxe-digital%402x.jpg', 'https://encrypted-tbn0.gstatic.com/images?q=tbn:ANd9GcSIawJrQz1mK3AteC37Je-kMjgx1U1cptZ1WQ&usqp=CAU', 'https://encrypted-tbn0.gstatic.com/images?q=tbn:ANd9GcTqcfGoHclpTxfqBm5GCwJ_vXKTc9-WuRxeUg&usqp=CAU', 'https://images-na.ssl-images-amazon.com/images/S/sgp-catalog-images/region_US/disney-CAR093010-Full-Image_GalleryBackground-us-US-1622542353697._RI_.jpg', 'https://encrypted-tbn0.gstatic.com/images?q=tbn:ANd9GcRJbB6InU5GDEPql_neXAo7brWDkKGKONC1uA&usqp=CAU', 'https://encrypted-tbn0.gstatic.com/images?q=tbn:ANd9GcSIawJrQz1mK3AteC37Je-kMjgx1U1cptZ1WQ&usqp=CAU', 'https://static.autox.com/uploads/2021/01/Upcoming-cars-in-India-2021-Rs-1-crore-and-above.jpg', 'https://encrypted-tbn0.gstatic.com/images?q=tbn:ANd9GcSquA69N-5k10fcW_U1J6bmClSbvs0KRq8b9w&usqp=CAU', 'https://encrypted-tbn0.gstatic.com/images?q=tbn:ANd9GcRJbB6InU5GDEPql_neXAo7brWDkKGKONC1uA&usqp=CAU', 'https://cdn.vox-cdn.com/thumbor/JzT7CkmyTv3YKvg_M4m0QdXgxWI=/1400x1400/filters:format(jpeg)/cdn.vox-cdn.com/uploads/chorus_asset/file/22498522/1232684258.jpg', 'https://encrypted-tbn0.gstatic.com/images?q=tbn:ANd9GcSySY6DpujQ1JuJcborc--Lbx68WdRpwH_8hA&usqp=CAU', 'https://encrypted-tbn0.gstatic.com/images?q=tbn:ANd9GcSquA69N-5k10fcW_U1J6bmClSbvs0KRq8b9w&usqp=CAU', 'https://hips.hearstapps.com/hmg-prod.s3.amazonaws.com/images/2021-cheapest-new-cars-1608745888.jpg', 'https://encrypted-tbn0.gstatic.com/images?q=tbn:ANd9GcQUHenL8btshmEydhjLmItWr_n87bBkvBdrsA&usqp=CAU', 'https://encrypted-tbn0.gstatic.com/images?q=tbn:ANd9GcSySY6DpujQ1JuJcborc--Lbx68WdRpwH_8hA&usqp=CAU', 'https://media.gq-magazine.co.uk/photos/5fdcb8470d9a429c2d245628/master/pass/2021CARS_AUDIEtron.jpg', 'https://encrypted-tbn0.gstatic.com/images?q=tbn:ANd9GcTQ94VEkkPsuwMeJm-RPLw5rzduU_6_kFJ1bg&usqp=CAU', 'https://encrypted-tbn0.gstatic.com/images?q=tbn:ANd9GcQUHenL8btshmEydhjLmItWr_n87bBkvBdrsA&usqp=CAU', 'https://i.guim.co.uk/img/media/e7b233f1b5dc031834573fcd54ee415b7f08c67f/0_169_3500_2101/master/3500.jpg?width=445&quality=45&auto=format&fit=max&dpr=2&s=b96a4ace359d87bb393dd8ea0e0ee6dd', 'https://encrypted-tbn0.gstatic.com/images?q=tbn:ANd9GcQ5vthQxpFqDWmPlIUL4GnQdyyxSoP3_ZY4UQ&usqp=CAU', 'https://encrypted-tbn0.gstatic.com/images?q=tbn:ANd9GcTQ94VEkkPsuwMeJm-RPLw5rzduU_6_kFJ1bg&usqp=CAU', 'https://media.zigcdn.com/media/model/2021/May/seltos-3_270x180.jpg', 'https://encrypted-tbn0.gstatic.com/images?q=tbn:ANd9GcTvC4Trcx9oGaA-byaW2J633fFPYzWfg9IUbw&usqp=CAU', 'https://encrypted-tbn0.gstatic.com/images?q=tbn:ANd9GcQ5vthQxpFqDWmPlIUL4GnQdyyxSoP3_ZY4UQ&usqp=CAU', 'https://cars.tatamotors.com/images/tiago-mobile-banner-homepg.jpg', 'https://encrypted-tbn0.gstatic.com/images?q=tbn:ANd9GcSr_1d9kUp3SoTAkFJeBxNucG847bgMKAfzzA&usqp=CAU', 'https://encrypted-tbn0.gstatic.com/images?q=tbn:ANd9GcTvC4Trcx9oGaA-byaW2J633fFPYzWfg9IUbw&usqp=CAU', 'https://www.autocar.co.uk/sites/autocar.co.uk/files/styles/gallery_slide/public/images/car-reviews/first-drives/legacy/98_-_fastest_accelerating_road_cars_-_ferrari_f8_tributo.jpg?itok=cK2YYgq2', 'https://encrypted-tbn0.gstatic.com/images?q=tbn:ANd9GcQmbt8Qx0HMc7Huml2cPq1cEK2PMOcOpzqwJA&usqp=CAU', 'https://encrypted-tbn0.gstatic.com/images?q=tbn:ANd9GcSr_1d9kUp3SoTAkFJeBxNucG847bgMKAfzzA&usqp=CAU', 'https://media.autoexpress.co.uk/image/private/s--X-WVjvBW--/f_auto,t_content-image-full-desktop@1/v1606771333/autoexpress/2020/11/best-sports-cars.jpg', 'https://encrypted-tbn0.gstatic.com/images?q=tbn:ANd9GcRiG4anEkR3UHoOUDt1Ja0_UHflosrIS8y-JQ&usqp=CAU', 'https://encrypted-tbn0.gstatic.com/images?q=tbn:ANd9GcQmbt8Qx0HMc7Huml2cPq1cEK2PMOcOpzqwJA&usqp=CAU', 'https://images.livemint.com/img/2020/07/28/600x338/f31f3d1d13f2438cacb3a65550dd8fc5-f31f3d1d13f2438cacb3a65550dd8fc5-0_1595481600534_1595925295890.jpg', 'https://encrypted-tbn0.gstatic.com/images?q=tbn:ANd9GcRgVDYdBWuLWCxg_RcWaLxRkKz9Z3llNETlVQ&usqp=CAU', 'https://encrypted-tbn0.gstatic.com/images?q=tbn:ANd9GcRiG4anEkR3UHoOUDt1Ja0_UHflosrIS8y-JQ&usqp=CAU', 'https://thumbor.forbes.com/thumbor/trim/299x201:2851x1638/fit-in/711x400/smart/https://specials-images.forbesimg.com/imageserve/5d37046395e0230008f64edf/0x0.jpg', 'https://encrypted-tbn0.gstatic.com/images?q=tbn:ANd9GcSRH839BmZsHJsYR0IhbBVbAzOHqTqGAo4xcQ&usqp=CAU', 'https://encrypted-tbn0.gstatic.com/images?q=tbn:ANd9GcRgVDYdBWuLWCxg_RcWaLxRkKz9Z3llNETlVQ&usqp=CAU', 'https://images.livemint.com/rf/Image-621x414/LiveMint/Period2/2016/06/11/Photos/Leisure/car-kyFC--621x414@LiveMint.jpg', 'https://encrypted-tbn0.gstatic.com/images?q=tbn:ANd9GcSS0H6ETrj7gs1EWw8tCwVIhmDIx5E-qYrrWg&usqp=CAU', 'https://encrypted-tbn0.gstatic.com/images?q=tbn:ANd9GcSRH839BmZsHJsYR0IhbBVbAzOHqTqGAo4xcQ&usqp=CAU', 'https://www.cnet.com/a/img/XtH050ErlMIQxKn_HYUx2plJnDc=/940x528/2020/12/17/c9a829c8-69d6-4299-b2d0-cf9624aa7556/2021-acura-tlx-a-spec-65.jpg', 'https://encrypted-tbn0.gstatic.com/images?q=tbn:ANd9GcQukBHdFxBS0GXE917jSwrfdmbmrZrcQFAERQ&usqp=CAU', 'https://encrypted-tbn0.gstatic.com/images?q=tbn:ANd9GcSS0H6ETrj7gs1EWw8tCwVIhmDIx5E-qYrrWg&usqp=CAU', 'https://media.zigcdn.com/media/model/2019/Sep/bugatti-chiron_270x180.jpg', 'https://encrypted-tbn0.gstatic.com/images?q=tbn:ANd9GcRF7Y4YPlf8pI6rYlxezggjKXhlVo2BRcIS9w&usqp=CAU', 'https://encrypted-tbn0.gstatic.com/images?q=tbn:ANd9GcQukBHdFxBS0GXE917jSwrfdmbmrZrcQFAERQ&usqp=CAU', 'https://img.etimg.com/thumb/width-1200,height-900,imgsize-156583,resizemode-1,msid-80420848/wealth/spend/best-cars-under-rs-7-lakh-to-buy-in-2021.jpg', 'https://encrypted-tbn0.gstatic.com/images?q=tbn:ANd9GcRfM_fNbu0MzhwcNe6uy6un-XF2w3vFvAeyng&usqp=CAU', 'https://encrypted-tbn0.gstatic.com/images?q=tbn:ANd9GcRF7Y4YPlf8pI6rYlxezggjKXhlVo2BRcIS9w&usqp=CAU', 'https://c.ndtvimg.com/2021-05/nt9uj8jg_top-7-cars-offered-with-maximum-discounts-this-may_625x300_23_May_21.jpg', 'https://encrypted-tbn0.gstatic.com/images?q=tbn:ANd9GcRGPTava-JXAKWR4jjGZV1eB1MsHc9aonQWxA&usqp=CAU', 'https://encrypted-tbn0.gstatic.com/images?q=tbn:ANd9GcRfM_fNbu0MzhwcNe6uy6un-XF2w3vFvAeyng&usqp=CAU', 'https://www.bentleymotors.com/content/dam/bentley/Master/homepage%20carousel/1127_BEN_U9_BentaygaS_EXT_Rear34_v5a_R%201920x1080.jpg/_jcr_content/renditions/original./1127_BEN_U9_BentaygaS_EXT_Rear34_v5a_R%201920x1080.jpg', 'https://encrypted-tbn0.gstatic.com/images?q=tbn:ANd9GcTQ54vPlgWU9QiFKlid9eqJrSLtXo95wFXDJQ&usqp=CAU', 'https://encrypted-tbn0.gstatic.com/images?q=tbn:ANd9GcRGPTava-JXAKWR4jjGZV1eB1MsHc9aonQWxA&usqp=CAU', 'https://stimg.cardekho.com/images/carexteriorimages/630x420/Maruti/Swift/8378/1614747593719/front-left-side-47.jpg?impolicy=resize&imwidth=420', 'https://encrypted-tbn0.gstatic.com/images?q=tbn:ANd9GcQz8Y52J9BcuQ-1LSRChxcoMrjtWPfneoImSA&usqp=CAU', 'https://encrypted-tbn0.gstatic.com/images?q=tbn:ANd9GcTQ54vPlgWU9QiFKlid9eqJrSLtXo95wFXDJQ&usqp=CAU', 'https://static.toyotautrust.in/images/mobile-banner-toyota-with-india-1030x500.jpg', 'https://encrypted-tbn0.gstatic.com/images?q=tbn:ANd9GcR7-3Ui4sWzOriLGTRWiogjD0OAtCJ85bWZjQ&usqp=CAU', 'https://encrypted-tbn0.gstatic.com/images?q=tbn:ANd9GcQz8Y52J9BcuQ-1LSRChxcoMrjtWPfneoImSA&usqp=CAU', 'https://www.autocar.co.uk/sites/autocar.co.uk/files/styles/body-image/public/1-bmw-7-series-730ld-2019-uk-fd-hero-front.jpg?itok=3hIdcBPu', 'https://encrypted-tbn0.gstatic.com/images?q=tbn:ANd9GcTYDYskJxSHtGDZux64wGep4X5x0mXJluArkA&usqp=CAU', 'https://encrypted-tbn0.gstatic.com/images?q=tbn:ANd9GcR7-3Ui4sWzOriLGTRWiogjD0OAtCJ85bWZjQ&usqp=CAU', 'https://upload.wikimedia.org/wikipedia/commons/thumb/b/b6/Regera_%28light_gradient%29.png/1200px-Regera_%28light_gradient%29.png', 'https://encrypted-tbn0.gstatic.com/images?q=tbn:ANd9GcRC7gV-cpve4nugvUAOiPd9rvJc5RSyy9gTaw&usqp=CAU', 'https://encrypted-tbn0.gstatic.com/images?q=tbn:ANd9GcTYDYskJxSHtGDZux64wGep4X5x0mXJluArkA&usqp=CAU', 'https://www.ford.com/cmslibs/content/dam/brand_ford/en_us/brand/legacy/nameplate/cars/19_FRD_FSN_43010_PK_gas.jpg/_jcr_content/renditions/cq5dam.web.1280.1280.jpeg', 'https://encrypted-tbn0.gstatic.com/images?q=tbn:ANd9GcRiGL5ecI2CqiKzNz5EcJW0hSW1z6kAdl4cXg&usqp=CAU', 'https://encrypted-tbn0.gstatic.com/images?q=tbn:ANd9GcRC7gV-cpve4nugvUAOiPd9rvJc5RSyy9gTaw&usqp=CAU', 'https://www.bmw.com/content/dam/bmw/marketBMWCOM/bmw_com/categories/Innovation/ultrawideband/uwb-00-teaser-high.jpg.asset.1615394115268.jpg', 'https://encrypted-tbn0.gstatic.com/images?q=tbn:ANd9GcSRYNL0rO0wYIOhnOMJQazi1BRYuSoX8Iq0bA&usqp=CAU', 'https://encrypted-tbn0.gstatic.com/images?q=tbn:ANd9GcRiGL5ecI2CqiKzNz5EcJW0hSW1z6kAdl4cXg&usqp=CAU', 'https://specials-images.forbesimg.com/imageserve/5d37033a95e0230008f64eb2/960x0.jpg?cropX1=0&cropX2=3000&cropY1=157&cropY2=1844', 'https://encrypted-tbn0.gstatic.com/images?q=tbn:ANd9GcSWGvBIMKjRqiKRVEeGP4SU5-ODjSYCNNzXBw&usqp=CAU', 'https://encrypted-tbn0.gstatic.com/images?q=tbn:ANd9GcSRYNL0rO0wYIOhnOMJQazi1BRYuSoX8Iq0bA&usqp=CAU', 'https://imgd.aeplcdn.com/0x0/n/cw/ec/20865/amg-gt-exterior-right-front-three-quarter-60800.jpeg', 'https://encrypted-tbn0.gstatic.com/images?q=tbn:ANd9GcSXPek6PMZlBK7JtCXTQ9P3hvshTzzGQZ3MmA&usqp=CAU', 'https://encrypted-tbn0.gstatic.com/images?q=tbn:ANd9GcSWGvBIMKjRqiKRVEeGP4SU5-ODjSYCNNzXBw&usqp=CAU', 'https://www.focus2move.com/wp-content/uploads/2020/03/david-von-diemar-9DU0FgX4T6Q-unsplash-scaled.jpg', 'https://encrypted-tbn0.gstatic.com/images?q=tbn:ANd9GcSYMip3D0MVNyo14G18QfF6vqYYMKVy6WPy6Q&usqp=CAU', 'https://encrypted-tbn0.gstatic.com/images?q=tbn:ANd9GcSXPek6PMZlBK7JtCXTQ9P3hvshTzzGQZ3MmA&usqp=CAU', 'https://images.livemint.com/img/2020/09/16/1600x900/carsales-koVB--621x414@LiveMint_1600277936612.jpg', 'https://encrypted-tbn0.gstatic.com/images?q=tbn:ANd9GcTSsaWHqtDbCU1p78pn4eLGDAesjDOlaJMkdg&usqp=CAU']\n"
     ]
    },
    {
     "name": "stdout",
     "output_type": "stream",
     "text": [
      "Images for  Machine Learning\n",
      "['https://thumbor.forbes.com/thumbor/960x0/https%3A%2F%2Fspecials-images.forbesimg.com%2Fdam%2Fimageserve%2F966248982%2F960x0.jpg%3Ffit%3Dscale', 'https://thumbor.forbes.com/thumbor/fit-in/1200x0/filters%3Aformat%28jpg%29/https%3A%2F%2Fspecials-images.forbesimg.com%2Fdam%2Fimageserve%2F1129869424%2F0x0.jpg%3Ffit%3Dscale', 'https://data-flair.training/blogs/wp-content/uploads/sites/2/2017/07/what-is-machine-learning-1200x900.jpg', 'https://mobidev.biz/wp-content/uploads/2020/01/machine-learning-methods-demand-forecasting-1.png', 'https://www.techrepublic.com/a/hub/i/r/2019/02/14/bfa2d5fd-49b2-4fb7-9d80-a060e61ddb65/resize/1200x900/6ca9ded9a9c7f016ba21c07defbaa398/machine-learning.jpg', 'https://www.expert.ai/wp-content/uploads/2017/03/machine-learning-definition.jpeg', 'https://www.thermofisher.com/blog/connectedlab/wp-content/uploads/sites/14/2020/01/istock-962219860-2-scaled.jpg', 'https://www.ie.edu/exponential-learning/blog/wp-content/uploads/2018/01/MachineLearninginMarketing-1621x1000.jpg', 'https://www.nokia.com/sites/default/files/styles/nokia_blog_page_image/public/blog/nokia-analytics-banner.jpg', 'https://wordstream-files-prod.s3.amazonaws.com/s3fs-public/styles/simple_image/public/images/machine-learning1.png?SnePeroHk5B9yZaLY7peFkULrfW8Gtaf&itok=yjEJbEKD', 'https://www.simplilearn.com/ice9/free_resources_article_thumb/Deep-Learning-vs-Machine-Learning.jpg', 'https://www.iberdrola.com/wcorp/gc/prod/en_US/comunicacion/machine_learning_mult_1_res/machine_learning_746x419.jpg', 'https://blog.bismart.com/hubfs/20190903-MachineLearning.jpg', 'https://www.bbva.com/wp-content/uploads/2019/11/machine-learning-1024x629.jpg', 'https://media.geeksforgeeks.org/wp-content/cdn-uploads/machineLearning3.png', 'https://upload.wikimedia.org/wikipedia/commons/thumb/b/bb/AI-ML-DL.svg/220px-AI-ML-DL.svg.png', 'https://www.techfunnel.com/wp-content/uploads/2020/12/machine-learning-vs-deep-learning.png', 'https://encrypted-tbn0.gstatic.com/images?q=tbn:ANd9GcRNYkZLW3iUc9ksvBB_uVgcLL_evUZkgYAlJA&usqp=CAU', 'https://miro.medium.com/max/700/0*jng0i9svVVe7L7sj', 'https://encrypted-tbn0.gstatic.com/images?q=tbn:ANd9GcRSsWWkH9e-FFjiX3POTneXGGJUHAz2DFCU6w&usqp=CAU', 'https://encrypted-tbn0.gstatic.com/images?q=tbn:ANd9GcRNYkZLW3iUc9ksvBB_uVgcLL_evUZkgYAlJA&usqp=CAU', 'https://blog.bismart.com/hs-fs/hubfs/02-MachinelearningVSDeeplearning_Mesa%20de%20trabajo%201%20copia%202_Mesa%20de%20trabajo%201%20copia%202.jpg?width=3509&name=02-MachinelearningVSDeeplearning_Mesa%20de%20trabajo%201%20copia%202_Mesa%20de%20trabajo%201%20copia%202.jpg', 'https://encrypted-tbn0.gstatic.com/images?q=tbn:ANd9GcS8abGOPPGSsXlL1LCDbx86fl36YVe5JaEHaw&usqp=CAU', 'https://encrypted-tbn0.gstatic.com/images?q=tbn:ANd9GcRSsWWkH9e-FFjiX3POTneXGGJUHAz2DFCU6w&usqp=CAU', 'https://cdn-media-1.freecodecamp.org/images/1*92h6Lg1Bu1F9QqoVNrkLdQ.jpeg', 'https://encrypted-tbn0.gstatic.com/images?q=tbn:ANd9GcQEyekXlKE_eGOgLIm-Eax2YIL70q4NornNyA&usqp=CAU', 'https://encrypted-tbn0.gstatic.com/images?q=tbn:ANd9GcS8abGOPPGSsXlL1LCDbx86fl36YVe5JaEHaw&usqp=CAU', 'https://www.altexsoft.com/media/2021/01/how-machine-learning-works-in-spam-detection.png', 'https://encrypted-tbn0.gstatic.com/images?q=tbn:ANd9GcTh9yA97jRkJphKklE-G81pRFmzaSBTM4NPFA&usqp=CAU', 'https://encrypted-tbn0.gstatic.com/images?q=tbn:ANd9GcQEyekXlKE_eGOgLIm-Eax2YIL70q4NornNyA&usqp=CAU', 'https://www.securityroundtable.org/wp-content/uploads/2019/06/machine-learning.png', 'https://encrypted-tbn0.gstatic.com/images?q=tbn:ANd9GcSrqPSV1NlpA6A-mUXfKlgbC6ci9VWcwgg1CA&usqp=CAU', 'https://encrypted-tbn0.gstatic.com/images?q=tbn:ANd9GcTh9yA97jRkJphKklE-G81pRFmzaSBTM4NPFA&usqp=CAU', 'https://emerj.com/wp-content/uploads/2016/09/What-is-Machine-Learning_-950x540.jpg', 'https://encrypted-tbn0.gstatic.com/images?q=tbn:ANd9GcRs6s7hyj4AjilLRAsXKOGODpotWHFcjyA_yw&usqp=CAU', 'https://encrypted-tbn0.gstatic.com/images?q=tbn:ANd9GcSrqPSV1NlpA6A-mUXfKlgbC6ci9VWcwgg1CA&usqp=CAU', 'https://coschedule.s3.amazonaws.com/106308/910af4fa-63fa-4346-a2f2-ef280e8a250f/1576687016462.png', 'https://encrypted-tbn0.gstatic.com/images?q=tbn:ANd9GcR7j4ASNxTH7SfD3heeO9eFXPxDPhF2_no5eA&usqp=CAU', 'https://encrypted-tbn0.gstatic.com/images?q=tbn:ANd9GcRs6s7hyj4AjilLRAsXKOGODpotWHFcjyA_yw&usqp=CAU', 'https://mobidev.biz/wp-content/uploads/2020/08/2400-unsupervised-machine-learning-improve-data-quality.png', 'https://encrypted-tbn0.gstatic.com/images?q=tbn:ANd9GcRNfq7FthuJM8V7ev3FRCeqqHjmcXLDXlkwng&usqp=CAU', 'https://encrypted-tbn0.gstatic.com/images?q=tbn:ANd9GcR7j4ASNxTH7SfD3heeO9eFXPxDPhF2_no5eA&usqp=CAU', 'https://miro.medium.com/max/2400/1*c_fiB-YgbnMl6nntYGBMHQ.jpeg', 'https://encrypted-tbn0.gstatic.com/images?q=tbn:ANd9GcTlrRupcFP48cR8T8Lv0nmohh-nsuFWuKy90Q&usqp=CAU', 'https://encrypted-tbn0.gstatic.com/images?q=tbn:ANd9GcRNfq7FthuJM8V7ev3FRCeqqHjmcXLDXlkwng&usqp=CAU', 'https://appen.com/wp-content/uploads/2018/09/machine-learning-wiki.jpg', 'https://encrypted-tbn0.gstatic.com/images?q=tbn:ANd9GcTHBZXhU1FyM_4ZduyEhMkEwdZmLPlSSy192Q&usqp=CAU', 'https://encrypted-tbn0.gstatic.com/images?q=tbn:ANd9GcTlrRupcFP48cR8T8Lv0nmohh-nsuFWuKy90Q&usqp=CAU', 'https://d1m75rqqgidzqn.cloudfront.net/2019/10/What-is-Machine-Learning-Machine-learning-model-vs-traditional-model.jpg', 'https://encrypted-tbn0.gstatic.com/images?q=tbn:ANd9GcRXLJv5P4pJmN8u-i2w-YFrW55kvzw7pxKaZQ&usqp=CAU', 'https://encrypted-tbn0.gstatic.com/images?q=tbn:ANd9GcTHBZXhU1FyM_4ZduyEhMkEwdZmLPlSSy192Q&usqp=CAU', 'https://www.udacity.com/blog/wp-content/uploads/2020/08/ML-Data-Analaysis_Blog-scaled.jpeg', 'https://encrypted-tbn0.gstatic.com/images?q=tbn:ANd9GcQh4HzGIRo74WpbQfcr6SFZFkcsiykKzX5A-w&usqp=CAU', 'https://encrypted-tbn0.gstatic.com/images?q=tbn:ANd9GcRXLJv5P4pJmN8u-i2w-YFrW55kvzw7pxKaZQ&usqp=CAU', 'https://www.kdnuggets.com/wp-content/uploads/deploy-machine-learning-models-to-web.jpg', 'https://encrypted-tbn0.gstatic.com/images?q=tbn:ANd9GcQ5LFpAD-FPmniqb8OCMo64l4q87A37IN6UMQ&usqp=CAU', 'https://encrypted-tbn0.gstatic.com/images?q=tbn:ANd9GcQh4HzGIRo74WpbQfcr6SFZFkcsiykKzX5A-w&usqp=CAU', 'https://cdn.britannica.com/s:800x450,c:crop/40/216540-138-14385CFE/How-machine-learning-is-predicting-synthetic-products.jpg', 'https://encrypted-tbn0.gstatic.com/images?q=tbn:ANd9GcSrRz46aBUHH4k31ax64El8Gw2VsFhEaPDsxw&usqp=CAU', 'https://encrypted-tbn0.gstatic.com/images?q=tbn:ANd9GcQ5LFpAD-FPmniqb8OCMo64l4q87A37IN6UMQ&usqp=CAU', 'https://www.ceralytics.com/wp-content/uploads/2019/08/machine-learning-featured.jpg', 'https://encrypted-tbn0.gstatic.com/images?q=tbn:ANd9GcSp2BlkHDrMpBa5pOZAgpzkL8RMmvgEU5I_Aw&usqp=CAU', 'https://encrypted-tbn0.gstatic.com/images?q=tbn:ANd9GcSrRz46aBUHH4k31ax64El8Gw2VsFhEaPDsxw&usqp=CAU', 'https://7qkiy1yofpnz20qc4wdcb9t6-wpengine.netdna-ssl.com/wp-content/uploads/2020/07/machine-learning-infographics-2-scaled.jpg', 'https://encrypted-tbn0.gstatic.com/images?q=tbn:ANd9GcToqqMfOrfY6GZ4px8jFHkK_4NtQHwzHP3Npg&usqp=CAU', 'https://encrypted-tbn0.gstatic.com/images?q=tbn:ANd9GcSp2BlkHDrMpBa5pOZAgpzkL8RMmvgEU5I_Aw&usqp=CAU', 'https://www.xantaro.net/wp-content/uploads/2018/10/Xantaro_ML_DL.png', 'https://encrypted-tbn0.gstatic.com/images?q=tbn:ANd9GcSEMHTPfP9YZM7V99dKJrGBiDwui2iBsniBjg&usqp=CAU', 'https://encrypted-tbn0.gstatic.com/images?q=tbn:ANd9GcToqqMfOrfY6GZ4px8jFHkK_4NtQHwzHP3Npg&usqp=CAU', 'https://community-cdn-digitalocean-com.global.ssl.fastly.net/variants/fR1fwLvJDeYDMNenxu3XokLs/035575f2985fe451d86e717d73691e533a1a00545d7230900ed786341dc3c882', 'https://encrypted-tbn0.gstatic.com/images?q=tbn:ANd9GcRmX2Ela9pLW2dmQHa4Rra6xFdcVPyhk8kJHg&usqp=CAU', 'https://encrypted-tbn0.gstatic.com/images?q=tbn:ANd9GcSEMHTPfP9YZM7V99dKJrGBiDwui2iBsniBjg&usqp=CAU', 'https://datasciencedojo.com/wp-content/uploads/Mlchart3.jpg', 'https://encrypted-tbn0.gstatic.com/images?q=tbn:ANd9GcR1VXGCyLKk_U8qzQ31abMiOSM3lg953_Qw3A&usqp=CAU', 'https://encrypted-tbn0.gstatic.com/images?q=tbn:ANd9GcRmX2Ela9pLW2dmQHa4Rra6xFdcVPyhk8kJHg&usqp=CAU', 'https://cdn-wordpress-info.futurelearn.com/info/wp-content/uploads/what-is-machine-learning-header.jpg', 'https://encrypted-tbn0.gstatic.com/images?q=tbn:ANd9GcQfN12oiCbkM3yQNEyPU1BU2oWCHh3gEGKNcA&usqp=CAU', 'https://encrypted-tbn0.gstatic.com/images?q=tbn:ANd9GcR1VXGCyLKk_U8qzQ31abMiOSM3lg953_Qw3A&usqp=CAU', 'https://encrypted-tbn0.gstatic.com/images?q=tbn:ANd9GcQfN12oiCbkM3yQNEyPU1BU2oWCHh3gEGKNcA&usqp=CAU', 'https://encrypted-tbn0.gstatic.com/images?q=tbn:ANd9GcSFueOb66mkdjk_FrOsnYVpzw7U3AwkhUOB5g&usqp=CAU', 'https://encrypted-tbn0.gstatic.com/images?q=tbn:ANd9GcQfN12oiCbkM3yQNEyPU1BU2oWCHh3gEGKNcA&usqp=CAU', 'https://encrypted-tbn0.gstatic.com/images?q=tbn:ANd9GcSFueOb66mkdjk_FrOsnYVpzw7U3AwkhUOB5g&usqp=CAU', 'https://encrypted-tbn0.gstatic.com/images?q=tbn:ANd9GcQrT3TniqvNeIBy5HpWmHVNDtmn1TazaB45wA&usqp=CAU', 'https://encrypted-tbn0.gstatic.com/images?q=tbn:ANd9GcSFueOb66mkdjk_FrOsnYVpzw7U3AwkhUOB5g&usqp=CAU', 'https://www.merkleinc.com/sites/default/files/inline-images/DL%20and%20ML1%20resized.jpg', 'https://encrypted-tbn0.gstatic.com/images?q=tbn:ANd9GcRqcK2lsBZ7SMqDG4cL0JS9AT8qAROcNDfMQA&usqp=CAU', 'https://encrypted-tbn0.gstatic.com/images?q=tbn:ANd9GcQrT3TniqvNeIBy5HpWmHVNDtmn1TazaB45wA&usqp=CAU', 'https://data-flair.training/blogs/wp-content/uploads/sites/2/2017/07/applications-of-machine-learning-2-1200x720.jpg', 'https://encrypted-tbn0.gstatic.com/images?q=tbn:ANd9GcTQ0amx-Bk0awsXuwmaUdtFQPZFknvsQ0PRgA&usqp=CAU', 'https://encrypted-tbn0.gstatic.com/images?q=tbn:ANd9GcRqcK2lsBZ7SMqDG4cL0JS9AT8qAROcNDfMQA&usqp=CAU', 'https://www.einfochips.com/blog/wp-content/uploads/2018/11/how-to-develop-machine-learning-applications-for-business-featured.jpg', 'https://encrypted-tbn0.gstatic.com/images?q=tbn:ANd9GcRYgIB6C6kQiHNSEviT4C3gvXjPOYv7WDxuww&usqp=CAU', 'https://encrypted-tbn0.gstatic.com/images?q=tbn:ANd9GcTQ0amx-Bk0awsXuwmaUdtFQPZFknvsQ0PRgA&usqp=CAU', 'https://www.ti.com/diagrams/sitara-machine-learning_am57x-deep-learning-diagram-750x400.jpg', 'https://encrypted-tbn0.gstatic.com/images?q=tbn:ANd9GcQ9VZDWqN-fStbNMxasHzEWHBWnfpz0L5T7ow&usqp=CAU', 'https://encrypted-tbn0.gstatic.com/images?q=tbn:ANd9GcRYgIB6C6kQiHNSEviT4C3gvXjPOYv7WDxuww&usqp=CAU', 'https://encrypted-tbn0.gstatic.com/images?q=tbn:ANd9GcQ9VZDWqN-fStbNMxasHzEWHBWnfpz0L5T7ow&usqp=CAU', 'https://encrypted-tbn0.gstatic.com/images?q=tbn:ANd9GcQoBmmMed7QxwK1G3zmDvG2SfvovAtVz703ig&usqp=CAU', 'https://encrypted-tbn0.gstatic.com/images?q=tbn:ANd9GcQ9VZDWqN-fStbNMxasHzEWHBWnfpz0L5T7ow&usqp=CAU', 'https://www.sas.com/en_in/insights/analytics/machine-learning/_jcr_content/par/styledcontainer_31e3/image.img.jpg/1614281913234.jpg', 'https://encrypted-tbn0.gstatic.com/images?q=tbn:ANd9GcRI1mJ9ZFjAkQ-WBXnjRDwgkBbcZkK5XFY9qA&usqp=CAU', 'https://encrypted-tbn0.gstatic.com/images?q=tbn:ANd9GcQoBmmMed7QxwK1G3zmDvG2SfvovAtVz703ig&usqp=CAU', 'https://894532.smushcdn.com/2098219/wp-content/uploads/2019/04/MLvsDL.png?lossy=0&strip=1&webp=1', 'https://encrypted-tbn0.gstatic.com/images?q=tbn:ANd9GcQ-KGtKyTAliLTgKWIKxXyoaGskiPl75K_bZw&usqp=CAU', 'https://encrypted-tbn0.gstatic.com/images?q=tbn:ANd9GcRI1mJ9ZFjAkQ-WBXnjRDwgkBbcZkK5XFY9qA&usqp=CAU', 'https://www.mrdbourke.com/content/images/2020/07/ml-roadmap-blog-post-header.png', 'https://encrypted-tbn0.gstatic.com/images?q=tbn:ANd9GcTqTtNSrYNNqo_2PHO2SYs6aQSm_uB5MAxmPA&usqp=CAU', 'https://encrypted-tbn0.gstatic.com/images?q=tbn:ANd9GcQ-KGtKyTAliLTgKWIKxXyoaGskiPl75K_bZw&usqp=CAU', 'https://i.ytimg.com/vi/ukzFI9rgwfU/maxresdefault.jpg', 'https://encrypted-tbn0.gstatic.com/images?q=tbn:ANd9GcS8B-h-XhDxP5a7Qd-HPdBoHiB1hbafQU_CNg&usqp=CAU', 'https://encrypted-tbn0.gstatic.com/images?q=tbn:ANd9GcTqTtNSrYNNqo_2PHO2SYs6aQSm_uB5MAxmPA&usqp=CAU', 'https://editor.analyticsvidhya.com/uploads/88587machine-learning-concept-chart-keywords-icons-white-background-137897366.jpg', 'https://encrypted-tbn0.gstatic.com/images?q=tbn:ANd9GcR_upvMtBDZiIFYilt6oSwh-oLe-W8TSfKd4A&usqp=CAU', 'https://encrypted-tbn0.gstatic.com/images?q=tbn:ANd9GcS8B-h-XhDxP5a7Qd-HPdBoHiB1hbafQU_CNg&usqp=CAU', 'https://fusionalliance.com/wp-content/uploads/2020/11/ml-dl-ai.jpg', 'https://encrypted-tbn0.gstatic.com/images?q=tbn:ANd9GcQon8ctAdIzbccLnnxKfNCwtGzpylYQP3D0Mw&usqp=CAU', 'https://encrypted-tbn0.gstatic.com/images?q=tbn:ANd9GcR_upvMtBDZiIFYilt6oSwh-oLe-W8TSfKd4A&usqp=CAU', 'https://miro.medium.com/max/2628/1*8wU0hfUY3UK_D8Y7tbIyFQ.png', 'https://encrypted-tbn0.gstatic.com/images?q=tbn:ANd9GcRBRWKDKjx3Lr1uf2wVtfGJxlNkQe68mXSRwA&usqp=CAU', 'https://encrypted-tbn0.gstatic.com/images?q=tbn:ANd9GcQon8ctAdIzbccLnnxKfNCwtGzpylYQP3D0Mw&usqp=CAU', 'https://www.eurixgroup.com/wp-content/uploads/2021/01/ml-e1610553826718.jpg', 'https://encrypted-tbn0.gstatic.com/images?q=tbn:ANd9GcRvrLOYzDpbFNPnpVcM10KGQWzibR5O9MAGcA&usqp=CAU', 'https://encrypted-tbn0.gstatic.com/images?q=tbn:ANd9GcRBRWKDKjx3Lr1uf2wVtfGJxlNkQe68mXSRwA&usqp=CAU', 'https://cdn.searchenginejournal.com/wp-content/uploads/2020/09/how-machine-learning-is-changing-seo-how-to-adapt-5f60c25878dfc-1520x800.png', 'https://encrypted-tbn0.gstatic.com/images?q=tbn:ANd9GcTg0H3Ctmp4CJ7Xv2aVpgfNQaDwJtVZDPL2XQ&usqp=CAU', 'https://encrypted-tbn0.gstatic.com/images?q=tbn:ANd9GcRvrLOYzDpbFNPnpVcM10KGQWzibR5O9MAGcA&usqp=CAU', 'https://static.javatpoint.com/tutorial/machine-learning/images/applications-of-machine-learning.png', 'https://encrypted-tbn0.gstatic.com/images?q=tbn:ANd9GcSrLJC3_WvbczJOuZxy8-hqxbzM_he66BhhOw&usqp=CAU', 'https://encrypted-tbn0.gstatic.com/images?q=tbn:ANd9GcTg0H3Ctmp4CJ7Xv2aVpgfNQaDwJtVZDPL2XQ&usqp=CAU', 'https://careers.edicomgroup.com/wp-content/uploads/2021/03/DeepLearning-2.jpg', 'https://encrypted-tbn0.gstatic.com/images?q=tbn:ANd9GcRNN2xhubP-H5u3W-zztxe6g3dfo1m1PrTSCQ&usqp=CAU', 'https://encrypted-tbn0.gstatic.com/images?q=tbn:ANd9GcSrLJC3_WvbczJOuZxy8-hqxbzM_he66BhhOw&usqp=CAU', 'https://images.prismic.io/blackline/e8ba0864-37f8-40c4-bfac-c14e1e1c0faa_blackline-magazine-machine-learning-experts-image.jpg?auto=compress,format', 'https://encrypted-tbn0.gstatic.com/images?q=tbn:ANd9GcROCNVOQL95iAWEaxObvDLubNbzo-Rapq3q3g&usqp=CAU', 'https://encrypted-tbn0.gstatic.com/images?q=tbn:ANd9GcRNN2xhubP-H5u3W-zztxe6g3dfo1m1PrTSCQ&usqp=CAU', 'https://www.xenonstack.com/images/blog/2020/12/xenonstack-machine-learning-pipeline.png', 'https://encrypted-tbn0.gstatic.com/images?q=tbn:ANd9GcT_NQ08RBS3uf3wz_kWTai84SCnsH7-uqsmdA&usqp=CAU', 'https://encrypted-tbn0.gstatic.com/images?q=tbn:ANd9GcROCNVOQL95iAWEaxObvDLubNbzo-Rapq3q3g&usqp=CAU', 'https://images.idgesg.net/images/article/2020/07/machine-learning-and-mlops-hpe-ezmeral-softwaretg-100851051-large.jpg', 'https://encrypted-tbn0.gstatic.com/images?q=tbn:ANd9GcQC0Sj01x9201XlisxESGkci8R91Fp2cM8Vzg&usqp=CAU', 'https://encrypted-tbn0.gstatic.com/images?q=tbn:ANd9GcT_NQ08RBS3uf3wz_kWTai84SCnsH7-uqsmdA&usqp=CAU', 'https://learn.g2.com/hubfs/_learn-machine-learning@2x.png', 'https://encrypted-tbn0.gstatic.com/images?q=tbn:ANd9GcSMXdbr0PP5MW2sF7ReDd5yQ-fFQN8i9Q5IjA&usqp=CAU', 'https://encrypted-tbn0.gstatic.com/images?q=tbn:ANd9GcQC0Sj01x9201XlisxESGkci8R91Fp2cM8Vzg&usqp=CAU', 'https://miro.medium.com/freeze/max/1200/0*PuscwCsUr09xZ0SJ.gif', 'https://encrypted-tbn0.gstatic.com/images?q=tbn:ANd9GcQqP4yc-IqgQXHYgR6qu4mYBG2XlnyHi1qU6A&usqp=CAU', 'https://encrypted-tbn0.gstatic.com/images?q=tbn:ANd9GcSMXdbr0PP5MW2sF7ReDd5yQ-fFQN8i9Q5IjA&usqp=CAU', 'https://www.freecodecamp.org/news/content/images/size/w2000/2020/08/ml.jpg', 'https://encrypted-tbn0.gstatic.com/images?q=tbn:ANd9GcSStzA7U2Svu6OSEzfKGBPxzCbfMS0sjtrPvA&usqp=CAU', 'https://encrypted-tbn0.gstatic.com/images?q=tbn:ANd9GcQqP4yc-IqgQXHYgR6qu4mYBG2XlnyHi1qU6A&usqp=CAU', 'https://blog.bismart.com/hs-fs/hubfs/01-MachineLearning_Mesa%20de%20trabajo%201%20copia%202_Mesa%20de%20trabajo%201%20copia%202.jpg?width=3509&name=01-MachineLearning_Mesa%20de%20trabajo%201%20copia%202_Mesa%20de%20trabajo%201%20copia%202.jpg', 'https://encrypted-tbn0.gstatic.com/images?q=tbn:ANd9GcRcFx4emSxsFpL3HokaHTahfwGIumrvxUUWUA&usqp=CAU', 'https://encrypted-tbn0.gstatic.com/images?q=tbn:ANd9GcSStzA7U2Svu6OSEzfKGBPxzCbfMS0sjtrPvA&usqp=CAU', 'https://www.kdnuggets.com/wp-content/uploads/disentangling-ai-machine-learning-deep-learning.jpg', 'https://encrypted-tbn0.gstatic.com/images?q=tbn:ANd9GcT7pgqOE3KyehH2n1ZCAJgn7wW6cyMLlAYzJg&usqp=CAU', 'https://encrypted-tbn0.gstatic.com/images?q=tbn:ANd9GcRcFx4emSxsFpL3HokaHTahfwGIumrvxUUWUA&usqp=CAU', 'https://s3.amazonaws.com/coursera_assets/meta_images/generated/XDP/XDP~COURSE!~machine-learning/XDP~COURSE!~machine-learning.jpeg', 'https://encrypted-tbn0.gstatic.com/images?q=tbn:ANd9GcRyUsvp8lFRGIPJc6R5KIfzr2Y-3uklW1hZLg&usqp=CAU', 'https://encrypted-tbn0.gstatic.com/images?q=tbn:ANd9GcT7pgqOE3KyehH2n1ZCAJgn7wW6cyMLlAYzJg&usqp=CAU', 'https://mitsloan.mit.edu/sites/default/files/styles/article_header/public/2021-04/machine-learning_2.jpg?h=865425c3&itok=AJPWyQXS', 'https://encrypted-tbn0.gstatic.com/images?q=tbn:ANd9GcTLWNvaLICk-DCf4ZFpPEa20fTpe7IgDPhhfg&usqp=CAU', 'https://encrypted-tbn0.gstatic.com/images?q=tbn:ANd9GcRyUsvp8lFRGIPJc6R5KIfzr2Y-3uklW1hZLg&usqp=CAU', 'https://downloads.healthcatalyst.com/wp-content/uploads/2017/04/machine-learning-in-healthcare.jpg', 'https://encrypted-tbn0.gstatic.com/images?q=tbn:ANd9GcSMFWgErcxBOju7NYcTXjCkOAcL_D7xVuskdw&usqp=CAU', 'https://encrypted-tbn0.gstatic.com/images?q=tbn:ANd9GcTLWNvaLICk-DCf4ZFpPEa20fTpe7IgDPhhfg&usqp=CAU', 'https://miro.medium.com/max/848/1*M9le42saJxWlOYyYvhKtPA.jpeg', 'https://encrypted-tbn0.gstatic.com/images?q=tbn:ANd9GcSx7Od_I1PpCMQCLAWuR5ZPoSrSbkbUWa0Hig&usqp=CAU', 'https://encrypted-tbn0.gstatic.com/images?q=tbn:ANd9GcSMFWgErcxBOju7NYcTXjCkOAcL_D7xVuskdw&usqp=CAU', 'https://cdn.ttgtmedia.com/rms/onlineImages/business_analytics-machine_learning_process_mobile.jpg', 'https://encrypted-tbn0.gstatic.com/images?q=tbn:ANd9GcRrGoA2Crpg8Xcqacy8jDQELbeolPDWu-GykQ&usqp=CAU', 'https://encrypted-tbn0.gstatic.com/images?q=tbn:ANd9GcSx7Od_I1PpCMQCLAWuR5ZPoSrSbkbUWa0Hig&usqp=CAU', 'https://www.redhat.com/cms/managed-files/2020/02/screen-shot-2020-02-07-at-8.23.12-am.png', 'https://encrypted-tbn0.gstatic.com/images?q=tbn:ANd9GcTIpOuvbhIo-VjU_FS1-wpZnRPEwq1taVBhMw&usqp=CAU', 'https://encrypted-tbn0.gstatic.com/images?q=tbn:ANd9GcRrGoA2Crpg8Xcqacy8jDQELbeolPDWu-GykQ&usqp=CAU', 'https://constructionblog.autodesk.com/wp-content/uploads/2020/12/machine-learning-in-construction.jpg', 'https://encrypted-tbn0.gstatic.com/images?q=tbn:ANd9GcScbJFsgROjIIhhINw-ZmPfUBfCfzFdr1FoaA&usqp=CAU', 'https://encrypted-tbn0.gstatic.com/images?q=tbn:ANd9GcTIpOuvbhIo-VjU_FS1-wpZnRPEwq1taVBhMw&usqp=CAU', 'https://cdn-images-1.medium.com/max/800/1*HNjcfB3lccaqB95fSWXJpQ.png', 'https://encrypted-tbn0.gstatic.com/images?q=tbn:ANd9GcRif8K-kCGJIV2iWrJGd57TTvLrw9n-yuxK8A&usqp=CAU', 'https://encrypted-tbn0.gstatic.com/images?q=tbn:ANd9GcScbJFsgROjIIhhINw-ZmPfUBfCfzFdr1FoaA&usqp=CAU', 'https://d1m75rqqgidzqn.cloudfront.net/wp-data/2019/08/11142316/machine-learning-vs-deep-learning-1-1.jpg', 'https://encrypted-tbn0.gstatic.com/images?q=tbn:ANd9GcRqX-g9A6tbPAlpj85G-no0fk7A3xH1wFUcyQ&usqp=CAU', 'https://encrypted-tbn0.gstatic.com/images?q=tbn:ANd9GcRif8K-kCGJIV2iWrJGd57TTvLrw9n-yuxK8A&usqp=CAU', 'https://assets.website-files.com/5fb24a974499e90dae242d98/5fb24a974499e96f7b2431db_AI%20venn%20diagram.png', 'https://encrypted-tbn0.gstatic.com/images?q=tbn:ANd9GcQdJJKTHUlWAlY-kMK4xQvn-o8bI00ZmkmK7g&usqp=CAU', 'https://encrypted-tbn0.gstatic.com/images?q=tbn:ANd9GcRqX-g9A6tbPAlpj85G-no0fk7A3xH1wFUcyQ&usqp=CAU', 'https://www.mathworks.com/content/dam/mathworks/mathworks-dot-com/images/responsive/supporting/campaigns/products/deep-learning-vs-machine-learning-interactive-ebook-thumbnail.jpg', 'https://encrypted-tbn0.gstatic.com/images?q=tbn:ANd9GcQPRh_bHRkCuP3PSyEYC_gw8mrKONs57eeBXw&usqp=CAU', 'https://encrypted-tbn0.gstatic.com/images?q=tbn:ANd9GcQdJJKTHUlWAlY-kMK4xQvn-o8bI00ZmkmK7g&usqp=CAU', 'https://dv-website.s3.amazonaws.com/uploads/2019/03/kf_bhml_032719.jpg', 'https://encrypted-tbn0.gstatic.com/images?q=tbn:ANd9GcR9wpAMaeS-HvhvLAiZ4Vf0hE61O7TTmXStKw&usqp=CAU', 'https://encrypted-tbn0.gstatic.com/images?q=tbn:ANd9GcQPRh_bHRkCuP3PSyEYC_gw8mrKONs57eeBXw&usqp=CAU', 'https://images.idgesg.net/images/article/2020/08/intro_ts_ai_ml_by-monsitj-getty-images_2400x1600-100853894-large.jpg', 'https://encrypted-tbn0.gstatic.com/images?q=tbn:ANd9GcSBAf0cgqA4bEmr-OMFtr1OPOId8zxDMbdV8w&usqp=CAU', 'https://encrypted-tbn0.gstatic.com/images?q=tbn:ANd9GcR9wpAMaeS-HvhvLAiZ4Vf0hE61O7TTmXStKw&usqp=CAU', 'https://blogvaronis2.wpengine.com/wp-content/uploads/2019/09/is-machine-learning-viable-for-cybersecurity-hero-1.png', 'https://encrypted-tbn0.gstatic.com/images?q=tbn:ANd9GcSC4ZvFL47Ta0lMESWsN7qq1zQuMnqo7C4CLA&usqp=CAU', 'https://encrypted-tbn0.gstatic.com/images?q=tbn:ANd9GcSBAf0cgqA4bEmr-OMFtr1OPOId8zxDMbdV8w&usqp=CAU', 'https://specials-images.forbesimg.com/imageserve/1179697528/960x0.jpg?fit=scale', 'https://encrypted-tbn0.gstatic.com/images?q=tbn:ANd9GcQfjcZjMmBUcgceEFDhIXrJ6bA5yw63_avfTQ&usqp=CAU', 'https://encrypted-tbn0.gstatic.com/images?q=tbn:ANd9GcSC4ZvFL47Ta0lMESWsN7qq1zQuMnqo7C4CLA&usqp=CAU', 'https://encrypted-tbn0.gstatic.com/images?q=tbn:ANd9GcQfjcZjMmBUcgceEFDhIXrJ6bA5yw63_avfTQ&usqp=CAU', 'https://encrypted-tbn0.gstatic.com/images?q=tbn:ANd9GcTqGCFdiGDgPD1F_ySnkokL6RLHJLPKcPjyGw&usqp=CAU', 'https://encrypted-tbn0.gstatic.com/images?q=tbn:ANd9GcQfjcZjMmBUcgceEFDhIXrJ6bA5yw63_avfTQ&usqp=CAU', 'https://19yw4b240vb03ws8qm25h366-wpengine.netdna-ssl.com/wp-content/uploads/Choosing-the-Best-Machine-Learning-API-for-Your-Project-1024x768.jpg', 'https://encrypted-tbn0.gstatic.com/images?q=tbn:ANd9GcQYU1mEKJ2_W0wtyL9KoVoszq4FDwe2bD3rSQ&usqp=CAU', 'https://encrypted-tbn0.gstatic.com/images?q=tbn:ANd9GcTqGCFdiGDgPD1F_ySnkokL6RLHJLPKcPjyGw&usqp=CAU', 'https://akm-img-a-in.tosshub.com/indiatoday/images/story/202104/stockvault-information-technol_1200x768.jpeg?LW64wCl_hifm1yXj5nBFA3yJC5jAqW3p&size=770:433', 'https://encrypted-tbn0.gstatic.com/images?q=tbn:ANd9GcT6YrBPpqRmuNuIhW8oU9Lbo-IVNRUovnkh1g&usqp=CAU', 'https://encrypted-tbn0.gstatic.com/images?q=tbn:ANd9GcQYU1mEKJ2_W0wtyL9KoVoszq4FDwe2bD3rSQ&usqp=CAU', 'https://home.sophos.com/en-us/medialibrary/Microsites/Home/SecurityCenter/ai-article-pic8.jpg', 'https://encrypted-tbn0.gstatic.com/images?q=tbn:ANd9GcQU1N1V4jYfludBbKoFEFFWka5Dvy7M7tCk6A&usqp=CAU', 'https://encrypted-tbn0.gstatic.com/images?q=tbn:ANd9GcT6YrBPpqRmuNuIhW8oU9Lbo-IVNRUovnkh1g&usqp=CAU', 'https://www.kaspersky.com/content/en-global/enterprise-security/wiki-section/img/Machine-Learning-in-Cybersecurity-1.png', 'https://encrypted-tbn0.gstatic.com/images?q=tbn:ANd9GcSRkU62g7Rhz3aNupBoOc6pizY-19hH9-MJKA&usqp=CAU', 'https://encrypted-tbn0.gstatic.com/images?q=tbn:ANd9GcQU1N1V4jYfludBbKoFEFFWka5Dvy7M7tCk6A&usqp=CAU', 'https://y6b8k9e7.stackpathcdn.com/wp-content/uploads/2017/08/machine-learning-hand-robot-touching-computer-chip-binary-data.jpg', 'https://encrypted-tbn0.gstatic.com/images?q=tbn:ANd9GcTeLvxrcYm8RdDXlPR7M2KzYKkmILmAYc9Ijg&usqp=CAU', 'https://encrypted-tbn0.gstatic.com/images?q=tbn:ANd9GcSRkU62g7Rhz3aNupBoOc6pizY-19hH9-MJKA&usqp=CAU', 'https://bs-uploads.toptal.io/blackfish-uploads/blog/post/seo/og_image_file/og_image/16960/2901_01_Machine-Learning_Dan_cover-a3b0d1a0932057bbb4272c6c8feba197.png', 'https://encrypted-tbn0.gstatic.com/images?q=tbn:ANd9GcQfzcYFeL2xmrJJFojK5tDJIdrXQ8CdoGg-_g&usqp=CAU', 'https://encrypted-tbn0.gstatic.com/images?q=tbn:ANd9GcTeLvxrcYm8RdDXlPR7M2KzYKkmILmAYc9Ijg&usqp=CAU', 'https://s27389.pcdn.co/wp-content/uploads/2020/10/how-kubernetes-extends-machine-learning-ml.jpeg', 'https://encrypted-tbn0.gstatic.com/images?q=tbn:ANd9GcQ6YoO_U-ThqPaao9lkV2jCK5jgpY1k79nyCg&usqp=CAU', 'https://encrypted-tbn0.gstatic.com/images?q=tbn:ANd9GcQfzcYFeL2xmrJJFojK5tDJIdrXQ8CdoGg-_g&usqp=CAU', 'https://s7280.pcdn.co/wp-content/uploads/2020/09/machine-learning.jpg.optimal.jpg', 'https://encrypted-tbn0.gstatic.com/images?q=tbn:ANd9GcTAIsh7NIE3dovmzwPITu_D49wGTMVO4xRkmg&usqp=CAU', 'https://encrypted-tbn0.gstatic.com/images?q=tbn:ANd9GcQ6YoO_U-ThqPaao9lkV2jCK5jgpY1k79nyCg&usqp=CAU', 'https://www.bbva.com/wp-content/uploads/2019/11/BBVA-Machine-learning-08112019.png', 'https://encrypted-tbn0.gstatic.com/images?q=tbn:ANd9GcSZUKT1rTtdgnZOGyIynj0dGoiB92AD-Ckqfg&usqp=CAU', 'https://encrypted-tbn0.gstatic.com/images?q=tbn:ANd9GcTAIsh7NIE3dovmzwPITu_D49wGTMVO4xRkmg&usqp=CAU', 'https://encrypted-tbn0.gstatic.com/images?q=tbn:ANd9GcSZUKT1rTtdgnZOGyIynj0dGoiB92AD-Ckqfg&usqp=CAU', 'https://encrypted-tbn0.gstatic.com/images?q=tbn:ANd9GcRsLpoWRiRxkZBy14dztKhTlseA_bJbhOjWuQ&usqp=CAU', 'https://encrypted-tbn0.gstatic.com/images?q=tbn:ANd9GcSZUKT1rTtdgnZOGyIynj0dGoiB92AD-Ckqfg&usqp=CAU', 'https://www.tibco.com/sites/tibco/files/media_entity/2020-09/machine-learning-diagram.svg', 'https://encrypted-tbn0.gstatic.com/images?q=tbn:ANd9GcQ9ZhBDEGVp-DOA_hJ917nUadeZatP0P2UC-w&usqp=CAU', 'https://encrypted-tbn0.gstatic.com/images?q=tbn:ANd9GcRsLpoWRiRxkZBy14dztKhTlseA_bJbhOjWuQ&usqp=CAU', 'https://docs.microsoft.com/en-us/azure/machine-learning/media/concept-deep-learning-vs-machine-learning/ai-vs-machine-learning-vs-deep-learning.png', 'https://encrypted-tbn0.gstatic.com/images?q=tbn:ANd9GcSusXHuPFC1rCwWDg-_SoxB9c6aKs-5IyrAog&usqp=CAU', 'https://encrypted-tbn0.gstatic.com/images?q=tbn:ANd9GcQ9ZhBDEGVp-DOA_hJ917nUadeZatP0P2UC-w&usqp=CAU', 'https://mobidev.biz/wp-content/uploads/2020/01/machine-learning-consulting-company.png', 'https://encrypted-tbn0.gstatic.com/images?q=tbn:ANd9GcTwBrpykC53iby9sUqGw3oyaAv-781nokz_Aw&usqp=CAU', 'https://encrypted-tbn0.gstatic.com/images?q=tbn:ANd9GcSusXHuPFC1rCwWDg-_SoxB9c6aKs-5IyrAog&usqp=CAU', 'https://images.techhive.com/images/article/2015/12/machine_learning-100633721-primary.idge.jpg', 'https://encrypted-tbn0.gstatic.com/images?q=tbn:ANd9GcTlonIYRBiLNHrUhgac0ugtgNnojULwOo46eQ&usqp=CAU', 'https://encrypted-tbn0.gstatic.com/images?q=tbn:ANd9GcTwBrpykC53iby9sUqGw3oyaAv-781nokz_Aw&usqp=CAU', 'https://backend.huskyjam.com/media/blog/post/machine-learning-in-education-fb.jpg', 'https://encrypted-tbn0.gstatic.com/images?q=tbn:ANd9GcSBSnQdgRaQQDDwd039ul9wyaqgymUcRyIosQ&usqp=CAU', 'https://encrypted-tbn0.gstatic.com/images?q=tbn:ANd9GcTlonIYRBiLNHrUhgac0ugtgNnojULwOo46eQ&usqp=CAU', 'https://insights.sap.com/wp-content/uploads/2020/06/GettyImages-1020317514-1-scaled.jpg', 'https://encrypted-tbn0.gstatic.com/images?q=tbn:ANd9GcSWShvZgyNR29CrJJKSA3MdMJtKDaS-B-_6dw&usqp=CAU', 'https://encrypted-tbn0.gstatic.com/images?q=tbn:ANd9GcSBSnQdgRaQQDDwd039ul9wyaqgymUcRyIosQ&usqp=CAU', 'https://quantilus.com/wp-content/uploads/2018/08/machine-learning.jpg', 'https://encrypted-tbn0.gstatic.com/images?q=tbn:ANd9GcQOMSanYLW--S2wtGTzqwOyT9mwm9YA4agS7g&usqp=CAU', 'https://encrypted-tbn0.gstatic.com/images?q=tbn:ANd9GcSWShvZgyNR29CrJJKSA3MdMJtKDaS-B-_6dw&usqp=CAU', 'https://www.securityroundtable.org/wp-content/uploads/2019/09/AdobeStock_237619408-840x480.jpeg', 'https://encrypted-tbn0.gstatic.com/images?q=tbn:ANd9GcSOeWv2EllDF2WKI40keb_jMKy6Hpx90aNPJA&usqp=CAU']\n"
     ]
    }
   ],
   "source": [
    "downloadimage(\"fruits\")\n",
    "downloadimage(\"cars\")\n",
    "downloadimage(\"Machine Learning\")"
   ]
  },
  {
   "cell_type": "markdown",
   "metadata": {},
   "source": [
    "### 4. Write a python program to search for a smartphone(e.g.: Oneplus Nord, pixel 4A, etc.) on www.flipkart.com and scrape following details for all the search results displayed on 1st page. Details to be scraped: “Brand Name”, “Smartphone name”, “Colour”, “RAM”, “Storage(ROM)”, “Primary Camera”, “Secondary Camera”, “Display Size”, “Display Resolution”, “Processor”, “Processor Cores”, “Battery Capacity”, “Price”, “Product URL”. Incase if any of the details is missing then replace it by “- “. Save your results in a dataframe and CSV."
   ]
  },
  {
   "cell_type": "code",
   "execution_count": 160,
   "metadata": {},
   "outputs": [],
   "source": [
    "driver = webdriver.Chrome(r\"C:\\Users\\User\\Downloads\\chromedriver_win32\\chromedriver.exe\")\n",
    "time.sleep(3)\n",
    "\n",
    "url = \"https://www.flipkart.com/\"\n",
    "driver.get(url)\n",
    "\n",
    "button = driver.find_element_by_xpath(\"//button[@class = '_2KpZ6l _2doB4z']\")\n",
    "button.click()\n",
    "\n",
    "#locating the search bar\n",
    "search_bar=driver.find_element_by_class_name(\"_3704LK\")\n",
    "search_bar.send_keys('realme')\n",
    "\n",
    "time.sleep(2)\n",
    "#locating the button and clicking it toh search for sunglasses\n",
    "button=driver.find_element_by_class_name('L0Z3Pu')\n",
    "button.click()"
   ]
  },
  {
   "cell_type": "code",
   "execution_count": 230,
   "metadata": {},
   "outputs": [],
   "source": [
    "#creating the empty lists\n",
    "BrandName = []\n",
    "Smartphonename = []\n",
    "Colour = []\n",
    "RAM = []\n",
    "Storage = []\n",
    "PrimaryCamera = []\n",
    "SecondaryCamera = []\n",
    "DisplaySize = []\n",
    "DisplayResolution = []\n",
    "Processor = []\n",
    "ProcessorCores = []\n",
    "BatteryCapacity = []\n",
    "Price = []"
   ]
  },
  {
   "cell_type": "code",
   "execution_count": 162,
   "metadata": {},
   "outputs": [],
   "source": [
    "urls = []\n",
    "urls_e = driver.find_elements_by_xpath('//a[@class=\"_1fQZEK\"]')\n",
    "for i in urls_e:\n",
    "    urls.append(i.get_attribute('href'))"
   ]
  },
  {
   "cell_type": "code",
   "execution_count": 231,
   "metadata": {},
   "outputs": [],
   "source": [
    "for i in range(len(urls)):\n",
    "    driver.get(urls[i])\n",
    "    time.sleep(2)\n",
    "    \n",
    "    driver.find_element_by_xpath(\"//button[@class = '_2KpZ6l _1FH0tX']\").click()\n",
    "    BrandName.append(driver.find_element_by_class_name('B_NuCI').text.split(\" \")[0])\n",
    "    Smartphonename.append(driver.find_element_by_class_name('B_NuCI').text)\n",
    "    details1 = driver.find_elements_by_xpath(\"//div[@class='_3k-BhJ']\")\n",
    "    details1_l = []\n",
    "    \n",
    "    for i in details1:\n",
    "        details1_l.append(i.text.split(\"\\n\"))\n",
    "        \n",
    "    try:\n",
    "        Colour.append(details1_l[0][8])\n",
    "    except:\n",
    "        Colour.append('-')\n",
    "        \n",
    "    try:\n",
    "        RAM.append(details1_l[3][4])\n",
    "    except:\n",
    "        RAM.append(\"-\")\n",
    "        \n",
    "    try:\n",
    "        Storage.append(details1_l[3][2])\n",
    "    except:\n",
    "        Storage.append(\"-\")    \n",
    "        \n",
    "    try:\n",
    "        PrimaryCamera.append(details1_l[4][4])\n",
    "    except:\n",
    "        PrimaryCamera.append(\"-\")\n",
    "        \n",
    "    try:\n",
    "        SecondaryCamera.append(details1_l[4][14])\n",
    "    except:\n",
    "        SecondaryCamera.append(\"-\")\n",
    "        \n",
    "    try:\n",
    "        DisplaySize.append(details1_l[1][2])\n",
    "    except:\n",
    "        DisplaySize.append(\"-\")\n",
    "        \n",
    "    try:\n",
    "        DisplayResolution.append(details1_l[1][4])\n",
    "    except:\n",
    "        DisplayResolution.append(\"-\")\n",
    "        \n",
    "    try:\n",
    "        Processor.append(details1_l[2][4])\n",
    "    except:\n",
    "        Processor.append(\"-\")\n",
    "        \n",
    "    try:\n",
    "        ProcessorCores.append(details1_l[2][6])\n",
    "    except:\n",
    "        ProcessorCores.append(\"-\")\n",
    "        \n",
    "    try:\n",
    "        BatteryCapacity.append(details1_l[9][2])\n",
    "    except:\n",
    "        BatteryCapacity.append(\"-\")\n",
    "        \n",
    "    try:\n",
    "        Price.append(driver.find_element_by_xpath(\"//div[@class='_30jeq3 _16Jk6d']\").text)\n",
    "    except:\n",
    "        Price.append(\"-\")"
   ]
  },
  {
   "cell_type": "code",
   "execution_count": 232,
   "metadata": {},
   "outputs": [
    {
     "name": "stdout",
     "output_type": "stream",
     "text": [
      "40\n",
      "40\n",
      "40\n",
      "40\n",
      "40\n",
      "40\n",
      "40\n",
      "40\n",
      "40\n",
      "40\n",
      "40\n",
      "40\n",
      "40\n"
     ]
    }
   ],
   "source": [
    "print(len(BrandName))\n",
    "print(len(Smartphonename))\n",
    "print(len(Colour))\n",
    "print(len(RAM))\n",
    "print(len(Storage))\n",
    "print(len(PrimaryCamera))\n",
    "print(len(SecondaryCamera))\n",
    "print(len(DisplaySize))\n",
    "print(len(DisplayResolution))\n",
    "print(len(Processor))\n",
    "print(len(ProcessorCores))\n",
    "print(len(BatteryCapacity))\n",
    "print(len(Price))"
   ]
  },
  {
   "cell_type": "code",
   "execution_count": 233,
   "metadata": {},
   "outputs": [],
   "source": [
    "df=pd.DataFrame({'BrandName':BrandName,'Smartphonename': Smartphonename,\n",
    "                 'Colour': Colour, 'RAM': RAM, 'Storage':Storage,\n",
    "                 'PrimaryCamera': PrimaryCamera, 'SecondaryCamera': SecondaryCamera,\n",
    "                 'DisplaySize' :DisplaySize, 'DisplayResolution': DisplayResolution,\n",
    "                 'Processor': Processor, 'ProcessorCores' :ProcessorCores,\n",
    "                 'BatteryCapacity': BatteryCapacity, 'Price': Price})"
   ]
  },
  {
   "cell_type": "code",
   "execution_count": 234,
   "metadata": {},
   "outputs": [],
   "source": [
    "# saving the dataframe\n",
    "df.to_csv('flipkart.csv')"
   ]
  },
  {
   "cell_type": "markdown",
   "metadata": {},
   "source": [
    "### 5. Write a program to scrap geospatial coordinates (latitude, longitude) of a city searched on google maps."
   ]
  },
  {
   "cell_type": "code",
   "execution_count": 172,
   "metadata": {},
   "outputs": [
    {
     "name": "stdout",
     "output_type": "stream",
     "text": [
      "Enter the city: delhi\n"
     ]
    }
   ],
   "source": [
    "webD = webdriver.Chrome(r\"C:\\Users\\User\\Downloads\\chromedriver_win32\\chromedriver.exe\")\n",
    "url = \"https://www.google.com/maps/@19.3164803,84.8046344,15z\"\n",
    "webD.get(url)\n",
    "search_box = webD.find_element_by_id('searchboxinput')\n",
    "search_box\n",
    "val = input(\"Enter the city: \")\n",
    "search_box.send_keys(val)\n",
    "search_btn = webD.find_element_by_id('searchbox-searchbutton')\n",
    "search_btn.click()"
   ]
  },
  {
   "cell_type": "code",
   "execution_count": 173,
   "metadata": {},
   "outputs": [],
   "source": [
    "str = webD.current_url.split(\"/\")"
   ]
  },
  {
   "cell_type": "code",
   "execution_count": 174,
   "metadata": {},
   "outputs": [],
   "source": [
    "for i in str:\n",
    "    if '@' in i:\n",
    "        latlong = i.replace(\"@\",\"\")"
   ]
  },
  {
   "cell_type": "code",
   "execution_count": 176,
   "metadata": {},
   "outputs": [],
   "source": [
    "latitude = latlong.split(\",\")[0]\n",
    "longitude  = latlong.split(\",\")[1]"
   ]
  },
  {
   "cell_type": "code",
   "execution_count": 177,
   "metadata": {},
   "outputs": [
    {
     "data": {
      "text/plain": [
       "'28.6466772'"
      ]
     },
     "execution_count": 177,
     "metadata": {},
     "output_type": "execute_result"
    }
   ],
   "source": [
    "latitude"
   ]
  },
  {
   "cell_type": "code",
   "execution_count": 178,
   "metadata": {},
   "outputs": [
    {
     "data": {
      "text/plain": [
       "'76.8130591'"
      ]
     },
     "execution_count": 178,
     "metadata": {},
     "output_type": "execute_result"
    }
   ],
   "source": [
    "longitude"
   ]
  },
  {
   "cell_type": "markdown",
   "metadata": {},
   "source": [
    "### 6. Write a program to scrap details of all the funding deals for second quarter (i.e. July 20 – September 20) from trak.in."
   ]
  },
  {
   "cell_type": "code",
   "execution_count": 341,
   "metadata": {},
   "outputs": [],
   "source": [
    "import urllib.request"
   ]
  },
  {
   "cell_type": "code",
   "execution_count": 350,
   "metadata": {},
   "outputs": [
    {
     "data": {
      "text/html": [
       "<div>\n",
       "<style scoped>\n",
       "    .dataframe tbody tr th:only-of-type {\n",
       "        vertical-align: middle;\n",
       "    }\n",
       "\n",
       "    .dataframe tbody tr th {\n",
       "        vertical-align: top;\n",
       "    }\n",
       "\n",
       "    .dataframe thead th {\n",
       "        text-align: right;\n",
       "    }\n",
       "</style>\n",
       "<table border=\"1\" class=\"dataframe\">\n",
       "  <thead>\n",
       "    <tr style=\"text-align: right;\">\n",
       "      <th></th>\n",
       "      <th>SrNo</th>\n",
       "      <th>Date</th>\n",
       "      <th>StartupName</th>\n",
       "      <th>Industry</th>\n",
       "      <th>Sub-Vertical</th>\n",
       "      <th>City</th>\n",
       "      <th>Investor</th>\n",
       "      <th>InvestmentType</th>\n",
       "      <th>Amount</th>\n",
       "    </tr>\n",
       "  </thead>\n",
       "  <tbody>\n",
       "    <tr>\n",
       "      <th>1</th>\n",
       "      <td>1</td>\n",
       "      <td>08/09/2020</td>\n",
       "      <td>Byju’s</td>\n",
       "      <td>EduTech</td>\n",
       "      <td>Online Tutoring</td>\n",
       "      <td>Bangalore</td>\n",
       "      <td>Silver Lake, Tiger Global, General Atlantic an...</td>\n",
       "      <td>Private Equity</td>\n",
       "      <td>500,000,000</td>\n",
       "    </tr>\n",
       "    <tr>\n",
       "      <th>2</th>\n",
       "      <td>2</td>\n",
       "      <td>12/09/2020</td>\n",
       "      <td>mCaffeine</td>\n",
       "      <td>Personal Care</td>\n",
       "      <td>Skincare &amp; Haircare</td>\n",
       "      <td>Mumbai</td>\n",
       "      <td>Amicus Capital Private Equity I LLP, Amicus Ca...</td>\n",
       "      <td>Series B</td>\n",
       "      <td>3,000,000\\n</td>\n",
       "    </tr>\n",
       "    <tr>\n",
       "      <th>3</th>\n",
       "      <td>3</td>\n",
       "      <td>09/09/2020</td>\n",
       "      <td>Qshala</td>\n",
       "      <td>EduTech</td>\n",
       "      <td>Online Curiosity Platform for Kids</td>\n",
       "      <td>Bangalore</td>\n",
       "      <td>Rainmatter Capital</td>\n",
       "      <td>Angel</td>\n",
       "      <td>370,000</td>\n",
       "    </tr>\n",
       "    <tr>\n",
       "      <th>4</th>\n",
       "      <td>4</td>\n",
       "      <td>02/09/2020</td>\n",
       "      <td>Winzo</td>\n",
       "      <td>Online Gaming</td>\n",
       "      <td>Online Gaming</td>\n",
       "      <td>New Delhi</td>\n",
       "      <td>Kalaari Capital Partners, IndigoEdge Managemen...</td>\n",
       "      <td>Series B</td>\n",
       "      <td>15,500,000</td>\n",
       "    </tr>\n",
       "    <tr>\n",
       "      <th>5</th>\n",
       "      <td>5</td>\n",
       "      <td>09/09/2020</td>\n",
       "      <td>Hippo Video</td>\n",
       "      <td>Video Customer Experience(CX) Platform</td>\n",
       "      <td>Video Customer Experience(CX) Platform</td>\n",
       "      <td>Newark, Delaware, United States of Amercia</td>\n",
       "      <td>Alpha Wave Incubation, Exfinity Venture Partne...</td>\n",
       "      <td>Series A</td>\n",
       "      <td>4,500,000</td>\n",
       "    </tr>\n",
       "    <tr>\n",
       "      <th>6</th>\n",
       "      <td>6</td>\n",
       "      <td>07/09/2020</td>\n",
       "      <td>Melorra</td>\n",
       "      <td>E-commerce</td>\n",
       "      <td>Online Jewelry Store\\n</td>\n",
       "      <td>Bangalore</td>\n",
       "      <td>Shadow Holdings, Lightbox.</td>\n",
       "      <td>Debt Financing</td>\n",
       "      <td>upto 8,900,000</td>\n",
       "    </tr>\n",
       "    <tr>\n",
       "      <th>7</th>\n",
       "      <td>7</td>\n",
       "      <td>07/09/2020</td>\n",
       "      <td>1mg</td>\n",
       "      <td>E-commerce</td>\n",
       "      <td>Online Pharmacy</td>\n",
       "      <td>Gurgaon</td>\n",
       "      <td>Gaja Capital, Tata Capital, Partners Group</td>\n",
       "      <td>In Progress</td>\n",
       "      <td>100,000,000</td>\n",
       "    </tr>\n",
       "    <tr>\n",
       "      <th>8</th>\n",
       "      <td>8</td>\n",
       "      <td>31/08/2020</td>\n",
       "      <td>mfine</td>\n",
       "      <td>HealthTech</td>\n",
       "      <td>On-Demand Healthcare Services</td>\n",
       "      <td>Bangalore</td>\n",
       "      <td>Caretech Pte Inc</td>\n",
       "      <td>Series B</td>\n",
       "      <td>5,400,000</td>\n",
       "    </tr>\n",
       "    <tr>\n",
       "      <th>9</th>\n",
       "      <td>9</td>\n",
       "      <td>31/08/2020</td>\n",
       "      <td>Apna</td>\n",
       "      <td>Human Resources</td>\n",
       "      <td>Recruitment Platform</td>\n",
       "      <td>Bangalore</td>\n",
       "      <td>Lightspeed India and Sequoia Capital India</td>\n",
       "      <td>Series A</td>\n",
       "      <td>8,000,000</td>\n",
       "    </tr>\n",
       "    <tr>\n",
       "      <th>10</th>\n",
       "      <td>10</td>\n",
       "      <td>03/09/2020</td>\n",
       "      <td>Railofy</td>\n",
       "      <td>Transportation</td>\n",
       "      <td>WL &amp; RAC protection platform</td>\n",
       "      <td>Mumbai</td>\n",
       "      <td>Chiratae Ventures</td>\n",
       "      <td>Seed</td>\n",
       "      <td>950,000</td>\n",
       "    </tr>\n",
       "    <tr>\n",
       "      <th>11</th>\n",
       "      <td>11</td>\n",
       "      <td>08/09/2020</td>\n",
       "      <td>Cell Propulsion</td>\n",
       "      <td>Automobile</td>\n",
       "      <td>Electric Mobility Solutions</td>\n",
       "      <td>Bangalore</td>\n",
       "      <td>growX Ventures and Micelio</td>\n",
       "      <td>pre-Series A</td>\n",
       "      <td>NA</td>\n",
       "    </tr>\n",
       "  </tbody>\n",
       "</table>\n",
       "</div>"
      ],
      "text/plain": [
       "   SrNo        Date      StartupName                                Industry  \\\n",
       "1     1  08/09/2020           Byju’s                                 EduTech   \n",
       "2     2  12/09/2020        mCaffeine                           Personal Care   \n",
       "3     3  09/09/2020           Qshala                                 EduTech   \n",
       "4     4  02/09/2020            Winzo                           Online Gaming   \n",
       "5     5  09/09/2020      Hippo Video  Video Customer Experience(CX) Platform   \n",
       "6     6  07/09/2020          Melorra                              E-commerce   \n",
       "7     7  07/09/2020              1mg                              E-commerce   \n",
       "8     8  31/08/2020            mfine                              HealthTech   \n",
       "9     9  31/08/2020             Apna                         Human Resources   \n",
       "10   10  03/09/2020          Railofy                          Transportation   \n",
       "11   11  08/09/2020  Cell Propulsion                              Automobile   \n",
       "\n",
       "                              Sub-Vertical  \\\n",
       "1                          Online Tutoring   \n",
       "2                      Skincare & Haircare   \n",
       "3       Online Curiosity Platform for Kids   \n",
       "4                            Online Gaming   \n",
       "5   Video Customer Experience(CX) Platform   \n",
       "6                   Online Jewelry Store\\n   \n",
       "7                          Online Pharmacy   \n",
       "8            On-Demand Healthcare Services   \n",
       "9                     Recruitment Platform   \n",
       "10            WL & RAC protection platform   \n",
       "11             Electric Mobility Solutions   \n",
       "\n",
       "                                          City  \\\n",
       "1                                    Bangalore   \n",
       "2                                       Mumbai   \n",
       "3                                    Bangalore   \n",
       "4                                    New Delhi   \n",
       "5   Newark, Delaware, United States of Amercia   \n",
       "6                                    Bangalore   \n",
       "7                                      Gurgaon   \n",
       "8                                    Bangalore   \n",
       "9                                    Bangalore   \n",
       "10                                      Mumbai   \n",
       "11                                   Bangalore   \n",
       "\n",
       "                                             Investor  InvestmentType  \\\n",
       "1   Silver Lake, Tiger Global, General Atlantic an...  Private Equity   \n",
       "2   Amicus Capital Private Equity I LLP, Amicus Ca...        Series B   \n",
       "3                                  Rainmatter Capital           Angel   \n",
       "4   Kalaari Capital Partners, IndigoEdge Managemen...        Series B   \n",
       "5   Alpha Wave Incubation, Exfinity Venture Partne...        Series A   \n",
       "6                          Shadow Holdings, Lightbox.  Debt Financing   \n",
       "7          Gaja Capital, Tata Capital, Partners Group     In Progress   \n",
       "8                                    Caretech Pte Inc        Series B   \n",
       "9          Lightspeed India and Sequoia Capital India        Series A   \n",
       "10                                  Chiratae Ventures            Seed   \n",
       "11                         growX Ventures and Micelio    pre-Series A   \n",
       "\n",
       "            Amount  \n",
       "1      500,000,000  \n",
       "2      3,000,000\\n  \n",
       "3          370,000  \n",
       "4       15,500,000  \n",
       "5        4,500,000  \n",
       "6   upto 8,900,000  \n",
       "7      100,000,000  \n",
       "8        5,400,000  \n",
       "9       8,000,000   \n",
       "10         950,000  \n",
       "11              NA  "
      ]
     },
     "execution_count": 350,
     "metadata": {},
     "output_type": "execute_result"
    }
   ],
   "source": [
    "url = \"https://trak.in/india-startup-funding-investment-2015/\"\n",
    "page = requests.get(url)\n",
    "soup = BeautifulSoup(page.content)\n",
    "table1 = soup.table\n",
    "table1 = soup.find(id = 'tablepress-50')\n",
    "table_rows = table1.find_all('tr')\n",
    "sept_table = []\n",
    "for tr in table_rows:\n",
    "    td = tr.find_all('td')\n",
    "    row = [i.text for i in td]\n",
    "    sept_table.append(row)\n",
    "sept_tabledf = pd.DataFrame(sept_table, columns= ['SrNo', 'Date', 'StartupName', 'Industry', \n",
    "                                               'Sub-Vertical', 'City', 'Investor', 'InvestmentType', 'Amount'])\n",
    "sept_tabledf = sept_tabledf.drop(0)\n",
    "sept_tabledf"
   ]
  },
  {
   "cell_type": "code",
   "execution_count": 354,
   "metadata": {},
   "outputs": [
    {
     "data": {
      "text/html": [
       "<div>\n",
       "<style scoped>\n",
       "    .dataframe tbody tr th:only-of-type {\n",
       "        vertical-align: middle;\n",
       "    }\n",
       "\n",
       "    .dataframe tbody tr th {\n",
       "        vertical-align: top;\n",
       "    }\n",
       "\n",
       "    .dataframe thead th {\n",
       "        text-align: right;\n",
       "    }\n",
       "</style>\n",
       "<table border=\"1\" class=\"dataframe\">\n",
       "  <thead>\n",
       "    <tr style=\"text-align: right;\">\n",
       "      <th></th>\n",
       "      <th>SrNo</th>\n",
       "      <th>Date</th>\n",
       "      <th>StartupName</th>\n",
       "      <th>Industry</th>\n",
       "      <th>Sub-Vertical</th>\n",
       "      <th>City</th>\n",
       "      <th>Investor</th>\n",
       "      <th>InvestmentType</th>\n",
       "      <th>Amount</th>\n",
       "    </tr>\n",
       "  </thead>\n",
       "  <tbody>\n",
       "    <tr>\n",
       "      <th>1</th>\n",
       "      <td>1</td>\n",
       "      <td>15/08/2020</td>\n",
       "      <td>Practo</td>\n",
       "      <td>HealthTech</td>\n",
       "      <td>Health care and Wellness</td>\n",
       "      <td>Bangalore</td>\n",
       "      <td>A1A Company\\n</td>\n",
       "      <td>Series F</td>\n",
       "      <td>32,000,000</td>\n",
       "    </tr>\n",
       "    <tr>\n",
       "      <th>2</th>\n",
       "      <td>2</td>\n",
       "      <td>13/08/2020</td>\n",
       "      <td>Medlife</td>\n",
       "      <td>E-commerce</td>\n",
       "      <td>Online Pharmacy</td>\n",
       "      <td>Bangalore</td>\n",
       "      <td>Prasid Uno Family Trust and SC Credit Fund</td>\n",
       "      <td></td>\n",
       "      <td>23,000,000\\n</td>\n",
       "    </tr>\n",
       "    <tr>\n",
       "      <th>3</th>\n",
       "      <td>3</td>\n",
       "      <td>13/08/2020</td>\n",
       "      <td>HungerBox\\n</td>\n",
       "      <td>FoodTech</td>\n",
       "      <td>Online Food Delivery Service</td>\n",
       "      <td>Bangalore</td>\n",
       "      <td>One97, Sabre Partners Trust, Pratithi Investme...</td>\n",
       "      <td>Series D1</td>\n",
       "      <td>1,560,000</td>\n",
       "    </tr>\n",
       "    <tr>\n",
       "      <th>4</th>\n",
       "      <td>4</td>\n",
       "      <td>04/08/2020</td>\n",
       "      <td>Dunzo</td>\n",
       "      <td>Hyper-local Logistics</td>\n",
       "      <td>Online Delivery Services</td>\n",
       "      <td>Bangalore</td>\n",
       "      <td>Existing Backers</td>\n",
       "      <td>In Progress</td>\n",
       "      <td>30,000,000</td>\n",
       "    </tr>\n",
       "    <tr>\n",
       "      <th>5</th>\n",
       "      <td>5</td>\n",
       "      <td>11/08/2020</td>\n",
       "      <td>Terra.do</td>\n",
       "      <td>EduTech</td>\n",
       "      <td>Online Climate School, E-learning</td>\n",
       "      <td>Stanford, California,</td>\n",
       "      <td>Stanford Angels and Entrepreneurs (India), BEE...</td>\n",
       "      <td>Seed</td>\n",
       "      <td>1,400,000</td>\n",
       "    </tr>\n",
       "    <tr>\n",
       "      <th>6</th>\n",
       "      <td>6</td>\n",
       "      <td>12/08/2020</td>\n",
       "      <td>Classplus</td>\n",
       "      <td>EduTech</td>\n",
       "      <td>E-learning, Online Tutoring\\n\\n</td>\n",
       "      <td>Noida</td>\n",
       "      <td>Falcon Edge</td>\n",
       "      <td>In Progress</td>\n",
       "      <td>upto 15,000,000</td>\n",
       "    </tr>\n",
       "    <tr>\n",
       "      <th>7</th>\n",
       "      <td>7</td>\n",
       "      <td>14/08/2020</td>\n",
       "      <td>Niyo</td>\n",
       "      <td>FinTech</td>\n",
       "      <td>Financial Services</td>\n",
       "      <td>Bangalore</td>\n",
       "      <td>Niyo Solutions Inc.</td>\n",
       "      <td></td>\n",
       "      <td>6,000,000</td>\n",
       "    </tr>\n",
       "    <tr>\n",
       "      <th>8</th>\n",
       "      <td>8</td>\n",
       "      <td>10/08/2020</td>\n",
       "      <td>ZestMoney</td>\n",
       "      <td>FinTech</td>\n",
       "      <td>Financial Services</td>\n",
       "      <td>Bangalore</td>\n",
       "      <td>Primrose Hills Ventures</td>\n",
       "      <td></td>\n",
       "      <td>10,670,000</td>\n",
       "    </tr>\n",
       "    <tr>\n",
       "      <th>9</th>\n",
       "      <td>9</td>\n",
       "      <td>07/08/2020</td>\n",
       "      <td>FreshToHome</td>\n",
       "      <td>E-commerce</td>\n",
       "      <td>Food Delivery</td>\n",
       "      <td>Bangalore</td>\n",
       "      <td>Ascent Capital</td>\n",
       "      <td>Venture</td>\n",
       "      <td>16,200,000</td>\n",
       "    </tr>\n",
       "    <tr>\n",
       "      <th>10</th>\n",
       "      <td>10</td>\n",
       "      <td>13/08/2020</td>\n",
       "      <td>Eduvanz</td>\n",
       "      <td>FinTech</td>\n",
       "      <td>Financial Services</td>\n",
       "      <td>Mumbai</td>\n",
       "      <td>Sequoia India, Unitus</td>\n",
       "      <td>Series A</td>\n",
       "      <td>5,000,000</td>\n",
       "    </tr>\n",
       "    <tr>\n",
       "      <th>11</th>\n",
       "      <td>11</td>\n",
       "      <td>03/08/2020</td>\n",
       "      <td>CrowdPouch</td>\n",
       "      <td>FinTech</td>\n",
       "      <td>Financial Services</td>\n",
       "      <td>Bangalore</td>\n",
       "      <td>Elina Investments Pvt. Ltd</td>\n",
       "      <td>Angel</td>\n",
       "      <td>NA</td>\n",
       "    </tr>\n",
       "    <tr>\n",
       "      <th>12</th>\n",
       "      <td>12</td>\n",
       "      <td>04/08/2020</td>\n",
       "      <td>DrinkPrime</td>\n",
       "      <td>Water Purification</td>\n",
       "      <td>Water Purification</td>\n",
       "      <td>Bangalore</td>\n",
       "      <td>Sequoia Surge, ON Mauritius</td>\n",
       "      <td>Pre-Series A</td>\n",
       "      <td>2,880,000</td>\n",
       "    </tr>\n",
       "  </tbody>\n",
       "</table>\n",
       "</div>"
      ],
      "text/plain": [
       "   SrNo        Date  StartupName               Industry  \\\n",
       "1     1  15/08/2020       Practo             HealthTech   \n",
       "2     2  13/08/2020      Medlife             E-commerce   \n",
       "3     3  13/08/2020  HungerBox\\n               FoodTech   \n",
       "4     4  04/08/2020        Dunzo  Hyper-local Logistics   \n",
       "5     5  11/08/2020     Terra.do                EduTech   \n",
       "6     6  12/08/2020    Classplus                EduTech   \n",
       "7     7  14/08/2020         Niyo                FinTech   \n",
       "8     8  10/08/2020    ZestMoney                FinTech   \n",
       "9     9  07/08/2020  FreshToHome             E-commerce   \n",
       "10   10  13/08/2020      Eduvanz                FinTech   \n",
       "11   11  03/08/2020   CrowdPouch                FinTech   \n",
       "12   12  04/08/2020   DrinkPrime     Water Purification   \n",
       "\n",
       "                         Sub-Vertical                    City  \\\n",
       "1            Health care and Wellness               Bangalore   \n",
       "2                     Online Pharmacy               Bangalore   \n",
       "3        Online Food Delivery Service               Bangalore   \n",
       "4            Online Delivery Services               Bangalore   \n",
       "5   Online Climate School, E-learning  Stanford, California,    \n",
       "6     E-learning, Online Tutoring\\n\\n                   Noida   \n",
       "7                  Financial Services               Bangalore   \n",
       "8                  Financial Services               Bangalore   \n",
       "9                       Food Delivery               Bangalore   \n",
       "10                 Financial Services                  Mumbai   \n",
       "11                 Financial Services               Bangalore   \n",
       "12                 Water Purification               Bangalore   \n",
       "\n",
       "                                             Investor InvestmentType  \\\n",
       "1                                       A1A Company\\n       Series F   \n",
       "2          Prasid Uno Family Trust and SC Credit Fund                  \n",
       "3   One97, Sabre Partners Trust, Pratithi Investme...      Series D1   \n",
       "4                                    Existing Backers    In Progress   \n",
       "5   Stanford Angels and Entrepreneurs (India), BEE...           Seed   \n",
       "6                                         Falcon Edge    In Progress   \n",
       "7                                 Niyo Solutions Inc.                  \n",
       "8                             Primrose Hills Ventures                  \n",
       "9                                      Ascent Capital       Venture    \n",
       "10                              Sequoia India, Unitus       Series A   \n",
       "11                         Elina Investments Pvt. Ltd          Angel   \n",
       "12                        Sequoia Surge, ON Mauritius   Pre-Series A   \n",
       "\n",
       "             Amount  \n",
       "1        32,000,000  \n",
       "2      23,000,000\\n  \n",
       "3         1,560,000  \n",
       "4        30,000,000  \n",
       "5         1,400,000  \n",
       "6   upto 15,000,000  \n",
       "7         6,000,000  \n",
       "8        10,670,000  \n",
       "9       16,200,000   \n",
       "10        5,000,000  \n",
       "11               NA  \n",
       "12        2,880,000  "
      ]
     },
     "execution_count": 354,
     "metadata": {},
     "output_type": "execute_result"
    }
   ],
   "source": [
    "url = \"https://trak.in/india-startup-funding-investment-2015/\"\n",
    "page = requests.get(url)\n",
    "soup = BeautifulSoup(page.content)\n",
    "table2 = soup.table\n",
    "table2 = soup.find(id = 'tablepress-49')\n",
    "table_rows = table2.find_all('tr')\n",
    "aug_table = []\n",
    "for tr in table_rows:\n",
    "    td = tr.find_all('td')\n",
    "    row = [i.text for i in td]\n",
    "    aug_table.append(row)\n",
    "aug_tabledf = pd.DataFrame(aug_table, columns= ['SrNo', 'Date', 'StartupName', 'Industry', \n",
    "                                               'Sub-Vertical', 'City', 'Investor', 'InvestmentType', 'Amount'])\n",
    "aug_tabledf = aug_tabledf.drop(0)\n",
    "aug_tabledf"
   ]
  },
  {
   "cell_type": "code",
   "execution_count": 355,
   "metadata": {},
   "outputs": [
    {
     "data": {
      "text/html": [
       "<div>\n",
       "<style scoped>\n",
       "    .dataframe tbody tr th:only-of-type {\n",
       "        vertical-align: middle;\n",
       "    }\n",
       "\n",
       "    .dataframe tbody tr th {\n",
       "        vertical-align: top;\n",
       "    }\n",
       "\n",
       "    .dataframe thead th {\n",
       "        text-align: right;\n",
       "    }\n",
       "</style>\n",
       "<table border=\"1\" class=\"dataframe\">\n",
       "  <thead>\n",
       "    <tr style=\"text-align: right;\">\n",
       "      <th></th>\n",
       "      <th>SrNo</th>\n",
       "      <th>Date</th>\n",
       "      <th>StartupName</th>\n",
       "      <th>Industry</th>\n",
       "      <th>Sub-Vertical</th>\n",
       "      <th>City</th>\n",
       "      <th>Investor</th>\n",
       "      <th>InvestmentType</th>\n",
       "      <th>Amount</th>\n",
       "    </tr>\n",
       "  </thead>\n",
       "  <tbody>\n",
       "    <tr>\n",
       "      <th>1</th>\n",
       "      <td>1</td>\n",
       "      <td>15/07/2020</td>\n",
       "      <td>Flipkart</td>\n",
       "      <td>E-commerce</td>\n",
       "      <td>E-commerce</td>\n",
       "      <td>Bangalore</td>\n",
       "      <td>Walmart Inc\\n</td>\n",
       "      <td>M&amp;A</td>\n",
       "      <td>1,200,000,000</td>\n",
       "    </tr>\n",
       "    <tr>\n",
       "      <th>2</th>\n",
       "      <td>2</td>\n",
       "      <td>16/07/2020</td>\n",
       "      <td>Vedantu</td>\n",
       "      <td>EduTech</td>\n",
       "      <td>Online Tutoring</td>\n",
       "      <td>Bangalore</td>\n",
       "      <td>Coatue Management</td>\n",
       "      <td>Series D</td>\n",
       "      <td>100,000,000\\n</td>\n",
       "    </tr>\n",
       "    <tr>\n",
       "      <th>3</th>\n",
       "      <td>3</td>\n",
       "      <td>16/07/2020</td>\n",
       "      <td>Crio</td>\n",
       "      <td>EduTech</td>\n",
       "      <td>Learning Platform for Developers</td>\n",
       "      <td>Bangalore</td>\n",
       "      <td>021 Capital</td>\n",
       "      <td>pre-Series A</td>\n",
       "      <td>934,160</td>\n",
       "    </tr>\n",
       "    <tr>\n",
       "      <th>4</th>\n",
       "      <td>4</td>\n",
       "      <td>14/07/2020</td>\n",
       "      <td>goDutch</td>\n",
       "      <td>FinTech</td>\n",
       "      <td>Group Payments</td>\n",
       "      <td>Mumbai</td>\n",
       "      <td>Matrix India,Y Combinator, Global Founders Cap...</td>\n",
       "      <td>Seed</td>\n",
       "      <td>1,700,000</td>\n",
       "    </tr>\n",
       "    <tr>\n",
       "      <th>5</th>\n",
       "      <td>5</td>\n",
       "      <td>13/07/2020</td>\n",
       "      <td>Mystifly\\n</td>\n",
       "      <td>Airfare Marketplace</td>\n",
       "      <td>Ticketing, Airline Retailing, and Post-Ticket...</td>\n",
       "      <td>Singapore and Bangalore</td>\n",
       "      <td>Recruit Co. Ltd.\\n\\n</td>\n",
       "      <td>pre-Series B</td>\n",
       "      <td>3,300,000</td>\n",
       "    </tr>\n",
       "    <tr>\n",
       "      <th>6</th>\n",
       "      <td>6</td>\n",
       "      <td>09/07/2020</td>\n",
       "      <td>JetSynthesys</td>\n",
       "      <td>Gaming and Entertainment</td>\n",
       "      <td>Gaming and Entertainment\\n\\n</td>\n",
       "      <td>Pune</td>\n",
       "      <td>Adar Poonawalla and Kris Gopalakrishnan.\\n</td>\n",
       "      <td>Venture-Series Unknown</td>\n",
       "      <td>400,000</td>\n",
       "    </tr>\n",
       "    <tr>\n",
       "      <th>7</th>\n",
       "      <td>7</td>\n",
       "      <td>10/07/2020</td>\n",
       "      <td>gigIndia\\n</td>\n",
       "      <td>Marketplace</td>\n",
       "      <td>Crowd Sourcing, Freelance</td>\n",
       "      <td>Pune</td>\n",
       "      <td>Incubate Fund India and Beyond Next Ventures</td>\n",
       "      <td>pre-Series A</td>\n",
       "      <td>974,200</td>\n",
       "    </tr>\n",
       "    <tr>\n",
       "      <th>8</th>\n",
       "      <td>8</td>\n",
       "      <td>15/07/2020</td>\n",
       "      <td>PumPumPum</td>\n",
       "      <td>Automotive Rental</td>\n",
       "      <td>Used Car-leasing platform</td>\n",
       "      <td>Gurgaon</td>\n",
       "      <td>Early Adapters Syndicate</td>\n",
       "      <td>Seed</td>\n",
       "      <td>292,800</td>\n",
       "    </tr>\n",
       "    <tr>\n",
       "      <th>9</th>\n",
       "      <td>9</td>\n",
       "      <td>14/07/2020</td>\n",
       "      <td>FLYX</td>\n",
       "      <td>OTT Player</td>\n",
       "      <td>Streaming Social Network</td>\n",
       "      <td>New York and Delhi</td>\n",
       "      <td>Raj Mishra, founder of AIT Global Inc</td>\n",
       "      <td>pre-Seed</td>\n",
       "      <td>200,000</td>\n",
       "    </tr>\n",
       "    <tr>\n",
       "      <th>10</th>\n",
       "      <td>10</td>\n",
       "      <td>13/07/2020</td>\n",
       "      <td>Open Appliances Pvt. Ltd.</td>\n",
       "      <td>Information Technology</td>\n",
       "      <td>Internet-of-Things Security Solutions</td>\n",
       "      <td>Bangalore</td>\n",
       "      <td>Unicorn India Ventures</td>\n",
       "      <td>Venture-Series Unknown</td>\n",
       "      <td>500,000</td>\n",
       "    </tr>\n",
       "  </tbody>\n",
       "</table>\n",
       "</div>"
      ],
      "text/plain": [
       "   SrNo        Date                StartupName                  Industry  \\\n",
       "1     1  15/07/2020                   Flipkart                E-commerce   \n",
       "2     2  16/07/2020                    Vedantu                   EduTech   \n",
       "3     3  16/07/2020                       Crio                   EduTech   \n",
       "4     4  14/07/2020                    goDutch                   FinTech   \n",
       "5     5  13/07/2020                 Mystifly\\n       Airfare Marketplace   \n",
       "6     6  09/07/2020               JetSynthesys  Gaming and Entertainment   \n",
       "7     7  10/07/2020                 gigIndia\\n               Marketplace   \n",
       "8     8  15/07/2020                  PumPumPum         Automotive Rental   \n",
       "9     9  14/07/2020                       FLYX                OTT Player   \n",
       "10   10  13/07/2020  Open Appliances Pvt. Ltd.    Information Technology   \n",
       "\n",
       "                                         Sub-Vertical  \\\n",
       "1                                          E-commerce   \n",
       "2                                     Online Tutoring   \n",
       "3                    Learning Platform for Developers   \n",
       "4                                      Group Payments   \n",
       "5    Ticketing, Airline Retailing, and Post-Ticket...   \n",
       "6                        Gaming and Entertainment\\n\\n   \n",
       "7                           Crowd Sourcing, Freelance   \n",
       "8                           Used Car-leasing platform   \n",
       "9                            Streaming Social Network   \n",
       "10              Internet-of-Things Security Solutions   \n",
       "\n",
       "                       City  \\\n",
       "1                 Bangalore   \n",
       "2                 Bangalore   \n",
       "3                 Bangalore   \n",
       "4                    Mumbai   \n",
       "5   Singapore and Bangalore   \n",
       "6                      Pune   \n",
       "7                      Pune   \n",
       "8                   Gurgaon   \n",
       "9        New York and Delhi   \n",
       "10                Bangalore   \n",
       "\n",
       "                                             Investor          InvestmentType  \\\n",
       "1                                       Walmart Inc\\n                     M&A   \n",
       "2                                   Coatue Management                Series D   \n",
       "3                                         021 Capital            pre-Series A   \n",
       "4   Matrix India,Y Combinator, Global Founders Cap...                    Seed   \n",
       "5                                Recruit Co. Ltd.\\n\\n            pre-Series B   \n",
       "6          Adar Poonawalla and Kris Gopalakrishnan.\\n  Venture-Series Unknown   \n",
       "7        Incubate Fund India and Beyond Next Ventures            pre-Series A   \n",
       "8                            Early Adapters Syndicate                    Seed   \n",
       "9               Raj Mishra, founder of AIT Global Inc                pre-Seed   \n",
       "10                             Unicorn India Ventures  Venture-Series Unknown   \n",
       "\n",
       "           Amount  \n",
       "1   1,200,000,000  \n",
       "2   100,000,000\\n  \n",
       "3         934,160  \n",
       "4       1,700,000  \n",
       "5       3,300,000  \n",
       "6         400,000  \n",
       "7         974,200  \n",
       "8         292,800  \n",
       "9        200,000   \n",
       "10        500,000  "
      ]
     },
     "execution_count": 355,
     "metadata": {},
     "output_type": "execute_result"
    }
   ],
   "source": [
    "url = \"https://trak.in/india-startup-funding-investment-2015/\"\n",
    "page = requests.get(url)\n",
    "soup = BeautifulSoup(page.content)\n",
    "table3 = soup.table\n",
    "table3 = soup.find(id = 'tablepress-48')\n",
    "table_rows = table3.find_all('tr')\n",
    "july_table = []\n",
    "for tr in table_rows:\n",
    "    td = tr.find_all('td')\n",
    "    row = [i.text for i in td]\n",
    "    july_table.append(row)\n",
    "july_tabledf = pd.DataFrame(july_table, columns= ['SrNo', 'Date', 'StartupName', 'Industry', \n",
    "                                               'Sub-Vertical', 'City', 'Investor', 'InvestmentType', 'Amount'])\n",
    "july_tabledf = july_tabledf.drop(0)\n",
    "july_tabledf"
   ]
  },
  {
   "cell_type": "markdown",
   "metadata": {},
   "source": [
    "### Q7. Write a program to scrap all the available details of top 10 gaming laptops from digit.in."
   ]
  },
  {
   "cell_type": "code",
   "execution_count": 190,
   "metadata": {},
   "outputs": [],
   "source": [
    "driver = webdriver.Chrome(r\"C:\\Users\\User\\Downloads\\chromedriver_win32\\chromedriver.exe\")\n",
    "url = 'https://www.digit.in/top-products/best-gaming-desktop-in-india-3605.html'\n",
    "driver.get(url)"
   ]
  },
  {
   "cell_type": "code",
   "execution_count": 217,
   "metadata": {},
   "outputs": [],
   "source": [
    "title = []\n",
    "title_e = driver.find_elements_by_xpath(\"//div[@class='TopNumbeHeading active sticky-footer']\")\n",
    "for i in title_e:\n",
    "    if i.text is None :\n",
    "        title.append(\"--\") \n",
    "    else:\n",
    "        title.append(i.text)"
   ]
  },
  {
   "cell_type": "code",
   "execution_count": 218,
   "metadata": {},
   "outputs": [
    {
     "data": {
      "text/plain": [
       "['1.\\nMSI INFINITEX PLUS (9SF-270US)',\n",
       " '2.\\nROG STRIX GA35 (G35DX-IN003T)',\n",
       " '3.\\nPREDATOR ORION 9000 PO9-900',\n",
       " '4.\\nLEGION T530 (90L300NYIN)',\n",
       " '5.\\nINSPIRON G5 GAMING DESKTOP',\n",
       " '6.\\nOMEN X COMPACT DESKTOP (P1000-013IN)']"
      ]
     },
     "execution_count": 218,
     "metadata": {},
     "output_type": "execute_result"
    }
   ],
   "source": [
    "title"
   ]
  },
  {
   "cell_type": "code",
   "execution_count": 219,
   "metadata": {},
   "outputs": [],
   "source": [
    "desc = []\n",
    "desc_e = driver.find_elements_by_xpath(\"//div[@class='Section-center']//p\")\n",
    "for i in desc_e:\n",
    "    if i.text is None:\n",
    "        desc.append(\"--\")\n",
    "    elif(len(i.text)>12):\n",
    "        desc.append(i.text)"
   ]
  },
  {
   "cell_type": "code",
   "execution_count": 220,
   "metadata": {},
   "outputs": [
    {
     "data": {
      "text/plain": [
       "[\"MSI opts for an Intel Core i9-9900K for the processor while using the NVIDIA GeForce RTX 2080 Ti for their gaming desktop. The MSI Infinite X Plus 9SF-270US comes in a mid-tower form factor and has 32 GB of RAM to take care of all your multi-tasking needs and for storage they're giving a 512GB NVMe SSD as primary storage and they're throwing in an additional 2TB hard drive for additional storage. Since the Intel Core i9-9900K performs better than the AMD Ryzen 9 3950X in gaming, this combination seems to be apt. For all this, they have quite a steep price tag.\",\n",
       " \"The ASUS ROG Strix GA35 is one of the most feature-laden desktops on offer in India. It uses a Ryzen 9 3950X which is a 16-Core processor that is neck-and-neck with the Intel Core i9-9900K for gaming performance. The GA35 uses an X570 platform which makes it PCIe 4.0 Ready and Gen4 NVMe SSDs can really take advantage of that. For graphics, the GA35 has an NVIDIA GeForce RTX 2080 Ti which is still the best gaming graphics card you can get. For Memory, we get 32 GB of DDR4 RAM and for storage there's a 512GB NVMe SSD along with a 2TB HDD for additional storage. The X570 motherboard within the GA35 is powered by SupremeFX CODEC S1220A for audio which is a great value addition to the overall experience.\",\n",
       " \"Acer's top of the line gaming desktop, the Orion 9000 series uses an Intel Core i9-7900X X-series Processor which is part of the Skylake HEDT processors. It's not as good as the more recent Core i9-9900K or the AMD Ryzen 9 3950X but it still comes close. Also, the graphics card is still the same RTX 2080 Ti as we saw with the other top rigs in this list so we'll end up getting frame rates comparable to the best desktops in the market right now. This would be one of the few gaming desktops to features Intel's Optane memory which acts as a caching storage that helps improve the experience of using a hard drive. Again, we get a 2 TB hard drive for storing all your games.\",\n",
       " 'Lenovo takes a more price conscious approach with their gaming desktop configurations. The Legion 530 uses an Intel Core i7-9700 Processor with an NVIDIA RTX 2070. This saves a lot of money without losing out on a lot of FPS in video games. The RAM is a little too low for our taste but more important components are \"sweet spot\" components i.e. the ones which strike a balance between price and performance. For storage, the T530 comes with a 1 TB PCIe SSD. The Legion T530 comes in a mid-tower form factor much like its sibling, the T730. We didn\\'t feature the T730 as it is no longer available in India as per Lenovo\\'s website.',\n",
       " \"The new Dell G5 gaming desktop uses an Intel Core i7-9700K which is an unlocked processor with good performance in video games, along with an NVIDIA RTX 2060 which is the bare essential RTX card that one can get to enjoy hardware-accelerated ray-tracing without taxing the graphics card much. The G5 comes with 16 GB of RAM and has a 512 GB NVMe SSD for the primary storage. There's also a 1 TB hard drive for additional storage.\",\n",
       " \"HP has plenty of gaming laptops under the OMEN brand but no desktops. The only one we could find happens to be the compact desktop which doubles up as a VR backpack. This unit is powered by an Intel Core i7-7820HK and has an NVIDIA GTX 1080 for the graphics card. On the memory front, you're getting 16 GB of DDR4 RAM and for storage, this machine has a 1 TB SSD. HP's newer OMEN 15 and OMEN X 25 laptops are more powerful than this desktop.\"]"
      ]
     },
     "execution_count": 220,
     "metadata": {},
     "output_type": "execute_result"
    }
   ],
   "source": [
    "desc"
   ]
  },
  {
   "cell_type": "code",
   "execution_count": 221,
   "metadata": {},
   "outputs": [],
   "source": [
    "desc_new = []\n",
    "for i in range(len(desc)):\n",
    "    if ('OUT OF STOCK' in desc[i]) or ('AVAILABLE' in desc[i]):\n",
    "        continue\n",
    "    else:\n",
    "        desc_new = desc[i]"
   ]
  },
  {
   "cell_type": "code",
   "execution_count": 222,
   "metadata": {},
   "outputs": [
    {
     "data": {
      "text/plain": [
       "\"HP has plenty of gaming laptops under the OMEN brand but no desktops. The only one we could find happens to be the compact desktop which doubles up as a VR backpack. This unit is powered by an Intel Core i7-7820HK and has an NVIDIA GTX 1080 for the graphics card. On the memory front, you're getting 16 GB of DDR4 RAM and for storage, this machine has a 1 TB SSD. HP's newer OMEN 15 and OMEN X 25 laptops are more powerful than this desktop.\""
      ]
     },
     "execution_count": 222,
     "metadata": {},
     "output_type": "execute_result"
    }
   ],
   "source": [
    "desc_new"
   ]
  },
  {
   "cell_type": "code",
   "execution_count": 223,
   "metadata": {},
   "outputs": [],
   "source": [
    "availability = []\n",
    "record = []\n",
    "l = len(desc)\n",
    "for i in range(l):\n",
    "    if(len(desc[i])<5):\n",
    "        print(len(desc[i]))\n",
    "        availability.append(i)\n",
    "        record.append(i)"
   ]
  },
  {
   "cell_type": "code",
   "execution_count": 224,
   "metadata": {},
   "outputs": [
    {
     "data": {
      "text/plain": [
       "676"
      ]
     },
     "execution_count": 224,
     "metadata": {},
     "output_type": "execute_result"
    }
   ],
   "source": [
    "len(desc[2])"
   ]
  },
  {
   "cell_type": "code",
   "execution_count": 225,
   "metadata": {},
   "outputs": [],
   "source": [
    "merchant = []\n",
    "merchant_e = driver.find_elements_by_xpath(\"//div[@class='merchantdatalist1']\")\n",
    "for i in merchant_e:\n",
    "    if (i.text is None) or (len(i.text)==0):\n",
    "        merchant.append(\"--\")\n",
    "    else:\n",
    "        merchant.append(i.text.replace(\"\\nBUY NOW\",\"\"))"
   ]
  },
  {
   "cell_type": "code",
   "execution_count": 226,
   "metadata": {},
   "outputs": [
    {
     "data": {
      "text/plain": [
       "['OUT OF STOCK ₹ 539990',\n",
       " '--',\n",
       " 'OUT OF STOCK ₹ 452000',\n",
       " 'AVAILABLE ₹ 132746',\n",
       " 'OUT OF STOCK ₹ 169990',\n",
       " 'AVAILABLE ₹ 298827']"
      ]
     },
     "execution_count": 226,
     "metadata": {},
     "output_type": "execute_result"
    }
   ],
   "source": [
    "merchant"
   ]
  },
  {
   "cell_type": "code",
   "execution_count": 227,
   "metadata": {},
   "outputs": [],
   "source": [
    "df = pd.DataFrame(merchant)"
   ]
  },
  {
   "cell_type": "code",
   "execution_count": 228,
   "metadata": {},
   "outputs": [
    {
     "data": {
      "text/html": [
       "<div>\n",
       "<style scoped>\n",
       "    .dataframe tbody tr th:only-of-type {\n",
       "        vertical-align: middle;\n",
       "    }\n",
       "\n",
       "    .dataframe tbody tr th {\n",
       "        vertical-align: top;\n",
       "    }\n",
       "\n",
       "    .dataframe thead th {\n",
       "        text-align: right;\n",
       "    }\n",
       "</style>\n",
       "<table border=\"1\" class=\"dataframe\">\n",
       "  <thead>\n",
       "    <tr style=\"text-align: right;\">\n",
       "      <th></th>\n",
       "      <th>0</th>\n",
       "    </tr>\n",
       "  </thead>\n",
       "  <tbody>\n",
       "    <tr>\n",
       "      <th>0</th>\n",
       "      <td>OUT OF STOCK ₹ 539990</td>\n",
       "    </tr>\n",
       "    <tr>\n",
       "      <th>1</th>\n",
       "      <td>--</td>\n",
       "    </tr>\n",
       "    <tr>\n",
       "      <th>2</th>\n",
       "      <td>OUT OF STOCK ₹ 452000</td>\n",
       "    </tr>\n",
       "    <tr>\n",
       "      <th>3</th>\n",
       "      <td>AVAILABLE ₹ 132746</td>\n",
       "    </tr>\n",
       "    <tr>\n",
       "      <th>4</th>\n",
       "      <td>OUT OF STOCK ₹ 169990</td>\n",
       "    </tr>\n",
       "    <tr>\n",
       "      <th>5</th>\n",
       "      <td>AVAILABLE ₹ 298827</td>\n",
       "    </tr>\n",
       "  </tbody>\n",
       "</table>\n",
       "</div>"
      ],
      "text/plain": [
       "                       0\n",
       "0  OUT OF STOCK ₹ 539990\n",
       "1                     --\n",
       "2  OUT OF STOCK ₹ 452000\n",
       "3     AVAILABLE ₹ 132746\n",
       "4  OUT OF STOCK ₹ 169990\n",
       "5     AVAILABLE ₹ 298827"
      ]
     },
     "execution_count": 228,
     "metadata": {},
     "output_type": "execute_result"
    }
   ],
   "source": [
    "df"
   ]
  },
  {
   "cell_type": "code",
   "execution_count": 229,
   "metadata": {},
   "outputs": [],
   "source": [
    "df[['Status of availability', 'Price']] = df[0].str.split(\"₹\",expand=True)"
   ]
  },
  {
   "cell_type": "code",
   "execution_count": 230,
   "metadata": {},
   "outputs": [],
   "source": [
    "df.drop(columns=0, inplace= True)"
   ]
  },
  {
   "cell_type": "code",
   "execution_count": 231,
   "metadata": {},
   "outputs": [],
   "source": [
    "df[\"Description\"] = desc"
   ]
  },
  {
   "cell_type": "code",
   "execution_count": 232,
   "metadata": {},
   "outputs": [
    {
     "data": {
      "text/plain": [
       "6"
      ]
     },
     "execution_count": 232,
     "metadata": {},
     "output_type": "execute_result"
    }
   ],
   "source": [
    "len(title)"
   ]
  },
  {
   "cell_type": "code",
   "execution_count": 233,
   "metadata": {},
   "outputs": [],
   "source": [
    "df[\"Laptop Model\"] = title"
   ]
  },
  {
   "cell_type": "code",
   "execution_count": 235,
   "metadata": {
    "scrolled": true
   },
   "outputs": [
    {
     "data": {
      "text/html": [
       "<div>\n",
       "<style scoped>\n",
       "    .dataframe tbody tr th:only-of-type {\n",
       "        vertical-align: middle;\n",
       "    }\n",
       "\n",
       "    .dataframe tbody tr th {\n",
       "        vertical-align: top;\n",
       "    }\n",
       "\n",
       "    .dataframe thead th {\n",
       "        text-align: right;\n",
       "    }\n",
       "</style>\n",
       "<table border=\"1\" class=\"dataframe\">\n",
       "  <thead>\n",
       "    <tr style=\"text-align: right;\">\n",
       "      <th></th>\n",
       "      <th>Status of availability</th>\n",
       "      <th>Price</th>\n",
       "      <th>Description</th>\n",
       "      <th>Laptop Model</th>\n",
       "    </tr>\n",
       "  </thead>\n",
       "  <tbody>\n",
       "    <tr>\n",
       "      <th>0</th>\n",
       "      <td>OUT OF STOCK</td>\n",
       "      <td>539990</td>\n",
       "      <td>MSI opts for an Intel Core i9-9900K for the pr...</td>\n",
       "      <td>1.\\nMSI INFINITEX PLUS (9SF-270US)</td>\n",
       "    </tr>\n",
       "    <tr>\n",
       "      <th>1</th>\n",
       "      <td>--</td>\n",
       "      <td>None</td>\n",
       "      <td>The ASUS ROG Strix GA35 is one of the most fea...</td>\n",
       "      <td>2.\\nROG STRIX GA35 (G35DX-IN003T)</td>\n",
       "    </tr>\n",
       "    <tr>\n",
       "      <th>2</th>\n",
       "      <td>OUT OF STOCK</td>\n",
       "      <td>452000</td>\n",
       "      <td>Acer's top of the line gaming desktop, the Ori...</td>\n",
       "      <td>3.\\nPREDATOR ORION 9000 PO9-900</td>\n",
       "    </tr>\n",
       "    <tr>\n",
       "      <th>3</th>\n",
       "      <td>AVAILABLE</td>\n",
       "      <td>132746</td>\n",
       "      <td>Lenovo takes a more price conscious approach w...</td>\n",
       "      <td>4.\\nLEGION T530 (90L300NYIN)</td>\n",
       "    </tr>\n",
       "    <tr>\n",
       "      <th>4</th>\n",
       "      <td>OUT OF STOCK</td>\n",
       "      <td>169990</td>\n",
       "      <td>The new Dell G5 gaming desktop uses an Intel C...</td>\n",
       "      <td>5.\\nINSPIRON G5 GAMING DESKTOP</td>\n",
       "    </tr>\n",
       "    <tr>\n",
       "      <th>5</th>\n",
       "      <td>AVAILABLE</td>\n",
       "      <td>298827</td>\n",
       "      <td>HP has plenty of gaming laptops under the OMEN...</td>\n",
       "      <td>6.\\nOMEN X COMPACT DESKTOP (P1000-013IN)</td>\n",
       "    </tr>\n",
       "  </tbody>\n",
       "</table>\n",
       "</div>"
      ],
      "text/plain": [
       "  Status of availability    Price  \\\n",
       "0          OUT OF STOCK    539990   \n",
       "1                     --     None   \n",
       "2          OUT OF STOCK    452000   \n",
       "3             AVAILABLE    132746   \n",
       "4          OUT OF STOCK    169990   \n",
       "5             AVAILABLE    298827   \n",
       "\n",
       "                                         Description  \\\n",
       "0  MSI opts for an Intel Core i9-9900K for the pr...   \n",
       "1  The ASUS ROG Strix GA35 is one of the most fea...   \n",
       "2  Acer's top of the line gaming desktop, the Ori...   \n",
       "3  Lenovo takes a more price conscious approach w...   \n",
       "4  The new Dell G5 gaming desktop uses an Intel C...   \n",
       "5  HP has plenty of gaming laptops under the OMEN...   \n",
       "\n",
       "                               Laptop Model  \n",
       "0        1.\\nMSI INFINITEX PLUS (9SF-270US)  \n",
       "1         2.\\nROG STRIX GA35 (G35DX-IN003T)  \n",
       "2           3.\\nPREDATOR ORION 9000 PO9-900  \n",
       "3              4.\\nLEGION T530 (90L300NYIN)  \n",
       "4            5.\\nINSPIRON G5 GAMING DESKTOP  \n",
       "5  6.\\nOMEN X COMPACT DESKTOP (P1000-013IN)  "
      ]
     },
     "execution_count": 235,
     "metadata": {},
     "output_type": "execute_result"
    }
   ],
   "source": [
    "df"
   ]
  }
 ],
 "metadata": {
  "kernelspec": {
   "display_name": "Python 3",
   "language": "python",
   "name": "python3"
  },
  "language_info": {
   "codemirror_mode": {
    "name": "ipython",
    "version": 3
   },
   "file_extension": ".py",
   "mimetype": "text/x-python",
   "name": "python",
   "nbconvert_exporter": "python",
   "pygments_lexer": "ipython3",
   "version": "3.8.5"
  }
 },
 "nbformat": 4,
 "nbformat_minor": 4
}
