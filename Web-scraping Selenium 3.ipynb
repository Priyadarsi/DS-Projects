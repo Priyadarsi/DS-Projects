{
 "cells": [
  {
   "cell_type": "code",
   "execution_count": 1,
   "metadata": {
    "scrolled": true
   },
   "outputs": [
    {
     "name": "stdout",
     "output_type": "stream",
     "text": [
      "Requirement already satisfied: selenium in c:\\users\\user\\anaconda3\\lib\\site-packages (3.141.0)\n",
      "Requirement already satisfied: urllib3 in c:\\users\\user\\anaconda3\\lib\\site-packages (from selenium) (1.25.11)\n",
      "Note: you may need to restart the kernel to use updated packages.\n"
     ]
    }
   ],
   "source": [
    "pip install selenium"
   ]
  },
  {
   "cell_type": "code",
   "execution_count": 2,
   "metadata": {},
   "outputs": [],
   "source": [
    "import selenium\n",
    "import pandas as pd\n",
    "import numpy as np\n",
    "from selenium import webdriver\n",
    "import time\n",
    "from selenium.webdriver.support.ui import WebDriverWait\n",
    "from selenium.webdriver.support import expected_conditions as EC\n",
    "from selenium.webdriver.common.by import By\n",
    "from selenium.webdriver.common.keys import Keys\n",
    "from selenium.common.exceptions import StaleElementReferenceException, NoSuchElementException"
   ]
  },
  {
   "cell_type": "markdown",
   "metadata": {},
   "source": [
    "### Q1. Write a python program which searches all the product under a particular product vertical from www.amazon.in. The product verticals to be searched will be taken as input from user. For e.g. If user input is ‘guitar’. Then search for guitars."
   ]
  },
  {
   "cell_type": "code",
   "execution_count": 179,
   "metadata": {},
   "outputs": [
    {
     "name": "stdout",
     "output_type": "stream",
     "text": [
      "Enter the product category: guitar\n"
     ]
    }
   ],
   "source": [
    "webD = webdriver.Chrome(r\"C:\\Users\\User\\Downloads\\chromedriver_win32\\chromedriver.exe\")\n",
    "url = \"https://www.amazon.in/\"\n",
    "webD.get(url)\n",
    "search_box = webD.find_element_by_id('twotabsearchtextbox')\n",
    "search_box\n",
    "val = input(\"Enter the product category: \")\n",
    "search_box.send_keys(val)\n",
    "search_btn = webD.find_element_by_id('nav-search-submit-button')\n",
    "search_btn.click()"
   ]
  },
  {
   "cell_type": "markdown",
   "metadata": {},
   "source": [
    "### Q2. In the above question, now scrape the following details of each product listed in first 3 pages of your search results and save it in a dataframe and csv. In case if any product vertical has less than 3 pages in search results then scrape all the products available under that product vertical. Details to be scraped are: \"Brand Name\", \"Name of the Product\", \"Rating\", \"No. of Ratings\", \"Price\", \"Return/Exchange\", \"Expected Delivery\", \"Availability\", \"Other Details\" and “Product URL”. In case, if any of the details are missing for any of the product then replace it by “-“."
   ]
  },
  {
   "cell_type": "code",
   "execution_count": 180,
   "metadata": {},
   "outputs": [
    {
     "data": {
      "text/plain": [
       "156"
      ]
     },
     "execution_count": 180,
     "metadata": {},
     "output_type": "execute_result"
    }
   ],
   "source": [
    "#Running loop to store the product links in a list\n",
    "listOflinks =[]\n",
    "count = 1\n",
    "while count <4:\n",
    "    time.sleep(3)\n",
    "    productInfoList=webD.find_elements_by_xpath(\"//a[@class='a-link-normal a-text-normal']\")\n",
    "    for el in productInfoList:\n",
    "        listOflinks.append(el.get_attribute('href'))\n",
    "    link = webD.find_element_by_xpath(\"//li[@class = 'a-last']//a\")\n",
    "    link.click()\n",
    "    count += 1\n",
    "\n",
    "len(listOflinks)"
   ]
  },
  {
   "cell_type": "code",
   "execution_count": 201,
   "metadata": {},
   "outputs": [],
   "source": [
    "BrandName  = []\n",
    "Nameofproduct = []\n",
    "Ratings=[]\n",
    "NoofRatings = []\n",
    "Price=[]\n",
    "ReturnExchange = []\n",
    "ExpectedDelivery  =  []\n",
    "Availability = []\n",
    "OtherDetails = []"
   ]
  },
  {
   "cell_type": "code",
   "execution_count": null,
   "metadata": {},
   "outputs": [],
   "source": [
    "for el in listOflinks:\n",
    "    webD.get(el)\n",
    "    time.sleep(3)\n",
    "    title = webD.find_element_by_xpath('//*[@id=\"productTitle\"]').text\n",
    "    Nameofproduct.append(title)\n",
    "    BrandName.append(title.split(sep=' ')[0])\n",
    "    Price.append(webD.find_element_by_id('priceblock_dealprice').text)\n",
    "    ExpectedDelivery.append(webD.find_element_by_id('ddmDeliveryMessage').text.split(\":\")[1].replace(\" Details\",\"\"))\n",
    "    Availability.append(webD.find_element_by_id('availability').text)\n",
    "    OtherDetails.append(webD.find_element_by_id('priceblock_dealprice').text)\n",
    "    details = webD.find_elements_by_xpath('//*[@class=\"a-size-small a-link-normal a-text-normal\"]')\n",
    "    for i in details:\n",
    "        if 'Days' in i.text:\n",
    "            ReturnExchange.append(i.text)\n",
    "        if 'Warranty' in i.text:\n",
    "            OtherDetails.append(i.text)\n",
    "    stars = webD.find_elements_by_xpath('//*[@class=\"a-size-base\"]')\n",
    "    for i in stars:\n",
    "        if 'out of 5 stars' in i.text:\n",
    "            NoofRatings.append(i.text.split(\"\\n\")[0])\n",
    "            Ratings.append(i.text.split(\"\\n\")[1])"
   ]
  },
  {
   "cell_type": "code",
   "execution_count": null,
   "metadata": {},
   "outputs": [],
   "source": [
    "df=pd.DataFrame({'BrandName': BrandName, 'Nameofproduct':Nameofproduct, 'Ratings':Ratings, 'NoofRatings': NoofRatings, 'Price': Price, 'ReturnExchange': ReturnExchange, 'ExpectedDelivery': ExpectedDelivery, \n",
    "'Availability': Availability, 'OtherDetails':  OtherDetails})"
   ]
  },
  {
   "cell_type": "code",
   "execution_count": null,
   "metadata": {},
   "outputs": [],
   "source": [
    "# saving the dataframe\n",
    "df.to_csv('file1.csv')"
   ]
  },
  {
   "cell_type": "markdown",
   "metadata": {},
   "source": [
    "### Q3. Write a python program to access the search bar and search button on images.google.com and scrape 100 images each for keywords ‘fruits’, ‘cars’ and ‘Machine Learning’."
   ]
  },
  {
   "cell_type": "code",
   "execution_count": 242,
   "metadata": {},
   "outputs": [],
   "source": [
    "import os\n",
    "import selenium\n",
    "from selenium import webdriver\n",
    "import time\n",
    "import io\n",
    "import requests"
   ]
  },
  {
   "cell_type": "code",
   "execution_count": 243,
   "metadata": {},
   "outputs": [],
   "source": [
    "def downloadimage(search_element):\n",
    "    driver = webdriver.Chrome(r\"C:\\Users\\User\\Downloads\\chromedriver_win32\\chromedriver.exe\")\n",
    "    url = \"https://images.google.com/\"\n",
    "    driver.get(url)\n",
    "    search = driver.find_element_by_xpath(\"//input[@class = 'gLFyf gsfi']\")\n",
    "    search.send_keys(search_element)\n",
    "    search_btn = driver.find_element_by_xpath(\"//button[@class = 'Tg7LZd']\")\n",
    "    search_btn.click()\n",
    "    #Scroll to the end of the page\n",
    "    driver.execute_script(\"window.scrollTo(0, document.body.scrollHeight);\")\n",
    "    time.sleep(5)#sleep_between_interactions\n",
    "    #Locate the images to be scraped from the current page \n",
    "    imgResults = driver.find_elements_by_xpath(\"//img[contains(@class,'Q4LuWd')]\")\n",
    "\n",
    "    #Click on each Image to extract its corresponding link\n",
    "    img_urls = []\n",
    "    \n",
    "    for i in  range(0,len(imgResults)):\n",
    "        img=imgResults[i]\n",
    "        try:\n",
    "            img.click()\n",
    "            time.sleep(2)\n",
    "            actual_images = driver.find_elements_by_css_selector('img.n3VNCb')\n",
    "            for actual_image in actual_images:\n",
    "                if actual_image.get_attribute('src') and 'https' in actual_image.get_attribute('src'):\n",
    "                    img_urls.append(actual_image.get_attribute('src'))\n",
    "        except ElementClickInterceptedException or ElementNotInteractableException as err:\n",
    "            print(err)\n",
    "    \n",
    "    #Saving the images to current directory\n",
    "    count = 0\n",
    "    for i in range(len(img_urls)):\n",
    "        reponse = requests.get(img_urls[i])\n",
    "        if reponse.status_code == 200:\n",
    "            with open(f\"{search_element}{count+1}.jpg\",\"wb\") as file:\n",
    "                file.write(reponse.content)\n",
    "                count += 1\n",
    "    return"
   ]
  },
  {
   "cell_type": "code",
   "execution_count": 244,
   "metadata": {},
   "outputs": [],
   "source": [
    "downloadimage(\"fruits\")\n",
    "downloadimage(\"cars\")\n",
    "downloadimage(\"Machine Learning\")"
   ]
  },
  {
   "cell_type": "markdown",
   "metadata": {},
   "source": [
    "### 4. Write a python program to search for a smartphone(e.g.: Oneplus Nord, pixel 4A, etc.) on www.flipkart.com and scrape following details for all the search results displayed on 1st page. Details to be scraped: “Brand Name”, “Smartphone name”, “Colour”, “RAM”, “Storage(ROM)”, “Primary Camera”, “Secondary Camera”, “Display Size”, “Display Resolution”, “Processor”, “Processor Cores”, “Battery Capacity”, “Price”, “Product URL”. Incase if any of the details is missing then replace it by “- “. Save your results in a dataframe and CSV."
   ]
  },
  {
   "cell_type": "code",
   "execution_count": 235,
   "metadata": {},
   "outputs": [],
   "source": [
    "driver = webdriver.Chrome(r\"C:\\Users\\User\\Downloads\\chromedriver_win32\\chromedriver.exe\")\n",
    "time.sleep(3)\n",
    "\n",
    "url = \"https://www.flipkart.com/\"\n",
    "driver.get(url)\n",
    "\n",
    "button = driver.find_element_by_xpath(\"//button[@class = '_2KpZ6l _2doB4z']\")\n",
    "button.click()\n",
    "\n",
    "#locating the search bar\n",
    "search_bar=driver.find_element_by_class_name(\"_3704LK\")\n",
    "search_bar.send_keys('realme')\n",
    "\n",
    "time.sleep(2)\n",
    "#locating the button and clicking it toh search for sunglasses\n",
    "button=driver.find_element_by_class_name('L0Z3Pu')\n",
    "button.click()\n",
    "\n",
    "urls  = []\n",
    "for j in driver.find_elements_by_xpath('//a[@class=\"_1fQZEK\"]'):\n",
    "    urls.append(j.get_attribute('href'))\n",
    "    \n",
    "#creating the empty lists\n",
    "BrandName = []\n",
    "Smartphonename = []\n",
    "Colour = []\n",
    "RAM = []\n",
    "Storage = []\n",
    "PrimaryCamera = []\n",
    "SecondaryCamera = []\n",
    "DisplaySize = []\n",
    "DisplayResolution = []\n",
    "Processor = []\n",
    "ProcessorCores = []\n",
    "BatteryCapacity = []\n",
    "Price = []"
   ]
  },
  {
   "cell_type": "code",
   "execution_count": 239,
   "metadata": {},
   "outputs": [],
   "source": [
    "for i in urls:\n",
    "    driver.get(i)\n",
    "    BrandName.append(driver.find_element_by_class_name('B_NuCI').text.split(\" \")[0])\n",
    "    Smartphonename.append(driver.find_element_by_class_name('B_NuCI').text)\n",
    "    details1 = driver.find_elements_by_xpath(\"//div[@class='_3k-BhJ']\")\n",
    "    details1_l = []\n",
    "    for i in details1:\n",
    "        details1_l.append(i.text.split(\"\\n\"))\n",
    "    for i in range(len(details1_l)):\n",
    "        for j in range(len(details1_l[i])):\n",
    "            if 'Color' in details1_l[i][j]:\n",
    "                Colour.append(details1_l[i][j+1])\n",
    "        for j in range(len(details1_l[i])):\n",
    "            if 'RAM' in details1_l[i][j]:\n",
    "                RAM.append(details1_l[i][j+1])\n",
    "        for j in range(len(details1_l[i])):\n",
    "            if 'Internal Storage' in details1_l[i][j]:\n",
    "                Storage.append(details1_l[i][j+1])\n",
    "        for j in range(len(details1_l[i])):\n",
    "            if 'Primary Camera' in details1_l[i][j]:\n",
    "                PrimaryCamera.append(details1_l[i][j+1])\n",
    "        for j in range(len(details1_l[i])):\n",
    "            if 'Secondary Camera' in details1_l[i][j]:\n",
    "                SecondaryCamera.append(details1_l[i][j+1])\n",
    "        for j in range(len(details1_l[i])):\n",
    "            if 'Display Size' in details1_l[i][j]:\n",
    "                DisplaySize.append(details1_l[i][j+1])\n",
    "        for j in range(len(details1_l[i])):\n",
    "            if 'Resolution' in details1_l[i][j]:\n",
    "                DisplayResolution.append(details1_l[i][j+1])\n",
    "        for j in range(len(details1_l[i])):\n",
    "            if 'Processor Type' in details1_l[i][j]:\n",
    "                Processor.append(details1_l[i][j+1])\n",
    "        for j in range(len(details1_l[i])):\n",
    "            if 'Processor Core' in details1_l[i][j]:\n",
    "                ProcessorCores.append(details1_l[i][j+1])\n",
    "        for j in range(len(details1_l[i])):\n",
    "            if 'Battery Capacity' in details1_l[i][j]:\n",
    "                BatteryCapacity.append(details1_l[i][j+1])"
   ]
  },
  {
   "cell_type": "code",
   "execution_count": null,
   "metadata": {},
   "outputs": [],
   "source": [
    "df=pd.DataFrame({'BrandName':BrandName,'Smartphonename': Smartphonename,\n",
    "                 'Colour': Colour, 'RAM': RAM, 'Storage':Storage,\n",
    "                 'PrimaryCamera': PrimaryCamera, 'SecondaryCamera': SecondaryCamera,\n",
    "                 'DisplaySize' :DisplaySize, 'DisplayResolution': DisplayResolution,\n",
    "                 'Processor': Processor, 'ProcessorCores' :ProcessorCores,\n",
    "                 'BatteryCapacity': BatteryCapacity, 'Price': Price})"
   ]
  },
  {
   "cell_type": "code",
   "execution_count": null,
   "metadata": {},
   "outputs": [],
   "source": [
    "# saving the dataframe\n",
    "df.to_csv('flipkart.csv')"
   ]
  },
  {
   "cell_type": "markdown",
   "metadata": {},
   "source": [
    "### 5. Write a program to scrap geospatial coordinates (latitude, longitude) of a city searched on google maps."
   ]
  },
  {
   "cell_type": "code",
   "execution_count": 172,
   "metadata": {},
   "outputs": [
    {
     "name": "stdout",
     "output_type": "stream",
     "text": [
      "Enter the city: delhi\n"
     ]
    }
   ],
   "source": [
    "webD = webdriver.Chrome(r\"C:\\Users\\User\\Downloads\\chromedriver_win32\\chromedriver.exe\")\n",
    "url = \"https://www.google.com/maps/@19.3164803,84.8046344,15z\"\n",
    "webD.get(url)\n",
    "search_box = webD.find_element_by_id('searchboxinput')\n",
    "search_box\n",
    "val = input(\"Enter the city: \")\n",
    "search_box.send_keys(val)\n",
    "search_btn = webD.find_element_by_id('searchbox-searchbutton')\n",
    "search_btn.click()"
   ]
  },
  {
   "cell_type": "code",
   "execution_count": 173,
   "metadata": {},
   "outputs": [],
   "source": [
    "str = webD.current_url.split(\"/\")"
   ]
  },
  {
   "cell_type": "code",
   "execution_count": 174,
   "metadata": {},
   "outputs": [],
   "source": [
    "for i in str:\n",
    "    if '@' in i:\n",
    "        latlong = i.replace(\"@\",\"\")"
   ]
  },
  {
   "cell_type": "code",
   "execution_count": 176,
   "metadata": {},
   "outputs": [],
   "source": [
    "latitude = latlong.split(\",\")[0]\n",
    "longitude  = latlong.split(\",\")[1]"
   ]
  },
  {
   "cell_type": "code",
   "execution_count": 177,
   "metadata": {},
   "outputs": [
    {
     "data": {
      "text/plain": [
       "'28.6466772'"
      ]
     },
     "execution_count": 177,
     "metadata": {},
     "output_type": "execute_result"
    }
   ],
   "source": [
    "latitude"
   ]
  },
  {
   "cell_type": "code",
   "execution_count": 178,
   "metadata": {},
   "outputs": [
    {
     "data": {
      "text/plain": [
       "'76.8130591'"
      ]
     },
     "execution_count": 178,
     "metadata": {},
     "output_type": "execute_result"
    }
   ],
   "source": [
    "longitude"
   ]
  },
  {
   "cell_type": "markdown",
   "metadata": {},
   "source": [
    "### 6. Write a program to scrap details of all the funding deals for second quarter (i.e. July 20 – September 20) from trak.in."
   ]
  },
  {
   "cell_type": "code",
   "execution_count": 269,
   "metadata": {},
   "outputs": [],
   "source": [
    "webD = webdriver.Chrome(r\"C:\\Users\\User\\Downloads\\chromedriver_win32\\chromedriver.exe\")\n",
    "url = \"https://trak.in/india-startup-funding-investment-2015/\"\n",
    "webD.get(url)"
   ]
  },
  {
   "cell_type": "code",
   "execution_count": 270,
   "metadata": {},
   "outputs": [],
   "source": [
    "sep2020 = webD.find_element_by_id(\"tablepress-50_wrapper\")"
   ]
  },
  {
   "cell_type": "code",
   "execution_count": 274,
   "metadata": {},
   "outputs": [],
   "source": [
    "aug2020 = webD.find_element_by_id(\"tablepress-49_wrapper\")"
   ]
  },
  {
   "cell_type": "code",
   "execution_count": null,
   "metadata": {},
   "outputs": [],
   "source": [
    "jul2020 = webD.find_element_by_id(\"tablepress-48_wrapper\")"
   ]
  },
  {
   "cell_type": "code",
   "execution_count": null,
   "metadata": {},
   "outputs": [],
   "source": []
  },
  {
   "cell_type": "markdown",
   "metadata": {},
   "source": [
    "### Q7. Write a program to scrap all the available details of top 10 gaming laptops from digit.in."
   ]
  },
  {
   "cell_type": "code",
   "execution_count": 190,
   "metadata": {},
   "outputs": [],
   "source": [
    "driver = webdriver.Chrome(r\"C:\\Users\\User\\Downloads\\chromedriver_win32\\chromedriver.exe\")\n",
    "url = 'https://www.digit.in/top-products/best-gaming-desktop-in-india-3605.html'\n",
    "driver.get(url)"
   ]
  },
  {
   "cell_type": "code",
   "execution_count": 217,
   "metadata": {},
   "outputs": [],
   "source": [
    "title = []\n",
    "title_e = driver.find_elements_by_xpath(\"//div[@class='TopNumbeHeading active sticky-footer']\")\n",
    "for i in title_e:\n",
    "    if i.text is None :\n",
    "        title.append(\"--\") \n",
    "    else:\n",
    "        title.append(i.text)"
   ]
  },
  {
   "cell_type": "code",
   "execution_count": 218,
   "metadata": {},
   "outputs": [
    {
     "data": {
      "text/plain": [
       "['1.\\nMSI INFINITEX PLUS (9SF-270US)',\n",
       " '2.\\nROG STRIX GA35 (G35DX-IN003T)',\n",
       " '3.\\nPREDATOR ORION 9000 PO9-900',\n",
       " '4.\\nLEGION T530 (90L300NYIN)',\n",
       " '5.\\nINSPIRON G5 GAMING DESKTOP',\n",
       " '6.\\nOMEN X COMPACT DESKTOP (P1000-013IN)']"
      ]
     },
     "execution_count": 218,
     "metadata": {},
     "output_type": "execute_result"
    }
   ],
   "source": [
    "title"
   ]
  },
  {
   "cell_type": "code",
   "execution_count": 219,
   "metadata": {},
   "outputs": [],
   "source": [
    "desc = []\n",
    "desc_e = driver.find_elements_by_xpath(\"//div[@class='Section-center']//p\")\n",
    "for i in desc_e:\n",
    "    if i.text is None:\n",
    "        desc.append(\"--\")\n",
    "    elif(len(i.text)>12):\n",
    "        desc.append(i.text)"
   ]
  },
  {
   "cell_type": "code",
   "execution_count": 220,
   "metadata": {},
   "outputs": [
    {
     "data": {
      "text/plain": [
       "[\"MSI opts for an Intel Core i9-9900K for the processor while using the NVIDIA GeForce RTX 2080 Ti for their gaming desktop. The MSI Infinite X Plus 9SF-270US comes in a mid-tower form factor and has 32 GB of RAM to take care of all your multi-tasking needs and for storage they're giving a 512GB NVMe SSD as primary storage and they're throwing in an additional 2TB hard drive for additional storage. Since the Intel Core i9-9900K performs better than the AMD Ryzen 9 3950X in gaming, this combination seems to be apt. For all this, they have quite a steep price tag.\",\n",
       " \"The ASUS ROG Strix GA35 is one of the most feature-laden desktops on offer in India. It uses a Ryzen 9 3950X which is a 16-Core processor that is neck-and-neck with the Intel Core i9-9900K for gaming performance. The GA35 uses an X570 platform which makes it PCIe 4.0 Ready and Gen4 NVMe SSDs can really take advantage of that. For graphics, the GA35 has an NVIDIA GeForce RTX 2080 Ti which is still the best gaming graphics card you can get. For Memory, we get 32 GB of DDR4 RAM and for storage there's a 512GB NVMe SSD along with a 2TB HDD for additional storage. The X570 motherboard within the GA35 is powered by SupremeFX CODEC S1220A for audio which is a great value addition to the overall experience.\",\n",
       " \"Acer's top of the line gaming desktop, the Orion 9000 series uses an Intel Core i9-7900X X-series Processor which is part of the Skylake HEDT processors. It's not as good as the more recent Core i9-9900K or the AMD Ryzen 9 3950X but it still comes close. Also, the graphics card is still the same RTX 2080 Ti as we saw with the other top rigs in this list so we'll end up getting frame rates comparable to the best desktops in the market right now. This would be one of the few gaming desktops to features Intel's Optane memory which acts as a caching storage that helps improve the experience of using a hard drive. Again, we get a 2 TB hard drive for storing all your games.\",\n",
       " 'Lenovo takes a more price conscious approach with their gaming desktop configurations. The Legion 530 uses an Intel Core i7-9700 Processor with an NVIDIA RTX 2070. This saves a lot of money without losing out on a lot of FPS in video games. The RAM is a little too low for our taste but more important components are \"sweet spot\" components i.e. the ones which strike a balance between price and performance. For storage, the T530 comes with a 1 TB PCIe SSD. The Legion T530 comes in a mid-tower form factor much like its sibling, the T730. We didn\\'t feature the T730 as it is no longer available in India as per Lenovo\\'s website.',\n",
       " \"The new Dell G5 gaming desktop uses an Intel Core i7-9700K which is an unlocked processor with good performance in video games, along with an NVIDIA RTX 2060 which is the bare essential RTX card that one can get to enjoy hardware-accelerated ray-tracing without taxing the graphics card much. The G5 comes with 16 GB of RAM and has a 512 GB NVMe SSD for the primary storage. There's also a 1 TB hard drive for additional storage.\",\n",
       " \"HP has plenty of gaming laptops under the OMEN brand but no desktops. The only one we could find happens to be the compact desktop which doubles up as a VR backpack. This unit is powered by an Intel Core i7-7820HK and has an NVIDIA GTX 1080 for the graphics card. On the memory front, you're getting 16 GB of DDR4 RAM and for storage, this machine has a 1 TB SSD. HP's newer OMEN 15 and OMEN X 25 laptops are more powerful than this desktop.\"]"
      ]
     },
     "execution_count": 220,
     "metadata": {},
     "output_type": "execute_result"
    }
   ],
   "source": [
    "desc"
   ]
  },
  {
   "cell_type": "code",
   "execution_count": 221,
   "metadata": {},
   "outputs": [],
   "source": [
    "desc_new = []\n",
    "for i in range(len(desc)):\n",
    "    if ('OUT OF STOCK' in desc[i]) or ('AVAILABLE' in desc[i]):\n",
    "        continue\n",
    "    else:\n",
    "        desc_new = desc[i]"
   ]
  },
  {
   "cell_type": "code",
   "execution_count": 222,
   "metadata": {},
   "outputs": [
    {
     "data": {
      "text/plain": [
       "\"HP has plenty of gaming laptops under the OMEN brand but no desktops. The only one we could find happens to be the compact desktop which doubles up as a VR backpack. This unit is powered by an Intel Core i7-7820HK and has an NVIDIA GTX 1080 for the graphics card. On the memory front, you're getting 16 GB of DDR4 RAM and for storage, this machine has a 1 TB SSD. HP's newer OMEN 15 and OMEN X 25 laptops are more powerful than this desktop.\""
      ]
     },
     "execution_count": 222,
     "metadata": {},
     "output_type": "execute_result"
    }
   ],
   "source": [
    "desc_new"
   ]
  },
  {
   "cell_type": "code",
   "execution_count": 223,
   "metadata": {},
   "outputs": [],
   "source": [
    "availability = []\n",
    "record = []\n",
    "l = len(desc)\n",
    "for i in range(l):\n",
    "    if(len(desc[i])<5):\n",
    "        print(len(desc[i]))\n",
    "        availability.append(i)\n",
    "        record.append(i)"
   ]
  },
  {
   "cell_type": "code",
   "execution_count": 224,
   "metadata": {},
   "outputs": [
    {
     "data": {
      "text/plain": [
       "676"
      ]
     },
     "execution_count": 224,
     "metadata": {},
     "output_type": "execute_result"
    }
   ],
   "source": [
    "len(desc[2])"
   ]
  },
  {
   "cell_type": "code",
   "execution_count": 225,
   "metadata": {},
   "outputs": [],
   "source": [
    "merchant = []\n",
    "merchant_e = driver.find_elements_by_xpath(\"//div[@class='merchantdatalist1']\")\n",
    "for i in merchant_e:\n",
    "    if (i.text is None) or (len(i.text)==0):\n",
    "        merchant.append(\"--\")\n",
    "    else:\n",
    "        merchant.append(i.text.replace(\"\\nBUY NOW\",\"\"))"
   ]
  },
  {
   "cell_type": "code",
   "execution_count": 226,
   "metadata": {},
   "outputs": [
    {
     "data": {
      "text/plain": [
       "['OUT OF STOCK ₹ 539990',\n",
       " '--',\n",
       " 'OUT OF STOCK ₹ 452000',\n",
       " 'AVAILABLE ₹ 132746',\n",
       " 'OUT OF STOCK ₹ 169990',\n",
       " 'AVAILABLE ₹ 298827']"
      ]
     },
     "execution_count": 226,
     "metadata": {},
     "output_type": "execute_result"
    }
   ],
   "source": [
    "merchant"
   ]
  },
  {
   "cell_type": "code",
   "execution_count": 227,
   "metadata": {},
   "outputs": [],
   "source": [
    "df = pd.DataFrame(merchant)"
   ]
  },
  {
   "cell_type": "code",
   "execution_count": 228,
   "metadata": {},
   "outputs": [
    {
     "data": {
      "text/html": [
       "<div>\n",
       "<style scoped>\n",
       "    .dataframe tbody tr th:only-of-type {\n",
       "        vertical-align: middle;\n",
       "    }\n",
       "\n",
       "    .dataframe tbody tr th {\n",
       "        vertical-align: top;\n",
       "    }\n",
       "\n",
       "    .dataframe thead th {\n",
       "        text-align: right;\n",
       "    }\n",
       "</style>\n",
       "<table border=\"1\" class=\"dataframe\">\n",
       "  <thead>\n",
       "    <tr style=\"text-align: right;\">\n",
       "      <th></th>\n",
       "      <th>0</th>\n",
       "    </tr>\n",
       "  </thead>\n",
       "  <tbody>\n",
       "    <tr>\n",
       "      <th>0</th>\n",
       "      <td>OUT OF STOCK ₹ 539990</td>\n",
       "    </tr>\n",
       "    <tr>\n",
       "      <th>1</th>\n",
       "      <td>--</td>\n",
       "    </tr>\n",
       "    <tr>\n",
       "      <th>2</th>\n",
       "      <td>OUT OF STOCK ₹ 452000</td>\n",
       "    </tr>\n",
       "    <tr>\n",
       "      <th>3</th>\n",
       "      <td>AVAILABLE ₹ 132746</td>\n",
       "    </tr>\n",
       "    <tr>\n",
       "      <th>4</th>\n",
       "      <td>OUT OF STOCK ₹ 169990</td>\n",
       "    </tr>\n",
       "    <tr>\n",
       "      <th>5</th>\n",
       "      <td>AVAILABLE ₹ 298827</td>\n",
       "    </tr>\n",
       "  </tbody>\n",
       "</table>\n",
       "</div>"
      ],
      "text/plain": [
       "                       0\n",
       "0  OUT OF STOCK ₹ 539990\n",
       "1                     --\n",
       "2  OUT OF STOCK ₹ 452000\n",
       "3     AVAILABLE ₹ 132746\n",
       "4  OUT OF STOCK ₹ 169990\n",
       "5     AVAILABLE ₹ 298827"
      ]
     },
     "execution_count": 228,
     "metadata": {},
     "output_type": "execute_result"
    }
   ],
   "source": [
    "df"
   ]
  },
  {
   "cell_type": "code",
   "execution_count": 229,
   "metadata": {},
   "outputs": [],
   "source": [
    "df[['Status of availability', 'Price']] = df[0].str.split(\"₹\",expand=True)"
   ]
  },
  {
   "cell_type": "code",
   "execution_count": 230,
   "metadata": {},
   "outputs": [],
   "source": [
    "df.drop(columns=0, inplace= True)"
   ]
  },
  {
   "cell_type": "code",
   "execution_count": 231,
   "metadata": {},
   "outputs": [],
   "source": [
    "df[\"Description\"] = desc"
   ]
  },
  {
   "cell_type": "code",
   "execution_count": 232,
   "metadata": {},
   "outputs": [
    {
     "data": {
      "text/plain": [
       "6"
      ]
     },
     "execution_count": 232,
     "metadata": {},
     "output_type": "execute_result"
    }
   ],
   "source": [
    "len(title)"
   ]
  },
  {
   "cell_type": "code",
   "execution_count": 233,
   "metadata": {},
   "outputs": [],
   "source": [
    "df[\"Laptop Model\"] = title"
   ]
  },
  {
   "cell_type": "code",
   "execution_count": 235,
   "metadata": {
    "scrolled": true
   },
   "outputs": [
    {
     "data": {
      "text/html": [
       "<div>\n",
       "<style scoped>\n",
       "    .dataframe tbody tr th:only-of-type {\n",
       "        vertical-align: middle;\n",
       "    }\n",
       "\n",
       "    .dataframe tbody tr th {\n",
       "        vertical-align: top;\n",
       "    }\n",
       "\n",
       "    .dataframe thead th {\n",
       "        text-align: right;\n",
       "    }\n",
       "</style>\n",
       "<table border=\"1\" class=\"dataframe\">\n",
       "  <thead>\n",
       "    <tr style=\"text-align: right;\">\n",
       "      <th></th>\n",
       "      <th>Status of availability</th>\n",
       "      <th>Price</th>\n",
       "      <th>Description</th>\n",
       "      <th>Laptop Model</th>\n",
       "    </tr>\n",
       "  </thead>\n",
       "  <tbody>\n",
       "    <tr>\n",
       "      <th>0</th>\n",
       "      <td>OUT OF STOCK</td>\n",
       "      <td>539990</td>\n",
       "      <td>MSI opts for an Intel Core i9-9900K for the pr...</td>\n",
       "      <td>1.\\nMSI INFINITEX PLUS (9SF-270US)</td>\n",
       "    </tr>\n",
       "    <tr>\n",
       "      <th>1</th>\n",
       "      <td>--</td>\n",
       "      <td>None</td>\n",
       "      <td>The ASUS ROG Strix GA35 is one of the most fea...</td>\n",
       "      <td>2.\\nROG STRIX GA35 (G35DX-IN003T)</td>\n",
       "    </tr>\n",
       "    <tr>\n",
       "      <th>2</th>\n",
       "      <td>OUT OF STOCK</td>\n",
       "      <td>452000</td>\n",
       "      <td>Acer's top of the line gaming desktop, the Ori...</td>\n",
       "      <td>3.\\nPREDATOR ORION 9000 PO9-900</td>\n",
       "    </tr>\n",
       "    <tr>\n",
       "      <th>3</th>\n",
       "      <td>AVAILABLE</td>\n",
       "      <td>132746</td>\n",
       "      <td>Lenovo takes a more price conscious approach w...</td>\n",
       "      <td>4.\\nLEGION T530 (90L300NYIN)</td>\n",
       "    </tr>\n",
       "    <tr>\n",
       "      <th>4</th>\n",
       "      <td>OUT OF STOCK</td>\n",
       "      <td>169990</td>\n",
       "      <td>The new Dell G5 gaming desktop uses an Intel C...</td>\n",
       "      <td>5.\\nINSPIRON G5 GAMING DESKTOP</td>\n",
       "    </tr>\n",
       "    <tr>\n",
       "      <th>5</th>\n",
       "      <td>AVAILABLE</td>\n",
       "      <td>298827</td>\n",
       "      <td>HP has plenty of gaming laptops under the OMEN...</td>\n",
       "      <td>6.\\nOMEN X COMPACT DESKTOP (P1000-013IN)</td>\n",
       "    </tr>\n",
       "  </tbody>\n",
       "</table>\n",
       "</div>"
      ],
      "text/plain": [
       "  Status of availability    Price  \\\n",
       "0          OUT OF STOCK    539990   \n",
       "1                     --     None   \n",
       "2          OUT OF STOCK    452000   \n",
       "3             AVAILABLE    132746   \n",
       "4          OUT OF STOCK    169990   \n",
       "5             AVAILABLE    298827   \n",
       "\n",
       "                                         Description  \\\n",
       "0  MSI opts for an Intel Core i9-9900K for the pr...   \n",
       "1  The ASUS ROG Strix GA35 is one of the most fea...   \n",
       "2  Acer's top of the line gaming desktop, the Ori...   \n",
       "3  Lenovo takes a more price conscious approach w...   \n",
       "4  The new Dell G5 gaming desktop uses an Intel C...   \n",
       "5  HP has plenty of gaming laptops under the OMEN...   \n",
       "\n",
       "                               Laptop Model  \n",
       "0        1.\\nMSI INFINITEX PLUS (9SF-270US)  \n",
       "1         2.\\nROG STRIX GA35 (G35DX-IN003T)  \n",
       "2           3.\\nPREDATOR ORION 9000 PO9-900  \n",
       "3              4.\\nLEGION T530 (90L300NYIN)  \n",
       "4            5.\\nINSPIRON G5 GAMING DESKTOP  \n",
       "5  6.\\nOMEN X COMPACT DESKTOP (P1000-013IN)  "
      ]
     },
     "execution_count": 235,
     "metadata": {},
     "output_type": "execute_result"
    }
   ],
   "source": [
    "df"
   ]
  }
 ],
 "metadata": {
  "kernelspec": {
   "display_name": "Python 3",
   "language": "python",
   "name": "python3"
  },
  "language_info": {
   "codemirror_mode": {
    "name": "ipython",
    "version": 3
   },
   "file_extension": ".py",
   "mimetype": "text/x-python",
   "name": "python",
   "nbconvert_exporter": "python",
   "pygments_lexer": "ipython3",
   "version": "3.8.5"
  }
 },
 "nbformat": 4,
 "nbformat_minor": 4
}
